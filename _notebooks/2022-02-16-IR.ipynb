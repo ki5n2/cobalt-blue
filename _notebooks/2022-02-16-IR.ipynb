{
 "cells": [
  {
   "cell_type": "markdown",
   "id": "a3d31019-c78a-4c2b-aa53-634ed18b2597",
   "metadata": {
    "id": "OZMVmwYPNgml"
   },
   "source": [
    "# IR 9. 매트릭스(선언 방법, 인덱싱), apply 함수, %>% 연산자, 시간비교\n",
    "> \"작성완료\"\n",
    "\n",
    "- toc:true\n",
    "- branch: master\n",
    "- badges: true\n",
    "- comments: true\n",
    "- [R]"
   ]
  },
  {
   "cell_type": "markdown",
   "id": "c98f1093-42c7-43d0-bd30-4df85dd406c2",
   "metadata": {
    "id": "jRv0pkRwNhzN"
   },
   "source": [
    "---\n",
    "# Introduce R \n",
    "- lecture: Introduce R_7nd week of lectures\n",
    "- lecture date: 2021-10-21\n",
    "- lecturer: Guebin choi\n",
    "- study date: 2022-02-15\n",
    "- author: Kione kim\n",
    "---"
   ]
  },
  {
   "cell_type": "code",
   "execution_count": 212,
   "id": "22604ade-c238-4e08-bb15-5de90ddf28fb",
   "metadata": {},
   "outputs": [],
   "source": [
    "#hide\n",
    "options(jupyter.plot_scale=3)\n",
    "options(jupyter.display_mimetypes=c(\"text/html\"))\n",
    "options(jupyter.rich_display=FALSE)\n",
    "options(repr.plot.width=6,repr.plot.height=6,repr.plot.res=300)\n",
    "options(max.print=1000)"
   ]
  },
  {
   "cell_type": "code",
   "execution_count": 67,
   "id": "3fdfb324-c750-4cba-9603-4e10601b417d",
   "metadata": {},
   "outputs": [],
   "source": [
    "library(tidyverse)"
   ]
  },
  {
   "cell_type": "markdown",
   "id": "f738c7ca-d040-4995-adc8-3b8ffff6881f",
   "metadata": {
    "tags": []
   },
   "source": [
    "## apply를 이용한 풀이   "
   ]
  },
  {
   "cell_type": "markdown",
   "id": "d7ec0686-7fd4-4258-ac1a-2aa42a4c91f1",
   "metadata": {},
   "source": [
    "``` \n",
    "입력\n",
    "3 4 5 1\n",
    "7 7 7 2\n",
    "8 1 8 2\n",
    "3 3 4 5\n",
    "\n",
    "출력은 ? \n",
    "```"
   ]
  },
  {
   "cell_type": "markdown",
   "id": "6d0f4071-7c23-4c40-9c9a-697f0196c3eb",
   "metadata": {},
   "source": [
    "**step 1: apply함수를 사용하여 각 row에 min을 구한다.**"
   ]
  },
  {
   "cell_type": "code",
   "execution_count": 9,
   "id": "4b7af5e5-41d3-4b9c-8024-df25af014f38",
   "metadata": {},
   "outputs": [
    {
     "data": {
      "text/plain": [
       "     [,1] [,2] [,3] [,4]\n",
       "[1,] 3    4    5    1   \n",
       "[2,] 7    7    7    2   \n",
       "[3,] 8    1    8    2   \n",
       "[4,] 3    3    4    5   "
      ]
     },
     "metadata": {},
     "output_type": "display_data"
    }
   ],
   "source": [
    "a = rbind(c(3,4,5,1), c(7,7,7,2), c(8,1,8,2), c(3,3,4,5))\n",
    "a"
   ]
  },
  {
   "cell_type": "code",
   "execution_count": 69,
   "id": "200670b3-edea-4579-b9e1-37e19f471a99",
   "metadata": {},
   "outputs": [
    {
     "data": {
      "text/plain": [
       "[1] 1 2 1 3"
      ]
     },
     "metadata": {},
     "output_type": "display_data"
    }
   ],
   "source": [
    "apply(a,1,min) # a= 입력 메트릭스, 1= 입력메트릭스의 각 row에 어떠한 함수를 적용"
   ]
  },
  {
   "cell_type": "code",
   "execution_count": 71,
   "id": "3d543672-423a-49dd-b714-255cdce899d9",
   "metadata": {},
   "outputs": [
    {
     "data": {
      "text/plain": [
       "[1] 1 2 1 3"
      ]
     },
     "metadata": {},
     "output_type": "display_data"
    }
   ],
   "source": [
    "a %>% apply(1,min) # 위의 코드와 같음."
   ]
  },
  {
   "cell_type": "markdown",
   "id": "9bc1f9fd-a484-47d9-8fd6-498c0731cd85",
   "metadata": {},
   "source": [
    "**step2: step1의 결과에 max를 취한다.**"
   ]
  },
  {
   "cell_type": "code",
   "execution_count": 72,
   "id": "6027b778-c588-4112-a040-4053cc397028",
   "metadata": {},
   "outputs": [
    {
     "data": {
      "text/plain": [
       "[1] 3"
      ]
     },
     "metadata": {},
     "output_type": "display_data"
    }
   ],
   "source": [
    "max(apply(a,1,min))"
   ]
  },
  {
   "cell_type": "code",
   "execution_count": 74,
   "id": "ec78cb7e-4534-48b6-ab59-eaca25391ab2",
   "metadata": {},
   "outputs": [
    {
     "data": {
      "text/plain": [
       "[1] 3"
      ]
     },
     "metadata": {},
     "output_type": "display_data"
    }
   ],
   "source": [
    "a %>% apply(1,min) %>% max # 역시 위와 같은 코드"
   ]
  },
  {
   "cell_type": "markdown",
   "id": "ee11f435-95d3-4025-a61f-a3266da290fb",
   "metadata": {
    "tags": []
   },
   "source": [
    "## 카드뽑기 게임에서 배울만한 프로그래밍 문법들"
   ]
  },
  {
   "cell_type": "markdown",
   "id": "fc27a36f-4e3c-4ad3-8250-8047e6e03035",
   "metadata": {},
   "source": [
    "### 매트릭스"
   ]
  },
  {
   "cell_type": "markdown",
   "id": "eb7af114-0d14-47a9-a0ee-e3a00113d7ad",
   "metadata": {
    "tags": []
   },
   "source": [
    "#### 매트릭스를 선언하는 방법"
   ]
  },
  {
   "cell_type": "markdown",
   "id": "7fd740fb-37cf-4783-9f43-1c151516346d",
   "metadata": {},
   "source": [
    "`-` 방법 1: rbind(row vector)"
   ]
  },
  {
   "cell_type": "code",
   "execution_count": 75,
   "id": "f12dcc76-48eb-4c1c-9cc0-cecc170f612b",
   "metadata": {},
   "outputs": [
    {
     "data": {
      "text/plain": [
       "     [,1] [,2] [,3] [,4]\n",
       "[1,] 4    3    2    1   \n",
       "[2,] 1    2    3    4   "
      ]
     },
     "metadata": {},
     "output_type": "display_data"
    }
   ],
   "source": [
    "rbind(c(4,3,2,1),c(1,2,3,4))"
   ]
  },
  {
   "cell_type": "markdown",
   "id": "9a1c61d4-f234-4c7e-b6a1-5844865cc30e",
   "metadata": {},
   "source": [
    "`-` 방법 2: cbind(column vector)"
   ]
  },
  {
   "cell_type": "code",
   "execution_count": 82,
   "id": "a2fb7f86-8636-41e6-b993-28673b0b50c4",
   "metadata": {},
   "outputs": [
    {
     "data": {
      "text/plain": [
       "     [,1] [,2]\n",
       "[1,] 4    1   \n",
       "[2,] 3    2   \n",
       "[3,] 2    3   \n",
       "[4,] 1    4   "
      ]
     },
     "metadata": {},
     "output_type": "display_data"
    }
   ],
   "source": [
    "cbind(c(4,3,2,1),c(1,2,3,4))"
   ]
  },
  {
   "cell_type": "markdown",
   "id": "952ec115-6d49-4fb5-86b4-eb2102c9cb94",
   "metadata": {},
   "source": [
    "`참고:` 만들어진 매트릭스의 차원(dimension)을 확인하는 방법 -> dim"
   ]
  },
  {
   "cell_type": "code",
   "execution_count": 83,
   "id": "b58e7c0f-9b29-48b7-9e8d-2dbbe7e08bb5",
   "metadata": {},
   "outputs": [
    {
     "data": {
      "text/plain": [
       "     [,1] [,2] [,3] [,4]\n",
       "[1,] 4    3    2    1   \n",
       "[2,] 1    2    3    4   "
      ]
     },
     "metadata": {},
     "output_type": "display_data"
    }
   ],
   "source": [
    "a= rbind(c(4,3,2,1),c(1,2,3,4))\n",
    "a"
   ]
  },
  {
   "cell_type": "code",
   "execution_count": 84,
   "id": "08846391-22b0-4518-9369-a178baa51d6f",
   "metadata": {},
   "outputs": [
    {
     "data": {
      "text/plain": [
       "[1] 2 4"
      ]
     },
     "metadata": {},
     "output_type": "display_data"
    }
   ],
   "source": [
    "dim(a)"
   ]
  },
  {
   "cell_type": "code",
   "execution_count": 85,
   "id": "e11026c7-114e-4d3c-b282-04395fbcd489",
   "metadata": {},
   "outputs": [
    {
     "data": {
      "text/plain": [
       "     [,1] [,2]\n",
       "[1,] 4    1   \n",
       "[2,] 3    2   \n",
       "[3,] 2    3   \n",
       "[4,] 1    4   "
      ]
     },
     "metadata": {},
     "output_type": "display_data"
    }
   ],
   "source": [
    "a= cbind(c(4,3,2,1),c(1,2,3,4))\n",
    "a"
   ]
  },
  {
   "cell_type": "code",
   "execution_count": 86,
   "id": "c98e0225-4e96-4c99-9a79-31e6089f37da",
   "metadata": {},
   "outputs": [
    {
     "data": {
      "text/plain": [
       "[1] 4 2"
      ]
     },
     "metadata": {},
     "output_type": "display_data"
    }
   ],
   "source": [
    "dim(a)"
   ]
  },
  {
   "cell_type": "markdown",
   "id": "2bc472cb-8a11-4a8b-9457-c3b80966f6d5",
   "metadata": {},
   "source": [
    "`-` 방법 3: 벡터를 선언하고 dim()를 이용하여 차원을 강제셋팅"
   ]
  },
  {
   "cell_type": "code",
   "execution_count": 88,
   "id": "abc7fa44-0da6-438e-89d0-fab6eb5888c4",
   "metadata": {},
   "outputs": [
    {
     "data": {
      "text/plain": [
       "[1] 1 2 3 4 5 6 7 8"
      ]
     },
     "metadata": {},
     "output_type": "display_data"
    }
   ],
   "source": [
    "a = 1:8\n",
    "a"
   ]
  },
  {
   "cell_type": "code",
   "execution_count": 89,
   "id": "97c1832b-5381-4886-953d-cf803c15f912",
   "metadata": {},
   "outputs": [
    {
     "data": {
      "text/plain": [
       "NULL"
      ]
     },
     "metadata": {},
     "output_type": "display_data"
    }
   ],
   "source": [
    "dim(a)"
   ]
  },
  {
   "cell_type": "code",
   "execution_count": 90,
   "id": "3d8d855d-b218-403e-add9-bef3ac927b5c",
   "metadata": {},
   "outputs": [],
   "source": [
    "dim(a) <- c(2,4) # 차원을 강제 셋팅"
   ]
  },
  {
   "cell_type": "code",
   "execution_count": 92,
   "id": "c435eebd-3bec-41f2-bcdd-6ba14aa0f4b1",
   "metadata": {},
   "outputs": [
    {
     "data": {
      "text/plain": [
       "[1] 2 4"
      ]
     },
     "metadata": {},
     "output_type": "display_data"
    }
   ],
   "source": [
    "dim(a)"
   ]
  },
  {
   "cell_type": "code",
   "execution_count": 93,
   "id": "e61679b7-5b8a-4410-af9a-33d5151cadd4",
   "metadata": {},
   "outputs": [
    {
     "data": {
      "text/plain": [
       "     [,1] [,2] [,3] [,4]\n",
       "[1,] 1    3    5    7   \n",
       "[2,] 2    4    6    8   "
      ]
     },
     "metadata": {},
     "output_type": "display_data"
    }
   ],
   "source": [
    "a"
   ]
  },
  {
   "cell_type": "code",
   "execution_count": 99,
   "id": "144aac79-afb9-401f-87da-956dfba18ced",
   "metadata": {},
   "outputs": [
    {
     "data": {
      "text/plain": [
       "[1] 4 2"
      ]
     },
     "metadata": {},
     "output_type": "display_data"
    }
   ],
   "source": [
    "dim(a) <- c(4,2) # 차원을 강제 셋팅\n",
    "dim(a)"
   ]
  },
  {
   "cell_type": "code",
   "execution_count": 100,
   "id": "075d8c10-7e20-48c8-8e2a-8383b3ee52f5",
   "metadata": {},
   "outputs": [
    {
     "data": {
      "text/plain": [
       "     [,1] [,2]\n",
       "[1,] 1    5   \n",
       "[2,] 2    6   \n",
       "[3,] 3    7   \n",
       "[4,] 4    8   "
      ]
     },
     "metadata": {},
     "output_type": "display_data"
    }
   ],
   "source": [
    "a"
   ]
  },
  {
   "cell_type": "code",
   "execution_count": 101,
   "id": "11506142-ca2d-4bb9-a4e7-2ac4ff1ba154",
   "metadata": {},
   "outputs": [
    {
     "ename": "ERROR",
     "evalue": "Error in dim(a) <- c(3, 3): dims [product 9]가 객체 [8]의 길이와 일치하지 않습니다\n",
     "output_type": "error",
     "traceback": [
      "Error in dim(a) <- c(3, 3): dims [product 9]가 객체 [8]의 길이와 일치하지 않습니다\nTraceback:\n"
     ]
    }
   ],
   "source": [
    "dim(a) <- c(3,3) # 차원이 맞지 않기에 오류"
   ]
  },
  {
   "cell_type": "markdown",
   "id": "f2e3ecd0-3b11-4153-9939-32ff831906cf",
   "metadata": {
    "tags": []
   },
   "source": [
    "#### 매트릭스의 원소를 뽑는 방법"
   ]
  },
  {
   "cell_type": "code",
   "execution_count": 102,
   "id": "d8276521-e824-4984-8b74-a7785b22bcd5",
   "metadata": {},
   "outputs": [
    {
     "data": {
      "text/plain": [
       "     [,1] [,2] [,3] [,4]\n",
       "[1,] 5    1    3    4   \n",
       "[2,] 4    3    5    6   \n",
       "[3,] 0    1    5    8   "
      ]
     },
     "metadata": {},
     "output_type": "display_data"
    }
   ],
   "source": [
    "a= rbind(c(5,1,3,4), c(4,3,5,6), c(0,1,5,8))\n",
    "a"
   ]
  },
  {
   "cell_type": "markdown",
   "id": "6cf21c45-d965-425c-a915-57b84e9e9410",
   "metadata": {},
   "source": [
    "`-` 1열 뽑기"
   ]
  },
  {
   "cell_type": "code",
   "execution_count": 103,
   "id": "71281a5e-491a-4cff-b0b6-9d66211c1194",
   "metadata": {},
   "outputs": [
    {
     "data": {
      "text/plain": [
       "[1] 5 4 0"
      ]
     },
     "metadata": {},
     "output_type": "display_data"
    }
   ],
   "source": [
    "a[,1]"
   ]
  },
  {
   "cell_type": "markdown",
   "id": "ef456501-6d2e-496a-bd36-8d6746a8a02a",
   "metadata": {},
   "source": [
    "`-` 1열, 4열 뽑기"
   ]
  },
  {
   "cell_type": "code",
   "execution_count": 104,
   "id": "693f5af7-cc12-437d-b56e-e7b31030df3b",
   "metadata": {},
   "outputs": [
    {
     "data": {
      "text/plain": [
       "     [,1] [,2]\n",
       "[1,] 5    4   \n",
       "[2,] 4    6   \n",
       "[3,] 0    8   "
      ]
     },
     "metadata": {},
     "output_type": "display_data"
    }
   ],
   "source": [
    "a[,c(1,4)]"
   ]
  },
  {
   "cell_type": "markdown",
   "id": "28f3ef9d-b65b-42ef-a262-8e4ddd6fde75",
   "metadata": {},
   "source": [
    "`-` 2행 뽑기"
   ]
  },
  {
   "cell_type": "code",
   "execution_count": 105,
   "id": "2510a06f-a4aa-4f64-bc82-83bb27732584",
   "metadata": {},
   "outputs": [
    {
     "data": {
      "text/plain": [
       "[1] 4 3 5 6"
      ]
     },
     "metadata": {},
     "output_type": "display_data"
    }
   ],
   "source": [
    "a[2,]"
   ]
  },
  {
   "cell_type": "markdown",
   "id": "6a77d747-6e82-4348-9822-5403dad13c90",
   "metadata": {},
   "source": [
    "`-` 1행, 3행 뽑기"
   ]
  },
  {
   "cell_type": "code",
   "execution_count": 106,
   "id": "f6cbb15e-fe76-46d6-9ed9-ad00f6e75306",
   "metadata": {},
   "outputs": [
    {
     "data": {
      "text/plain": [
       "     [,1] [,2] [,3] [,4]\n",
       "[1,] 5    1    3    4   \n",
       "[2,] 0    1    5    8   "
      ]
     },
     "metadata": {},
     "output_type": "display_data"
    }
   ],
   "source": [
    "a[c(1,3),]"
   ]
  },
  {
   "cell_type": "markdown",
   "id": "c63fbce3-6264-4be1-a73c-cc364e7e1de9",
   "metadata": {},
   "source": [
    "`-` 2행 4열 뽑기"
   ]
  },
  {
   "cell_type": "code",
   "execution_count": 108,
   "id": "5cdfceac-c747-4957-b4df-a71b8e6b173f",
   "metadata": {},
   "outputs": [
    {
     "data": {
      "text/plain": [
       "[1] 6"
      ]
     },
     "metadata": {},
     "output_type": "display_data"
    }
   ],
   "source": [
    "a[2,4]"
   ]
  },
  {
   "cell_type": "markdown",
   "id": "43c83340-16d2-44e5-ac48-7d0aa5c6abef",
   "metadata": {},
   "source": [
    "`-` 1행, 3행과 4열 뽑기"
   ]
  },
  {
   "cell_type": "code",
   "execution_count": 110,
   "id": "15d66007-a23e-48e4-96a6-cb1992d87018",
   "metadata": {},
   "outputs": [
    {
     "data": {
      "text/plain": [
       "[1] 4 8"
      ]
     },
     "metadata": {},
     "output_type": "display_data"
    }
   ],
   "source": [
    "a[c(1,3),4]"
   ]
  },
  {
   "cell_type": "markdown",
   "id": "470d66ba-ada4-4536-bc8f-9815a035cab7",
   "metadata": {
    "tags": []
   },
   "source": [
    "#### 매트릭스를 쓰는 이유:\n",
    "\n",
    "- 바둑판 구조의 자료형을 표현하기 위해서 = 자료를 바둑판 구조로 저장하기 위해서"
   ]
  },
  {
   "cell_type": "markdown",
   "id": "3b09a01f-e18d-4ec7-84eb-056e458c88e8",
   "metadata": {},
   "source": [
    "`-` 자료를 바둑판(2d-array), 나아가 큐브형태(3d-array)로 저장하면 어떠한 이점이 있는가?    그렇다면 자료를 벡터(1d-array)로 저장하면 어떠한 이점이 있는가?\n",
    "\n",
    "- 프로그래밍 구조상의 이점\n",
    "- 계산상의 이점"
   ]
  },
  {
   "cell_type": "markdown",
   "id": "4e828a38-865b-47cb-b68d-a717df6893ce",
   "metadata": {
    "tags": []
   },
   "source": [
    "### apply함수"
   ]
  },
  {
   "cell_type": "markdown",
   "id": "8e89c8df-9f2d-4471-b51c-c993631cb80d",
   "metadata": {},
   "source": [
    "``` R\n",
    "사용법: apply(매트릭스, 1, 특정함수)\n",
    "-> 어떠한 특정함수가 각각의 row에 적용되어서 array로 저장된다.\n",
    "- 여기서 특정함수는 \"벡터 입력 - 스칼라 출력\"이라 생각하자. 즉 벡터가 입력되면 스칼라가 출력되는 함수만 apply가 가능하다고 생각하자.(사실 그렇지는 않음)\n",
    "````"
   ]
  },
  {
   "cell_type": "markdown",
   "id": "bd440c22-f41f-4d75-9426-a939b454f17e",
   "metadata": {},
   "source": [
    "`-` 예시"
   ]
  },
  {
   "cell_type": "code",
   "execution_count": 111,
   "id": "0ede6f78-4bd4-422c-9ccf-29fdfaf51142",
   "metadata": {},
   "outputs": [
    {
     "data": {
      "text/plain": [
       "[1] 10"
      ]
     },
     "metadata": {},
     "output_type": "display_data"
    }
   ],
   "source": [
    "sum(c(3,3,2,2))"
   ]
  },
  {
   "cell_type": "markdown",
   "id": "8bbe9b64-c779-490c-a75d-bef8d9882226",
   "metadata": {},
   "source": [
    "- (3,3,2,2)라는 벡터 입력 -> 10이라는 스칼라 출력"
   ]
  },
  {
   "cell_type": "code",
   "execution_count": 112,
   "id": "bdb43a04-0a77-475b-bd4b-847dc755d6ee",
   "metadata": {},
   "outputs": [
    {
     "data": {
      "text/plain": [
       "[1] 2.5"
      ]
     },
     "metadata": {},
     "output_type": "display_data"
    }
   ],
   "source": [
    "mean(c(3,3,2,2))"
   ]
  },
  {
   "cell_type": "markdown",
   "id": "b4311a7b-82af-4c3c-87af-139e243b8c16",
   "metadata": {},
   "source": [
    "- (3,3,2,2)라는 벡터 입력 -> 2.5라는 스칼라 출력"
   ]
  },
  {
   "cell_type": "code",
   "execution_count": 113,
   "id": "49ffb028-9e2a-4899-ac42-532f7ce95811",
   "metadata": {},
   "outputs": [
    {
     "data": {
      "text/plain": [
       "[1] 1.732051 1.732051 1.414214 1.414214"
      ]
     },
     "metadata": {},
     "output_type": "display_data"
    }
   ],
   "source": [
    "sqrt(c(3,3,2,2))"
   ]
  },
  {
   "cell_type": "markdown",
   "id": "8d4cf491-70b9-48a1-9913-448fd494da60",
   "metadata": {},
   "source": [
    "- (3,3,2,2)라는 벡터 입력 -> (1.732051, 1.732051, 1.414214, 1.414214)라는 벡터 출력\n",
    "- 조건에 해당하지 않음"
   ]
  },
  {
   "cell_type": "markdown",
   "id": "2762f91c-4cd3-4bdf-9f3b-839b7dd777ab",
   "metadata": {},
   "source": [
    "`apply에 적용`"
   ]
  },
  {
   "cell_type": "code",
   "execution_count": 114,
   "id": "d631cb93-fa60-4e67-935c-f867cdf9abe6",
   "metadata": {},
   "outputs": [
    {
     "data": {
      "text/plain": [
       "     [,1] [,2] [,3] [,4]\n",
       "[1,] 5    1    3    4   \n",
       "[2,] 4    3    5    6   \n",
       "[3,] 0    1    5    8   "
      ]
     },
     "metadata": {},
     "output_type": "display_data"
    }
   ],
   "source": [
    "a"
   ]
  },
  {
   "cell_type": "code",
   "execution_count": 115,
   "id": "58a41a42-16f4-4168-9b80-42bff40e8be3",
   "metadata": {},
   "outputs": [
    {
     "data": {
      "text/plain": [
       "[1] 13 18 14"
      ]
     },
     "metadata": {},
     "output_type": "display_data"
    }
   ],
   "source": [
    "apply(a,1,sum)"
   ]
  },
  {
   "cell_type": "code",
   "execution_count": 116,
   "id": "99ee68a9-29c5-466d-985a-6395603f996b",
   "metadata": {},
   "outputs": [
    {
     "data": {
      "text/plain": [
       "[1] 3.25 4.50 3.50"
      ]
     },
     "metadata": {},
     "output_type": "display_data"
    }
   ],
   "source": [
    "apply(a,1,mean)"
   ]
  },
  {
   "cell_type": "code",
   "execution_count": 117,
   "id": "5b151a54-0af4-4e72-9e24-653b2e7798d4",
   "metadata": {},
   "outputs": [
    {
     "data": {
      "text/plain": [
       "[1] 1 3 0"
      ]
     },
     "metadata": {},
     "output_type": "display_data"
    }
   ],
   "source": [
    "apply(a,1,min)"
   ]
  },
  {
   "cell_type": "code",
   "execution_count": 118,
   "id": "741069ba-37c7-45d2-af5d-3b84ff53673b",
   "metadata": {},
   "outputs": [
    {
     "data": {
      "text/plain": [
       "[1] 5 6 8"
      ]
     },
     "metadata": {},
     "output_type": "display_data"
    }
   ],
   "source": [
    "apply(a,1,max)"
   ]
  },
  {
   "cell_type": "markdown",
   "id": "75c034c1-2b66-47ca-a96b-becdc7cd8598",
   "metadata": {},
   "source": [
    "`-` 사용자가 정의한 함수에도 적용가능하다."
   ]
  },
  {
   "cell_type": "code",
   "execution_count": 119,
   "id": "2647d695-99dc-48c6-99cf-c79738200217",
   "metadata": {},
   "outputs": [],
   "source": [
    "f = function(a) (min(a)-1)^2+7"
   ]
  },
  {
   "cell_type": "code",
   "execution_count": 120,
   "id": "469018b4-b9e9-4d60-91c7-58bd295d76af",
   "metadata": {},
   "outputs": [
    {
     "data": {
      "text/plain": [
       "[1]  7 11  8"
      ]
     },
     "metadata": {},
     "output_type": "display_data"
    }
   ],
   "source": [
    "apply(a,1,f)"
   ]
  },
  {
   "cell_type": "markdown",
   "id": "4fde2580-ff54-4c19-84fa-82f5400e4bdb",
   "metadata": {},
   "source": [
    "`-` apply(매트릭스, 2, 특정함수) -> 1을 2로 바꾸면 특정함수가 row가 아닌 각각의 column에 적용되어 결과가 array로 저장된다."
   ]
  },
  {
   "cell_type": "code",
   "execution_count": 121,
   "id": "e2dcb62f-0b76-4d78-a203-807399d91204",
   "metadata": {},
   "outputs": [
    {
     "data": {
      "text/plain": [
       "     [,1] [,2] [,3] [,4]\n",
       "[1,] 5    1    3    4   \n",
       "[2,] 4    3    5    6   \n",
       "[3,] 0    1    5    8   "
      ]
     },
     "metadata": {},
     "output_type": "display_data"
    }
   ],
   "source": [
    "a"
   ]
  },
  {
   "cell_type": "code",
   "execution_count": 122,
   "id": "d4161de4-8572-4bad-b301-122f3c659110",
   "metadata": {},
   "outputs": [
    {
     "data": {
      "text/plain": [
       "[1]  9  5 13 18"
      ]
     },
     "metadata": {},
     "output_type": "display_data"
    }
   ],
   "source": [
    "apply(a,2,sum)"
   ]
  },
  {
   "cell_type": "code",
   "execution_count": 125,
   "id": "9c20e62a-cafd-482b-8dfc-d6c6dda35047",
   "metadata": {},
   "outputs": [
    {
     "data": {
      "text/plain": [
       "[1] 3.000000 1.666667 4.333333 6.000000"
      ]
     },
     "metadata": {},
     "output_type": "display_data"
    }
   ],
   "source": [
    "apply(a,2,mean)"
   ]
  },
  {
   "cell_type": "code",
   "execution_count": 123,
   "id": "f4ba2b65-aca6-4646-93f6-f1e89b95486c",
   "metadata": {},
   "outputs": [
    {
     "data": {
      "text/plain": [
       "[1] 5 3 5 8"
      ]
     },
     "metadata": {},
     "output_type": "display_data"
    }
   ],
   "source": [
    "apply(a,2,max)"
   ]
  },
  {
   "cell_type": "code",
   "execution_count": 126,
   "id": "b3ba01c0-4cc5-4b25-80e6-ace441eb191f",
   "metadata": {},
   "outputs": [
    {
     "data": {
      "text/plain": [
       "[1]  8  7 11 16"
      ]
     },
     "metadata": {},
     "output_type": "display_data"
    }
   ],
   "source": [
    "apply(a,2,f)"
   ]
  },
  {
   "cell_type": "markdown",
   "id": "2cb99bc7-392c-409e-bd25-a447e0171dfa",
   "metadata": {
    "tags": []
   },
   "source": [
    "### **%>% 연산자($\\star\\star\\star\\star\\star$)**\n",
    ": 매우 중요함 !"
   ]
  },
  {
   "cell_type": "code",
   "execution_count": 127,
   "id": "5ef67687-ca3f-4ee0-9293-fbdefd4a14cc",
   "metadata": {},
   "outputs": [
    {
     "data": {
      "text/plain": [
       "[1] 55"
      ]
     },
     "metadata": {},
     "output_type": "display_data"
    }
   ],
   "source": [
    "sum(1:10)"
   ]
  },
  {
   "cell_type": "code",
   "execution_count": 128,
   "id": "7d4157c7-ed6e-45e0-bd1f-f8af79585e0a",
   "metadata": {},
   "outputs": [
    {
     "data": {
      "text/plain": [
       "[1] 55"
      ]
     },
     "metadata": {},
     "output_type": "display_data"
    }
   ],
   "source": [
    "1:10 %>% sum()"
   ]
  },
  {
   "cell_type": "code",
   "execution_count": 129,
   "id": "b0d60b6a-c51a-4f12-ad84-8f955569c6b5",
   "metadata": {},
   "outputs": [
    {
     "data": {
      "text/plain": [
       "[1] 55"
      ]
     },
     "metadata": {},
     "output_type": "display_data"
    }
   ],
   "source": [
    "1:10 %>% sum"
   ]
  },
  {
   "cell_type": "markdown",
   "id": "e2fa53df-ec59-413f-b425-8587c247ed1b",
   "metadata": {},
   "source": [
    "- 위 세 개는 동일한 코드이다. 즉 ()는 생략 가능하다"
   ]
  },
  {
   "cell_type": "code",
   "execution_count": 130,
   "id": "8b3db45d-a304-48b0-8ce5-9fec2bee9e12",
   "metadata": {},
   "outputs": [],
   "source": [
    "myfun = function(x,y) x**2+y"
   ]
  },
  {
   "cell_type": "code",
   "execution_count": 134,
   "id": "6b5a650f-4784-4e18-9661-18ee0d69dd7f",
   "metadata": {},
   "outputs": [
    {
     "data": {
      "text/plain": [
       "[1] 14"
      ]
     },
     "metadata": {},
     "output_type": "display_data"
    }
   ],
   "source": [
    "myfun(3,5)"
   ]
  },
  {
   "cell_type": "code",
   "execution_count": 135,
   "id": "7f9e1036-b9ae-4034-9291-6fd55375a21a",
   "metadata": {},
   "outputs": [
    {
     "data": {
      "text/plain": [
       "[1] 14"
      ]
     },
     "metadata": {},
     "output_type": "display_data"
    }
   ],
   "source": [
    "3 %>% myfun(5)"
   ]
  },
  {
   "cell_type": "markdown",
   "id": "4cc2c68a-f1dd-420b-bc1c-eb9f251397df",
   "metadata": {},
   "source": [
    "- 위 두 코드는 동일한 코드임"
   ]
  },
  {
   "cell_type": "markdown",
   "id": "45ff185a-c0a5-45df-b25b-5d5e308d843d",
   "metadata": {},
   "source": [
    "`-` 입력이 세 개인 함수"
   ]
  },
  {
   "cell_type": "code",
   "execution_count": 136,
   "id": "bb50ff57-6af2-4e5c-b214-8bca8bc55d15",
   "metadata": {},
   "outputs": [],
   "source": [
    "myfun2 = function(x,y,z) x**2+y*z"
   ]
  },
  {
   "cell_type": "code",
   "execution_count": 137,
   "id": "f96df334-fe29-43c6-8992-29e8885d3862",
   "metadata": {},
   "outputs": [
    {
     "data": {
      "text/plain": [
       "[1] 15"
      ]
     },
     "metadata": {},
     "output_type": "display_data"
    }
   ],
   "source": [
    "myfun2(3,3,2)"
   ]
  },
  {
   "cell_type": "code",
   "execution_count": 139,
   "id": "cd31b062-e7ec-4db3-a514-dde6c14322f9",
   "metadata": {},
   "outputs": [
    {
     "data": {
      "text/plain": [
       "[1] 15"
      ]
     },
     "metadata": {},
     "output_type": "display_data"
    }
   ],
   "source": [
    "3 %>% myfun2(3,2)"
   ]
  },
  {
   "cell_type": "markdown",
   "id": "0c0816b0-8e48-479c-ace9-847847ac88df",
   "metadata": {},
   "source": [
    "- 마찬가지로, 위 두 코드는 동일함"
   ]
  },
  {
   "cell_type": "markdown",
   "id": "b6e6f743-8c51-497d-84ba-6f963781fd83",
   "metadata": {},
   "source": [
    "**`-` %>%를 사용하는 이유: 합성함수 처리에 매우 유용하기 떄문**"
   ]
  },
  {
   "cell_type": "code",
   "execution_count": 145,
   "id": "dbf53b12-45fd-409a-a8be-0fced20680b2",
   "metadata": {},
   "outputs": [
    {
     "data": {
      "text/plain": [
       "[1] 4.935136"
      ]
     },
     "metadata": {},
     "output_type": "display_data"
    }
   ],
   "source": [
    "3:6 %>% log %>% sqrt %>% sum %>% myfun2(1,1) %>% sqrt"
   ]
  },
  {
   "cell_type": "markdown",
   "id": "dc276f36-9893-41b3-be8b-35bad8b811e8",
   "metadata": {},
   "source": [
    "- 처리하고 싶은대로 즉각적으로 적용 가능"
   ]
  },
  {
   "cell_type": "code",
   "execution_count": 150,
   "id": "4f070d9b-052a-4f02-a62d-100d129da911",
   "metadata": {},
   "outputs": [
    {
     "data": {
      "text/plain": [
       "[1] 4.935136"
      ]
     },
     "metadata": {},
     "output_type": "display_data"
    }
   ],
   "source": [
    "sqrt(myfun2(sum(sqrt(log(3:6))), 1,1))"
   ]
  },
  {
   "cell_type": "markdown",
   "id": "6cd9d607-7c55-4c68-9cd2-410554f48776",
   "metadata": {},
   "source": [
    "- 복잡해질 수록 처리하기 어려워지고 수정이 어려워짐"
   ]
  },
  {
   "cell_type": "markdown",
   "id": "0e662c93-5c84-460b-9109-f7b07450daf0",
   "metadata": {},
   "source": [
    "`-` 다음을 같은 방식으로 처리해보자"
   ]
  },
  {
   "cell_type": "code",
   "execution_count": 151,
   "id": "fe7054eb-4514-4f4c-8e7f-bf40cf67f2de",
   "metadata": {},
   "outputs": [
    {
     "data": {
      "text/plain": [
       "[1] 9.180673"
      ]
     },
     "metadata": {},
     "output_type": "display_data"
    }
   ],
   "source": [
    "3:6 %>% log %>% myfun(3) %>% sqrt %>% sum %>% myfun2(1,1) %>% sqrt"
   ]
  },
  {
   "cell_type": "code",
   "execution_count": 156,
   "id": "0e4474c8-c720-4ce1-95d9-ba4a364bd314",
   "metadata": {},
   "outputs": [
    {
     "data": {
      "text/plain": [
       "[1] 9.180673"
      ]
     },
     "metadata": {},
     "output_type": "display_data"
    }
   ],
   "source": [
    "sqrt(myfun2(sum(sqrt(myfun(log(3:6),3))),1,1))"
   ]
  },
  {
   "cell_type": "markdown",
   "id": "a0a49035-3c1d-44a8-952f-ce151142739b",
   "metadata": {},
   "source": [
    "- 처음부터 코드를 작성하면 그래도 덜 헷갈리지만, 위에 작성한 코드를 수정하려고 하면 매우 헷갈릴 수 있다."
   ]
  },
  {
   "cell_type": "markdown",
   "id": "848243f1-5567-49f5-8e11-0e4ef629b8a6",
   "metadata": {},
   "source": [
    "`-` 아래의 개념차이\n",
    "- $g(h(f(x)))$\n",
    "- $x \\to f \\to h \\to g$"
   ]
  },
  {
   "cell_type": "markdown",
   "id": "ca72d514-7b1f-427c-968a-6ed87c4cd0eb",
   "metadata": {
    "tags": []
   },
   "source": [
    "### 시간비교"
   ]
  },
  {
   "cell_type": "markdown",
   "id": "3b31e8c7-7de0-4893-815a-7f767c4ddd6b",
   "metadata": {},
   "source": [
    "`-` 시간비교하는 방법   \n",
    ": Sys.time() 사용"
   ]
  },
  {
   "cell_type": "code",
   "execution_count": 164,
   "id": "567ea47f-a94f-4855-bd59-51704485fdd5",
   "metadata": {},
   "outputs": [],
   "source": [
    "t1= Sys.time()"
   ]
  },
  {
   "cell_type": "code",
   "execution_count": 165,
   "id": "441edc07-8158-415f-9d7c-543cb54d2e01",
   "metadata": {},
   "outputs": [],
   "source": [
    "t2= Sys.time()"
   ]
  },
  {
   "cell_type": "code",
   "execution_count": 166,
   "id": "b04ae437-86a8-4e39-b354-22f9dfcb86d0",
   "metadata": {},
   "outputs": [
    {
     "data": {
      "text/plain": [
       "Time difference of 10.89629 secs"
      ]
     },
     "metadata": {},
     "output_type": "display_data"
    }
   ],
   "source": [
    "t2-t1"
   ]
  },
  {
   "cell_type": "markdown",
   "id": "72b99f61-f981-466c-ab77-7bf1ca93f2b7",
   "metadata": {},
   "source": [
    "`-` 큰 매트릭스"
   ]
  },
  {
   "cell_type": "code",
   "execution_count": 172,
   "id": "9e24ad97-ae6d-482d-b804-89690e9c655b",
   "metadata": {},
   "outputs": [
    {
     "data": {
      "text/plain": [
       "[1] 4 5 2"
      ]
     },
     "metadata": {},
     "output_type": "display_data"
    }
   ],
   "source": [
    "sample(1:9,size=3) # 1:9까지의 벡터를 생성하고 그 중 중복을 허용하지 않고 랜덤으로 3개를 출력"
   ]
  },
  {
   "cell_type": "code",
   "execution_count": 174,
   "id": "79853673-e6ae-4a22-a71b-95116693dbad",
   "metadata": {},
   "outputs": [
    {
     "data": {
      "text/plain": [
       "[1] 9 1 9"
      ]
     },
     "metadata": {},
     "output_type": "display_data"
    }
   ],
   "source": [
    "sample(1:9,size=3,replace=TRUE) # 1:9까지의 벡터를 생성하고 중복을 허용하고 랜덤으로 3개를 출력"
   ]
  },
  {
   "cell_type": "code",
   "execution_count": 175,
   "id": "41a6b909-89b8-4ad0-a327-284cc02dbbb3",
   "metadata": {},
   "outputs": [
    {
     "ename": "ERROR",
     "evalue": "Error in sample.int(length(x), size, replace, prob): 'replace = FALSE' 일때는 모집단보다 큰 샘플을 가질 수 없습니다\n",
     "output_type": "error",
     "traceback": [
      "Error in sample.int(length(x), size, replace, prob): 'replace = FALSE' 일때는 모집단보다 큰 샘플을 가질 수 없습니다\nTraceback:\n",
      "1. sample(1:3, size = 4)",
      "2. sample.int(length(x), size, replace, prob)"
     ]
    }
   ],
   "source": [
    "sample(1:3,size=4)"
   ]
  },
  {
   "cell_type": "code",
   "execution_count": 188,
   "id": "de7e23eb-bf0b-4092-b8ea-8386e9d28ac4",
   "metadata": {},
   "outputs": [
    {
     "data": {
      "text/plain": [
       "[1] 3 1 3 2"
      ]
     },
     "metadata": {},
     "output_type": "display_data"
    }
   ],
   "source": [
    "sample(1:3,size=4,replace=TRUE)"
   ]
  },
  {
   "cell_type": "code",
   "execution_count": 191,
   "id": "5391c4b2-5d54-469a-a2b0-459d71ef8805",
   "metadata": {},
   "outputs": [],
   "source": [
    "a=sample(1:9,size = 100*2000000,replace = TRUE)"
   ]
  },
  {
   "cell_type": "code",
   "execution_count": 194,
   "id": "cbbef1ce-5509-433e-81c4-68efd03ac16a",
   "metadata": {},
   "outputs": [
    {
     "data": {
      "text/plain": [
       "NULL"
      ]
     },
     "metadata": {},
     "output_type": "display_data"
    }
   ],
   "source": [
    "dim(a)"
   ]
  },
  {
   "cell_type": "code",
   "execution_count": 195,
   "id": "466a03a6-45dc-4ad0-8954-1352bd45cdea",
   "metadata": {},
   "outputs": [
    {
     "data": {
      "text/plain": [
       "      [,1] [,2] [,3] [,4] [,5] [,6] [,7] [,8] [,9] [,10] [,11] [,12] [,13]\n",
       " [1,] 5    7    7    9    6    9    4    9    3    7     <U+22EF> 8     2    \n",
       " [2,] 5    7    9    2    8    1    8    9    7    8     <U+22EF> 9     5    \n",
       " [3,] 8    6    2    6    9    4    5    4    8    2     <U+22EF> 7     4    \n",
       " [4,] 6    9    6    7    5    9    6    9    1    7     <U+22EF> 4     3    \n",
       " [5,] 7    4    6    3    3    8    7    2    7    1     <U+22EF> 8     6    \n",
       " [6,] 3    4    8    3    8    9    4    4    2    7     <U+22EF> 2     9    \n",
       " [7,] 3    5    7    1    2    4    5    6    4    7     <U+22EF> 7     6    \n",
       " [8,] 6    2    6    1    8    7    7    6    7    3     <U+22EF> 3     3    \n",
       " [9,] 6    5    2    6    5    4    2    1    5    1     <U+22EF> 9     9    \n",
       "[10,] 7    5    6    5    1    2    9    5    8    7     <U+22EF> 7     1    \n",
       "[11,] 9    3    7    5    4    9    8    8    2    9     <U+22EF> 3     9    \n",
       "[12,] 7    4    9    3    2    3    4    1    7    7     <U+22EF> 4     5    \n",
       "[13,] 2    7    2    8    4    8    9    6    4    8     <U+22EF> 8     5    \n",
       "[14,] 3    3    5    7    2    1    3    1    1    3     <U+22EF> 7     5    \n",
       "[15,] 3    9    7    1    2    4    8    2    2    2     <U+22EF> 9     4    \n",
       "[16,] 5    4    2    3    3    6    9    6    1    2     <U+22EF> 8     4    \n",
       "[17,] 3    9    8    8    1    6    5    7    2    5     <U+22EF> 7     7    \n",
       "[18,] 2    1    5    6    6    4    6    8    7    8     <U+22EF> 1     1    \n",
       "[19,] 2    6    6    1    9    9    9    8    8    7     <U+22EF> 9     7    \n",
       "[20,] 7    5    2    3    9    7    7    1    8    1     <U+22EF> 8     2    \n",
       "[21,] 8    2    8    7    4    8    1    1    8    2     <U+22EF> 9     2    \n",
       "[22,] 2    3    5    9    8    3    3    8    2    4     <U+22EF> 5     2    \n",
       "[23,] 1    9    8    5    5    9    7    8    4    5     <U+22EF> 4     5    \n",
       "[24,] 3    4    3    8    7    5    4    4    2    8     <U+22EF> 6     6    \n",
       "[25,] 2    3    1    3    9    8    4    7    3    4     <U+22EF> 3     5    \n",
       "[26,] 7    2    8    8    2    9    2    2    1    4     <U+22EF> 4     4    \n",
       "[27,] 1    9    9    5    9    1    4    4    1    7     <U+22EF> 1     5    \n",
       "[28,] 4    7    4    8    2    6    1    7    4    2     <U+22EF> 5     4    \n",
       "[29,] 8    1    2    9    9    7    9    7    8    8     <U+22EF> 4     4    \n",
       "[30,] 3    6    7    9    5    1    3    9    9    1     <U+22EF> 3     5    \n",
       "[31,] <U+22EE> <U+22EE> <U+22EE> <U+22EE> <U+22EE> <U+22EE> <U+22EE> <U+22EE> <U+22EE> <U+22EE> <U+22F1> <U+22EE> <U+22EE>\n",
       "[32,] 2    3    9    5    9    8    8    4    9    6     <U+22EF> 5     9    \n",
       "[33,] 2    4    3    4    2    7    8    4    2    9     <U+22EF> 4     1    \n",
       "[34,] 8    6    4    8    3    2    8    4    3    3     <U+22EF> 9     4    \n",
       "[35,] 3    6    2    5    1    2    4    8    2    5     <U+22EF> 9     1    \n",
       "[36,] 4    9    1    8    9    3    6    9    2    7     <U+22EF> 8     4    \n",
       "[37,] 7    3    8    9    1    2    8    5    5    1     <U+22EF> 8     1    \n",
       "[38,] 3    5    6    5    7    1    2    1    3    5     <U+22EF> 4     1    \n",
       "[39,] 8    8    3    8    6    6    2    4    4    4     <U+22EF> 9     5    \n",
       "[40,] 2    8    9    8    1    1    4    8    9    9     <U+22EF> 6     1    \n",
       "[41,] 2    2    5    8    9    5    5    9    8    5     <U+22EF> 2     4    \n",
       "[42,] 2    4    9    9    4    8    9    8    5    3     <U+22EF> 2     5    \n",
       "[43,] 2    3    1    7    2    3    9    9    1    3     <U+22EF> 7     9    \n",
       "[44,] 8    6    2    5    8    8    5    1    7    8     <U+22EF> 1     3    \n",
       "[45,] 7    1    6    1    7    1    6    1    8    9     <U+22EF> 4     9    \n",
       "[46,] 2    8    3    1    7    3    4    5    6    7     <U+22EF> 9     7    \n",
       "[47,] 2    3    1    9    3    6    5    1    2    4     <U+22EF> 5     2    \n",
       "      [,14] [,15] [,16] [,17] [,18] [,19] [,20] [,21]\n",
       " [1,] 6     9     6     9     6     3     3     1    \n",
       " [2,] 9     2     3     7     1     4     8     7    \n",
       " [3,] 2     1     2     2     7     4     3     4    \n",
       " [4,] 8     4     7     7     5     8     5     6    \n",
       " [5,] 8     9     7     5     5     7     7     9    \n",
       " [6,] 6     7     5     4     6     7     9     7    \n",
       " [7,] 3     7     3     4     5     5     4     1    \n",
       " [8,] 2     3     4     6     2     4     5     2    \n",
       " [9,] 7     9     1     6     1     5     2     2    \n",
       "[10,] 5     2     6     2     5     9     8     1    \n",
       "[11,] 9     8     5     6     9     9     5     1    \n",
       "[12,] 8     4     4     6     8     3     9     7    \n",
       "[13,] 5     8     9     3     2     8     4     5    \n",
       "[14,] 6     7     3     8     4     4     9     2    \n",
       "[15,] 6     9     6     5     3     4     5     5    \n",
       "[16,] 3     7     6     4     6     8     9     6    \n",
       "[17,] 4     7     4     3     5     2     6     6    \n",
       "[18,] 4     3     3     9     4     6     8     1    \n",
       "[19,] 7     3     6     6     7     1     6     9    \n",
       "[20,] 3     9     6     3     5     2     1     7    \n",
       "[21,] 7     8     1     7     9     9     5     7    \n",
       "[22,] 6     2     9     5     9     8     2     7    \n",
       "[23,] 8     4     8     2     3     4     1     5    \n",
       "[24,] 8     1     3     2     6     6     4     6    \n",
       "[25,] 1     2     9     4     5     5     9     8    \n",
       "[26,] 3     1     8     4     2     5     7     2    \n",
       "[27,] 7     3     7     7     1     3     9     9    \n",
       "[28,] 5     2     4     1     2     7     9     6    \n",
       "[29,] 3     7     6     1     6     8     6     9    \n",
       "[30,] 5     2     5     9     2     3     5     1    \n",
       "[31,] <U+22EE> <U+22EE> <U+22EE> <U+22EE> <U+22EE> <U+22EE> <U+22EE> <U+22EE>\n",
       "[32,] 2     5     2     5     6     7     9     7    \n",
       "[33,] 6     4     7     7     7     1     5     8    \n",
       "[34,] 1     4     8     5     9     7     5     6    \n",
       "[35,] 5     5     9     2     5     4     2     6    \n",
       "[36,] 4     5     4     2     8     7     4     4    \n",
       "[37,] 3     6     8     8     9     6     6     7    \n",
       "[38,] 7     4     1     9     5     1     8     2    \n",
       "[39,] 4     3     8     5     4     2     7     4    \n",
       "[40,] 2     9     8     9     6     8     2     1    \n",
       "[41,] 1     2     3     6     3     2     6     8    \n",
       "[42,] 2     1     6     4     5     9     9     8    \n",
       "[43,] 6     3     7     8     2     2     4     5    \n",
       "[44,] 8     5     2     3     5     8     9     1    \n",
       "[45,] 2     4     3     8     6     2     7     6    \n",
       "[46,] 5     9     9     4     7     9     2     3    \n",
       "[47,] 6     8     9     1     8     7     1     3    \n",
       " [ getOption(\"max.print\") 에 도달했습니다 -- 14 행들을 생략합니다 ]"
      ]
     },
     "metadata": {},
     "output_type": "display_data"
    }
   ],
   "source": [
    "dim(a) <- c(2000000,100)\n",
    "a"
   ]
  },
  {
   "cell_type": "code",
   "execution_count": 199,
   "id": "d27fba7c-e6ea-4ab6-b4fa-c9efacebab02",
   "metadata": {},
   "outputs": [
    {
     "data": {
      "text/plain": [
       "[1] 2"
      ]
     },
     "metadata": {},
     "output_type": "display_data"
    },
    {
     "data": {
      "text/plain": [
       "Time difference of 15.50931 secs"
      ]
     },
     "metadata": {},
     "output_type": "display_data"
    }
   ],
   "source": [
    "t1= Sys.time()\n",
    "a %>% apply(1,min) %>% max\n",
    "t2= Sys.time()\n",
    "t2-t1"
   ]
  },
  {
   "cell_type": "code",
   "execution_count": 210,
   "id": "ca47589d-eff3-4a59-b80f-949461a13c7a",
   "metadata": {},
   "outputs": [
    {
     "data": {
      "text/plain": [
       "[1] 2"
      ]
     },
     "metadata": {},
     "output_type": "display_data"
    },
    {
     "data": {
      "text/plain": [
       "Time difference of 8.893018 secs"
      ]
     },
     "metadata": {},
     "output_type": "display_data"
    }
   ],
   "source": [
    "t1= Sys.time()\n",
    "vec <- c()\n",
    "for (i in 1:2000000) vec[i] <- min(a[i,])\n",
    "max(vec)\n",
    "t2= Sys.time()\n",
    "t2-t1"
   ]
  },
  {
   "cell_type": "markdown",
   "id": "528759ea-85a1-4c56-ae0b-3fcd6357d97d",
   "metadata": {},
   "source": [
    "- 위에 1:2000000은 행의 수를 알고 있어야 하기 때문에 확장성이 떨어진다고 할 수 있다. 아래와 같은 코드는 행의 수를 몰라도 되기 때문에 확장성이 있다."
   ]
  },
  {
   "cell_type": "code",
   "execution_count": 202,
   "id": "1609c3a7-bb6f-4032-a95b-a951fcb643fa",
   "metadata": {},
   "outputs": [
    {
     "data": {
      "text/plain": [
       "[1] 2000000     100"
      ]
     },
     "metadata": {},
     "output_type": "display_data"
    }
   ],
   "source": [
    "dim(a)"
   ]
  },
  {
   "cell_type": "code",
   "execution_count": 203,
   "id": "396f0546-1bbb-4d49-9962-616143b9ac5b",
   "metadata": {},
   "outputs": [
    {
     "data": {
      "text/plain": [
       "[1] 2000000"
      ]
     },
     "metadata": {},
     "output_type": "display_data"
    }
   ],
   "source": [
    "dim(a)[1]"
   ]
  },
  {
   "cell_type": "code",
   "execution_count": 211,
   "id": "3086c81f-cab1-4af7-a16c-a2b98e7dc222",
   "metadata": {},
   "outputs": [
    {
     "data": {
      "text/plain": [
       "[1] 2"
      ]
     },
     "metadata": {},
     "output_type": "display_data"
    },
    {
     "data": {
      "text/plain": [
       "Time difference of 7.932614 secs"
      ]
     },
     "metadata": {},
     "output_type": "display_data"
    }
   ],
   "source": [
    "t1=Sys.time()\n",
    "vex <- c()\n",
    "for (i in 1:(dim(a)[1])) vec[i] <- min(a[i,])\n",
    "max(vec)\n",
    "t2=Sys.time()\n",
    "t2-t1"
   ]
  },
  {
   "cell_type": "markdown",
   "id": "62f5196f-4544-4c70-80b3-4723e8dd38fe",
   "metadata": {},
   "source": [
    "- for문이 좀 더 빠르지만, 코드는 apply가 더 간결하다."
   ]
  }
 ],
 "metadata": {
  "kernelspec": {
   "display_name": "Python 3 (ipykernel)",
   "language": "python",
   "name": "python3"
  },
  "language_info": {
   "codemirror_mode": {
    "name": "ipython",
    "version": 3
   },
   "file_extension": ".py",
   "mimetype": "text/x-python",
   "name": "python",
   "nbconvert_exporter": "python",
   "pygments_lexer": "ipython3",
   "version": "3.8.12"
  }
 },
 "nbformat": 4,
 "nbformat_minor": 5
}
