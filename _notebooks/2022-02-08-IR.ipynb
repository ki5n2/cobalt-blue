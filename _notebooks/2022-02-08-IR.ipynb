{
  "cells": [
    {
      "cell_type": "markdown",
      "source": [
        "# IR 4. for문, R을 이용한 평가원 문제 풀이 2\n",
        "> \"작성완료\"\n",
        "\n",
        "- toc:true\n",
        "- branch: master\n",
        "- badges: true\n",
        "- comments: true\n",
        "- [R]"
      ],
      "metadata": {
        "id": "XsZ6AiLvOLk0"
      },
      "id": "XsZ6AiLvOLk0"
    },
    {
      "cell_type": "markdown",
      "source": [
        "---\n",
        "# Introduce R \n",
        "- lenture: Introduce R_3nd week of lectures.\n",
        "- lenture date: 2021-09-28\n",
        "- lecturer: Guebin choi\n",
        "- study date: 2022-02-08\n",
        "- author: Kione kim\n",
        "---"
      ],
      "metadata": {
        "id": "UaqDs4kzONQS"
      },
      "id": "UaqDs4kzONQS"
    },
    {
      "cell_type": "code",
      "execution_count": null,
      "id": "762b8333-f2e9-45c2-8144-dbc5d6bbccbf",
      "metadata": {
        "id": "762b8333-f2e9-45c2-8144-dbc5d6bbccbf"
      },
      "outputs": [],
      "source": [
        "#hide\n",
        "options(jupyter.plot_scale=3)\n",
        "options(jupyter.display_mimetypes=c(\"text/html\"))\n",
        "options(jupyter.rich_display=FALSE)\n",
        "options(repr.plot.width=6,repr.plot.height=6,repr.plot.res=300)\n",
        "options(max.print=1000)"
      ]
    },
    {
      "cell_type": "markdown",
      "id": "cd5982b6-db36-47f5-a639-9cac67b9ed8c",
      "metadata": {
        "id": "cd5982b6-db36-47f5-a639-9cac67b9ed8c"
      },
      "source": [
        "## For문"
      ]
    },
    {
      "cell_type": "code",
      "execution_count": null,
      "id": "c15d24ca-59bf-467a-81b7-be3ba767eb0e",
      "metadata": {
        "id": "c15d24ca-59bf-467a-81b7-be3ba767eb0e",
        "outputId": "dec35f08-d712-4fd9-e1f3-7ff224d3f718"
      },
      "outputs": [
        {
          "data": {
            "text/plain": [
              "[1] 10"
            ]
          },
          "metadata": {},
          "output_type": "display_data"
        }
      ],
      "source": [
        "s=0\n",
        "for(i in 1:4){ #1:4 = c(1,2,3,4)\n",
        "   s=s+i\n",
        "}\n",
        "s"
      ]
    },
    {
      "cell_type": "markdown",
      "id": "6c1f1960-c62f-440d-9285-2793216e1811",
      "metadata": {
        "id": "6c1f1960-c62f-440d-9285-2793216e1811"
      },
      "source": [
        "- 위의 for문은 아래의 코드와 같음"
      ]
    },
    {
      "cell_type": "code",
      "execution_count": null,
      "id": "458f022c-f3e1-47da-bde7-908d18b1c4af",
      "metadata": {
        "id": "458f022c-f3e1-47da-bde7-908d18b1c4af",
        "outputId": "c902c00d-d3cb-4db6-b67a-137a3a4a3112"
      },
      "outputs": [
        {
          "data": {
            "text/plain": [
              "[1] 10"
            ]
          },
          "metadata": {},
          "output_type": "display_data"
        }
      ],
      "source": [
        "s=0\n",
        "\n",
        "i=1\n",
        "s=s+i\n",
        "i=2\n",
        "s=s+i\n",
        "i=3\n",
        "s=s+i\n",
        "i=4\n",
        "s=s+i\n",
        "\n",
        "s"
      ]
    },
    {
      "cell_type": "markdown",
      "id": "bdace431-f048-41a1-8f92-4ac1f614741f",
      "metadata": {
        "id": "bdace431-f048-41a1-8f92-4ac1f614741f"
      },
      "source": [
        "## 2007(나) 6월/평가원 14(고3)"
      ]
    },
    {
      "cell_type": "markdown",
      "source": [
        "다음은 어느 회사의 연봉에 대한 규정이다.\n",
        "\n",
        "(가) 입사 첫째 해 연봉은 a원이고, 입사 19년째 해까지의 연봉은 해마다 직전 연봉에서 8%씩 인상된다.\n",
        "\n",
        "(나) 입사 20년째 해부터의 연봉은 입사 19년째 해 연봉의 2/3로 한다.\n",
        "\n",
        "`문제` 이 회사에 입사한 사람이 28년동안 근무하여 받는 연봉의 총합은? (단, $1.08^{18}=4$로 계산한다)\n",
        "\n",
        "(1) $\\frac{101}{2}a$\n",
        "\n",
        "(2) $\\frac{111}{2}a$\n",
        "\n",
        "(3) $\\frac{121}{2}a$\n",
        "\n",
        "(4) $\\frac{131}{2}a$\n",
        "\n",
        "(5) $\\frac{141}{2}a$"
      ],
      "metadata": {
        "id": "8tUr_B5zQm8B"
      },
      "id": "8tUr_B5zQm8B"
    },
    {
      "cell_type": "code",
      "execution_count": null,
      "id": "b6000241-3d31-4f14-a080-21e6afbfc841",
      "metadata": {
        "id": "b6000241-3d31-4f14-a080-21e6afbfc841",
        "outputId": "02af04ef-eb31-468f-b4b8-f3b1099d56cb"
      },
      "outputs": [
        {
          "data": {
            "text/plain": [
              " [1] 1.000000 1.080000 1.166400 1.259712 1.360489 1.469328 1.586874 1.713824\n",
              " [9] 1.850930 1.999005 2.158925 2.331639 2.518170 2.719624 2.937194 3.172169\n",
              "[17] 3.425943 3.700018 3.996019"
            ]
          },
          "metadata": {},
          "output_type": "display_data"
        }
      ],
      "source": [
        "a <- c()\n",
        "a[1]=1\n",
        "for(i in 2:19){\n",
        "    a[i]=a[i-1]*1.08\n",
        "}\n",
        "a"
      ]
    },
    {
      "cell_type": "code",
      "execution_count": null,
      "id": "7f544e5a-27db-4a39-a1b5-59b9896c42b9",
      "metadata": {
        "id": "7f544e5a-27db-4a39-a1b5-59b9896c42b9",
        "outputId": "4614b06c-7c67-43c7-d032-90e587dc3e49"
      },
      "outputs": [
        {
          "data": {
            "text/plain": [
              " [1] 1.000000 1.080000 1.166400 1.259712 1.360489 1.469328 1.586874 1.713824\n",
              " [9] 1.850930 1.999005 2.158925 2.331639 2.518170 2.719624 2.937194 3.172169\n",
              "[17] 3.425943 3.700018 3.996019 2.664013 2.664013 2.664013 2.664013 2.664013\n",
              "[25] 2.664013 2.664013 2.664013 2.664013"
            ]
          },
          "metadata": {},
          "output_type": "display_data"
        }
      ],
      "source": [
        "for(i in 20:28){\n",
        "    a[i]=a[19]*2/3\n",
        "}\n",
        "a"
      ]
    },
    {
      "cell_type": "code",
      "execution_count": null,
      "id": "bedf41e7-ba0f-4481-b8b7-7a85975a9263",
      "metadata": {
        "id": "bedf41e7-ba0f-4481-b8b7-7a85975a9263",
        "outputId": "176bbe9f-7f31-41a0-a62d-37a02c05c944"
      },
      "outputs": [
        {
          "data": {
            "text/plain": [
              "[1] 65.42238"
            ]
          },
          "metadata": {},
          "output_type": "display_data"
        }
      ],
      "source": [
        "sum(a)"
      ]
    },
    {
      "cell_type": "markdown",
      "id": "90461c02-0c1f-410f-b7b2-c825766b9d8e",
      "metadata": {
        "id": "90461c02-0c1f-410f-b7b2-c825766b9d8e"
      },
      "source": [
        "- 답은 65.42238이다."
      ]
    },
    {
      "cell_type": "code",
      "execution_count": null,
      "id": "a01ffd29-8f93-4e46-b441-10216f1602e6",
      "metadata": {
        "id": "a01ffd29-8f93-4e46-b441-10216f1602e6",
        "outputId": "beb9fe32-1328-4402-87b7-40538339033a"
      },
      "outputs": [
        {
          "data": {
            "text/plain": [
              "[1] 3.996019"
            ]
          },
          "metadata": {},
          "output_type": "display_data"
        }
      ],
      "source": [
        "a=1\n",
        "for(i in 2:19){\n",
        "    a=a*1.08\n",
        "}\n",
        "a"
      ]
    },
    {
      "cell_type": "markdown",
      "id": "13249fb6-2379-4602-b551-5562bc4b9ffa",
      "metadata": {
        "id": "13249fb6-2379-4602-b551-5562bc4b9ffa"
      },
      "source": [
        "- 위의 코드는 19번째 연봉을 구할 수는 있으나, 20번째 이후의 연봉을 구할 수 없다."
      ]
    },
    {
      "cell_type": "markdown",
      "id": "ba89422b-155d-47b9-a001-928c62ab72c8",
      "metadata": {
        "id": "ba89422b-155d-47b9-a001-928c62ab72c8"
      },
      "source": [
        "## 2004(인)/수능(홀) 19(고3)"
      ]
    },
    {
      "cell_type": "markdown",
      "source": [
        "`-` 자료 $x_1,x_2, ... ,x_{100}$에 대하여 다음 과정을 순서대로 시행하였다.\n",
        "\n",
        "(가) 처음 두 수 $x_1$과 $x_2$의 평균을 구한다.\n",
        "\n",
        "(나) $x_3$을 추가하여 $x_1,x_2,x_3$의 평균을 구한다.\n",
        "\n",
        "(다) $x_4$을 추가하여 $x_1,x_2,x_3,x_4$의 평균을 구한다.\n",
        "\n",
        "...\n",
        "\n",
        "$x_{100}$을 추가하여 $x_1,x_2,x_3,...,x_{100}$의 평균을 구한다.\n",
        "\n",
        "`문제` 위의 과정을 시행할 결과, $x_1$과 $x_2$의 평균이 5이고, 자료 하나가 추가될때 마다 평균이 1씩 증가하였다. 이때 $x_{100}$의 값은? \n",
        "\n",
        "(1) 194\n",
        "\n",
        "(2) 196\n",
        "\n",
        "(3) 198\n",
        "\n",
        "(4) 200\n",
        "\n",
        "(5) 202 "
      ],
      "metadata": {
        "id": "TgEuGCRwQzwI"
      },
      "id": "TgEuGCRwQzwI"
    },
    {
      "cell_type": "code",
      "execution_count": null,
      "id": "2ba447a1-a93c-43a8-8cec-60c4f1efa122",
      "metadata": {
        "id": "2ba447a1-a93c-43a8-8cec-60c4f1efa122"
      },
      "outputs": [],
      "source": [
        "x <- c()\n",
        "x[1]=5\n",
        "x[2]=5"
      ]
    },
    {
      "cell_type": "code",
      "execution_count": null,
      "id": "a0cc22ae-da23-441a-a905-1f47545a8950",
      "metadata": {
        "id": "a0cc22ae-da23-441a-a905-1f47545a8950",
        "outputId": "30e3bfb8-f201-4a31-804c-9868f693e104"
      },
      "outputs": [
        {
          "data": {
            "text/plain": [
              "  [1]   5   5   8  10  12  14  16  18  20  22  24  26  28  30  32  34  36  38\n",
              " [19]  40  42  44  46  48  50  52  54  56  58  60  62  64  66  68  70  72  74\n",
              " [37]  76  78  80  82  84  86  88  90  92  94  96  98 100 102 104 106 108 110\n",
              " [55] 112 114 116 118 120 122 124 126 128 130 132 134 136 138 140 142 144 146\n",
              " [73] 148 150 152 154 156 158 160 162 164 166 168 170 172 174 176 178 180 182\n",
              " [91] 184 186 188 190 192 194 196 198 200 202"
            ]
          },
          "metadata": {},
          "output_type": "display_data"
        }
      ],
      "source": [
        "for(i in 3:100){\n",
        "    temp_ = mean(x[1:(i-1)])+1 # temp_는 1~i까지의 평균(i=3, mean(x[1:2])=5이고 +1은 6)\n",
        "    sum_ = temp_*i # sum_는 1~i까지의 원소의 합(i=3, sum_는 6*3)\n",
        "    x[i] = sum_ - sum(x[1:(i-1)]) # x[i]값\n",
        "}\n",
        "x"
      ]
    },
    {
      "cell_type": "code",
      "execution_count": null,
      "id": "c9cf714b-126d-4bcb-94ed-7c660a41bfaf",
      "metadata": {
        "id": "c9cf714b-126d-4bcb-94ed-7c660a41bfaf",
        "outputId": "0c305df8-2ce7-4857-831c-375502c3ce7e"
      },
      "outputs": [
        {
          "data": {
            "text/plain": [
              "[1] 202"
            ]
          },
          "metadata": {},
          "output_type": "display_data"
        }
      ],
      "source": [
        "x[100]"
      ]
    },
    {
      "cell_type": "markdown",
      "id": "b6cbc27f-7a9b-4142-895d-b906aa467b06",
      "metadata": {
        "id": "b6cbc27f-7a9b-4142-895d-b906aa467b06"
      },
      "source": [
        "## 2010(나)/수능(홀) 30(고3) "
      ]
    },
    {
      "cell_type": "markdown",
      "source": [
        "`문제` 수열 $\\{a_n\\}$에 대하여 첫째항부터 제 $n$항까지의 합을 $S_n$이라고 하자. 수열 $\\{S_{2n-1}\\}$은 공차가 -3인 등차수열이고, 수열 $\\{S_{2n}\\}$은 공차가 2인 등차수열이다. $a_2=1$일 때, $a_8$의 값을 구하시오."
      ],
      "metadata": {
        "id": "wW-KwYn_Q72o"
      },
      "id": "wW-KwYn_Q72o"
    },
    {
      "cell_type": "markdown",
      "id": "9185a8b1-006d-4a53-b7da-de4ff326abda",
      "metadata": {
        "id": "9185a8b1-006d-4a53-b7da-de4ff326abda"
      },
      "source": [
        "$S_3=S_1-3$ \n",
        "\n",
        "$S_5=S_3-3$ \n",
        "\n",
        "... \n",
        "\n",
        "\n",
        "$S_4=S_2+2$\n",
        "\n",
        "$S_6=S_4+2$ \n",
        "\n",
        "... 어떤 식으로 코드를 작성해야 할지 도움을 준다."
      ]
    },
    {
      "cell_type": "code",
      "execution_count": null,
      "id": "3d62b51f-9404-4a7b-88a2-0719941739b9",
      "metadata": {
        "id": "3d62b51f-9404-4a7b-88a2-0719941739b9"
      },
      "outputs": [],
      "source": [
        "a <- c()\n",
        "a[1] = 0 # 일단 0이라고 하자.\n",
        "a[2] = 1"
      ]
    },
    {
      "cell_type": "code",
      "execution_count": null,
      "id": "fb502b9a-9ae4-41b1-85ed-c165cbd95481",
      "metadata": {
        "id": "fb502b9a-9ae4-41b1-85ed-c165cbd95481"
      },
      "outputs": [],
      "source": [
        "s <- c()\n",
        "s[1] = a[1]\n",
        "s[2] = a[1]+a[2]"
      ]
    },
    {
      "cell_type": "markdown",
      "id": "9e346d93-100c-4bdf-89d7-8183bd891be1",
      "metadata": {
        "id": "9e346d93-100c-4bdf-89d7-8183bd891be1"
      },
      "source": [
        "```R\n",
        "구현해야 할 코드:\n",
        "for(n in 3:100){\n",
        "    n이 홀수라면(n %% == 1)\n",
        "    s[n] = s[n-2]-3\n",
        "    n이 짝수라면(n %% == 0)\n",
        "    s[n] = s[n-2]+2\n",
        "}        \n",
        "s\n",
        "```"
      ]
    },
    {
      "cell_type": "markdown",
      "id": "b0051300-747b-43c5-ab84-2d1845a70cc4",
      "metadata": {
        "id": "b0051300-747b-43c5-ab84-2d1845a70cc4"
      },
      "source": [
        "`-` 위처럼 구현하기 위해선, 1) 홀수인지 짝수인지 판단하기 위해 나머지(%%) 함수를 활용해야 하고 2) 이를 if문을 통해 구현해야 한다."
      ]
    },
    {
      "cell_type": "code",
      "execution_count": null,
      "id": "75b1b87c-b0f7-42e4-95c2-4324e0007fe8",
      "metadata": {
        "id": "75b1b87c-b0f7-42e4-95c2-4324e0007fe8",
        "outputId": "f6985f1f-a516-4838-ef43-62b6e3cd677f"
      },
      "outputs": [
        {
          "data": {
            "text/plain": [
              " [1] 1 0 1 0 1 0 1 0 1 0"
            ]
          },
          "metadata": {},
          "output_type": "display_data"
        }
      ],
      "source": [
        "1:10 %% 2 # %%는 나머지 값을 나타내줌."
      ]
    },
    {
      "cell_type": "code",
      "execution_count": null,
      "id": "5a5543e3-dd7d-42c4-b1db-cec6dc8545c6",
      "metadata": {
        "id": "5a5543e3-dd7d-42c4-b1db-cec6dc8545c6",
        "outputId": "918986ca-237c-478a-b81a-75ead04ce1c0"
      },
      "outputs": [
        {
          "data": {
            "text/plain": [
              " [1] 1 2 0 1 2 0 1 2 0 1"
            ]
          },
          "metadata": {},
          "output_type": "display_data"
        }
      ],
      "source": [
        "1:10 %% 3"
      ]
    },
    {
      "cell_type": "code",
      "execution_count": null,
      "id": "252e8ce3-997a-4918-a036-4fa48ead5e6f",
      "metadata": {
        "id": "252e8ce3-997a-4918-a036-4fa48ead5e6f"
      },
      "outputs": [],
      "source": [
        "for(n in 3:100){\n",
        "    if(n%%2 == 1){\n",
        "        s[n]=s[n-2]-3\n",
        "    }else{\n",
        "        s[n]=s[n-2]+2\n",
        "    }\n",
        "}"
      ]
    },
    {
      "cell_type": "code",
      "execution_count": null,
      "id": "1d5f54ca-461e-4ea8-8351-3250f2818c9f",
      "metadata": {
        "id": "1d5f54ca-461e-4ea8-8351-3250f2818c9f",
        "outputId": "9a21626b-acfb-4853-a112-dbae62ff983e"
      },
      "outputs": [
        {
          "data": {
            "text/plain": [
              "  [1]    0    1   -3    3   -6    5   -9    7  -12    9  -15   11  -18   13  -21\n",
              " [16]   15  -24   17  -27   19  -30   21  -33   23  -36   25  -39   27  -42   29\n",
              " [31]  -45   31  -48   33  -51   35  -54   37  -57   39  -60   41  -63   43  -66\n",
              " [46]   45  -69   47  -72   49  -75   51  -78   53  -81   55  -84   57  -87   59\n",
              " [61]  -90   61  -93   63  -96   65  -99   67 -102   69 -105   71 -108   73 -111\n",
              " [76]   75 -114   77 -117   79 -120   81 -123   83 -126   85 -129   87 -132   89\n",
              " [91] -135   91 -138   93 -141   95 -144   97 -147   99"
            ]
          },
          "metadata": {},
          "output_type": "display_data"
        }
      ],
      "source": [
        "s"
      ]
    },
    {
      "cell_type": "code",
      "execution_count": null,
      "id": "fdad7fc8-bcbb-479b-a675-778578b4844a",
      "metadata": {
        "id": "fdad7fc8-bcbb-479b-a675-778578b4844a",
        "outputId": "1cd3a66a-9dde-4c9d-9b05-6e9d205ccfe2"
      },
      "outputs": [
        {
          "data": {
            "text/plain": [
              "[1] 16"
            ]
          },
          "metadata": {},
          "output_type": "display_data"
        }
      ],
      "source": [
        "s[8]-s[7]"
      ]
    },
    {
      "cell_type": "markdown",
      "id": "1da14696-2e1b-4787-9b0e-bdaf4603075c",
      "metadata": {
        "id": "1da14696-2e1b-4787-9b0e-bdaf4603075c"
      },
      "source": [
        "- 답은 16이다.\n",
        "- 한 가지 의문점: a[1]=0으로 일단 놓았는데, 이 값에 대해 문제에서 정의하지 않았다. 만약 a[1]이 0이 아닌 다른 값이라면 앞서 구한 값도 달라지는 것은 아닐까?"
      ]
    },
    {
      "cell_type": "code",
      "execution_count": null,
      "id": "f9b495a7-c706-4a90-8695-af0f5132b32d",
      "metadata": {
        "id": "f9b495a7-c706-4a90-8695-af0f5132b32d"
      },
      "outputs": [],
      "source": [
        "a <- c()\n",
        "a[1] = 100 # 일단 0이라고 하자.\n",
        "a[2] = 1"
      ]
    },
    {
      "cell_type": "code",
      "execution_count": null,
      "id": "f9bfea4d-359a-436d-89fc-b5eb1ed96278",
      "metadata": {
        "id": "f9bfea4d-359a-436d-89fc-b5eb1ed96278"
      },
      "outputs": [],
      "source": [
        "s <- c()\n",
        "s[1] = a[1]\n",
        "s[2] = a[1]+a[2]"
      ]
    },
    {
      "cell_type": "code",
      "execution_count": null,
      "id": "644faefe-8275-4b87-ab99-53b1a32f5f62",
      "metadata": {
        "id": "644faefe-8275-4b87-ab99-53b1a32f5f62",
        "outputId": "3c9a8443-ba77-4a94-952d-7630228b23b6"
      },
      "outputs": [
        {
          "data": {
            "text/plain": [
              "  [1] 100 101  97 103  94 105  91 107  88 109  85 111  82 113  79 115  76 117\n",
              " [19]  73 119  70 121  67 123  64 125  61 127  58 129  55 131  52 133  49 135\n",
              " [37]  46 137  43 139  40 141  37 143  34 145  31 147  28 149  25 151  22 153\n",
              " [55]  19 155  16 157  13 159  10 161   7 163   4 165   1 167  -2 169  -5 171\n",
              " [73]  -8 173 -11 175 -14 177 -17 179 -20 181 -23 183 -26 185 -29 187 -32 189\n",
              " [91] -35 191 -38 193 -41 195 -44 197 -47 199"
            ]
          },
          "metadata": {},
          "output_type": "display_data"
        }
      ],
      "source": [
        "for(n in 3:100){\n",
        "    if(n%%2 == 1){\n",
        "        s[n]=s[n-2]-3\n",
        "    }else{\n",
        "        s[n]=s[n-2]+2\n",
        "    }\n",
        "}\n",
        "s"
      ]
    },
    {
      "cell_type": "code",
      "execution_count": null,
      "id": "bc13da74-a4b5-4867-85a7-2c846a9cae2e",
      "metadata": {
        "id": "bc13da74-a4b5-4867-85a7-2c846a9cae2e",
        "outputId": "395b51db-6a18-407a-cff0-5723aad8bfac"
      },
      "outputs": [
        {
          "data": {
            "text/plain": [
              "[1] 16"
            ]
          },
          "metadata": {},
          "output_type": "display_data"
        }
      ],
      "source": [
        "s[8]-s[7]"
      ]
    },
    {
      "cell_type": "markdown",
      "id": "b058371c-e257-464e-94d1-349b6e2597b9",
      "metadata": {
        "id": "b058371c-e257-464e-94d1-349b6e2597b9"
      },
      "source": [
        "- a[1]에 다른 값을 놓아도 a[8]이 달라지지 않는다."
      ]
    }
  ],
  "metadata": {
    "kernelspec": {
      "display_name": "R",
      "language": "R",
      "name": "ir"
    },
    "language_info": {
      "codemirror_mode": "r",
      "file_extension": ".r",
      "mimetype": "text/x-r-source",
      "name": "R",
      "pygments_lexer": "r",
      "version": "4.0.5"
    },
    "colab": {
      "name": "2022-02-08-IR.ipynb",
      "provenance": [],
      "toc_visible": true
    }
  },
  "nbformat": 4,
  "nbformat_minor": 5
}
