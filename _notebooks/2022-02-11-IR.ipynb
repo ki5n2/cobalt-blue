{
  "cells": [
    {
      "cell_type": "markdown",
      "source": [
        "# IR 7. while, break, ifelse, repeat, next, switch, 연산자\n",
        "> \"작성완료\"\n",
        "\n",
        "- toc:true\n",
        "- branch: master\n",
        "- badges: true\n",
        "- comments: true\n",
        "- [R]"
      ],
      "metadata": {
        "id": "OZMVmwYPNgml"
      },
      "id": "OZMVmwYPNgml"
    },
    {
      "cell_type": "markdown",
      "source": [
        "---\n",
        "# Introduce R \n",
        "- lecture: Introduce R_5nd week of lectures.\n",
        "- lecture date: 2021-10-07\n",
        "- lecturer: Guebin choi\n",
        "- study date: 2022-02-11\n",
        "- author: Kione kim\n",
        "---"
      ],
      "metadata": {
        "id": "jRv0pkRwNhzN"
      },
      "id": "jRv0pkRwNhzN"
    },
    {
      "cell_type": "code",
      "execution_count": null,
      "id": "6020f1f4-94b5-4e1b-9d5f-ae7969ddd98d",
      "metadata": {
        "id": "6020f1f4-94b5-4e1b-9d5f-ae7969ddd98d"
      },
      "outputs": [],
      "source": [
        " #hide\n",
        "options(jupyter.plot_scale=3)\n",
        "options(jupyter.display_mimetypes=c(\"text/html\"))\n",
        "options(jupyter.rich_display=FALSE)\n",
        "options(repr.plot.width=6,repr.plot.height=6,repr.plot.res=300)\n",
        "options(max.print=1000)"
      ]
    },
    {
      "cell_type": "markdown",
      "id": "a04164d8-40a3-40e5-a7b8-12f8c82b1d75",
      "metadata": {
        "jp-MarkdownHeadingCollapsed": true,
        "tags": [],
        "id": "a04164d8-40a3-40e5-a7b8-12f8c82b1d75"
      },
      "source": [
        "## 조건, 반복, 루프탈출"
      ]
    },
    {
      "cell_type": "markdown",
      "id": "f09794d9-a1d4-4b8a-b97a-2a49cec0a06f",
      "metadata": {
        "id": "f09794d9-a1d4-4b8a-b97a-2a49cec0a06f"
      },
      "source": [
        "### while"
      ]
    },
    {
      "cell_type": "markdown",
      "id": "f2d7e48b-4b78-4ad2-bd25-ae10ad3dfc5e",
      "metadata": {
        "id": "f2d7e48b-4b78-4ad2-bd25-ae10ad3dfc5e"
      },
      "source": [
        "`-` 예제 1"
      ]
    },
    {
      "cell_type": "code",
      "execution_count": null,
      "id": "620a3bef-ccc3-4f42-9fde-5fa315a0e4b7",
      "metadata": {
        "id": "620a3bef-ccc3-4f42-9fde-5fa315a0e4b7"
      },
      "outputs": [],
      "source": [
        "tot=0\n",
        "i=1\n",
        "while(i<=100){\n",
        "    tot=tot+i\n",
        "    i=i+1\n",
        "}"
      ]
    },
    {
      "cell_type": "code",
      "execution_count": null,
      "id": "2491087f-8d9f-4459-a4d9-4987cc47f32c",
      "metadata": {
        "id": "2491087f-8d9f-4459-a4d9-4987cc47f32c",
        "outputId": "8b22d700-0408-42be-f7d7-c8bd32cbbe8a"
      },
      "outputs": [
        {
          "data": {
            "text/plain": [
              "[1] 5050"
            ]
          },
          "metadata": {},
          "output_type": "display_data"
        }
      ],
      "source": [
        "tot"
      ]
    },
    {
      "cell_type": "markdown",
      "id": "6c93f5e7-27b7-4aa9-a4a7-9e50b58fe86f",
      "metadata": {
        "id": "6c93f5e7-27b7-4aa9-a4a7-9e50b58fe86f"
      },
      "source": [
        "`-` 예제 1의 다른 구현 (1)"
      ]
    },
    {
      "cell_type": "code",
      "execution_count": null,
      "id": "e6c1a066-bd2f-47ad-8928-ba864a2f60e2",
      "metadata": {
        "id": "e6c1a066-bd2f-47ad-8928-ba864a2f60e2"
      },
      "outputs": [],
      "source": [
        "tot=0\n",
        "for (i in 1:100) tot=tot+i"
      ]
    },
    {
      "cell_type": "code",
      "execution_count": null,
      "id": "cbf04ca1-2aa4-4809-91a3-3c940a954118",
      "metadata": {
        "id": "cbf04ca1-2aa4-4809-91a3-3c940a954118",
        "outputId": "a28d6d05-a9fe-49ef-91b7-a5135c864c91"
      },
      "outputs": [
        {
          "data": {
            "text/plain": [
              "[1] 5050"
            ]
          },
          "metadata": {},
          "output_type": "display_data"
        }
      ],
      "source": [
        "tot"
      ]
    },
    {
      "cell_type": "markdown",
      "id": "e37bee54-4532-4ad9-839c-3ae1b51478a3",
      "metadata": {
        "id": "e37bee54-4532-4ad9-839c-3ae1b51478a3"
      },
      "source": [
        "`-` 예제 1의 다른 구현 (2)"
      ]
    },
    {
      "cell_type": "code",
      "execution_count": null,
      "id": "18d838bf-5ad7-41c4-bf98-944a4dfc1a47",
      "metadata": {
        "id": "18d838bf-5ad7-41c4-bf98-944a4dfc1a47"
      },
      "outputs": [],
      "source": [
        "tot=0\n",
        "i=1\n",
        "while(TRUE){\n",
        "    tot=tot+i\n",
        "    i=i+1\n",
        "    if (i>100) break \n",
        "}"
      ]
    },
    {
      "cell_type": "code",
      "execution_count": null,
      "id": "c0919421-2a34-4aea-941f-638d80c20190",
      "metadata": {
        "id": "c0919421-2a34-4aea-941f-638d80c20190",
        "outputId": "68649e28-7e38-4c73-eace-c30e14b9a0ac"
      },
      "outputs": [
        {
          "data": {
            "text/plain": [
              "[1] 5050"
            ]
          },
          "metadata": {},
          "output_type": "display_data"
        }
      ],
      "source": [
        "tot"
      ]
    },
    {
      "cell_type": "markdown",
      "id": "1af7dfd0-c701-4bb6-b140-7d940d589ad4",
      "metadata": {
        "id": "1af7dfd0-c701-4bb6-b140-7d940d589ad4"
      },
      "source": [
        "``` R\n",
        "이렇게 사용: if (i>100) break \n",
        "아래와 같이 쓰지 않기!\n",
        "if (i>100){\n",
        "    break\n",
        "    }    \n",
        "```"
      ]
    },
    {
      "cell_type": "markdown",
      "id": "65ce965f-e5e3-4779-b0f3-5e031483aaae",
      "metadata": {
        "id": "65ce965f-e5e3-4779-b0f3-5e031483aaae"
      },
      "source": [
        "`-` 예제 1의 다른 구현 (3)"
      ]
    },
    {
      "cell_type": "code",
      "execution_count": null,
      "id": "33806973-5899-4b5f-8539-7cdee6936569",
      "metadata": {
        "id": "33806973-5899-4b5f-8539-7cdee6936569"
      },
      "outputs": [],
      "source": [
        "tot=0\n",
        "i=1\n",
        "while(TRUE){\n",
        "    tot=tot+i\n",
        "    if (i>=100) break\n",
        "        i=i+1\n",
        "}"
      ]
    },
    {
      "cell_type": "code",
      "execution_count": null,
      "id": "8f943edf-1b18-48e0-b67b-a5614f12e7ed",
      "metadata": {
        "id": "8f943edf-1b18-48e0-b67b-a5614f12e7ed",
        "outputId": "0ff57e27-4247-4a0c-8889-c255397ac2ad"
      },
      "outputs": [
        {
          "data": {
            "text/plain": [
              "[1] 5050"
            ]
          },
          "metadata": {},
          "output_type": "display_data"
        }
      ],
      "source": [
        "tot"
      ]
    },
    {
      "cell_type": "markdown",
      "id": "be9266a4-d53c-4814-b008-59bdb2ed7b9c",
      "metadata": {
        "id": "be9266a4-d53c-4814-b008-59bdb2ed7b9c"
      },
      "source": [
        "### break"
      ]
    },
    {
      "cell_type": "markdown",
      "id": "832379c8-fb05-4d04-8996-609a9dd87d79",
      "metadata": {
        "id": "832379c8-fb05-4d04-8996-609a9dd87d79"
      },
      "source": [
        "`-` 예제 1"
      ]
    },
    {
      "cell_type": "code",
      "execution_count": null,
      "id": "b2392d7e-50d4-4d80-8696-89403de0e4f2",
      "metadata": {
        "id": "b2392d7e-50d4-4d80-8696-89403de0e4f2",
        "outputId": "c4d8fd28-8844-4819-d3a5-4d0b0892a924"
      },
      "outputs": [
        {
          "name": "stdout",
          "output_type": "stream",
          "text": [
            "[1] 1\n",
            "[1] 2\n",
            "[1] 3\n"
          ]
        }
      ],
      "source": [
        "for (i in 1:10){\n",
        "    print(i)\n",
        "    if(i==3) break\n",
        "}"
      ]
    },
    {
      "cell_type": "markdown",
      "id": "63a8bee2-3172-4a73-b15d-d864a0c5b7a9",
      "metadata": {
        "id": "63a8bee2-3172-4a73-b15d-d864a0c5b7a9"
      },
      "source": [
        "`-` 예제 2"
      ]
    },
    {
      "cell_type": "code",
      "execution_count": null,
      "id": "5fc2ca91-95df-4c78-80b5-1276d30da70f",
      "metadata": {
        "id": "5fc2ca91-95df-4c78-80b5-1276d30da70f",
        "outputId": "f5716a15-d451-4d3b-e533-bad66f3f96c7"
      },
      "outputs": [
        {
          "name": "stdout",
          "output_type": "stream",
          "text": [
            "[1] 1 1\n",
            "[1] 1 2\n",
            "[1] 1 3\n",
            "[1] 1 4\n",
            "[1] 1 5\n",
            "[1] 1 6\n",
            "[1] 1 7\n",
            "[1] 1 8\n",
            "[1] 1 9\n",
            "[1]  1 10\n",
            "[1] 2 1\n",
            "[1] 2 2\n",
            "[1] 2 3\n",
            "[1] 2 4\n",
            "[1] 2 5\n",
            "[1] 2 6\n",
            "[1] 2 7\n",
            "[1] 2 8\n",
            "[1] 2 9\n",
            "[1]  2 10\n",
            "[1] 3 1\n",
            "[1] 3 2\n",
            "[1] 3 3\n",
            "[1] 3 4\n",
            "[1] 3 5\n",
            "[1] 3 6\n",
            "[1] 3 7\n",
            "[1] 3 8\n",
            "[1] 3 9\n",
            "[1]  3 10\n",
            "[1] 4 1\n",
            "[1] 4 2\n",
            "[1] 4 3\n",
            "[1] 4 4\n",
            "[1] 4 5\n",
            "[1] 4 6\n",
            "[1] 4 7\n",
            "[1] 4 8\n",
            "[1] 4 9\n",
            "[1]  4 10\n",
            "[1] 5 1\n",
            "[1] 5 2\n",
            "[1] 5 3\n",
            "[1] 5 4\n",
            "[1] 5 5\n",
            "[1] 5 6\n",
            "[1] 5 7\n",
            "[1] 5 8\n",
            "[1] 5 9\n",
            "[1]  5 10\n",
            "[1] 6 1\n",
            "[1] 6 2\n",
            "[1] 6 3\n",
            "[1] 6 4\n",
            "[1] 6 5\n",
            "[1] 6 6\n",
            "[1] 6 7\n",
            "[1] 6 8\n",
            "[1] 6 9\n",
            "[1]  6 10\n",
            "[1] 7 1\n",
            "[1] 7 2\n",
            "[1] 7 3\n",
            "[1] 7 4\n",
            "[1] 7 5\n",
            "[1] 7 6\n",
            "[1] 7 7\n",
            "[1] 7 8\n",
            "[1] 7 9\n",
            "[1]  7 10\n",
            "[1] 8 1\n",
            "[1] 8 2\n",
            "[1] 8 3\n",
            "[1] 8 4\n",
            "[1] 8 5\n",
            "[1] 8 6\n",
            "[1] 8 7\n",
            "[1] 8 8\n",
            "[1] 8 9\n",
            "[1]  8 10\n",
            "[1] 9 1\n",
            "[1] 9 2\n",
            "[1] 9 3\n",
            "[1] 9 4\n",
            "[1] 9 5\n",
            "[1] 9 6\n",
            "[1] 9 7\n",
            "[1] 9 8\n",
            "[1] 9 9\n",
            "[1]  9 10\n",
            "[1] 10  1\n",
            "[1] 10  2\n",
            "[1] 10  3\n",
            "[1] 10  4\n",
            "[1] 10  5\n",
            "[1] 10  6\n",
            "[1] 10  7\n",
            "[1] 10  8\n",
            "[1] 10  9\n",
            "[1] 10 10\n"
          ]
        }
      ],
      "source": [
        "for (i in 1:10){\n",
        "    for (j in 1:10){\n",
        "        print(c(i,j))\n",
        "    }\n",
        "}"
      ]
    },
    {
      "cell_type": "code",
      "execution_count": null,
      "id": "cd26f276-c15f-43e6-88f3-4bc00d788719",
      "metadata": {
        "id": "cd26f276-c15f-43e6-88f3-4bc00d788719",
        "outputId": "c3013161-1201-40a2-d2b5-e2ab64b4209a"
      },
      "outputs": [
        {
          "name": "stdout",
          "output_type": "stream",
          "text": [
            "[1] 1 1\n",
            "[1] 1 2\n",
            "[1] 1 3\n",
            "[1] 2 1\n",
            "[1] 2 2\n",
            "[1] 2 3\n",
            "[1] 3 1\n",
            "[1] 3 2\n",
            "[1] 3 3\n",
            "[1] 4 1\n",
            "[1] 4 2\n",
            "[1] 4 3\n",
            "[1] 5 1\n",
            "[1] 5 2\n",
            "[1] 5 3\n"
          ]
        }
      ],
      "source": [
        "for (i in 1:10){\n",
        "    for (j in 1:10){\n",
        "        print(c(i,j))\n",
        "        if (j==3) break\n",
        "    }\n",
        "    if (i==5) break\n",
        "}"
      ]
    },
    {
      "cell_type": "markdown",
      "id": "7cb1571e-65f3-4fa8-ba56-0b062bcdf7b2",
      "metadata": {
        "tags": [],
        "id": "7cb1571e-65f3-4fa8-ba56-0b062bcdf7b2"
      },
      "source": [
        "**if, if~else, ifelse 모두 다른 기능을 하는 구문이다.**"
      ]
    },
    {
      "cell_type": "markdown",
      "id": "2e066a97-09d3-41a4-8c27-3d71531aae22",
      "metadata": {
        "id": "2e066a97-09d3-41a4-8c27-3d71531aae22"
      },
      "source": [
        "### ifelse"
      ]
    },
    {
      "cell_type": "markdown",
      "id": "9bd27208-5467-4013-aa55-7e245550cf76",
      "metadata": {
        "id": "9bd27208-5467-4013-aa55-7e245550cf76"
      },
      "source": [
        "``` R\n",
        "`ifelse 사용법`:\n",
        "조건문이 하나인 경우: ifelse(조건문, 조건문 TRUE 값 반환, 조건문 FALSE 값 반환)\n",
        "조건문이 두 개인 경우: ifelse(조건문 1, 조건문 1 TRUE 값 반환, ifelse(조건문 2, 조건문 2 TRUE 값 반환, 조건문 2 FALSE 값 반환))\n",
        "```"
      ]
    },
    {
      "cell_type": "code",
      "execution_count": null,
      "id": "e108794a-01d7-4933-8953-3654dff186e1",
      "metadata": {
        "id": "e108794a-01d7-4933-8953-3654dff186e1",
        "outputId": "acff3f1e-264d-4e79-aafe-4b641592c9f2"
      },
      "outputs": [
        {
          "data": {
            "text/plain": [
              "[1] -2 -1  0  1  2"
            ]
          },
          "metadata": {},
          "output_type": "display_data"
        }
      ],
      "source": [
        "x=-2:2\n",
        "x"
      ]
    },
    {
      "cell_type": "code",
      "execution_count": null,
      "id": "7a4cf4d7-51e5-4241-a000-f4edb5d24ad7",
      "metadata": {
        "id": "7a4cf4d7-51e5-4241-a000-f4edb5d24ad7",
        "outputId": "1c7e64a7-4855-404d-ba88-92e852e67a72"
      },
      "outputs": [
        {
          "data": {
            "text/plain": [
              "[1] 2 1 0 1 2"
            ]
          },
          "metadata": {},
          "output_type": "display_data"
        }
      ],
      "source": [
        "ifelse(x>0,x,-x)"
      ]
    },
    {
      "cell_type": "markdown",
      "id": "960d0408-64ce-4ab1-a1ad-8d092d27e40b",
      "metadata": {
        "id": "960d0408-64ce-4ab1-a1ad-8d092d27e40b"
      },
      "source": [
        "`-` ifelse를 사용하지 않고 위의 코드를 구현하려면 아래와 같이 할 수 있다."
      ]
    },
    {
      "cell_type": "code",
      "execution_count": null,
      "id": "3d2f21e9-f7d2-4912-8208-6ba013ba9718",
      "metadata": {
        "id": "3d2f21e9-f7d2-4912-8208-6ba013ba9718",
        "outputId": "bd1a4e72-4a00-4a50-e4d8-c3ab78a118de"
      },
      "outputs": [
        {
          "data": {
            "text/plain": [
              "[1] 5"
            ]
          },
          "metadata": {},
          "output_type": "display_data"
        }
      ],
      "source": [
        "length(x)"
      ]
    },
    {
      "cell_type": "code",
      "execution_count": null,
      "id": "55f3e9f8-af5e-45df-9963-75199a6ee972",
      "metadata": {
        "id": "55f3e9f8-af5e-45df-9963-75199a6ee972",
        "outputId": "debbd608-c6f8-4c7f-e026-4f12e098b850"
      },
      "outputs": [
        {
          "data": {
            "text/plain": [
              "[1] 0 0 0 0 0"
            ]
          },
          "metadata": {},
          "output_type": "display_data"
        }
      ],
      "source": [
        "y_ = x*0\n",
        "y_"
      ]
    },
    {
      "cell_type": "code",
      "execution_count": null,
      "id": "89f45f47-551d-4b40-bbfd-8809df592c74",
      "metadata": {
        "id": "89f45f47-551d-4b40-bbfd-8809df592c74"
      },
      "outputs": [],
      "source": [
        "for (i in 1:length(x)){\n",
        "    if (x[i]>0) y_[i] = x[i] else\n",
        "        y_[i] = -x[i]\n",
        "}"
      ]
    },
    {
      "cell_type": "code",
      "execution_count": null,
      "id": "23583188-7e9d-4c5d-ad28-9d0f1aa9bf35",
      "metadata": {
        "id": "23583188-7e9d-4c5d-ad28-9d0f1aa9bf35",
        "outputId": "bc2433ba-d28e-45c4-d633-190aeaf4e930"
      },
      "outputs": [
        {
          "data": {
            "text/plain": [
              "[1] 2 1 0 1 2"
            ]
          },
          "metadata": {},
          "output_type": "display_data"
        }
      ],
      "source": [
        "y_"
      ]
    },
    {
      "cell_type": "markdown",
      "id": "6eeb8a51-1e19-4382-81dd-6f2359be8813",
      "metadata": {
        "id": "6eeb8a51-1e19-4382-81dd-6f2359be8813"
      },
      "source": [
        "- 꽤 귀찮은 코딩이기 때문에 ifelse를 사용하는 것이 좋아 보인다."
      ]
    },
    {
      "cell_type": "markdown",
      "id": "1bab4120-ea66-4dfc-8c2c-103693336357",
      "metadata": {
        "id": "1bab4120-ea66-4dfc-8c2c-103693336357"
      },
      "source": [
        "`-` 예제 2(두 가지 조건)"
      ]
    },
    {
      "cell_type": "code",
      "execution_count": null,
      "id": "4727587f-f93b-4f38-a5dd-f145fb7cc623",
      "metadata": {
        "id": "4727587f-f93b-4f38-a5dd-f145fb7cc623",
        "outputId": "40fbf3aa-7c00-45b3-8ac8-042e126ac69d"
      },
      "outputs": [
        {
          "data": {
            "text/plain": [
              " [1] -5 -4 -3 -2 -1  0  1  2  3  4  5"
            ]
          },
          "metadata": {},
          "output_type": "display_data"
        }
      ],
      "source": [
        "x=-5:5\n",
        "x"
      ]
    },
    {
      "cell_type": "code",
      "execution_count": null,
      "id": "fc7c6971-0929-4bf1-96be-81c6ef47fa55",
      "metadata": {
        "id": "fc7c6971-0929-4bf1-96be-81c6ef47fa55",
        "outputId": "1653ae43-e87e-4ab0-f7a9-219770d97114"
      },
      "outputs": [
        {
          "data": {
            "text/plain": [
              " [1] 0 0 0 0 0 1 1 1 3 4 5"
            ]
          },
          "metadata": {},
          "output_type": "display_data"
        }
      ],
      "source": [
        "ifelse(x<0, 0, ifelse((x>2),x,1))"
      ]
    },
    {
      "cell_type": "markdown",
      "id": "b0eed66e-5e9a-4cc4-b407-567b8a524bfc",
      "metadata": {
        "id": "b0eed66e-5e9a-4cc4-b407-567b8a524bfc"
      },
      "source": [
        "`-` ifelse를 사용하지 않고 위의 코드를 구현하려면 아래와 같이 할 수 있다."
      ]
    },
    {
      "cell_type": "code",
      "execution_count": null,
      "id": "6c2e574c-fdec-42f8-b32f-2442fa486848",
      "metadata": {
        "id": "6c2e574c-fdec-42f8-b32f-2442fa486848",
        "outputId": "e3a70a4f-e754-4cf9-fe6b-3b86fbb7563b"
      },
      "outputs": [
        {
          "data": {
            "text/plain": [
              "[1] 11"
            ]
          },
          "metadata": {},
          "output_type": "display_data"
        }
      ],
      "source": [
        "length(x)"
      ]
    },
    {
      "cell_type": "code",
      "execution_count": null,
      "id": "563e4920-9de5-444b-a123-0419ea48e8ec",
      "metadata": {
        "id": "563e4920-9de5-444b-a123-0419ea48e8ec",
        "outputId": "3ec22841-b924-4c88-dcee-e37ce363517a"
      },
      "outputs": [
        {
          "data": {
            "text/plain": [
              " [1] 0 0 0 0 0 0 0 0 0 0 0"
            ]
          },
          "metadata": {},
          "output_type": "display_data"
        }
      ],
      "source": [
        "y_= x*0\n",
        "y_"
      ]
    },
    {
      "cell_type": "code",
      "execution_count": null,
      "id": "aa23250e-9c5f-4ea5-9666-9d40e2e2c07a",
      "metadata": {
        "id": "aa23250e-9c5f-4ea5-9666-9d40e2e2c07a",
        "outputId": "bd3193b7-916f-4e97-ccf0-d36dc84f9adc"
      },
      "outputs": [
        {
          "data": {
            "text/plain": [
              " [1] 0 0 0 0 0 1 1 1 3 4 5"
            ]
          },
          "metadata": {},
          "output_type": "display_data"
        }
      ],
      "source": [
        "for (i in 1:length(x)){\n",
        "    if (x[i]<0) y_[i] = 0 else\n",
        "        if (x[i]>2) y_[i] = x[i] else\n",
        "            y_[i] = 1\n",
        "}\n",
        "y_"
      ]
    },
    {
      "cell_type": "markdown",
      "id": "a4bf364b-bec7-4938-bf58-61a3e361ce3d",
      "metadata": {
        "id": "a4bf364b-bec7-4938-bf58-61a3e361ce3d"
      },
      "source": [
        "``` R \n",
        "중요도 ★★★★★: for, if, if~else, ifelse\n",
        "중요도 ★★★: while, break, repeat, next\n",
        "```"
      ]
    },
    {
      "cell_type": "markdown",
      "id": "75de6e2f-e20e-4dcd-845f-73893c85529a",
      "metadata": {
        "id": "75de6e2f-e20e-4dcd-845f-73893c85529a"
      },
      "source": [
        "``` R\n",
        "if~else와 ifelse은 다른 기능:\n",
        "    if~else: 조건에 부합하는 새로운 벡터를 생성하는데 특화되어 있음\n",
        "    ifelse: 조건에 따라 코드의 실행흐름을 제어하는 성격의 문법\n",
        "```"
      ]
    },
    {
      "cell_type": "markdown",
      "id": "d1669ef1-1d6f-4415-b726-7227d8b0caac",
      "metadata": {
        "id": "d1669ef1-1d6f-4415-b726-7227d8b0caac"
      },
      "source": [
        "### switch"
      ]
    },
    {
      "cell_type": "markdown",
      "id": "0c01296d-da0d-4de1-b472-60b6851b03b8",
      "metadata": {
        "id": "0c01296d-da0d-4de1-b472-60b6851b03b8"
      },
      "source": [
        "`-` 예제 1"
      ]
    },
    {
      "cell_type": "code",
      "execution_count": null,
      "id": "0cec39f6-bf20-492f-a156-644c62fa8887",
      "metadata": {
        "id": "0cec39f6-bf20-492f-a156-644c62fa8887",
        "outputId": "dfe547bb-10b3-4d12-9e65-50a6eb2435cb"
      },
      "outputs": [
        {
          "data": {
            "text/plain": [
              "[1] 10"
            ]
          },
          "metadata": {},
          "output_type": "display_data"
        }
      ],
      "source": [
        "switch(1,10,20,30)"
      ]
    },
    {
      "cell_type": "code",
      "execution_count": null,
      "id": "5e67a560-390b-43a7-9ee1-5e93133f6efa",
      "metadata": {
        "id": "5e67a560-390b-43a7-9ee1-5e93133f6efa",
        "outputId": "387f31df-1283-499c-876c-36738797e507"
      },
      "outputs": [
        {
          "data": {
            "text/plain": [
              "[1] 20"
            ]
          },
          "metadata": {},
          "output_type": "display_data"
        }
      ],
      "source": [
        "switch(2,10,20,30)"
      ]
    },
    {
      "cell_type": "code",
      "execution_count": null,
      "id": "f30b02cb-a44c-40a7-aa66-7a654a4790af",
      "metadata": {
        "id": "f30b02cb-a44c-40a7-aa66-7a654a4790af",
        "outputId": "29a690b7-7513-4406-e0b1-bf456b7d360e"
      },
      "outputs": [
        {
          "data": {
            "text/plain": [
              "[1] 30"
            ]
          },
          "metadata": {},
          "output_type": "display_data"
        }
      ],
      "source": [
        "switch(3,10,20,30)"
      ]
    },
    {
      "cell_type": "markdown",
      "id": "8155682d-5691-47ee-bf75-4392fa9790c0",
      "metadata": {
        "id": "8155682d-5691-47ee-bf75-4392fa9790c0"
      },
      "source": [
        "`-` 예제 2   \n",
        ": 벡터도 가능"
      ]
    },
    {
      "cell_type": "code",
      "execution_count": null,
      "id": "684415ba-1182-4898-b46c-e7800b264cbc",
      "metadata": {
        "id": "684415ba-1182-4898-b46c-e7800b264cbc",
        "outputId": "c8f8f689-78b2-4fe6-f5fc-8747530141c4"
      },
      "outputs": [
        {
          "data": {
            "text/plain": [
              "[1] 10 20 30"
            ]
          },
          "metadata": {},
          "output_type": "display_data"
        }
      ],
      "source": [
        "switch(1, c(10,20,30),20,c(10,30))"
      ]
    },
    {
      "cell_type": "code",
      "execution_count": null,
      "id": "d2c3fbe9-72e5-440c-9f5e-28a8ac4cb262",
      "metadata": {
        "id": "d2c3fbe9-72e5-440c-9f5e-28a8ac4cb262",
        "outputId": "fbc866f5-b9ed-4db8-918a-de1e81adaa69"
      },
      "outputs": [
        {
          "data": {
            "text/plain": [
              "[1] 20"
            ]
          },
          "metadata": {},
          "output_type": "display_data"
        }
      ],
      "source": [
        "switch(2, c(10,20,30),20,c(10,30))"
      ]
    },
    {
      "cell_type": "code",
      "execution_count": null,
      "id": "a5d986d0-34e9-4510-9941-0d5444cf55e0",
      "metadata": {
        "id": "a5d986d0-34e9-4510-9941-0d5444cf55e0",
        "outputId": "d1dfcf74-bcda-4cc7-99e2-2ab940c7fff2"
      },
      "outputs": [
        {
          "data": {
            "text/plain": [
              "[1] 10 30"
            ]
          },
          "metadata": {},
          "output_type": "display_data"
        }
      ],
      "source": [
        "switch(3, c(10,20,30),20,c(10,30))"
      ]
    },
    {
      "cell_type": "markdown",
      "id": "cd099f8e-fcd4-4bc5-a0fe-f4af262d5718",
      "metadata": {
        "id": "cd099f8e-fcd4-4bc5-a0fe-f4af262d5718"
      },
      "source": [
        "`-` 예제 3   \n",
        ": 이름으로 불러줄 수도 있음"
      ]
    },
    {
      "cell_type": "code",
      "execution_count": null,
      "id": "bf9997ea-a3a0-4041-b2ce-d2f209b9bb72",
      "metadata": {
        "id": "bf9997ea-a3a0-4041-b2ce-d2f209b9bb72",
        "outputId": "8cc106e3-7e30-4e16-e1c4-10ba9c1c0f83"
      },
      "outputs": [
        {
          "data": {
            "text/plain": [
              "[1] 10 20 30"
            ]
          },
          "metadata": {},
          "output_type": "display_data"
        }
      ],
      "source": [
        "switch('a1',a1=c(10,20,30),a2=c(20,40),30)"
      ]
    },
    {
      "cell_type": "code",
      "execution_count": null,
      "id": "c7373eac-2ba9-4446-a14b-e5e255ae04e1",
      "metadata": {
        "id": "c7373eac-2ba9-4446-a14b-e5e255ae04e1",
        "outputId": "0a426a07-e3eb-4135-d9db-f426267b421c"
      },
      "outputs": [
        {
          "data": {
            "text/plain": [
              "[1] 30"
            ]
          },
          "metadata": {},
          "output_type": "display_data"
        }
      ],
      "source": [
        "switch(3,a1=c(10,20,30),a2=c(20,40),30)"
      ]
    },
    {
      "cell_type": "markdown",
      "id": "6f1fe29e-ba6a-4f55-ba81-a656e31b22c6",
      "metadata": {
        "id": "6f1fe29e-ba6a-4f55-ba81-a656e31b22c6"
      },
      "source": [
        "`-` 예제 4   \n",
        ": 함수를 입력으로 넣어 사용 가능 -> 필요한 함수를 적절히 이용하며 사용할 수 있다는 이점"
      ]
    },
    {
      "cell_type": "markdown",
      "id": "923b5865-2bfe-4d35-9500-cdf4cabfe847",
      "metadata": {
        "id": "923b5865-2bfe-4d35-9500-cdf4cabfe847"
      },
      "source": [
        "#### (예비)"
      ]
    },
    {
      "cell_type": "code",
      "execution_count": null,
      "id": "cd6d61a0-2401-4670-91e4-5609b756f72c",
      "metadata": {
        "id": "cd6d61a0-2401-4670-91e4-5609b756f72c",
        "outputId": "61ba7158-6b85-4797-c9e0-060691040724"
      },
      "outputs": [
        {
          "data": {
            "text/plain": [
              " [1]  1  2  3  4  5  6  7  8  9 10"
            ]
          },
          "metadata": {},
          "output_type": "display_data"
        }
      ],
      "source": [
        "x=1:10\n",
        "x"
      ]
    },
    {
      "cell_type": "code",
      "execution_count": null,
      "id": "ad281eea-069f-4763-84d6-677c7fb76321",
      "metadata": {
        "id": "ad281eea-069f-4763-84d6-677c7fb76321",
        "outputId": "12e9992a-a200-4e0e-acbc-041f24b111dc"
      },
      "outputs": [
        {
          "data": {
            "text/plain": [
              "[1]  5.50 38.50  8.25"
            ]
          },
          "metadata": {},
          "output_type": "display_data"
        }
      ],
      "source": [
        "c(\n",
        "    mean(x),\n",
        "    mean(x**2),\n",
        "    mean((x-mean(x))**2)\n",
        ")"
      ]
    },
    {
      "cell_type": "markdown",
      "id": "28d67a7e-c348-4df4-96a1-6e5266e3e7eb",
      "metadata": {
        "id": "28d67a7e-c348-4df4-96a1-6e5266e3e7eb"
      },
      "source": [
        "#### (시작)"
      ]
    },
    {
      "cell_type": "code",
      "execution_count": null,
      "id": "986fe457-ca00-4db8-9e90-13f4442e2dd8",
      "metadata": {
        "id": "986fe457-ca00-4db8-9e90-13f4442e2dd8",
        "outputId": "c82b0b75-8e64-4bc7-c7b5-bc53836ce6dc"
      },
      "outputs": [
        {
          "data": {
            "text/plain": [
              "[1] 5.5"
            ]
          },
          "metadata": {},
          "output_type": "display_data"
        }
      ],
      "source": [
        "switch(\"f1\",\n",
        "    f1= mean(x),\n",
        "    f2= mean(x**2),\n",
        "    f3= mean((x-mean(x))**2)\n",
        ")"
      ]
    },
    {
      "cell_type": "code",
      "execution_count": null,
      "id": "f32e57f8-f6af-401c-8df9-a6d27a187118",
      "metadata": {
        "id": "f32e57f8-f6af-401c-8df9-a6d27a187118",
        "outputId": "01820b72-c898-4794-bcfb-447dc69bac3c"
      },
      "outputs": [
        {
          "data": {
            "text/plain": [
              "[1] 38.5"
            ]
          },
          "metadata": {},
          "output_type": "display_data"
        }
      ],
      "source": [
        "switch(\"f2\",\n",
        "    f1= mean(x),\n",
        "    f2= mean(x**2),\n",
        "    f3= mean((x-mean(x))**2)\n",
        ")"
      ]
    },
    {
      "cell_type": "code",
      "execution_count": null,
      "id": "7e9f42ed-5d92-4401-8b22-5b755554231d",
      "metadata": {
        "id": "7e9f42ed-5d92-4401-8b22-5b755554231d",
        "outputId": "54bb5cbc-3640-49ed-d06d-bce7a4c23558"
      },
      "outputs": [
        {
          "data": {
            "text/plain": [
              "[1] 8.25"
            ]
          },
          "metadata": {},
          "output_type": "display_data"
        }
      ],
      "source": [
        "switch(\"f3\",\n",
        "    f1= mean(x),\n",
        "    f2= mean(x**2),\n",
        "    f3= mean((x-mean(x))**2)\n",
        ")"
      ]
    },
    {
      "cell_type": "markdown",
      "id": "dfa02723-81e7-4e43-bb84-ab806f48eb2d",
      "metadata": {
        "id": "dfa02723-81e7-4e43-bb84-ab806f48eb2d"
      },
      "source": [
        "#### (응용)"
      ]
    },
    {
      "cell_type": "code",
      "execution_count": null,
      "id": "275290d7-eb61-4ba7-a19d-951b444bfbbf",
      "metadata": {
        "id": "275290d7-eb61-4ba7-a19d-951b444bfbbf"
      },
      "outputs": [],
      "source": [
        "myfun <- function(x,f){\n",
        "    switch(f,\n",
        "           f1= mean(x),\n",
        "           f2= mean(x**2),\n",
        "           f3= mean((x-mean(x))**2)\n",
        "         )\n",
        "}"
      ]
    },
    {
      "cell_type": "code",
      "execution_count": null,
      "id": "a7b48b2f-e932-4a68-a265-43a7066c50e5",
      "metadata": {
        "id": "a7b48b2f-e932-4a68-a265-43a7066c50e5"
      },
      "outputs": [],
      "source": [
        "x=1:7"
      ]
    },
    {
      "cell_type": "code",
      "execution_count": null,
      "id": "44e3ffa8-04db-4d11-973c-025d043619eb",
      "metadata": {
        "id": "44e3ffa8-04db-4d11-973c-025d043619eb",
        "outputId": "7ed5bb58-3417-4a4e-e670-fcb09011e5ef"
      },
      "outputs": [
        {
          "data": {
            "text/plain": [
              "[1]  4 20  4"
            ]
          },
          "metadata": {},
          "output_type": "display_data"
        }
      ],
      "source": [
        "c(myfun(x,'f1'),myfun(x,'f2'),myfun(x,'f3'))"
      ]
    },
    {
      "cell_type": "code",
      "execution_count": null,
      "id": "7f134ee7-d8ad-400a-8830-6480d3e0b13d",
      "metadata": {
        "id": "7f134ee7-d8ad-400a-8830-6480d3e0b13d"
      },
      "outputs": [],
      "source": [
        "myfun <- function(x,f){\n",
        "    switch(f, # swhtch(f -> f는 function(x,f) f와 맞춰줘야 한다. \n",
        "           M_ = mean(x),\n",
        "           MS_ = mean(x**2),\n",
        "           V_ = mean((x-mean(x))**2)\n",
        "         )\n",
        "}"
      ]
    },
    {
      "cell_type": "code",
      "execution_count": null,
      "id": "45da5737-9777-4891-9aff-9ac8bcb1349c",
      "metadata": {
        "id": "45da5737-9777-4891-9aff-9ac8bcb1349c"
      },
      "outputs": [],
      "source": [
        "x=1:7"
      ]
    },
    {
      "cell_type": "code",
      "execution_count": null,
      "id": "614ce408-6a80-48a0-bdb7-4c51d899921b",
      "metadata": {
        "id": "614ce408-6a80-48a0-bdb7-4c51d899921b",
        "outputId": "b0ff3b64-a1e7-4e20-e5f0-1a42b980ed60"
      },
      "outputs": [
        {
          "data": {
            "text/plain": [
              "[1]  4 20  4"
            ]
          },
          "metadata": {},
          "output_type": "display_data"
        }
      ],
      "source": [
        "c(myfun(x,'M_'),myfun(x,'MS_'),myfun(x,'V_'))"
      ]
    },
    {
      "cell_type": "markdown",
      "id": "25bd7f7d-3bee-4ead-9527-43ef7125ea27",
      "metadata": {
        "id": "25bd7f7d-3bee-4ead-9527-43ef7125ea27"
      },
      "source": [
        "### repeat"
      ]
    },
    {
      "cell_type": "markdown",
      "id": "afbd181b-5c63-4d29-a063-d34c39aa8fa5",
      "metadata": {
        "id": "afbd181b-5c63-4d29-a063-d34c39aa8fa5"
      },
      "source": [
        "`-` 예제 1"
      ]
    },
    {
      "cell_type": "code",
      "execution_count": null,
      "id": "0b8960db-f7b6-47de-9883-e1850849f769",
      "metadata": {
        "id": "0b8960db-f7b6-47de-9883-e1850849f769"
      },
      "outputs": [],
      "source": [
        "tot = 0\n",
        "i = 1\n",
        "repeat{\n",
        "    tot=tot+i\n",
        "    i=i+1\n",
        "    if (i>100) break\n",
        "}"
      ]
    },
    {
      "cell_type": "code",
      "execution_count": null,
      "id": "acdf057f-dd62-4a9f-85d7-dce8511bc548",
      "metadata": {
        "id": "acdf057f-dd62-4a9f-85d7-dce8511bc548",
        "outputId": "1f0c74cd-d0bf-4d9d-ed31-6ec93a98c960"
      },
      "outputs": [
        {
          "data": {
            "text/plain": [
              "[1] 5050"
            ]
          },
          "metadata": {},
          "output_type": "display_data"
        }
      ],
      "source": [
        "tot"
      ]
    },
    {
      "cell_type": "markdown",
      "id": "2b6013dc-6ac1-4a61-834b-beb1d1b1af14",
      "metadata": {
        "id": "2b6013dc-6ac1-4a61-834b-beb1d1b1af14"
      },
      "source": [
        "`-` repeat문의 단점: break를 사용하지 않으면 계속해서 돌아간다는 것!"
      ]
    },
    {
      "cell_type": "markdown",
      "id": "44a6e6b5-1baa-4f50-b28f-38462e2655a5",
      "metadata": {
        "id": "44a6e6b5-1baa-4f50-b28f-38462e2655a5"
      },
      "source": [
        "``` R\n",
        "잘못된 코드:\n",
        "tot = 0\n",
        "i = 1\n",
        "repeat{\n",
        "    tot=tot+i\n",
        "    i=i+1\n",
        "}\n",
        "tot\n",
        "```"
      ]
    },
    {
      "cell_type": "markdown",
      "id": "0b1af113-e6c4-49fd-b49e-8c8e389edf97",
      "metadata": {
        "id": "0b1af113-e6c4-49fd-b49e-8c8e389edf97"
      },
      "source": [
        "### next\n",
        ": unique한 기능을 갖고 있음"
      ]
    },
    {
      "cell_type": "code",
      "execution_count": null,
      "id": "d9372a63-6081-4572-a1b9-114eae30f211",
      "metadata": {
        "id": "d9372a63-6081-4572-a1b9-114eae30f211",
        "outputId": "ca19fb12-771b-407f-fbea-bec4672cc24f"
      },
      "outputs": [
        {
          "name": "stdout",
          "output_type": "stream",
          "text": [
            "[1] 1\n",
            "[1] 2\n",
            "[1] 4\n",
            "[1] 5\n"
          ]
        }
      ],
      "source": [
        "for (i in 1:5){\n",
        "    if (i==3) next else\n",
        "        print(i)\n",
        "}"
      ]
    },
    {
      "cell_type": "markdown",
      "id": "79a18d6c-79ec-47e1-bec7-7e9b3007c21c",
      "metadata": {
        "id": "79a18d6c-79ec-47e1-bec7-7e9b3007c21c"
      },
      "source": [
        "- i가 3일 때 건너뛴다(next)"
      ]
    },
    {
      "cell_type": "code",
      "execution_count": null,
      "id": "ea787bc5-30f7-4bf7-a6f5-31c837e7e88a",
      "metadata": {
        "id": "ea787bc5-30f7-4bf7-a6f5-31c837e7e88a",
        "outputId": "ae164ec2-6a6d-4d52-bf93-ef3cc1d9164a"
      },
      "outputs": [
        {
          "name": "stdout",
          "output_type": "stream",
          "text": [
            "[1] 1\n",
            "[1] 2\n"
          ]
        }
      ],
      "source": [
        "for (i in 1:5){\n",
        "    if (i==3) break else\n",
        "        print(i)\n",
        "}"
      ]
    },
    {
      "cell_type": "markdown",
      "id": "2258deba-3c68-4128-9051-4a5401c4b2fd",
      "metadata": {
        "id": "2258deba-3c68-4128-9051-4a5401c4b2fd"
      },
      "source": [
        "- break는 3일 때 탈출(exit)하지만 next는 3일 때 건너뛰기(skip) 때문에 큰 차이가 있다. "
      ]
    },
    {
      "cell_type": "markdown",
      "id": "5cce75f6-f75d-4b47-9f1c-ce1e36a98156",
      "metadata": {
        "id": "5cce75f6-f75d-4b47-9f1c-ce1e36a98156"
      },
      "source": [
        "`-` 예제 2"
      ]
    },
    {
      "cell_type": "code",
      "execution_count": null,
      "id": "c89f2736-15eb-46a4-89e3-52b664127fe8",
      "metadata": {
        "id": "c89f2736-15eb-46a4-89e3-52b664127fe8",
        "outputId": "8c9041a4-b181-4780-bc8e-3015e5ea39ac"
      },
      "outputs": [
        {
          "name": "stdout",
          "output_type": "stream",
          "text": [
            "[1] 1\n",
            "[1] 2\n",
            "[1] 4\n",
            "[1] 5\n"
          ]
        }
      ],
      "source": [
        "i=0\n",
        "repeat{\n",
        "    i=i+1\n",
        "    if (i>5) break #else\n",
        "    if (i==3) next #else\n",
        "    print(i)\n",
        "}"
      ]
    },
    {
      "cell_type": "markdown",
      "id": "902c4d38-d5fd-40d7-9452-7cfc95de7633",
      "metadata": {
        "id": "902c4d38-d5fd-40d7-9452-7cfc95de7633"
      },
      "source": [
        "``` R\n",
        "요약: ''-중요\n",
        "조건: 'if', 'if~else' - 코드의 실행순서를 제어하는 기능\n",
        "    : 'ifelse', switch - 조건에 따라 어떤 결과 값을 return 하는 기능(함수) \n",
        "반복: 'for', while, repeat \n",
        "루프 탈출: break, next \n",
        "```"
      ]
    },
    {
      "cell_type": "markdown",
      "id": "4d18bdf3-9c15-4047-aee9-5972f861cfd4",
      "metadata": {
        "id": "4d18bdf3-9c15-4047-aee9-5972f861cfd4"
      },
      "source": [
        "## 연산자"
      ]
    },
    {
      "cell_type": "markdown",
      "id": "faaaf68b-1d39-4705-8f5c-bf03debb981a",
      "metadata": {
        "id": "faaaf68b-1d39-4705-8f5c-bf03debb981a"
      },
      "source": [
        "### 산술연산자"
      ]
    },
    {
      "cell_type": "code",
      "execution_count": null,
      "id": "3d299707-de9e-4669-afac-5c7fd6e97c40",
      "metadata": {
        "id": "3d299707-de9e-4669-afac-5c7fd6e97c40",
        "outputId": "9d29b9ef-7056-458a-8f87-27f8ed3322db"
      },
      "outputs": [
        {
          "data": {
            "text/plain": [
              "[1]  7.0  4.0 12.0  1.2"
            ]
          },
          "metadata": {},
          "output_type": "display_data"
        }
      ],
      "source": [
        "c(5+2, 6-2, 3*4, 6/5)"
      ]
    },
    {
      "cell_type": "code",
      "execution_count": null,
      "id": "514dba2c-69bd-4964-a507-d633846587be",
      "metadata": {
        "id": "514dba2c-69bd-4964-a507-d633846587be",
        "outputId": "a72048c4-ebb0-4ba5-fdcf-19aa483cd3c8"
      },
      "outputs": [
        {
          "data": {
            "text/plain": [
              "[1] 8 8"
            ]
          },
          "metadata": {},
          "output_type": "display_data"
        }
      ],
      "source": [
        "c(2^3, 2**3)"
      ]
    },
    {
      "cell_type": "code",
      "execution_count": null,
      "id": "b097d8a7-dc88-4cf7-baf4-75ac1dd52fc5",
      "metadata": {
        "id": "b097d8a7-dc88-4cf7-baf4-75ac1dd52fc5",
        "outputId": "a5129d0f-c159-44d3-9223-d13694b52d97"
      },
      "outputs": [
        {
          "data": {
            "text/plain": [
              "[1]  1 10"
            ]
          },
          "metadata": {},
          "output_type": "display_data"
        }
      ],
      "source": [
        "c(31%%3,31%/%3) # 나머지와 몫"
      ]
    },
    {
      "cell_type": "markdown",
      "id": "d15388a8-6ab5-4150-ba90-a8435d4d580c",
      "metadata": {
        "id": "d15388a8-6ab5-4150-ba90-a8435d4d580c"
      },
      "source": [
        "### 논리 연산자"
      ]
    },
    {
      "cell_type": "markdown",
      "id": "403abdcc-9052-4c9a-843f-483b4622e1ef",
      "metadata": {
        "id": "403abdcc-9052-4c9a-843f-483b4622e1ef"
      },
      "source": [
        "`-` 예제 1"
      ]
    },
    {
      "cell_type": "code",
      "execution_count": null,
      "id": "4d9e4b21-cd8d-44fb-9c8f-20a067eddfc1",
      "metadata": {
        "id": "4d9e4b21-cd8d-44fb-9c8f-20a067eddfc1"
      },
      "outputs": [],
      "source": [
        "x = c(T,T,F,F,T)\n",
        "y= c(FALSE, TRUE, TRUE, FALSE, TRUE)"
      ]
    },
    {
      "cell_type": "code",
      "execution_count": null,
      "id": "50b8b4af-48a0-401a-8d2f-7fd63fd6fbe4",
      "metadata": {
        "id": "50b8b4af-48a0-401a-8d2f-7fd63fd6fbe4",
        "outputId": "716120f9-4710-48e1-eaa4-62335f15d3c8"
      },
      "outputs": [
        {
          "data": {
            "text/plain": [
              "[1]  TRUE  TRUE FALSE FALSE  TRUE"
            ]
          },
          "metadata": {},
          "output_type": "display_data"
        },
        {
          "data": {
            "text/plain": [
              "[1] FALSE  TRUE  TRUE FALSE  TRUE"
            ]
          },
          "metadata": {},
          "output_type": "display_data"
        }
      ],
      "source": [
        "x\n",
        "y"
      ]
    },
    {
      "cell_type": "code",
      "execution_count": null,
      "id": "b9123cd7-aa35-401c-83f6-567f983dc9f4",
      "metadata": {
        "id": "b9123cd7-aa35-401c-83f6-567f983dc9f4",
        "outputId": "d69a4a3b-b6ed-430a-ff50-4afe016d3454"
      },
      "outputs": [
        {
          "name": "stdout",
          "output_type": "stream",
          "text": [
            "[1]  TRUE  TRUE FALSE FALSE  TRUE\n",
            "[1]  TRUE FALSE FALSE  TRUE FALSE\n"
          ]
        }
      ],
      "source": [
        "print(x)\n",
        "print(!y)"
      ]
    },
    {
      "cell_type": "markdown",
      "id": "a315f39e-c950-4ede-9c8b-b1ea00598c3b",
      "metadata": {
        "id": "a315f39e-c950-4ede-9c8b-b1ea00598c3b"
      },
      "source": [
        "- TRUE와 FALSE로 구성된 열을 잘 다루면 인덱싱에 유리하다."
      ]
    },
    {
      "cell_type": "markdown",
      "id": "ca23a793-10d6-4910-a433-54082a5871a0",
      "metadata": {
        "id": "ca23a793-10d6-4910-a433-54082a5871a0"
      },
      "source": [
        "`-` 예제 2   \n",
        ": 예제 1의 응용"
      ]
    },
    {
      "cell_type": "code",
      "execution_count": null,
      "id": "31e12199-3883-4465-8af3-1927bc9bcbd5",
      "metadata": {
        "id": "31e12199-3883-4465-8af3-1927bc9bcbd5",
        "outputId": "1c9d2af3-de1a-4e02-86ce-ae817d5c2d28"
      },
      "outputs": [
        {
          "data": {
            "text/plain": [
              " [1]  1  2  3  4  5  6  7  8  9 10 11 12 13 14 15 16 17 18 19 20 21 22 23 24 25\n",
              "[26] 26 27 28 29 30"
            ]
          },
          "metadata": {},
          "output_type": "display_data"
        }
      ],
      "source": [
        "x=1:30\n",
        "x"
      ]
    },
    {
      "cell_type": "code",
      "execution_count": null,
      "id": "1ca2468f-f4db-471c-835f-b2aa1beceacc",
      "metadata": {
        "id": "1ca2468f-f4db-471c-835f-b2aa1beceacc",
        "outputId": "e374a3b6-0faa-48af-a6ce-8a94dbf5c310"
      },
      "outputs": [
        {
          "data": {
            "text/plain": [
              " [1] 1 2 0 1 2 0 1 2 0 1 2 0 1 2 0 1 2 0 1 2 0 1 2 0 1 2 0 1 2 0"
            ]
          },
          "metadata": {},
          "output_type": "display_data"
        }
      ],
      "source": [
        "x%%3"
      ]
    },
    {
      "cell_type": "code",
      "execution_count": null,
      "id": "ffdb5575-733b-4c97-b5a3-4511f0a68a0b",
      "metadata": {
        "id": "ffdb5575-733b-4c97-b5a3-4511f0a68a0b",
        "outputId": "3c53f9e0-bc2a-431c-a4cc-a612a91b03ca"
      },
      "outputs": [
        {
          "data": {
            "text/plain": [
              " [1]  3  6  9 12 15 18 21 24 27 30"
            ]
          },
          "metadata": {},
          "output_type": "display_data"
        }
      ],
      "source": [
        "x[x%%3 == 0]"
      ]
    },
    {
      "cell_type": "markdown",
      "id": "845cbe01-0997-4a20-b3ed-8da4184cb5f4",
      "metadata": {
        "id": "845cbe01-0997-4a20-b3ed-8da4184cb5f4"
      },
      "source": [
        "- 3의 배수를 출력한다"
      ]
    },
    {
      "cell_type": "code",
      "execution_count": null,
      "id": "bb6e083d-23fe-424b-a28c-6236aa0eaba1",
      "metadata": {
        "id": "bb6e083d-23fe-424b-a28c-6236aa0eaba1",
        "outputId": "48d9ce14-2d53-40c0-f26b-f173de70b8f3"
      },
      "outputs": [
        {
          "data": {
            "text/plain": [
              " [1]  1  2  4  5  7  8 10 11 13 14 16 17 19 20 22 23 25 26 28 29"
            ]
          },
          "metadata": {},
          "output_type": "display_data"
        }
      ],
      "source": [
        "x[!x%%3 == 0]"
      ]
    },
    {
      "cell_type": "markdown",
      "id": "5e4b786e-fdb0-4830-aa9d-9f4a57fb9bc2",
      "metadata": {
        "id": "5e4b786e-fdb0-4830-aa9d-9f4a57fb9bc2"
      },
      "source": [
        "- 3의 배수가 아닌 것을 출력한다"
      ]
    },
    {
      "cell_type": "markdown",
      "id": "de792a51-0b39-41bc-9139-d38391b505ea",
      "metadata": {
        "id": "de792a51-0b39-41bc-9139-d38391b505ea"
      },
      "source": [
        "`-` 예제 2의 다른 구현   \n",
        ": 논리연산자와 TRUE/FALSE"
      ]
    },
    {
      "cell_type": "markdown",
      "id": "9d46c111-e5e7-4e6a-b959-fa2c391a5b64",
      "metadata": {
        "id": "9d46c111-e5e7-4e6a-b959-fa2c391a5b64"
      },
      "source": [
        "`-` 예제 1"
      ]
    },
    {
      "cell_type": "code",
      "execution_count": null,
      "id": "c831d830-d4e6-4669-8e75-b9804c37a235",
      "metadata": {
        "id": "c831d830-d4e6-4669-8e75-b9804c37a235"
      },
      "outputs": [],
      "source": [
        "x <- c()\n",
        "j=1\n",
        "for (i in 1:30){\n",
        "   if (i%%3 == 0){\n",
        "       x[j]=i\n",
        "       j=j+1\n",
        "    }\n",
        "}"
      ]
    },
    {
      "cell_type": "code",
      "execution_count": null,
      "id": "3358e3ec-38ca-4e34-ad0b-0f0d8cb0c4fb",
      "metadata": {
        "id": "3358e3ec-38ca-4e34-ad0b-0f0d8cb0c4fb",
        "outputId": "f9e30e14-c9d8-4c34-d98f-81271af9fcf8"
      },
      "outputs": [
        {
          "data": {
            "text/plain": [
              " [1]  3  6  9 12 15 18 21 24 27 30"
            ]
          },
          "metadata": {},
          "output_type": "display_data"
        }
      ],
      "source": [
        "x"
      ]
    },
    {
      "cell_type": "code",
      "execution_count": null,
      "id": "668aade8-28f7-4d72-a15c-cfb323981d16",
      "metadata": {
        "id": "668aade8-28f7-4d72-a15c-cfb323981d16"
      },
      "outputs": [],
      "source": [
        "x <- c()\n",
        "j=1\n",
        "for (i in 1:30){\n",
        "   if (i%%3 != 0){\n",
        "       x[j]=i\n",
        "       j=j+1\n",
        "    }\n",
        "}"
      ]
    },
    {
      "cell_type": "code",
      "execution_count": null,
      "id": "ca7107fc-4e62-4389-aff0-5b5c5c939334",
      "metadata": {
        "id": "ca7107fc-4e62-4389-aff0-5b5c5c939334",
        "outputId": "b390aef7-595a-4df5-9972-e03e0cd33bc5"
      },
      "outputs": [
        {
          "data": {
            "text/plain": [
              " [1]  1  2  4  5  7  8 10 11 13 14 16 17 19 20 22 23 25 26 28 29"
            ]
          },
          "metadata": {},
          "output_type": "display_data"
        }
      ],
      "source": [
        "x"
      ]
    },
    {
      "cell_type": "code",
      "execution_count": null,
      "id": "001f0a38-e944-46f9-9dfb-52e2953ad3cc",
      "metadata": {
        "id": "001f0a38-e944-46f9-9dfb-52e2953ad3cc"
      },
      "outputs": [],
      "source": [
        "x <- c()\n",
        "j=1\n",
        "for (i in 1:30){\n",
        "    if (i%%3 == 0){\n",
        "        x[j]=i\n",
        "    }\n",
        "        j=j+1\n",
        "}"
      ]
    },
    {
      "cell_type": "code",
      "execution_count": null,
      "id": "b2be3c5a-1fc8-472c-8bb7-d4d6d17e69de",
      "metadata": {
        "id": "b2be3c5a-1fc8-472c-8bb7-d4d6d17e69de",
        "outputId": "97440724-e97d-4fef-c6e0-980c974455cd"
      },
      "outputs": [
        {
          "data": {
            "text/plain": [
              " [1] NA NA  3 NA NA  6 NA NA  9 NA NA 12 NA NA 15 NA NA 18 NA NA 21 NA NA 24 NA\n",
              "[26] NA 27 NA NA 30"
            ]
          },
          "metadata": {},
          "output_type": "display_data"
        }
      ],
      "source": [
        "x"
      ]
    },
    {
      "cell_type": "markdown",
      "id": "960087c5-2198-4a89-9087-015b2ee9d7bf",
      "metadata": {
        "id": "960087c5-2198-4a89-9087-015b2ee9d7bf"
      },
      "source": [
        "- j=j+1을 if (조건문) `표현식`에 걸리도록 해야 함"
      ]
    },
    {
      "cell_type": "markdown",
      "id": "af6e25e7-0795-489d-8339-78e39b027ab3",
      "metadata": {
        "id": "af6e25e7-0795-489d-8339-78e39b027ab3"
      },
      "source": [
        "`-` 예제 3"
      ]
    },
    {
      "cell_type": "code",
      "execution_count": null,
      "id": "771026bb-b10c-43e9-9f8b-0806b66d828b",
      "metadata": {
        "id": "771026bb-b10c-43e9-9f8b-0806b66d828b"
      },
      "outputs": [],
      "source": [
        "x = c(T,T,F,F,T)\n",
        "y = c(T,F,T,F,T)"
      ]
    },
    {
      "cell_type": "code",
      "execution_count": null,
      "id": "4902655e-3fc8-4943-8977-8da855ca50e1",
      "metadata": {
        "id": "4902655e-3fc8-4943-8977-8da855ca50e1",
        "outputId": "2ad33ebd-bfbe-4174-f03d-11091eafd734"
      },
      "outputs": [
        {
          "name": "stdout",
          "output_type": "stream",
          "text": [
            "[1]  TRUE  TRUE FALSE FALSE  TRUE\n",
            "[1]  TRUE FALSE  TRUE FALSE  TRUE\n",
            "[1]  TRUE FALSE FALSE FALSE  TRUE\n"
          ]
        }
      ],
      "source": [
        "print(x)\n",
        "print(y)\n",
        "print(x&y)"
      ]
    },
    {
      "cell_type": "markdown",
      "id": "934187cd-f640-42ea-b1ba-45ff1e03ddb3",
      "metadata": {
        "id": "934187cd-f640-42ea-b1ba-45ff1e03ddb3"
      },
      "source": [
        "- and 연산자: 하나라도 FALSE이면 전체가 FALSE"
      ]
    },
    {
      "cell_type": "code",
      "execution_count": null,
      "id": "93663c17-4c3d-412d-93f3-bf349732916a",
      "metadata": {
        "id": "93663c17-4c3d-412d-93f3-bf349732916a"
      },
      "outputs": [],
      "source": [
        "x = 1:50"
      ]
    },
    {
      "cell_type": "code",
      "execution_count": null,
      "id": "918c4cf2-1fd3-4503-bf87-87cb43cf272a",
      "metadata": {
        "id": "918c4cf2-1fd3-4503-bf87-87cb43cf272a",
        "outputId": "123af668-d6b8-47e8-d4d6-34f6f759cf7e"
      },
      "outputs": [
        {
          "data": {
            "text/plain": [
              "[1] 33 36 39 42 45 48"
            ]
          },
          "metadata": {},
          "output_type": "display_data"
        }
      ],
      "source": [
        "x[(x>30) & (x%%3 == 0)] "
      ]
    },
    {
      "cell_type": "code",
      "execution_count": null,
      "id": "8b57ea84-0497-40fd-a4f5-4e0f3738e822",
      "metadata": {
        "id": "8b57ea84-0497-40fd-a4f5-4e0f3738e822",
        "outputId": "6e3b806f-5913-41b5-ae2e-9a5e2e48ffda"
      },
      "outputs": [
        {
          "data": {
            "text/plain": [
              " [1] 31 32 34 35 37 38 40 41 43 44 46 47 49 50"
            ]
          },
          "metadata": {},
          "output_type": "display_data"
        }
      ],
      "source": [
        "x[(x>30) & (x%%3 != 0)] # 또는 x[(x>30) & !(x%%3 == 0)]"
      ]
    },
    {
      "cell_type": "markdown",
      "id": "89cd38f6-01fc-4e33-87e0-418a67f3d84b",
      "metadata": {
        "id": "89cd38f6-01fc-4e33-87e0-418a67f3d84b"
      },
      "source": [
        "`-` 예제 5"
      ]
    },
    {
      "cell_type": "code",
      "execution_count": null,
      "id": "8f83c6bd-1db2-4951-a67f-2169b6795996",
      "metadata": {
        "id": "8f83c6bd-1db2-4951-a67f-2169b6795996"
      },
      "outputs": [],
      "source": [
        "x = c(T,T,F,F,T)\n",
        "y = c(T,F,T,F,T)"
      ]
    },
    {
      "cell_type": "code",
      "execution_count": null,
      "id": "46cb9e47-0789-4169-b25b-f715661583bf",
      "metadata": {
        "id": "46cb9e47-0789-4169-b25b-f715661583bf",
        "outputId": "699943d4-4fe4-4cdd-8ed8-b9f5c61ff881"
      },
      "outputs": [
        {
          "name": "stdout",
          "output_type": "stream",
          "text": [
            "[1]  TRUE  TRUE FALSE FALSE  TRUE\n",
            "[1]  TRUE FALSE  TRUE FALSE  TRUE\n",
            "[1]  TRUE  TRUE  TRUE FALSE  TRUE\n"
          ]
        }
      ],
      "source": [
        "print(x)\n",
        "print(y)\n",
        "print(x|y)"
      ]
    },
    {
      "cell_type": "markdown",
      "id": "32ad9a34-213c-4b59-a55c-4a15b7f67071",
      "metadata": {
        "id": "32ad9a34-213c-4b59-a55c-4a15b7f67071"
      },
      "source": [
        "- or 연산자: 하나라도 TRUE이면 전체가 TRUE"
      ]
    },
    {
      "cell_type": "markdown",
      "id": "4ebc92a6-ce7f-4305-83e1-cf22bb9bd7fe",
      "metadata": {
        "id": "4ebc92a6-ce7f-4305-83e1-cf22bb9bd7fe"
      },
      "source": [
        "`-` 예제 6   \n",
        ": 예제 5를 응용"
      ]
    },
    {
      "cell_type": "code",
      "execution_count": null,
      "id": "ae19e6f6-7682-45e6-8581-ae5c2b37f0b2",
      "metadata": {
        "id": "ae19e6f6-7682-45e6-8581-ae5c2b37f0b2",
        "outputId": "cb59cd9a-c2e3-460a-ed57-1e61cd3b53d2"
      },
      "outputs": [
        {
          "data": {
            "text/plain": [
              " [1]  1  2  3  4  5  6  7  8  9 10 11 12 13 14 15 16 17 18 19 20 21 22 23 24 25\n",
              "[26] 26 27 28 29 30 31 32 33 34 35 36 37 38 39 40 41 42 43 44 45 46 47 48 49 50"
            ]
          },
          "metadata": {},
          "output_type": "display_data"
        }
      ],
      "source": [
        "x=1:50\n",
        "x"
      ]
    },
    {
      "cell_type": "code",
      "execution_count": null,
      "id": "4971f57e-1f22-4ecd-827f-c2548d4fbdd3",
      "metadata": {
        "id": "4971f57e-1f22-4ecd-827f-c2548d4fbdd3",
        "outputId": "461a669f-a4c9-44c8-d9bc-1a24a53e60b0"
      },
      "outputs": [
        {
          "data": {
            "text/plain": [
              " [1]  TRUE  TRUE  TRUE  TRUE  TRUE  TRUE  TRUE  TRUE  TRUE FALSE FALSE FALSE\n",
              "[13] FALSE FALSE FALSE FALSE FALSE FALSE FALSE FALSE FALSE FALSE FALSE FALSE\n",
              "[25] FALSE FALSE FALSE FALSE FALSE FALSE  TRUE  TRUE  TRUE  TRUE  TRUE  TRUE\n",
              "[37]  TRUE  TRUE  TRUE  TRUE  TRUE  TRUE  TRUE  TRUE  TRUE  TRUE  TRUE  TRUE\n",
              "[49]  TRUE  TRUE"
            ]
          },
          "metadata": {},
          "output_type": "display_data"
        }
      ],
      "source": [
        "x>30 | x<10"
      ]
    },
    {
      "cell_type": "code",
      "execution_count": null,
      "id": "4bfa4317-7bc9-41bf-b6a3-82e7f65c2788",
      "metadata": {
        "id": "4bfa4317-7bc9-41bf-b6a3-82e7f65c2788",
        "outputId": "cf26fa6e-bb69-4909-aec1-869cdddab4b3"
      },
      "outputs": [
        {
          "data": {
            "text/plain": [
              " [1]  1  2  3  4  5  6  7  8  9 31 32 33 34 35 36 37 38 39 40 41 42 43 44 45 46\n",
              "[26] 47 48 49 50"
            ]
          },
          "metadata": {},
          "output_type": "display_data"
        }
      ],
      "source": [
        "x[x>30 | x<10]"
      ]
    },
    {
      "cell_type": "markdown",
      "id": "6aa630d3-8364-4a97-8dab-dad354a92c02",
      "metadata": {
        "id": "6aa630d3-8364-4a97-8dab-dad354a92c02"
      },
      "source": [
        "- x가 30보다 크거나 10보다 작은 값을 출력"
      ]
    },
    {
      "cell_type": "markdown",
      "id": "e2d645bb-8faf-4417-9231-24c68f86b946",
      "metadata": {
        "id": "e2d645bb-8faf-4417-9231-24c68f86b946"
      },
      "source": [
        "`-` 예제 7"
      ]
    },
    {
      "cell_type": "code",
      "execution_count": null,
      "id": "2fe1ceb3-05e8-41f2-96ec-91ddc6876a41",
      "metadata": {
        "id": "2fe1ceb3-05e8-41f2-96ec-91ddc6876a41"
      },
      "outputs": [],
      "source": [
        "x = c(T,T,F,F,T)\n",
        "y = c(F,F,T,F,T)"
      ]
    },
    {
      "cell_type": "code",
      "execution_count": null,
      "id": "0b10be4e-c2b8-4ba8-b402-862a219a5d91",
      "metadata": {
        "id": "0b10be4e-c2b8-4ba8-b402-862a219a5d91",
        "outputId": "7bdc6802-dd7f-4f67-8ca6-3d47a0d6b208"
      },
      "outputs": [
        {
          "name": "stdout",
          "output_type": "stream",
          "text": [
            "[1]  TRUE  TRUE FALSE FALSE  TRUE\n",
            "[1] FALSE FALSE  TRUE FALSE  TRUE\n",
            "[1] FALSE\n"
          ]
        }
      ],
      "source": [
        "print(x)\n",
        "print(y)\n",
        "print(x&&y)"
      ]
    },
    {
      "cell_type": "code",
      "execution_count": null,
      "id": "f11d8354-ed83-488d-ac4e-110a41a7ce45",
      "metadata": {
        "id": "f11d8354-ed83-488d-ac4e-110a41a7ce45",
        "outputId": "d328ac72-4d22-4cf6-e889-ae78c69ff0f9"
      },
      "outputs": [
        {
          "data": {
            "text/plain": [
              "[1] FALSE"
            ]
          },
          "metadata": {},
          "output_type": "display_data"
        }
      ],
      "source": [
        "x&&y"
      ]
    },
    {
      "cell_type": "code",
      "execution_count": null,
      "id": "431d0952-b9b0-4121-b021-1f174dacda94",
      "metadata": {
        "id": "431d0952-b9b0-4121-b021-1f174dacda94",
        "outputId": "f17b5062-c774-4646-d165-08aa7c604642"
      },
      "outputs": [
        {
          "data": {
            "text/plain": [
              "[1] FALSE"
            ]
          },
          "metadata": {},
          "output_type": "display_data"
        }
      ],
      "source": [
        "(x&y)[1]"
      ]
    },
    {
      "cell_type": "markdown",
      "id": "4209cf9d-0e53-4cd4-974f-89efc4e0cac0",
      "metadata": {
        "id": "4209cf9d-0e53-4cd4-974f-89efc4e0cac0"
      },
      "source": [
        "- x&&y는 x&y의 첫번째 열의 값만을 나타내준다   \n",
        "- x&&y와 (x&y)[1]는 거의 같다\n",
        "- x&y를 실수로 x&&y로 할 수 있기에 기억하면 좋다"
      ]
    },
    {
      "cell_type": "markdown",
      "id": "be163b39-d071-4240-b052-aaad69faf79d",
      "metadata": {
        "id": "be163b39-d071-4240-b052-aaad69faf79d"
      },
      "source": [
        "`-` 예제 8"
      ]
    },
    {
      "cell_type": "code",
      "execution_count": null,
      "id": "5182e34b-9e08-4347-90a2-72f14d9e59f5",
      "metadata": {
        "id": "5182e34b-9e08-4347-90a2-72f14d9e59f5"
      },
      "outputs": [],
      "source": [
        "x = c(T,T,F,F,T)\n",
        "y = c(F,F,T,F,T)"
      ]
    },
    {
      "cell_type": "code",
      "execution_count": null,
      "id": "46e2e25c-c94d-44bd-acbe-f418fbed2901",
      "metadata": {
        "id": "46e2e25c-c94d-44bd-acbe-f418fbed2901",
        "outputId": "5093fbe1-7e3d-478f-b8ca-c4fe3a5306ca"
      },
      "outputs": [
        {
          "name": "stdout",
          "output_type": "stream",
          "text": [
            "[1]  TRUE  TRUE FALSE FALSE  TRUE\n",
            "[1] FALSE FALSE  TRUE FALSE  TRUE\n",
            "[1] TRUE\n"
          ]
        }
      ],
      "source": [
        "print(x)\n",
        "print(y)\n",
        "print(x||y)"
      ]
    },
    {
      "cell_type": "markdown",
      "id": "ff370353-3d0a-47b9-a22b-7da22547d681",
      "metadata": {
        "id": "ff370353-3d0a-47b9-a22b-7da22547d681"
      },
      "source": [
        "- 위의 x&&y와 마찬가지로 x||y는 x|y의 첫 번째 열 값만을 나타내준다   \n",
        "- x||y와 (x|y)[1]은 거의 같음"
      ]
    },
    {
      "cell_type": "markdown",
      "id": "449147b3-4d58-45d8-b93e-b4f9e5c80174",
      "metadata": {
        "id": "449147b3-4d58-45d8-b93e-b4f9e5c80174"
      },
      "source": [
        "### 비교연산자"
      ]
    },
    {
      "cell_type": "markdown",
      "id": "6cfc8e3e-9aee-40c4-beee-8e59e9b20be9",
      "metadata": {
        "id": "6cfc8e3e-9aee-40c4-beee-8e59e9b20be9"
      },
      "source": [
        "`-` 예제 1"
      ]
    },
    {
      "cell_type": "code",
      "execution_count": null,
      "id": "52acf124-df2d-475f-8b52-076276d60cd8",
      "metadata": {
        "id": "52acf124-df2d-475f-8b52-076276d60cd8"
      },
      "outputs": [],
      "source": [
        "x= c(1,2,3,4,5)\n",
        "y= c(2,2,3,2,1)"
      ]
    },
    {
      "cell_type": "code",
      "execution_count": null,
      "id": "47be1e25-c3b2-4122-9324-7ece7cd6e60b",
      "metadata": {
        "id": "47be1e25-c3b2-4122-9324-7ece7cd6e60b",
        "outputId": "cb4e9728-8ac2-4f06-f733-7eabf42af811"
      },
      "outputs": [
        {
          "data": {
            "text/plain": [
              "[1] FALSE  TRUE  TRUE FALSE FALSE"
            ]
          },
          "metadata": {},
          "output_type": "display_data"
        }
      ],
      "source": [
        "x==y"
      ]
    },
    {
      "cell_type": "code",
      "execution_count": null,
      "id": "26e35a8f-3382-4927-9d5b-bb370037b7f3",
      "metadata": {
        "id": "26e35a8f-3382-4927-9d5b-bb370037b7f3",
        "outputId": "a604d9f3-7f0f-4db2-90b2-e9ddf1e7d070"
      },
      "outputs": [
        {
          "data": {
            "text/plain": [
              "[1]  TRUE FALSE FALSE  TRUE  TRUE"
            ]
          },
          "metadata": {},
          "output_type": "display_data"
        }
      ],
      "source": [
        "x!=y"
      ]
    },
    {
      "cell_type": "code",
      "execution_count": null,
      "id": "5a7e3c2e-8e17-4232-bafa-5c381401f70d",
      "metadata": {
        "id": "5a7e3c2e-8e17-4232-bafa-5c381401f70d",
        "outputId": "0d48bb59-6820-4694-d892-685319a8630e"
      },
      "outputs": [
        {
          "data": {
            "text/plain": [
              "[1]  TRUE FALSE FALSE  TRUE  TRUE"
            ]
          },
          "metadata": {},
          "output_type": "display_data"
        }
      ],
      "source": [
        "!(x==y)"
      ]
    },
    {
      "cell_type": "markdown",
      "id": "704f4636-f6d5-433d-9a9d-1167e0facbbe",
      "metadata": {
        "id": "704f4636-f6d5-433d-9a9d-1167e0facbbe"
      },
      "source": [
        "- 같지 않으면 TRUE이다."
      ]
    },
    {
      "cell_type": "markdown",
      "id": "403c4612-3f21-4e37-8552-a239fb5b447d",
      "metadata": {
        "id": "403c4612-3f21-4e37-8552-a239fb5b447d"
      },
      "source": [
        "`-` 예제 2"
      ]
    },
    {
      "cell_type": "code",
      "execution_count": null,
      "id": "eaace2fe-a0c8-42c1-9f27-f0f47c160a84",
      "metadata": {
        "id": "eaace2fe-a0c8-42c1-9f27-f0f47c160a84",
        "outputId": "b8c5ee55-4c7a-4a16-f36b-6e3778fd9c4c"
      },
      "outputs": [
        {
          "data": {
            "text/plain": [
              "[1] FALSE FALSE  TRUE FALSE  TRUE"
            ]
          },
          "metadata": {},
          "output_type": "display_data"
        },
        {
          "data": {
            "text/plain": [
              "[1] FALSE FALSE  TRUE  TRUE  TRUE"
            ]
          },
          "metadata": {},
          "output_type": "display_data"
        },
        {
          "data": {
            "text/plain": [
              "[1]  TRUE  TRUE FALSE FALSE FALSE"
            ]
          },
          "metadata": {},
          "output_type": "display_data"
        },
        {
          "data": {
            "text/plain": [
              "[1]  TRUE  TRUE FALSE  TRUE FALSE"
            ]
          },
          "metadata": {},
          "output_type": "display_data"
        }
      ],
      "source": [
        "x=c(1,2,3,4,5)\n",
        "y=c(3,5,1,4,3)\n",
        "x>y\n",
        "x>=y\n",
        "x<y\n",
        "x<=y"
      ]
    },
    {
      "cell_type": "markdown",
      "id": "0a8f6a85-2751-4258-89a9-c7511fb2913b",
      "metadata": {
        "id": "0a8f6a85-2751-4258-89a9-c7511fb2913b"
      },
      "source": [
        "`-` 잘못된 코드 1"
      ]
    },
    {
      "cell_type": "code",
      "execution_count": null,
      "id": "7e2c9e6e-2fb0-4278-ba91-f23b3700ccd0",
      "metadata": {
        "id": "7e2c9e6e-2fb0-4278-ba91-f23b3700ccd0"
      },
      "outputs": [],
      "source": [
        "x=!y"
      ]
    },
    {
      "cell_type": "code",
      "execution_count": null,
      "id": "94564600-5a3c-4285-a812-25a8525cde2d",
      "metadata": {
        "id": "94564600-5a3c-4285-a812-25a8525cde2d",
        "outputId": "89376891-cf77-4512-ce2f-e3fffbf66330"
      },
      "outputs": [
        {
          "data": {
            "text/plain": [
              "[1] FALSE FALSE FALSE FALSE FALSE"
            ]
          },
          "metadata": {},
          "output_type": "display_data"
        }
      ],
      "source": [
        "x"
      ]
    },
    {
      "cell_type": "code",
      "execution_count": null,
      "id": "d555fce3-88ba-407f-8de5-25d8773a0cff",
      "metadata": {
        "id": "d555fce3-88ba-407f-8de5-25d8773a0cff",
        "outputId": "e8553ec3-ae39-44b7-88f4-b44365c8c80e"
      },
      "outputs": [
        {
          "data": {
            "text/plain": [
              "[1] 3 5 1 4 3"
            ]
          },
          "metadata": {},
          "output_type": "display_data"
        }
      ],
      "source": [
        "y"
      ]
    },
    {
      "cell_type": "code",
      "execution_count": null,
      "id": "90b68752-ceef-4df4-9c48-d591c4757e7c",
      "metadata": {
        "id": "90b68752-ceef-4df4-9c48-d591c4757e7c",
        "outputId": "db13ac6b-e23d-49fc-c6f7-68966eebd9e7"
      },
      "outputs": [
        {
          "data": {
            "text/plain": [
              "[1] FALSE FALSE FALSE FALSE FALSE"
            ]
          },
          "metadata": {},
          "output_type": "display_data"
        }
      ],
      "source": [
        "!y"
      ]
    },
    {
      "cell_type": "markdown",
      "id": "e0984858-7a81-451a-801c-4d00793baef5",
      "metadata": {
        "id": "e0984858-7a81-451a-801c-4d00793baef5"
      },
      "source": [
        "- !y의 의미는 y의 값이 0인지 아닌지 확인해주는 것 -> 0이면 TRUE, 0이 아니면 FALSE"
      ]
    },
    {
      "cell_type": "code",
      "execution_count": null,
      "id": "19b5b1c3-b916-4eaf-92fb-b34cf9e99372",
      "metadata": {
        "id": "19b5b1c3-b916-4eaf-92fb-b34cf9e99372",
        "outputId": "7709c1ff-1b38-480d-8ffa-8f58bdf81409"
      },
      "outputs": [
        {
          "data": {
            "text/plain": [
              "[1] FALSE FALSE  TRUE  TRUE"
            ]
          },
          "metadata": {},
          "output_type": "display_data"
        }
      ],
      "source": [
        "!c(1,2,0,0)"
      ]
    },
    {
      "cell_type": "markdown",
      "id": "3605a8e7-f7f8-4def-9e07-618df5831841",
      "metadata": {
        "id": "3605a8e7-f7f8-4def-9e07-618df5831841"
      },
      "source": [
        "- `!=`임을 잘 기억해야 한다"
      ]
    },
    {
      "cell_type": "markdown",
      "id": "9fdb57ee-5780-495d-b87e-4eed9acbfddf",
      "metadata": {
        "id": "9fdb57ee-5780-495d-b87e-4eed9acbfddf"
      },
      "source": [
        "`-` 잘못된 코드 2"
      ]
    },
    {
      "cell_type": "code",
      "execution_count": null,
      "id": "21dfa3ac-0c83-4af6-b8a1-ec1b3ad6f40b",
      "metadata": {
        "id": "21dfa3ac-0c83-4af6-b8a1-ec1b3ad6f40b",
        "outputId": "bc432de2-cc9e-4e7b-8ef9-73e3d6d5fd31"
      },
      "outputs": [
        {
          "ename": "ERROR",
          "evalue": "Error in parse(text = x, srcfile = src): <text>:3:3: 예기치 않은 '>'입니다\n2: y=c(3,5,1,4,3)\n3: x=>\n     ^\n",
          "output_type": "error",
          "traceback": [
            "Error in parse(text = x, srcfile = src): <text>:3:3: 예기치 않은 '>'입니다\n2: y=c(3,5,1,4,3)\n3: x=>\n     ^\nTraceback:\n"
          ]
        }
      ],
      "source": [
        "x=c(1,2,3,4,5)\n",
        "y=c(3,5,1,4,3)\n",
        "x=>y\n",
        "x=<y"
      ]
    },
    {
      "cell_type": "markdown",
      "id": "b79c9ae8-6725-4f4e-adc5-96066d5fee93",
      "metadata": {
        "id": "b79c9ae8-6725-4f4e-adc5-96066d5fee93"
      },
      "source": [
        "- `<=, >=`임을 기억"
      ]
    },
    {
      "cell_type": "markdown",
      "id": "6aa44415-6533-4423-afc4-a719dbffd935",
      "metadata": {
        "id": "6aa44415-6533-4423-afc4-a719dbffd935"
      },
      "source": [
        "`-` 추가 학습"
      ]
    },
    {
      "cell_type": "code",
      "execution_count": null,
      "id": "df166cb4-c8db-468a-868f-3adcc26dee31",
      "metadata": {
        "id": "df166cb4-c8db-468a-868f-3adcc26dee31",
        "outputId": "143e03a9-7503-4674-d35c-3318d14c380b"
      },
      "outputs": [
        {
          "data": {
            "text/plain": [
              "  [1] -10.0  -9.9  -9.8  -9.7  -9.6  -9.5  -9.4  -9.3  -9.2  -9.1  -9.0  -8.9\n",
              " [13]  -8.8  -8.7  -8.6  -8.5  -8.4  -8.3  -8.2  -8.1  -8.0  -7.9  -7.8  -7.7\n",
              " [25]  -7.6  -7.5  -7.4  -7.3  -7.2  -7.1  -7.0  -6.9  -6.8  -6.7  -6.6  -6.5\n",
              " [37]  -6.4  -6.3  -6.2  -6.1  -6.0  -5.9  -5.8  -5.7  -5.6  -5.5  -5.4  -5.3\n",
              " [49]  -5.2  -5.1  -5.0  -4.9  -4.8  -4.7  -4.6  -4.5  -4.4  -4.3  -4.2  -4.1\n",
              " [61]  -4.0  -3.9  -3.8  -3.7  -3.6  -3.5  -3.4  -3.3  -3.2  -3.1  -3.0  -2.9\n",
              " [73]  -2.8  -2.7  -2.6  -2.5  -2.4  -2.3  -2.2  -2.1  -2.0  -1.9  -1.8  -1.7\n",
              " [85]  -1.6  -1.5  -1.4  -1.3  -1.2  -1.1  -1.0  -0.9  -0.8  -0.7  -0.6  -0.5\n",
              " [97]  -0.4  -0.3  -0.2  -0.1   0.0   0.1   0.2   0.3   0.4   0.5   0.6   0.7\n",
              "[109]   0.8   0.9   1.0   1.1   1.2   1.3   1.4   1.5   1.6   1.7   1.8   1.9\n",
              "[121]   2.0   2.1   2.2   2.3   2.4   2.5   2.6   2.7   2.8   2.9   3.0   3.1\n",
              "[133]   3.2   3.3   3.4   3.5   3.6   3.7   3.8   3.9   4.0   4.1   4.2   4.3\n",
              "[145]   4.4   4.5   4.6   4.7   4.8   4.9   5.0   5.1   5.2   5.3   5.4   5.5\n",
              "[157]   5.6   5.7   5.8   5.9   6.0   6.1   6.2   6.3   6.4   6.5   6.6   6.7\n",
              "[169]   6.8   6.9   7.0   7.1   7.2   7.3   7.4   7.5   7.6   7.7   7.8   7.9\n",
              "[181]   8.0   8.1   8.2   8.3   8.4   8.5   8.6   8.7   8.8   8.9   9.0   9.1\n",
              "[193]   9.2   9.3   9.4   9.5   9.6   9.7   9.8   9.9  10.0"
            ]
          },
          "metadata": {},
          "output_type": "display_data"
        }
      ],
      "source": [
        "x = -100:100/10\n",
        "x"
      ]
    },
    {
      "cell_type": "markdown",
      "id": "65dac524-e504-41fd-acc9-f84934919136",
      "metadata": {
        "id": "65dac524-e504-41fd-acc9-f84934919136"
      },
      "source": [
        "아래와 같은 $y$를 생성하라. \n",
        "\n",
        "$y=\\begin{cases} \n",
        "x & |x|>5 \\\\ \n",
        "0 & |x| \\leq 2  \\\\\n",
        "5 & o.w.\n",
        "\\end{cases}$ \n",
        "\n",
        "힌트: ifelse를 중첩, abs()함수를 이용"
      ]
    },
    {
      "cell_type": "code",
      "execution_count": null,
      "id": "8d9d8108-3277-43af-b233-28c9260b8b2b",
      "metadata": {
        "id": "8d9d8108-3277-43af-b233-28c9260b8b2b",
        "outputId": "93c03635-95d4-4b35-b584-d363b7702107"
      },
      "outputs": [
        {
          "data": {
            "text/plain": [
              "  [1] -10.0  -9.9  -9.8  -9.7  -9.6  -9.5  -9.4  -9.3  -9.2  -9.1  -9.0  -8.9\n",
              " [13]  -8.8  -8.7  -8.6  -8.5  -8.4  -8.3  -8.2  -8.1  -8.0  -7.9  -7.8  -7.7\n",
              " [25]  -7.6  -7.5  -7.4  -7.3  -7.2  -7.1  -7.0  -6.9  -6.8  -6.7  -6.6  -6.5\n",
              " [37]  -6.4  -6.3  -6.2  -6.1  -6.0  -5.9  -5.8  -5.7  -5.6  -5.5  -5.4  -5.3\n",
              " [49]  -5.2  -5.1   5.0   5.0   5.0   5.0   5.0   5.0   5.0   5.0   5.0   5.0\n",
              " [61]   5.0   5.0   5.0   5.0   5.0   5.0   5.0   5.0   5.0   5.0   5.0   5.0\n",
              " [73]   5.0   5.0   5.0   5.0   5.0   5.0   5.0   5.0   0.0   0.0   0.0   0.0\n",
              " [85]   0.0   0.0   0.0   0.0   0.0   0.0   0.0   0.0   0.0   0.0   0.0   0.0\n",
              " [97]   0.0   0.0   0.0   0.0   0.0   0.0   0.0   0.0   0.0   0.0   0.0   0.0\n",
              "[109]   0.0   0.0   0.0   0.0   0.0   0.0   0.0   0.0   0.0   0.0   0.0   0.0\n",
              "[121]   0.0   5.0   5.0   5.0   5.0   5.0   5.0   5.0   5.0   5.0   5.0   5.0\n",
              "[133]   5.0   5.0   5.0   5.0   5.0   5.0   5.0   5.0   5.0   5.0   5.0   5.0\n",
              "[145]   5.0   5.0   5.0   5.0   5.0   5.0   5.0   5.1   5.2   5.3   5.4   5.5\n",
              "[157]   5.6   5.7   5.8   5.9   6.0   6.1   6.2   6.3   6.4   6.5   6.6   6.7\n",
              "[169]   6.8   6.9   7.0   7.1   7.2   7.3   7.4   7.5   7.6   7.7   7.8   7.9\n",
              "[181]   8.0   8.1   8.2   8.3   8.4   8.5   8.6   8.7   8.8   8.9   9.0   9.1\n",
              "[193]   9.2   9.3   9.4   9.5   9.6   9.7   9.8   9.9  10.0"
            ]
          },
          "metadata": {},
          "output_type": "display_data"
        }
      ],
      "source": [
        "ifelse(abs(x)>5,x,ifelse(abs(x)<=2,0,5))"
      ]
    }
  ],
  "metadata": {
    "kernelspec": {
      "display_name": "R",
      "language": "R",
      "name": "ir"
    },
    "language_info": {
      "codemirror_mode": "r",
      "file_extension": ".r",
      "mimetype": "text/x-r-source",
      "name": "R",
      "pygments_lexer": "r",
      "version": "4.0.5"
    },
    "colab": {
      "name": "2022-02-11-IR.ipynb",
      "provenance": [],
      "toc_visible": true
    }
  },
  "nbformat": 4,
  "nbformat_minor": 5
}