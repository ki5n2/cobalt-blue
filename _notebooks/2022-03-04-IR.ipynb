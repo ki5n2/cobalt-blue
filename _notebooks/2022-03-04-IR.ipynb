{
  "cells": [
    {
      "cell_type": "markdown",
      "source": [
        "# IR 16. 데이터프레임과 티블 2\n",
        "\n",
        "> \"작성완료\"\n",
        "\n",
        "- toc:true\n",
        "- branch: master\n",
        "- badges: true\n",
        "- comments: true\n",
        "- [R]"
      ],
      "metadata": {
        "id": "Cynxm3gvrEq9"
      },
      "id": "Cynxm3gvrEq9"
    },
    {
      "cell_type": "markdown",
      "source": [
        "---\n",
        "# Introduce R \n",
        "- lecture: Introduce R_12-2nd week of lectures\n",
        "- lecture date: 2021-11-30\n",
        "- lecturer: Guebin choi\n",
        "- study date: 2022-03-04\n",
        "- author: Kione kim\n",
        "---"
      ],
      "metadata": {
        "id": "Ahn-IpfwrGhH"
      },
      "id": "Ahn-IpfwrGhH"
    },
    {
      "cell_type": "code",
      "execution_count": null,
      "id": "a5097617-2c11-46fd-bc72-f4bccd8064c2",
      "metadata": {
        "id": "a5097617-2c11-46fd-bc72-f4bccd8064c2"
      },
      "outputs": [],
      "source": [
        "#hide\n",
        "options(jupyter.plot_scale=3)\n",
        "options(jupyter.display_mimetypes=c(\"text/html\"))\n",
        "options(jupyter.rich_display=FALSE)\n",
        "options(repr.plot.width=6,repr.plot.height=6,repr.plot.res=300)\n",
        "options(max.print=200)\n",
        "library(tidyverse)"
      ]
    },
    {
      "cell_type": "markdown",
      "id": "1a315fc2-74b6-4681-9f78-758874d6485f",
      "metadata": {
        "id": "1a315fc2-74b6-4681-9f78-758874d6485f"
      },
      "source": [
        "## 데이터프레임과 티블"
      ]
    },
    {
      "cell_type": "markdown",
      "id": "ca71f98e-9621-4087-9e5f-66f5f9f75884",
      "metadata": {
        "id": "ca71f98e-9621-4087-9e5f-66f5f9f75884"
      },
      "source": [
        "### NA"
      ]
    },
    {
      "cell_type": "markdown",
      "id": "5291801b-a38f-428d-b983-615651e74b0d",
      "metadata": {
        "id": "5291801b-a38f-428d-b983-615651e74b0d"
      },
      "source": [
        "`-` NA가 포함되어도 개별연산은 가능"
      ]
    },
    {
      "cell_type": "code",
      "execution_count": null,
      "id": "b7aecae4-84e8-4c1c-9afa-7b93a21cfde3",
      "metadata": {
        "id": "b7aecae4-84e8-4c1c-9afa-7b93a21cfde3",
        "outputId": "2db71cf4-6344-465b-80ac-ac3e1893ee5a"
      },
      "outputs": [
        {
          "data": {
            "text/plain": [
              "[1]  1  2 NA  4  5"
            ]
          },
          "metadata": {},
          "output_type": "display_data"
        }
      ],
      "source": [
        "x = c(1,2,NA,4,5)\n",
        "x"
      ]
    },
    {
      "cell_type": "code",
      "execution_count": null,
      "id": "a5805c8c-72de-4aaa-bfac-864dd67a98e5",
      "metadata": {
        "id": "a5805c8c-72de-4aaa-bfac-864dd67a98e5",
        "outputId": "a507ea85-d2ca-41f5-b29d-6ec60803a608"
      },
      "outputs": [
        {
          "data": {
            "text/plain": [
              "[1]  2  3 NA  5  6"
            ]
          },
          "metadata": {},
          "output_type": "display_data"
        }
      ],
      "source": [
        "x+1"
      ]
    },
    {
      "cell_type": "markdown",
      "id": "f9c36d68-a1be-4347-9119-dcef635060ce",
      "metadata": {
        "id": "f9c36d68-a1be-4347-9119-dcef635060ce"
      },
      "source": [
        "`-` 그런데 summarise에 쓰는 연산은 불가능"
      ]
    },
    {
      "cell_type": "code",
      "execution_count": null,
      "id": "bd6a5b8f-de6d-4995-9e81-dcca08a932cc",
      "metadata": {
        "id": "bd6a5b8f-de6d-4995-9e81-dcca08a932cc",
        "outputId": "02519412-55fd-4e04-c98a-3cc333723260"
      },
      "outputs": [
        {
          "data": {
            "text/plain": [
              "[1] NA"
            ]
          },
          "metadata": {},
          "output_type": "display_data"
        }
      ],
      "source": [
        "mean(x)"
      ]
    },
    {
      "cell_type": "code",
      "execution_count": null,
      "id": "8c7c37db-ad5c-491f-889b-cd1e2bac8d2b",
      "metadata": {
        "id": "8c7c37db-ad5c-491f-889b-cd1e2bac8d2b",
        "outputId": "d449f685-d8f6-4924-9b06-78154501f236"
      },
      "outputs": [
        {
          "data": {
            "text/plain": [
              "[1] NA"
            ]
          },
          "metadata": {},
          "output_type": "display_data"
        }
      ],
      "source": [
        "max(x)"
      ]
    },
    {
      "cell_type": "code",
      "execution_count": null,
      "id": "1072e979-a916-4fab-b656-01bc2feef84f",
      "metadata": {
        "id": "1072e979-a916-4fab-b656-01bc2feef84f",
        "outputId": "88761a02-3e02-403b-eddf-edba80556d75"
      },
      "outputs": [
        {
          "data": {
            "text/plain": [
              "[1] NA"
            ]
          },
          "metadata": {},
          "output_type": "display_data"
        }
      ],
      "source": [
        "sd(x)"
      ]
    },
    {
      "cell_type": "markdown",
      "id": "1661ac70-7d82-411e-a77d-af210c6caa04",
      "metadata": {
        "id": "1661ac70-7d82-411e-a77d-af210c6caa04"
      },
      "source": [
        "`-` 수정: `na.rm = TRUE` 사용"
      ]
    },
    {
      "cell_type": "code",
      "execution_count": null,
      "id": "7af5548f-0412-43d9-afac-79ed5e7af28d",
      "metadata": {
        "id": "7af5548f-0412-43d9-afac-79ed5e7af28d",
        "outputId": "0c9ef4dd-c814-441d-c5f4-e9ec7bdb0f87"
      },
      "outputs": [
        {
          "data": {
            "text/plain": [
              "[1] 3"
            ]
          },
          "metadata": {},
          "output_type": "display_data"
        }
      ],
      "source": [
        "mean(x,na.rm = TRUE)"
      ]
    },
    {
      "cell_type": "code",
      "execution_count": null,
      "id": "408f30c7-7dcd-487c-a9ab-879027e30bd7",
      "metadata": {
        "id": "408f30c7-7dcd-487c-a9ab-879027e30bd7",
        "outputId": "c01e89c8-c451-4ddf-fd88-4cbf98e20cbc"
      },
      "outputs": [
        {
          "data": {
            "text/plain": [
              "[1] 5"
            ]
          },
          "metadata": {},
          "output_type": "display_data"
        }
      ],
      "source": [
        "max(x,na.rm = TRUE)"
      ]
    },
    {
      "cell_type": "markdown",
      "id": "e560332c-9c7b-4987-a652-3df5f94fd1b0",
      "metadata": {
        "id": "e560332c-9c7b-4987-a652-3df5f94fd1b0"
      },
      "source": [
        "`-` 데이터프레임에서도 비슷"
      ]
    },
    {
      "cell_type": "code",
      "execution_count": null,
      "id": "0d82a897-9602-4d6a-846c-10346b9de50e",
      "metadata": {
        "id": "0d82a897-9602-4d6a-846c-10346b9de50e",
        "outputId": "5caa5ae7-2c0b-4d69-c629-5e70a4882f76"
      },
      "outputs": [
        {
          "data": {
            "text/plain": [
              "  x  z \n",
              "1  1  2\n",
              "2  2  3\n",
              "3 NA NA\n",
              "4  4  5\n",
              "5  5  6"
            ]
          },
          "metadata": {},
          "output_type": "display_data"
        }
      ],
      "source": [
        "tibble(x) %>% mutate(z=x+1)"
      ]
    },
    {
      "cell_type": "markdown",
      "id": "81bd47e3-76e3-48db-92e3-78c9e76ef69b",
      "metadata": {
        "id": "81bd47e3-76e3-48db-92e3-78c9e76ef69b"
      },
      "source": [
        "- 마찬가지로 개별연산은 가능"
      ]
    },
    {
      "cell_type": "code",
      "execution_count": null,
      "id": "06d641d4-30c9-4b6a-aee5-5cd07a818117",
      "metadata": {
        "id": "06d641d4-30c9-4b6a-aee5-5cd07a818117",
        "outputId": "c43ba468-6fbe-4754-d738-12c81c2e1a31"
      },
      "outputs": [
        {
          "data": {
            "text/plain": [
              "  z \n",
              "1 NA"
            ]
          },
          "metadata": {},
          "output_type": "display_data"
        }
      ],
      "source": [
        "tibble(x) %>% summarise(z=mean(x))"
      ]
    },
    {
      "cell_type": "code",
      "execution_count": null,
      "id": "06fce0c1-fe86-47a3-ba5b-541da48c5a1d",
      "metadata": {
        "id": "06fce0c1-fe86-47a3-ba5b-541da48c5a1d",
        "outputId": "1d3d7d11-c9a8-4c5c-bbe2-63c2a95c0f21"
      },
      "outputs": [
        {
          "data": {
            "text/plain": [
              "  x  z \n",
              "1  1 NA\n",
              "2  2 NA\n",
              "3 NA NA\n",
              "4  4 NA\n",
              "5  5 NA"
            ]
          },
          "metadata": {},
          "output_type": "display_data"
        }
      ],
      "source": [
        "tibble(x) %>% mutate(z=mean(x))"
      ]
    },
    {
      "cell_type": "markdown",
      "id": "2aeddba1-785b-4f7f-a9ee-aa83f7c19f2b",
      "metadata": {
        "id": "2aeddba1-785b-4f7f-a9ee-aa83f7c19f2b"
      },
      "source": [
        "- 마찬가지로 summarise에 쓰는 연산은 불가능"
      ]
    },
    {
      "cell_type": "code",
      "execution_count": null,
      "id": "c9bdd1ba-2451-4687-bd12-bc2d6743e5a2",
      "metadata": {
        "id": "c9bdd1ba-2451-4687-bd12-bc2d6743e5a2",
        "outputId": "23d1ee2e-08a8-459f-c79b-63941bab1290"
      },
      "outputs": [
        {
          "data": {
            "text/plain": [
              "  z\n",
              "1 3"
            ]
          },
          "metadata": {},
          "output_type": "display_data"
        }
      ],
      "source": [
        "tibble(x) %>% summarise(z=mean(x,na.rm = TRUE))"
      ]
    },
    {
      "cell_type": "code",
      "execution_count": null,
      "id": "d9c905f0-ac77-4949-b406-d94ebbac5294",
      "metadata": {
        "id": "d9c905f0-ac77-4949-b406-d94ebbac5294",
        "outputId": "e6f2dacd-79be-4dab-ed55-e24947878fbd"
      },
      "outputs": [
        {
          "data": {
            "text/plain": [
              "  x  z\n",
              "1  1 3\n",
              "2  2 3\n",
              "3 NA 3\n",
              "4  4 3\n",
              "5  5 3"
            ]
          },
          "metadata": {},
          "output_type": "display_data"
        }
      ],
      "source": [
        "tibble(x) %>% mutate(z=mean(x,na.rm = TRUE))"
      ]
    },
    {
      "cell_type": "markdown",
      "id": "9ef4e66e-273e-42c5-b49f-7387e2c44742",
      "metadata": {
        "id": "9ef4e66e-273e-42c5-b49f-7387e2c44742"
      },
      "source": [
        "`-` NA를 무조건 없애는 것이 좋은가?"
      ]
    },
    {
      "cell_type": "code",
      "execution_count": null,
      "id": "e3e6d3a7-2b0c-4ea6-989d-096e70ea4a65",
      "metadata": {
        "id": "e3e6d3a7-2b0c-4ea6-989d-096e70ea4a65"
      },
      "outputs": [],
      "source": [
        "x <- c(NA,2,3,4)\n",
        "y <- c(1,NA,3,4)\n",
        "z <- c(1,2,NA,4)\n",
        "w <- c(1,2,3,NA)"
      ]
    },
    {
      "cell_type": "code",
      "execution_count": null,
      "id": "d501b844-47f3-4db1-946a-187e681dac05",
      "metadata": {
        "id": "d501b844-47f3-4db1-946a-187e681dac05",
        "outputId": "15777967-2ea4-4dc8-cc47-4478fac286c4"
      },
      "outputs": [
        {
          "data": {
            "text/plain": [
              "  x  y  z  w \n",
              "1 NA  1  1  1\n",
              "2  2 NA  2  2\n",
              "3  3  3 NA  3\n",
              "4  4  4  4 NA"
            ]
          },
          "metadata": {},
          "output_type": "display_data"
        }
      ],
      "source": [
        "tibble(x,y,z,w)"
      ]
    },
    {
      "cell_type": "code",
      "execution_count": null,
      "id": "6904e452-b182-4d1d-a21a-fb6f978c13aa",
      "metadata": {
        "id": "6904e452-b182-4d1d-a21a-fb6f978c13aa",
        "outputId": "57ff3a93-c9cc-455f-e68c-4f9cfaae52b3"
      },
      "outputs": [
        {
          "data": {
            "text/plain": [
              "  x  y  z  w  xy\n",
              "1 NA  1  1  1 NA\n",
              "2  2 NA  2  2 NA\n",
              "3  3  3 NA  3  6\n",
              "4  4  4  4 NA  8"
            ]
          },
          "metadata": {},
          "output_type": "display_data"
        }
      ],
      "source": [
        "tibble(x,y,z,w) %>% mutate(xy=x+y)"
      ]
    },
    {
      "cell_type": "code",
      "execution_count": null,
      "id": "da18067a-dfa1-4e8b-a66d-40738841e9c7",
      "metadata": {
        "id": "da18067a-dfa1-4e8b-a66d-40738841e9c7",
        "outputId": "61e2f3b7-242e-4cd7-f8d2-8b56c5d91a9b"
      },
      "outputs": [
        {
          "data": {
            "text/plain": [
              "  mean_xy\n",
              "1 7      "
            ]
          },
          "metadata": {},
          "output_type": "display_data"
        }
      ],
      "source": [
        "tibble(x,y,z,w) %>% mutate(xy=x+y) %>% summarise(mean_xy = mean(xy,na.rm = TRUE))"
      ]
    },
    {
      "cell_type": "markdown",
      "id": "c6c01c58-b073-479a-ab0f-26bf9a8eb9b6",
      "metadata": {
        "id": "c6c01c58-b073-479a-ab0f-26bf9a8eb9b6"
      },
      "source": [
        "- NA를 살려두는 것이 좋을 수도 있음(데이터가 부족할 수 있으니)"
      ]
    },
    {
      "cell_type": "markdown",
      "id": "69222319-1d1f-47ec-84ba-6d52b9187ea4",
      "metadata": {
        "id": "69222319-1d1f-47ec-84ba-6d52b9187ea4"
      },
      "source": [
        "`-` 결측치를 제외할까 포함시킬까?"
      ]
    },
    {
      "cell_type": "code",
      "execution_count": null,
      "id": "aaab93c5-441b-4821-9a1a-1c0a78d90698",
      "metadata": {
        "id": "aaab93c5-441b-4821-9a1a-1c0a78d90698"
      },
      "outputs": [],
      "source": [
        "x <- c(1,2,3,4,NA,5,6,7)\n",
        "y <- c(-1,-2,-3,-4,-100,-5,-6,-7)"
      ]
    },
    {
      "cell_type": "code",
      "execution_count": null,
      "id": "24654209-2250-4935-813b-9e68811b1dca",
      "metadata": {
        "id": "24654209-2250-4935-813b-9e68811b1dca",
        "outputId": "ea1e6cb1-5b10-40ac-c4d4-a87cac9e7d44"
      },
      "outputs": [
        {
          "data": {
            "text/plain": [
              "  x  y   \n",
              "1  1   -1\n",
              "2  2   -2\n",
              "3  3   -3\n",
              "4  4   -4\n",
              "5 NA -100\n",
              "6  5   -5\n",
              "7  6   -6\n",
              "8  7   -7"
            ]
          },
          "metadata": {},
          "output_type": "display_data"
        }
      ],
      "source": [
        "df <- tibble(x,y)\n",
        "df"
      ]
    },
    {
      "cell_type": "code",
      "execution_count": null,
      "id": "d27c63f9-8d74-46df-97ff-ee1efdef8730",
      "metadata": {
        "id": "d27c63f9-8d74-46df-97ff-ee1efdef8730",
        "outputId": "43efc5b1-4581-41e2-961c-8cd525aca9bb"
      },
      "outputs": [
        {
          "data": {
            "text/plain": [
              "  x y \n",
              "1 4 -4\n",
              "2 5 -5\n",
              "3 6 -6"
            ]
          },
          "metadata": {},
          "output_type": "display_data"
        }
      ],
      "source": [
        "df %>% filter(x>3, x<7)"
      ]
    },
    {
      "cell_type": "markdown",
      "id": "46c98117-2b2b-4c19-81c5-97896fa026f7",
      "metadata": {
        "id": "46c98117-2b2b-4c19-81c5-97896fa026f7"
      },
      "source": [
        "- y값 중 $-100$은 사라짐, NA가 특정한 값을 갖는 것이 아니기 때문에 NA에 해당하는 값을 제외시킬지 포함시킬지 판단이 필요함"
      ]
    },
    {
      "cell_type": "markdown",
      "id": "602b550a-4854-49cf-883b-1b151d5f8084",
      "metadata": {
        "id": "602b550a-4854-49cf-883b-1b151d5f8084"
      },
      "source": [
        "`-` 결측치를 살리려면??"
      ]
    },
    {
      "cell_type": "code",
      "execution_count": null,
      "id": "e52cd2e9-b8d3-42ae-ab21-dc359d8fbc3b",
      "metadata": {
        "id": "e52cd2e9-b8d3-42ae-ab21-dc359d8fbc3b",
        "outputId": "4920c8a0-c1ad-417e-ca2c-afa8ba0cc5e0"
      },
      "outputs": [
        {
          "data": {
            "text/plain": [
              "  x  y   \n",
              "1 NA -100"
            ]
          },
          "metadata": {},
          "output_type": "display_data"
        }
      ],
      "source": [
        "df %>% filter(is.na(x))"
      ]
    },
    {
      "cell_type": "code",
      "execution_count": null,
      "id": "7795817c-24b3-43cb-8209-1da30775e43f",
      "metadata": {
        "id": "7795817c-24b3-43cb-8209-1da30775e43f",
        "outputId": "5c2f6ea0-1aee-42a5-91e0-fe09721b12c6"
      },
      "outputs": [
        {
          "ename": "ERROR",
          "evalue": "Error: Problem with `filter()` input `..1`.\n\u001b[34mi\u001b[39m Input `..1` is `is.na(x) | (x > 3 & x < 7)`.\n\u001b[31mx\u001b[39m 객체 'x'를 찾을 수 없습니다\n",
          "output_type": "error",
          "traceback": [
            "Error: Problem with `filter()` input `..1`.\n\u001b[34mi\u001b[39m Input `..1` is `is.na(x) | (x > 3 & x < 7)`.\n\u001b[31mx\u001b[39m 객체 'x'를 찾을 수 없습니다\nTraceback:\n",
            "1. df %>% filter(is.na(x) | (x > 3 & x < 7))",
            "2. filter(., is.na(x) | (x > 3 & x < 7))",
            "3. filter.data.frame(., is.na(x) | (x > 3 & x < 7))",
            "4. filter_rows(.data, ..., caller_env = caller_env())",
            "5. withCallingHandlers({\n .     dots <- new_quosures(flatten(imap(dots, function(dot, index) {\n .         env_filter$current_expression <- index\n .         expand_if_across(dot)\n .     })))\n .     mask$eval_all_filter(dots, env_filter)\n . }, error = function(e) {\n .     local_call_step(dots = dots, .index = env_filter$current_expression, \n .         .fn = \"filter\")\n .     abort(c(cnd_bullet_header(), i = cnd_bullet_input_info(), \n .         x = conditionMessage(e), i = cnd_bullet_cur_group_label()), \n .         class = \"dplyr_error\")\n . })",
            "6. mask$eval_all_filter(dots, env_filter)",
            "7. .handleSimpleError(function (e) \n . {\n .     local_call_step(dots = dots, .index = env_filter$current_expression, \n .         .fn = \"filter\")\n .     abort(c(cnd_bullet_header(), i = cnd_bullet_input_info(), \n .         x = conditionMessage(e), i = cnd_bullet_cur_group_label()), \n .         class = \"dplyr_error\")\n . }, \"객체 'x'를 찾을 수 없습니다\", base::quote(mask$eval_all_filter(dots, \n .     env_filter)))",
            "8. h(simpleError(msg, call))",
            "9. abort(c(cnd_bullet_header(), i = cnd_bullet_input_info(), x = conditionMessage(e), \n .     i = cnd_bullet_cur_group_label()), class = \"dplyr_error\")",
            "10. signal_abort(cnd)"
          ]
        }
      ],
      "source": [
        "df %>% filter(is.na(x) | (x>3 & x<7))"
      ]
    },
    {
      "cell_type": "markdown",
      "id": "d56eaeb8-a321-4a45-ae67-993da2c765a1",
      "metadata": {
        "tags": [],
        "id": "d56eaeb8-a321-4a45-ae67-993da2c765a1"
      },
      "source": [
        "### 실습"
      ]
    },
    {
      "cell_type": "code",
      "execution_count": null,
      "id": "f1f2b503-c338-4535-9128-93fd53820f54",
      "metadata": {
        "id": "f1f2b503-c338-4535-9128-93fd53820f54"
      },
      "outputs": [],
      "source": [
        "# install.packages(\"nycflights13\")\n",
        "library(nycflights13)"
      ]
    },
    {
      "cell_type": "markdown",
      "id": "3a917be3-dc7a-40ab-8ecd-b70609bebc1c",
      "metadata": {
        "id": "3a917be3-dc7a-40ab-8ecd-b70609bebc1c"
      },
      "source": [
        "`-` 데이터"
      ]
    },
    {
      "cell_type": "code",
      "execution_count": null,
      "id": "b575e938-0240-4103-9def-a632341110a7",
      "metadata": {
        "id": "b575e938-0240-4103-9def-a632341110a7"
      },
      "outputs": [],
      "source": [
        "df = flights"
      ]
    },
    {
      "cell_type": "markdown",
      "id": "b5220c60-dbf8-4843-ae8c-3421871cce32",
      "metadata": {
        "id": "b5220c60-dbf8-4843-ae8c-3421871cce32"
      },
      "source": [
        "`-` 1월 1일의 모든 항공편을 선택"
      ]
    },
    {
      "cell_type": "code",
      "execution_count": null,
      "id": "b6fca05c-0316-4786-ba5d-18238e28f8f5",
      "metadata": {
        "id": "b6fca05c-0316-4786-ba5d-18238e28f8f5",
        "outputId": "f49ceed4-beda-4148-ed2d-44c53c3af9a8"
      },
      "outputs": [
        {
          "data": {
            "text/plain": [
              "    year month day dep_time sched_dep_time dep_delay arr_time sched_arr_time\n",
              "1   2013 1     1   517      515             2         830      819          \n",
              "2   2013 1     1   533      529             4         850      830          \n",
              "3   2013 1     1   542      540             2         923      850          \n",
              "4   2013 1     1   544      545            -1        1004     1022          \n",
              "5   2013 1     1   554      600            -6         812      837          \n",
              "6   2013 1     1   554      558            -4         740      728          \n",
              "7   2013 1     1   555      600            -5         913      854          \n",
              "8   2013 1     1   557      600            -3         709      723          \n",
              "9   2013 1     1   557      600            -3         838      846          \n",
              "10  2013 1     1   558      600            -2         753      745          \n",
              "    arr_delay carrier flight tailnum origin dest air_time distance hour minute\n",
              "1    11       UA      1545   N14228  EWR    IAH  227      1400     5    15    \n",
              "2    20       UA      1714   N24211  LGA    IAH  227      1416     5    29    \n",
              "3    33       AA      1141   N619AA  JFK    MIA  160      1089     5    40    \n",
              "4   -18       B6       725   N804JB  JFK    BQN  183      1576     5    45    \n",
              "5   -25       DL       461   N668DN  LGA    ATL  116       762     6     0    \n",
              "6    12       UA      1696   N39463  EWR    ORD  150       719     5    58    \n",
              "7    19       B6       507   N516JB  EWR    FLL  158      1065     6     0    \n",
              "8   -14       EV      5708   N829AS  LGA    IAD   53       229     6     0    \n",
              "9    -8       B6        79   N593JB  JFK    MCO  140       944     6     0    \n",
              "10    8       AA       301   N3ALAA  LGA    ORD  138       733     6     0    \n",
              "    time_hour          \n",
              "1   2013-01-01 05:00:00\n",
              "2   2013-01-01 05:00:00\n",
              "3   2013-01-01 05:00:00\n",
              "4   2013-01-01 05:00:00\n",
              "5   2013-01-01 06:00:00\n",
              "6   2013-01-01 05:00:00\n",
              "7   2013-01-01 06:00:00\n",
              "8   2013-01-01 06:00:00\n",
              "9   2013-01-01 06:00:00\n",
              "10  2013-01-01 06:00:00\n",
              " [ getOption(\"max.print\") 에 도달했습니다 -- 51 행들을 생략합니다 ]"
            ]
          },
          "metadata": {},
          "output_type": "display_data"
        }
      ],
      "source": [
        "df %>% filter(month==1, day==1)"
      ]
    },
    {
      "cell_type": "markdown",
      "id": "7328de9e-a996-4385-9fec-4ab7ac4caa73",
      "metadata": {
        "id": "7328de9e-a996-4385-9fec-4ab7ac4caa73"
      },
      "source": [
        "`-` 11~12월 출발 항공편"
      ]
    },
    {
      "cell_type": "code",
      "execution_count": null,
      "id": "d57a6950-eade-46fb-ba7f-fc942a147b2d",
      "metadata": {
        "id": "d57a6950-eade-46fb-ba7f-fc942a147b2d",
        "outputId": "e1a66e08-cbb3-4b08-e75a-d23ff11fc351"
      },
      "outputs": [
        {
          "data": {
            "text/plain": [
              "      year month day dep_time sched_dep_time dep_delay arr_time sched_arr_time\n",
              "1     2013 11    1     5      2359             6       352       345          \n",
              "2     2013 11    1    35      2250           105       123      2356          \n",
              "3     2013 11    1   455       500            -5       641       651          \n",
              "4     2013 11    1   539       545            -6       856       827          \n",
              "5     2013 11    1   542       545            -3       831       855          \n",
              "6     2013 11    1   549       600           -11       912       923          \n",
              "7     2013 11    1   550       600           -10       705       659          \n",
              "8     2013 11    1   554       600            -6       659       701          \n",
              "9     2013 11    1   554       600            -6       826       827          \n",
              "10    2013 11    1   554       600            -6       749       751          \n",
              "      arr_delay carrier flight tailnum origin dest air_time distance hour\n",
              "1       7       B6       745   N568JB  JFK    PSE  205      1617     23  \n",
              "2      87       B6      1816   N353JB  JFK    SYR   36       209     22  \n",
              "3     -10       US      1895   N192UW  EWR    CLT   88       529      5  \n",
              "4      29       UA      1714   N38727  LGA    IAH  229      1416      5  \n",
              "5     -24       AA      2243   N5CLAA  JFK    MIA  147      1089      5  \n",
              "6     -11       UA       303   N595UA  JFK    SFO  359      2586      6  \n",
              "7       6       US      2167   N748UW  LGA    DCA   57       214      6  \n",
              "8      -2       US      2134   N742PS  LGA    BOS   40       184      6  \n",
              "9      -1       DL       563   N912DE  LGA    ATL  126       762      6  \n",
              "10     -2       DL       731   N315NB  LGA    DTW   93       502      6  \n",
              "      minute time_hour          \n",
              "1     59     2013-11-01 23:00:00\n",
              "2     50     2013-11-01 22:00:00\n",
              "3      0     2013-11-01 05:00:00\n",
              "4     45     2013-11-01 05:00:00\n",
              "5     45     2013-11-01 05:00:00\n",
              "6      0     2013-11-01 06:00:00\n",
              "7      0     2013-11-01 06:00:00\n",
              "8      0     2013-11-01 06:00:00\n",
              "9      0     2013-11-01 06:00:00\n",
              "10     0     2013-11-01 06:00:00\n",
              " [ getOption(\"max.print\") 에 도달했습니다 -- 51 행들을 생략합니다 ]"
            ]
          },
          "metadata": {},
          "output_type": "display_data"
        }
      ],
      "source": [
        "df %>% filter(month==11 | month==12)"
      ]
    },
    {
      "cell_type": "markdown",
      "id": "078f9982-5f6d-4b09-80aa-4062d45bbcab",
      "metadata": {
        "id": "078f9982-5f6d-4b09-80aa-4062d45bbcab"
      },
      "source": [
        "`-` 더 확장성 있는 코드"
      ]
    },
    {
      "cell_type": "code",
      "execution_count": null,
      "id": "cba954c2-22a3-4cea-964c-4a1e4b197602",
      "metadata": {
        "id": "cba954c2-22a3-4cea-964c-4a1e4b197602",
        "outputId": "f55fe116-92c3-4be7-e72d-ab6b3ec0d3db"
      },
      "outputs": [
        {
          "data": {
            "text/plain": [
              "      year month day dep_time sched_dep_time dep_delay arr_time sched_arr_time\n",
              "1     2013 11    1     5      2359             6       352       345          \n",
              "2     2013 11    1    35      2250           105       123      2356          \n",
              "3     2013 11    1   455       500            -5       641       651          \n",
              "4     2013 11    1   539       545            -6       856       827          \n",
              "5     2013 11    1   542       545            -3       831       855          \n",
              "6     2013 11    1   549       600           -11       912       923          \n",
              "7     2013 11    1   550       600           -10       705       659          \n",
              "8     2013 11    1   554       600            -6       659       701          \n",
              "9     2013 11    1   554       600            -6       826       827          \n",
              "10    2013 11    1   554       600            -6       749       751          \n",
              "      arr_delay carrier flight tailnum origin dest air_time distance hour\n",
              "1       7       B6       745   N568JB  JFK    PSE  205      1617     23  \n",
              "2      87       B6      1816   N353JB  JFK    SYR   36       209     22  \n",
              "3     -10       US      1895   N192UW  EWR    CLT   88       529      5  \n",
              "4      29       UA      1714   N38727  LGA    IAH  229      1416      5  \n",
              "5     -24       AA      2243   N5CLAA  JFK    MIA  147      1089      5  \n",
              "6     -11       UA       303   N595UA  JFK    SFO  359      2586      6  \n",
              "7       6       US      2167   N748UW  LGA    DCA   57       214      6  \n",
              "8      -2       US      2134   N742PS  LGA    BOS   40       184      6  \n",
              "9      -1       DL       563   N912DE  LGA    ATL  126       762      6  \n",
              "10     -2       DL       731   N315NB  LGA    DTW   93       502      6  \n",
              "      minute time_hour          \n",
              "1     59     2013-11-01 23:00:00\n",
              "2     50     2013-11-01 22:00:00\n",
              "3      0     2013-11-01 05:00:00\n",
              "4     45     2013-11-01 05:00:00\n",
              "5     45     2013-11-01 05:00:00\n",
              "6      0     2013-11-01 06:00:00\n",
              "7      0     2013-11-01 06:00:00\n",
              "8      0     2013-11-01 06:00:00\n",
              "9      0     2013-11-01 06:00:00\n",
              "10     0     2013-11-01 06:00:00\n",
              " [ getOption(\"max.print\") 에 도달했습니다 -- 51 행들을 생략합니다 ]"
            ]
          },
          "metadata": {},
          "output_type": "display_data"
        }
      ],
      "source": [
        "df %>% filter(month %in% c(11,12))"
      ]
    },
    {
      "cell_type": "markdown",
      "id": "15daa1ef-5d10-439f-966a-f0ce7cd19815",
      "metadata": {
        "id": "15daa1ef-5d10-439f-966a-f0ce7cd19815"
      },
      "source": [
        "`-` arr_delay <= 120이고 dep_delay <= 120 인 항공편"
      ]
    },
    {
      "cell_type": "code",
      "execution_count": null,
      "id": "55464e8f-3777-4894-8259-6d44efbe02da",
      "metadata": {
        "id": "55464e8f-3777-4894-8259-6d44efbe02da",
        "outputId": "5479e979-6441-4922-931c-440ce0368c16"
      },
      "outputs": [
        {
          "data": {
            "text/plain": [
              "       year month day dep_time sched_dep_time dep_delay arr_time sched_arr_time\n",
              "1      2013 1     1   517      515             2         830      819          \n",
              "2      2013 1     1   533      529             4         850      830          \n",
              "3      2013 1     1   542      540             2         923      850          \n",
              "4      2013 1     1   544      545            -1        1004     1022          \n",
              "5      2013 1     1   554      600            -6         812      837          \n",
              "6      2013 1     1   554      558            -4         740      728          \n",
              "7      2013 1     1   555      600            -5         913      854          \n",
              "8      2013 1     1   557      600            -3         709      723          \n",
              "9      2013 1     1   557      600            -3         838      846          \n",
              "10     2013 1     1   558      600            -2         753      745          \n",
              "       arr_delay carrier flight tailnum origin dest air_time distance hour\n",
              "1       11       UA      1545   N14228  EWR    IAH  227      1400     5   \n",
              "2       20       UA      1714   N24211  LGA    IAH  227      1416     5   \n",
              "3       33       AA      1141   N619AA  JFK    MIA  160      1089     5   \n",
              "4      -18       B6       725   N804JB  JFK    BQN  183      1576     5   \n",
              "5      -25       DL       461   N668DN  LGA    ATL  116       762     6   \n",
              "6       12       UA      1696   N39463  EWR    ORD  150       719     5   \n",
              "7       19       B6       507   N516JB  EWR    FLL  158      1065     6   \n",
              "8      -14       EV      5708   N829AS  LGA    IAD   53       229     6   \n",
              "9       -8       B6        79   N593JB  JFK    MCO  140       944     6   \n",
              "10       8       AA       301   N3ALAA  LGA    ORD  138       733     6   \n",
              "       minute time_hour          \n",
              "1      15     2013-01-01 05:00:00\n",
              "2      29     2013-01-01 05:00:00\n",
              "3      40     2013-01-01 05:00:00\n",
              "4      45     2013-01-01 05:00:00\n",
              "5       0     2013-01-01 06:00:00\n",
              "6      58     2013-01-01 05:00:00\n",
              "7       0     2013-01-01 06:00:00\n",
              "8       0     2013-01-01 06:00:00\n",
              "9       0     2013-01-01 06:00:00\n",
              "10      0     2013-01-01 06:00:00\n",
              " [ getOption(\"max.print\") 에 도달했습니다 -- 51 행들을 생략합니다 ]"
            ]
          },
          "metadata": {},
          "output_type": "display_data"
        }
      ],
      "source": [
        "df %>% filter(arr_delay <= 120 & dep_delay <= 120)"
      ]
    },
    {
      "cell_type": "markdown",
      "id": "158d2e57-4555-4063-b711-f018d36b1298",
      "metadata": {
        "id": "158d2e57-4555-4063-b711-f018d36b1298"
      },
      "source": [
        "`-` 변수이름을 확인"
      ]
    },
    {
      "cell_type": "code",
      "execution_count": null,
      "id": "78ec70c3-5025-4a39-8a40-ca7efd3861a3",
      "metadata": {
        "id": "78ec70c3-5025-4a39-8a40-ca7efd3861a3",
        "outputId": "a413c5d0-f5d4-45ea-fbb8-8d2eb40c03a2"
      },
      "outputs": [
        {
          "data": {
            "text/plain": [
              " [1] \"year\"           \"month\"          \"day\"            \"dep_time\"      \n",
              " [5] \"sched_dep_time\" \"dep_delay\"      \"arr_time\"       \"sched_arr_time\"\n",
              " [9] \"arr_delay\"      \"carrier\"        \"flight\"         \"tailnum\"       \n",
              "[13] \"origin\"         \"dest\"           \"air_time\"       \"distance\"      \n",
              "[17] \"hour\"           \"minute\"         \"time_hour\"     "
            ]
          },
          "metadata": {},
          "output_type": "display_data"
        }
      ],
      "source": [
        "df %>% colnames"
      ]
    },
    {
      "cell_type": "code",
      "execution_count": null,
      "id": "6b9b4eb7-ff1c-43ea-b817-28a8769a3e2c",
      "metadata": {
        "id": "6b9b4eb7-ff1c-43ea-b817-28a8769a3e2c",
        "outputId": "b36ee453-27d5-4444-9745-eddfbe156ffa"
      },
      "outputs": [
        {
          "data": {
            "text/plain": [
              " [1] \"year\"           \"month\"          \"day\"            \"dep_time\"      \n",
              " [5] \"sched_dep_time\" \"dep_delay\"      \"arr_time\"       \"sched_arr_time\"\n",
              " [9] \"arr_delay\"      \"carrier\"        \"flight\"         \"tailnum\"       \n",
              "[13] \"origin\"         \"dest\"           \"air_time\"       \"distance\"      \n",
              "[17] \"hour\"           \"minute\"         \"time_hour\"     "
            ]
          },
          "metadata": {},
          "output_type": "display_data"
        }
      ],
      "source": [
        "df %>% names"
      ]
    },
    {
      "cell_type": "markdown",
      "id": "6eb8cc5e-27d8-43ab-a413-0579fc3ea0ae",
      "metadata": {
        "id": "6eb8cc5e-27d8-43ab-a413-0579fc3ea0ae"
      },
      "source": [
        "- names도 colnames와 마찬가지로 변수이름을 확인할 수 있다"
      ]
    },
    {
      "cell_type": "markdown",
      "id": "72df4c76-6b2e-4c8b-b75d-0952056e2b6d",
      "metadata": {
        "id": "72df4c76-6b2e-4c8b-b75d-0952056e2b6d"
      },
      "source": [
        "`-` 아래의 수식을 이용하여 gain, speed를 계산하자.   \n",
        "`1)` gain = dep_delay - arr_delay   \n",
        "`2)` speed = distance/air_time"
      ]
    },
    {
      "cell_type": "markdown",
      "id": "9ad115ce-e1d1-4866-8cc1-f9f193d5e98d",
      "metadata": {
        "id": "9ad115ce-e1d1-4866-8cc1-f9f193d5e98d"
      },
      "source": [
        "`-` 다음과 같이 필요한 변수(중요한 변수 + 관심있는 변수)만 추출하자   \n",
        "- year~day\n",
        "- delay로 끝나는 변수\n",
        "- distance, air_time"
      ]
    },
    {
      "cell_type": "code",
      "execution_count": null,
      "id": "724e7c87-df38-48cc-9e5e-ab57d240d0bb",
      "metadata": {
        "id": "724e7c87-df38-48cc-9e5e-ab57d240d0bb",
        "outputId": "94b148c7-92f0-4fec-c62e-7305a558d5b4"
      },
      "outputs": [
        {
          "data": {
            "text/plain": [
              "       year month day dep_delay arr_delay air_time distance\n",
              "1      2013 1     1    2         11       227      1400    \n",
              "2      2013 1     1    4         20       227      1416    \n",
              "3      2013 1     1    2         33       160      1089    \n",
              "4      2013 1     1   -1        -18       183      1576    \n",
              "5      2013 1     1   -6        -25       116       762    \n",
              "6      2013 1     1   -4         12       150       719    \n",
              "7      2013 1     1   -5         19       158      1065    \n",
              "8      2013 1     1   -3        -14        53       229    \n",
              "9      2013 1     1   -3         -8       140       944    \n",
              "10     2013 1     1   -2          8       138       733    \n",
              "11     2013 1     1   -2         -2       149      1028    \n",
              "12     2013 1     1   -2         -3       158      1005    \n",
              "13     2013 1     1   -2          7       345      2475    \n",
              "14     2013 1     1   -2        -14       361      2565    \n",
              "15     2013 1     1   -1         31       257      1389    \n",
              "16     2013 1     1    0         -4        44       187    \n",
              "17     2013 1     1   -1         -8       337      2227    \n",
              "18     2013 1     1    0         -7       152      1076    \n",
              "19     2013 1     1    0         12       134       762    \n",
              "20     2013 1     1    1         -6       147      1023    \n",
              "21     2013 1     1   -8         -8       170      1020    \n",
              "22     2013 1     1   -3         16       105       502    \n",
              "23     2013 1     1   -4        -12       152      1085    \n",
              "24     2013 1     1   -4         -8       128       760    \n",
              "25     2013 1     1    0        -17       157      1085    \n",
              "26     2013 1     1    8         32       139       719    \n",
              "27     2013 1     1   11         14       366      2586    \n",
              "28     2013 1     1    3          4       175      1074    \n",
              " [ getOption(\"max.print\") 에 도달했습니다 -- 33 행들을 생략합니다 ]"
            ]
          },
          "metadata": {},
          "output_type": "display_data"
        }
      ],
      "source": [
        "df %>% select(year:day, ends_with('delay'), air_time:distance)"
      ]
    },
    {
      "cell_type": "code",
      "execution_count": null,
      "id": "f5621f2c-9950-42e2-8be9-d29ad195f2d6",
      "metadata": {
        "id": "f5621f2c-9950-42e2-8be9-d29ad195f2d6",
        "outputId": "806d3a1a-3dfc-434d-e5ee-9b2667ed51a6"
      },
      "outputs": [
        {
          "data": {
            "text/plain": [
              "       year month day dep_delay arr_delay air_time distance gain speed   \n",
              "1      2013 1     1    2         11       227      1400      -9  6.167401\n",
              "2      2013 1     1    4         20       227      1416     -16  6.237885\n",
              "3      2013 1     1    2         33       160      1089     -31  6.806250\n",
              "4      2013 1     1   -1        -18       183      1576      17  8.612022\n",
              "5      2013 1     1   -6        -25       116       762      19  6.568966\n",
              "6      2013 1     1   -4         12       150       719     -16  4.793333\n",
              "7      2013 1     1   -5         19       158      1065     -24  6.740506\n",
              "8      2013 1     1   -3        -14        53       229      11  4.320755\n",
              "9      2013 1     1   -3         -8       140       944       5  6.742857\n",
              "10     2013 1     1   -2          8       138       733     -10  5.311594\n",
              "11     2013 1     1   -2         -2       149      1028       0  6.899329\n",
              "12     2013 1     1   -2         -3       158      1005       1  6.360759\n",
              "13     2013 1     1   -2          7       345      2475      -9  7.173913\n",
              "14     2013 1     1   -2        -14       361      2565      12  7.105263\n",
              "15     2013 1     1   -1         31       257      1389     -32  5.404669\n",
              "16     2013 1     1    0         -4        44       187       4  4.250000\n",
              "17     2013 1     1   -1         -8       337      2227       7  6.608309\n",
              "18     2013 1     1    0         -7       152      1076       7  7.078947\n",
              "19     2013 1     1    0         12       134       762     -12  5.686567\n",
              "20     2013 1     1    1         -6       147      1023       7  6.959184\n",
              "21     2013 1     1   -8         -8       170      1020       0  6.000000\n",
              "22     2013 1     1   -3         16       105       502     -19  4.780952\n",
              " [ getOption(\"max.print\") 에 도달했습니다 -- 39 행들을 생략합니다 ]"
            ]
          },
          "metadata": {},
          "output_type": "display_data"
        }
      ],
      "source": [
        "df %>% select(year:day, ends_with('delay'), air_time:distance) %>%\n",
        "mutate(gain = dep_delay - arr_delay, speed = distance/air_time)"
      ]
    },
    {
      "cell_type": "markdown",
      "id": "7e5d1fe8-6a41-4ee7-be07-ecc896f665dd",
      "metadata": {
        "id": "7e5d1fe8-6a41-4ee7-be07-ecc896f665dd"
      },
      "source": [
        "`-` year, month, day 로 그룹핑을 하고 평균속도와 평균gain을 계산해보자."
      ]
    },
    {
      "cell_type": "code",
      "execution_count": null,
      "id": "6cc84c89-7bfc-4179-b4fa-c915d3856e11",
      "metadata": {
        "id": "6cc84c89-7bfc-4179-b4fa-c915d3856e11",
        "outputId": "3e6d9679-ce63-41e2-a78c-92314fb251a3"
      },
      "outputs": [
        {
          "name": "stderr",
          "output_type": "stream",
          "text": [
            "`summarise()` has grouped output by 'year', 'month'. You can override using the `.groups` argument.\n",
            "\n"
          ]
        },
        {
          "data": {
            "text/plain": [
              "    year month day speed_mean gain_mean\n",
              "1   2013 1      1  NA         NA       \n",
              "2   2013 1      2  NA         NA       \n",
              "3   2013 1      3  NA         NA       \n",
              "4   2013 1      4  NA         NA       \n",
              "5   2013 1      5  NA         NA       \n",
              "6   2013 1      6  NA         NA       \n",
              "7   2013 1      7  NA         NA       \n",
              "8   2013 1      8  NA         NA       \n",
              "9   2013 1      9  NA         NA       \n",
              "10  2013 1     10  NA         NA       \n",
              "11  2013 1     11  NA         NA       \n",
              "12  2013 1     12  NA         NA       \n",
              "13  2013 1     13  NA         NA       \n",
              "14  2013 1     14  NA         NA       \n",
              "15  2013 1     15  NA         NA       \n",
              "16  2013 1     16  NA         NA       \n",
              "17  2013 1     17  NA         NA       \n",
              "18  2013 1     18  NA         NA       \n",
              "19  2013 1     19  NA         NA       \n",
              "20  2013 1     20  NA         NA       \n",
              "21  2013 1     21  NA         NA       \n",
              "22  2013 1     22  NA         NA       \n",
              "23  2013 1     23  NA         NA       \n",
              "24  2013 1     24  NA         NA       \n",
              "25  2013 1     25  NA         NA       \n",
              "26  2013 1     26  NA         NA       \n",
              "27  2013 1     27  NA         NA       \n",
              "28  2013 1     28  NA         NA       \n",
              "29  2013 1     29  NA         NA       \n",
              "30  2013 1     30  NA         NA       \n",
              "<U+22EE>   <U+22EE> <U+22EE> <U+22EE> <U+22EE>   <U+22EE> \n",
              "336 2013 12     2  NA         NA       \n",
              "337 2013 12     3  NA         NA       \n",
              "338 2013 12     4  NA         NA       \n",
              "339 2013 12     5  NA         NA       \n",
              "340 2013 12     6  NA         NA       \n",
              "341 2013 12     7  NA         NA       \n",
              "342 2013 12     8  NA         NA       \n",
              "343 2013 12     9  NA         NA       \n",
              "344 2013 12    10  NA         NA       \n",
              " [ getOption(\"max.print\") 에 도달했습니다 -- 21 행들을 생략합니다 ]"
            ]
          },
          "metadata": {},
          "output_type": "display_data"
        }
      ],
      "source": [
        "df %>% select(year:day, ends_with('delay'), air_time:distance) %>%\n",
        "mutate(gain = dep_delay - arr_delay, speed = distance/air_time) %>%\n",
        "group_by(year,month,day) %>% summarise(speed_mean= mean(speed),gain_mean= mean(gain))"
      ]
    },
    {
      "cell_type": "markdown",
      "id": "1cb66f2c-639e-4b4d-b9ec-318514b7b765",
      "metadata": {
        "id": "1cb66f2c-639e-4b4d-b9ec-318514b7b765"
      },
      "source": [
        "- 결측값이 있어 계산되지 않았음 -> `na.rm=TRUE` 사용"
      ]
    },
    {
      "cell_type": "code",
      "execution_count": null,
      "id": "d7c2f977-6121-4ef6-9002-f43c87e86d85",
      "metadata": {
        "id": "d7c2f977-6121-4ef6-9002-f43c87e86d85",
        "outputId": "08b6b0d4-ddb8-4fbc-bdc1-e424bc598b48"
      },
      "outputs": [
        {
          "name": "stderr",
          "output_type": "stream",
          "text": [
            "`summarise()` has grouped output by 'year', 'month'. You can override using the `.groups` argument.\n",
            "\n"
          ]
        },
        {
          "data": {
            "text/plain": [
              "    year month day speed_mean gain_mean  \n",
              "1   2013 1      1  5.956879   -1.2154031 \n",
              "2   2013 1      2  6.085977    0.9849138 \n",
              "3   2013 1      3  6.163061    5.1744444 \n",
              "4   2013 1      4  6.389652   10.8986784 \n",
              "5   2013 1      5  6.259174    7.2580195 \n",
              "6   2013 1      6  6.146544    2.9095296 \n",
              "7   2013 1      7  6.488469   10.3645161 \n",
              "8   2013 1      8  6.215331    5.7858744 \n",
              "9   2013 1      9  6.021767    2.5655095 \n",
              "10  2013 1     10  6.375353    8.7438105 \n",
              "11  2013 1     11  6.326487    7.5954198 \n",
              "12  2013 1     12  6.613691   14.6093979 \n",
              "13  2013 1     13  6.353392    4.6877323 \n",
              "14  2013 1     14  6.018617   -0.8418202 \n",
              "15  2013 1     15  5.918271   -0.3019296 \n",
              "16  2013 1     16  5.819344   -9.7924971 \n",
              "17  2013 1     17  5.923112    1.1923497 \n",
              "18  2013 1     18  6.207338    4.9263736 \n",
              "19  2013 1     19  6.340853   11.8882265 \n",
              "20  2013 1     20  6.098927    3.0640205 \n",
              "21  2013 1     21  5.911828    1.5232816 \n",
              "22  2013 1     22  5.966793    0.2225989 \n",
              "23  2013 1     23  6.081496    3.6925676 \n",
              "24  2013 1     24  6.305144    4.1156388 \n",
              "25  2013 1     25  6.177677   -5.3469852 \n",
              "26  2013 1     26  6.342779    6.4619970 \n",
              "27  2013 1     27  6.371808    9.6972705 \n",
              "28  2013 1     28  6.288730    5.7794632 \n",
              "29  2013 1     29  6.297918    9.1047181 \n",
              "30  2013 1     30  6.072084    2.0226131 \n",
              "<U+22EE>   <U+22EE> <U+22EE> <U+22EE> <U+22EE>   <U+22EE>   \n",
              "336 2013 12     2  6.538165     8.6172345\n",
              "337 2013 12     3  6.385837     3.7637306\n",
              "338 2013 12     4  6.374694     5.5354497\n",
              "339 2013 12     5  6.315847     0.7886279\n",
              "340 2013 12     6  6.088300    -4.9424779\n",
              "341 2013 12     7  6.083830    -0.5210210\n",
              "342 2013 12     8  6.015119   -16.0335404\n",
              "343 2013 12     9  5.927017    -7.9688889\n",
              "344 2013 12    10  5.851833   -18.0433018\n",
              " [ getOption(\"max.print\") 에 도달했습니다 -- 21 행들을 생략합니다 ]"
            ]
          },
          "metadata": {},
          "output_type": "display_data"
        }
      ],
      "source": [
        "df %>% select(year:day, ends_with('delay'), air_time:distance) %>%\n",
        "mutate(gain = dep_delay - arr_delay, speed = distance/air_time) %>%\n",
        "group_by(year,month,day) %>% summarise(speed_mean= mean(speed,na.rm = TRUE),gain_mean= mean(gain,na.rm = TRUE))"
      ]
    },
    {
      "cell_type": "markdown",
      "id": "824e7fee-85ee-4866-995b-0ee0016065e9",
      "metadata": {
        "id": "824e7fee-85ee-4866-995b-0ee0016065e9"
      },
      "source": [
        "`-` 추가학습"
      ]
    },
    {
      "cell_type": "markdown",
      "id": "58f5925b-27b0-4713-87f3-fac8a23b4f77",
      "metadata": {
        "id": "58f5925b-27b0-4713-87f3-fac8a23b4f77"
      },
      "source": [
        "강화유리와 유리를 구분할 수 있는 유리 장인이 있다.\n",
        "\n",
        "이 유리장인은 80퍼센트의 확률로 강화유리를 고른다.\n",
        "\n",
        "총 10명의 참가자가 있고 이 참가자들은 (유리,강화유리)의 조합으로 이루어진 징검다리를 5번연속으로 건너야 한다.\n",
        "\n",
        "아래의 경우에 참가자들은 평균적으로 몇명이 살아남겠는가?\n",
        "\n",
        "`1) 일반인1 - 일반인2 - .... - 일반인9 - 유리장인 || (강화유리, 유리)`\n",
        "\n",
        "`2) 유리장인 - 일반인1 - 일반인2 - ... - 일반인9 || (강화유리, 유리)`\n",
        "\n",
        "1000번 시뮬레이션을 하여 결과를 추정하라.\n",
        "\n",
        "(단, 일반인은 50%의 확률로 강화유리를 고를수 있다고 하자)"
      ]
    },
    {
      "cell_type": "markdown",
      "id": "df39566f-e2b5-497b-b0a9-32a882d5addc",
      "metadata": {
        "id": "df39566f-e2b5-497b-b0a9-32a882d5addc"
      },
      "source": [
        "[예시] (1)의 시뮬레이션 결과가 아래와 같다고 하자.\n",
        "\n",
        "- 첫번째 징검다리: 유리장인이 강화유리 선택\n",
        "- 두번째 징검다리: 유리장인이 강화유리 선택\n",
        "- 세번째 징검다리: 유리장인이 일반유리 선택 \\to→ 유리장인 탈락 & 일반인9는 당연히 강화유리를 선택\n",
        "- 네번째 징검다리: 일반인9가 일반유리 선택 \\to→ 일반인9 탈락 & 일반인8은 당연히 강화유리 선택\n",
        "- 다섯번째 징검다리: 일반인8이 강화유리 선택\n",
        "이 경우는 일반인8,일반인7, \\dots…, 일반인1이 살아남으므로 8명이 살아남는다.\n",
        "\n",
        "[예시] (2)의 시뮬레이션 결과가 아래와 같다고 하자.\n",
        "\n",
        "- 첫번째 징검다리: 일반인9 일반유리 선택 \\to→ 일반인9 탈락 & 일반인8은 강화유리 선택\n",
        "- 두번째 징검다리: 일반인8 일반유리 선택 \\to→ 일반인8 탈락 & 일반인7은 강화유리 선택\n",
        "- 세번째 징검다리: 일반인7 일반유리 선택 \\to→ 일반인7 탈락 & 일반인6은 강화유리 선택\n",
        "- 네번째 징검다리: 일반인6 일반유리 선택 \\to→ 일반인6 탈락 & 일반인5는 강화유리 선택\n",
        "- 다섯번째 징검다리: 일반인5 일반유리 선택 \\to→ 일반인5 탈락 & 일반인4는 강화유리 선택\n",
        "이 경우는 일반인4,일반인3,일반인2,일반인1,유리장인 이 살아남는다. (따라서 5명)\n",
        "\n",
        "`-` 즉 살아남을수 있는 최대인원수는 10명이며 최소인원수는 5명이다.\n",
        "\n",
        "`-` 유리장인이 100%의 확률로 강화유리를 구분한다면 (1)의 경우 항상 10명이 살아남는다. (즉 평균도 10명)"
      ]
    }
  ],
  "metadata": {
    "kernelspec": {
      "display_name": "R",
      "language": "R",
      "name": "ir"
    },
    "language_info": {
      "codemirror_mode": "r",
      "file_extension": ".r",
      "mimetype": "text/x-r-source",
      "name": "R",
      "pygments_lexer": "r",
      "version": "4.0.5"
    },
    "colab": {
      "name": "2022_03_04_IR.ipynb",
      "provenance": [],
      "toc_visible": true
    }
  },
  "nbformat": 4,
  "nbformat_minor": 5
}