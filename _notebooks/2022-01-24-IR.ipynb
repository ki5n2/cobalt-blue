{
  "cells": [
    {
      "cell_type": "markdown",
      "source": [
        "# IR 1. 변수설정 팁, 벡터선언, 함수설정\n",
        "> \"작성완료\"\n",
        "\n",
        "- toc:true\n",
        "- branch: master\n",
        "- badges: true\n",
        "- comments: true\n",
        "- [R]"
      ],
      "metadata": {
        "id": "ULKvgM1r9ST_"
      },
      "id": "ULKvgM1r9ST_"
    },
    {
      "cell_type": "markdown",
      "source": [
        "---\n",
        "# Introduce R \n",
        "- lenture: Introduce R_2nd week of lectures.\n",
        "- lenture date: 2021-09-09\n",
        "- lecturer: Guebin choi\n",
        "- study date: 2022-01-24\n",
        "- author: Kione kim\n",
        "---"
      ],
      "metadata": {
        "id": "3d7_qHze9Vxu"
      },
      "id": "3d7_qHze9Vxu"
    },
    {
      "cell_type": "markdown",
      "id": "0e5c7bfd-26d7-4064-8a99-496c031335b3",
      "metadata": {
        "id": "0e5c7bfd-26d7-4064-8a99-496c031335b3"
      },
      "source": [
        "> 학습동기: R을 강의를 통해 자세히 학습한 적은 없고 구글링, 유튜브, 책 등을 통해 필요한 부분만 습득했다. 코딩을 할 때 모르는 부분이 나왔을 때 막막했던 적이 많았기에 R의 기초를 다질필요가 있다고 생각했다. 해당 강의는 개인적으로 좋아하는 교수님의 강의이고 기초적인 부분을 자세히 가르쳐줄 뿐만 아니라 심화된 내용까지 다루고 있다. 따라서 해당 강의를 따라가며 R의 기본기를 다질 예정이다."
      ]
    },
    {
      "cell_type": "code",
      "execution_count": 1,
      "id": "0c8a34fe-b6a1-45da-8b6d-786ff1ca9166",
      "metadata": {
        "id": "0c8a34fe-b6a1-45da-8b6d-786ff1ca9166"
      },
      "outputs": [],
      "source": [
        "options(jupyter.rich_display=FALSE)"
      ]
    },
    {
      "cell_type": "markdown",
      "id": "17ebb3ce-4457-4721-a866-39b0b9dcb5a1",
      "metadata": {
        "jp-MarkdownHeadingCollapsed": true,
        "tags": [],
        "id": "17ebb3ce-4457-4721-a866-39b0b9dcb5a1"
      },
      "source": [
        "### 1. 변수이름설정 팁\n",
        "`-` 변수 이름 축약 시 모음을 제외하면 좋다.\n",
        "- result -> rslt\n",
        "- residual -> rsdl\n",
        "\n",
        "`-` 임시 변수를 설정할 경우 변수이름 뒤 언더바(_)를 붙인다.\n",
        "- x_, y_, z_"
      ]
    },
    {
      "cell_type": "markdown",
      "id": "061bc612-da6b-42dc-b19b-675b5ce7465e",
      "metadata": {
        "id": "061bc612-da6b-42dc-b19b-675b5ce7465e"
      },
      "source": [
        "### 2. 벡터를 선언하는 방법"
      ]
    },
    {
      "cell_type": "markdown",
      "id": "6953acc0-9d98-42b8-9a9a-ab2894db5c9e",
      "metadata": {
        "id": "6953acc0-9d98-42b8-9a9a-ab2894db5c9e"
      },
      "source": [
        "`-` 방법 1: 직접 입력"
      ]
    },
    {
      "cell_type": "code",
      "execution_count": null,
      "id": "ca1e3c09-cba8-4f17-8cc2-4d5dc673a606",
      "metadata": {
        "id": "ca1e3c09-cba8-4f17-8cc2-4d5dc673a606",
        "outputId": "93ec8667-d3b4-4544-d532-3cbee8e03c38"
      },
      "outputs": [
        {
          "data": {
            "text/html": [
              "<style>\n",
              ".list-inline {list-style: none; margin:0; padding: 0}\n",
              ".list-inline>li {display: inline-block}\n",
              ".list-inline>li:not(:last-child)::after {content: \"\\00b7\"; padding: 0 .5ex}\n",
              "</style>\n",
              "<ol class=list-inline><li>3</li><li>3</li><li>2</li><li>1</li><li>3</li><li>2</li><li>2</li></ol>\n"
            ],
            "text/latex": [
              "\\begin{enumerate*}\n",
              "\\item 3\n",
              "\\item 3\n",
              "\\item 2\n",
              "\\item 1\n",
              "\\item 3\n",
              "\\item 2\n",
              "\\item 2\n",
              "\\end{enumerate*}\n"
            ],
            "text/markdown": [
              "1. 3\n",
              "2. 3\n",
              "3. 2\n",
              "4. 1\n",
              "5. 3\n",
              "6. 2\n",
              "7. 2\n",
              "\n",
              "\n"
            ],
            "text/plain": [
              "[1] 3 3 2 1 3 2 2"
            ]
          },
          "metadata": {},
          "output_type": "display_data"
        }
      ],
      "source": [
        "c(3,3,2,1,3,2,2)"
      ]
    },
    {
      "cell_type": "markdown",
      "id": "3cff491f-2f1f-446a-a3a7-ede43f1c52ef",
      "metadata": {
        "id": "3cff491f-2f1f-446a-a3a7-ede43f1c52ef"
      },
      "source": [
        "`-` 방법 2: seq를 이용"
      ]
    },
    {
      "cell_type": "code",
      "execution_count": null,
      "id": "8bc26624-c2d4-40d9-bfae-99f4bc21618f",
      "metadata": {
        "id": "8bc26624-c2d4-40d9-bfae-99f4bc21618f",
        "outputId": "cd94a816-6e98-45b7-b7bc-a87ab71979f4"
      },
      "outputs": [
        {
          "data": {
            "text/html": [
              "<style>\n",
              ".list-inline {list-style: none; margin:0; padding: 0}\n",
              ".list-inline>li {display: inline-block}\n",
              ".list-inline>li:not(:last-child)::after {content: \"\\00b7\"; padding: 0 .5ex}\n",
              "</style>\n",
              "<ol class=list-inline><li>0</li><li>0.1</li><li>0.2</li><li>0.3</li><li>0.4</li><li>0.5</li><li>0.6</li><li>0.7</li><li>0.8</li><li>0.9</li><li>1</li><li>1.1</li><li>1.2</li><li>1.3</li><li>1.4</li><li>1.5</li><li>1.6</li><li>1.7</li><li>1.8</li><li>1.9</li><li>2</li><li>2.1</li><li>2.2</li><li>2.3</li><li>2.4</li><li>2.5</li><li>2.6</li><li>2.7</li><li>2.8</li><li>2.9</li><li>3</li><li>3.1</li><li>3.2</li><li>3.3</li><li>3.4</li><li>3.5</li><li>3.6</li><li>3.7</li><li>3.8</li><li>3.9</li><li>4</li><li>4.1</li><li>4.2</li><li>4.3</li><li>4.4</li><li>4.5</li><li>4.6</li><li>4.7</li><li>4.8</li><li>4.9</li><li>5</li><li>5.1</li><li>5.2</li><li>5.3</li><li>5.4</li><li>5.5</li><li>5.6</li><li>5.7</li><li>5.8</li><li>5.9</li><li>6</li><li>6.1</li><li>6.2</li><li>6.3</li><li>6.4</li><li>6.5</li><li>6.6</li><li>6.7</li><li>6.8</li><li>6.9</li><li>7</li><li>7.1</li><li>7.2</li><li>7.3</li><li>7.4</li><li>7.5</li><li>7.6</li><li>7.7</li><li>7.8</li><li>7.9</li><li>8</li><li>8.1</li><li>8.2</li><li>8.3</li><li>8.4</li><li>8.5</li><li>8.6</li><li>8.7</li><li>8.8</li><li>8.9</li><li>9</li><li>9.1</li><li>9.2</li><li>9.3</li><li>9.4</li><li>9.5</li><li>9.6</li><li>9.7</li><li>9.8</li><li>9.9</li><li>10</li></ol>\n"
            ],
            "text/latex": [
              "\\begin{enumerate*}\n",
              "\\item 0\n",
              "\\item 0.1\n",
              "\\item 0.2\n",
              "\\item 0.3\n",
              "\\item 0.4\n",
              "\\item 0.5\n",
              "\\item 0.6\n",
              "\\item 0.7\n",
              "\\item 0.8\n",
              "\\item 0.9\n",
              "\\item 1\n",
              "\\item 1.1\n",
              "\\item 1.2\n",
              "\\item 1.3\n",
              "\\item 1.4\n",
              "\\item 1.5\n",
              "\\item 1.6\n",
              "\\item 1.7\n",
              "\\item 1.8\n",
              "\\item 1.9\n",
              "\\item 2\n",
              "\\item 2.1\n",
              "\\item 2.2\n",
              "\\item 2.3\n",
              "\\item 2.4\n",
              "\\item 2.5\n",
              "\\item 2.6\n",
              "\\item 2.7\n",
              "\\item 2.8\n",
              "\\item 2.9\n",
              "\\item 3\n",
              "\\item 3.1\n",
              "\\item 3.2\n",
              "\\item 3.3\n",
              "\\item 3.4\n",
              "\\item 3.5\n",
              "\\item 3.6\n",
              "\\item 3.7\n",
              "\\item 3.8\n",
              "\\item 3.9\n",
              "\\item 4\n",
              "\\item 4.1\n",
              "\\item 4.2\n",
              "\\item 4.3\n",
              "\\item 4.4\n",
              "\\item 4.5\n",
              "\\item 4.6\n",
              "\\item 4.7\n",
              "\\item 4.8\n",
              "\\item 4.9\n",
              "\\item 5\n",
              "\\item 5.1\n",
              "\\item 5.2\n",
              "\\item 5.3\n",
              "\\item 5.4\n",
              "\\item 5.5\n",
              "\\item 5.6\n",
              "\\item 5.7\n",
              "\\item 5.8\n",
              "\\item 5.9\n",
              "\\item 6\n",
              "\\item 6.1\n",
              "\\item 6.2\n",
              "\\item 6.3\n",
              "\\item 6.4\n",
              "\\item 6.5\n",
              "\\item 6.6\n",
              "\\item 6.7\n",
              "\\item 6.8\n",
              "\\item 6.9\n",
              "\\item 7\n",
              "\\item 7.1\n",
              "\\item 7.2\n",
              "\\item 7.3\n",
              "\\item 7.4\n",
              "\\item 7.5\n",
              "\\item 7.6\n",
              "\\item 7.7\n",
              "\\item 7.8\n",
              "\\item 7.9\n",
              "\\item 8\n",
              "\\item 8.1\n",
              "\\item 8.2\n",
              "\\item 8.3\n",
              "\\item 8.4\n",
              "\\item 8.5\n",
              "\\item 8.6\n",
              "\\item 8.7\n",
              "\\item 8.8\n",
              "\\item 8.9\n",
              "\\item 9\n",
              "\\item 9.1\n",
              "\\item 9.2\n",
              "\\item 9.3\n",
              "\\item 9.4\n",
              "\\item 9.5\n",
              "\\item 9.6\n",
              "\\item 9.7\n",
              "\\item 9.8\n",
              "\\item 9.9\n",
              "\\item 10\n",
              "\\end{enumerate*}\n"
            ],
            "text/markdown": [
              "1. 0\n",
              "2. 0.1\n",
              "3. 0.2\n",
              "4. 0.3\n",
              "5. 0.4\n",
              "6. 0.5\n",
              "7. 0.6\n",
              "8. 0.7\n",
              "9. 0.8\n",
              "10. 0.9\n",
              "11. 1\n",
              "12. 1.1\n",
              "13. 1.2\n",
              "14. 1.3\n",
              "15. 1.4\n",
              "16. 1.5\n",
              "17. 1.6\n",
              "18. 1.7\n",
              "19. 1.8\n",
              "20. 1.9\n",
              "21. 2\n",
              "22. 2.1\n",
              "23. 2.2\n",
              "24. 2.3\n",
              "25. 2.4\n",
              "26. 2.5\n",
              "27. 2.6\n",
              "28. 2.7\n",
              "29. 2.8\n",
              "30. 2.9\n",
              "31. 3\n",
              "32. 3.1\n",
              "33. 3.2\n",
              "34. 3.3\n",
              "35. 3.4\n",
              "36. 3.5\n",
              "37. 3.6\n",
              "38. 3.7\n",
              "39. 3.8\n",
              "40. 3.9\n",
              "41. 4\n",
              "42. 4.1\n",
              "43. 4.2\n",
              "44. 4.3\n",
              "45. 4.4\n",
              "46. 4.5\n",
              "47. 4.6\n",
              "48. 4.7\n",
              "49. 4.8\n",
              "50. 4.9\n",
              "51. 5\n",
              "52. 5.1\n",
              "53. 5.2\n",
              "54. 5.3\n",
              "55. 5.4\n",
              "56. 5.5\n",
              "57. 5.6\n",
              "58. 5.7\n",
              "59. 5.8\n",
              "60. 5.9\n",
              "61. 6\n",
              "62. 6.1\n",
              "63. 6.2\n",
              "64. 6.3\n",
              "65. 6.4\n",
              "66. 6.5\n",
              "67. 6.6\n",
              "68. 6.7\n",
              "69. 6.8\n",
              "70. 6.9\n",
              "71. 7\n",
              "72. 7.1\n",
              "73. 7.2\n",
              "74. 7.3\n",
              "75. 7.4\n",
              "76. 7.5\n",
              "77. 7.6\n",
              "78. 7.7\n",
              "79. 7.8\n",
              "80. 7.9\n",
              "81. 8\n",
              "82. 8.1\n",
              "83. 8.2\n",
              "84. 8.3\n",
              "85. 8.4\n",
              "86. 8.5\n",
              "87. 8.6\n",
              "88. 8.7\n",
              "89. 8.8\n",
              "90. 8.9\n",
              "91. 9\n",
              "92. 9.1\n",
              "93. 9.2\n",
              "94. 9.3\n",
              "95. 9.4\n",
              "96. 9.5\n",
              "97. 9.6\n",
              "98. 9.7\n",
              "99. 9.8\n",
              "100. 9.9\n",
              "101. 10\n",
              "\n",
              "\n"
            ],
            "text/plain": [
              "  [1]  0.0  0.1  0.2  0.3  0.4  0.5  0.6  0.7  0.8  0.9  1.0  1.1  1.2  1.3  1.4\n",
              " [16]  1.5  1.6  1.7  1.8  1.9  2.0  2.1  2.2  2.3  2.4  2.5  2.6  2.7  2.8  2.9\n",
              " [31]  3.0  3.1  3.2  3.3  3.4  3.5  3.6  3.7  3.8  3.9  4.0  4.1  4.2  4.3  4.4\n",
              " [46]  4.5  4.6  4.7  4.8  4.9  5.0  5.1  5.2  5.3  5.4  5.5  5.6  5.7  5.8  5.9\n",
              " [61]  6.0  6.1  6.2  6.3  6.4  6.5  6.6  6.7  6.8  6.9  7.0  7.1  7.2  7.3  7.4\n",
              " [76]  7.5  7.6  7.7  7.8  7.9  8.0  8.1  8.2  8.3  8.4  8.5  8.6  8.7  8.8  8.9\n",
              " [91]  9.0  9.1  9.2  9.3  9.4  9.5  9.6  9.7  9.8  9.9 10.0"
            ]
          },
          "metadata": {},
          "output_type": "display_data"
        }
      ],
      "source": [
        "seq(from=0,to=10,by=0.1) # 0부터 10까지 0.1간격의 수열"
      ]
    },
    {
      "cell_type": "code",
      "execution_count": null,
      "id": "3d5e0117-beeb-4e87-a743-535daa04ec00",
      "metadata": {
        "id": "3d5e0117-beeb-4e87-a743-535daa04ec00",
        "outputId": "8af5838a-6259-452c-9a76-3bae53499059"
      },
      "outputs": [
        {
          "data": {
            "text/html": [
              "<style>\n",
              ".list-inline {list-style: none; margin:0; padding: 0}\n",
              ".list-inline>li {display: inline-block}\n",
              ".list-inline>li:not(:last-child)::after {content: \"\\00b7\"; padding: 0 .5ex}\n",
              "</style>\n",
              "<ol class=list-inline><li>0</li><li>0.1</li><li>0.2</li><li>0.3</li><li>0.4</li><li>0.5</li><li>0.6</li><li>0.7</li><li>0.8</li><li>0.9</li><li>1</li><li>1.1</li><li>1.2</li><li>1.3</li><li>1.4</li><li>1.5</li><li>1.6</li><li>1.7</li><li>1.8</li><li>1.9</li><li>2</li><li>2.1</li><li>2.2</li><li>2.3</li><li>2.4</li><li>2.5</li><li>2.6</li><li>2.7</li><li>2.8</li><li>2.9</li><li>3</li><li>3.1</li><li>3.2</li><li>3.3</li><li>3.4</li><li>3.5</li><li>3.6</li><li>3.7</li><li>3.8</li><li>3.9</li><li>4</li><li>4.1</li><li>4.2</li><li>4.3</li><li>4.4</li><li>4.5</li><li>4.6</li><li>4.7</li><li>4.8</li><li>4.9</li><li>5</li><li>5.1</li><li>5.2</li><li>5.3</li><li>5.4</li><li>5.5</li><li>5.6</li><li>5.7</li><li>5.8</li><li>5.9</li><li>6</li><li>6.1</li><li>6.2</li><li>6.3</li><li>6.4</li><li>6.5</li><li>6.6</li><li>6.7</li><li>6.8</li><li>6.9</li><li>7</li><li>7.1</li><li>7.2</li><li>7.3</li><li>7.4</li><li>7.5</li><li>7.6</li><li>7.7</li><li>7.8</li><li>7.9</li><li>8</li><li>8.1</li><li>8.2</li><li>8.3</li><li>8.4</li><li>8.5</li><li>8.6</li><li>8.7</li><li>8.8</li><li>8.9</li><li>9</li><li>9.1</li><li>9.2</li><li>9.3</li><li>9.4</li><li>9.5</li><li>9.6</li><li>9.7</li><li>9.8</li><li>9.9</li><li>10</li></ol>\n"
            ],
            "text/latex": [
              "\\begin{enumerate*}\n",
              "\\item 0\n",
              "\\item 0.1\n",
              "\\item 0.2\n",
              "\\item 0.3\n",
              "\\item 0.4\n",
              "\\item 0.5\n",
              "\\item 0.6\n",
              "\\item 0.7\n",
              "\\item 0.8\n",
              "\\item 0.9\n",
              "\\item 1\n",
              "\\item 1.1\n",
              "\\item 1.2\n",
              "\\item 1.3\n",
              "\\item 1.4\n",
              "\\item 1.5\n",
              "\\item 1.6\n",
              "\\item 1.7\n",
              "\\item 1.8\n",
              "\\item 1.9\n",
              "\\item 2\n",
              "\\item 2.1\n",
              "\\item 2.2\n",
              "\\item 2.3\n",
              "\\item 2.4\n",
              "\\item 2.5\n",
              "\\item 2.6\n",
              "\\item 2.7\n",
              "\\item 2.8\n",
              "\\item 2.9\n",
              "\\item 3\n",
              "\\item 3.1\n",
              "\\item 3.2\n",
              "\\item 3.3\n",
              "\\item 3.4\n",
              "\\item 3.5\n",
              "\\item 3.6\n",
              "\\item 3.7\n",
              "\\item 3.8\n",
              "\\item 3.9\n",
              "\\item 4\n",
              "\\item 4.1\n",
              "\\item 4.2\n",
              "\\item 4.3\n",
              "\\item 4.4\n",
              "\\item 4.5\n",
              "\\item 4.6\n",
              "\\item 4.7\n",
              "\\item 4.8\n",
              "\\item 4.9\n",
              "\\item 5\n",
              "\\item 5.1\n",
              "\\item 5.2\n",
              "\\item 5.3\n",
              "\\item 5.4\n",
              "\\item 5.5\n",
              "\\item 5.6\n",
              "\\item 5.7\n",
              "\\item 5.8\n",
              "\\item 5.9\n",
              "\\item 6\n",
              "\\item 6.1\n",
              "\\item 6.2\n",
              "\\item 6.3\n",
              "\\item 6.4\n",
              "\\item 6.5\n",
              "\\item 6.6\n",
              "\\item 6.7\n",
              "\\item 6.8\n",
              "\\item 6.9\n",
              "\\item 7\n",
              "\\item 7.1\n",
              "\\item 7.2\n",
              "\\item 7.3\n",
              "\\item 7.4\n",
              "\\item 7.5\n",
              "\\item 7.6\n",
              "\\item 7.7\n",
              "\\item 7.8\n",
              "\\item 7.9\n",
              "\\item 8\n",
              "\\item 8.1\n",
              "\\item 8.2\n",
              "\\item 8.3\n",
              "\\item 8.4\n",
              "\\item 8.5\n",
              "\\item 8.6\n",
              "\\item 8.7\n",
              "\\item 8.8\n",
              "\\item 8.9\n",
              "\\item 9\n",
              "\\item 9.1\n",
              "\\item 9.2\n",
              "\\item 9.3\n",
              "\\item 9.4\n",
              "\\item 9.5\n",
              "\\item 9.6\n",
              "\\item 9.7\n",
              "\\item 9.8\n",
              "\\item 9.9\n",
              "\\item 10\n",
              "\\end{enumerate*}\n"
            ],
            "text/markdown": [
              "1. 0\n",
              "2. 0.1\n",
              "3. 0.2\n",
              "4. 0.3\n",
              "5. 0.4\n",
              "6. 0.5\n",
              "7. 0.6\n",
              "8. 0.7\n",
              "9. 0.8\n",
              "10. 0.9\n",
              "11. 1\n",
              "12. 1.1\n",
              "13. 1.2\n",
              "14. 1.3\n",
              "15. 1.4\n",
              "16. 1.5\n",
              "17. 1.6\n",
              "18. 1.7\n",
              "19. 1.8\n",
              "20. 1.9\n",
              "21. 2\n",
              "22. 2.1\n",
              "23. 2.2\n",
              "24. 2.3\n",
              "25. 2.4\n",
              "26. 2.5\n",
              "27. 2.6\n",
              "28. 2.7\n",
              "29. 2.8\n",
              "30. 2.9\n",
              "31. 3\n",
              "32. 3.1\n",
              "33. 3.2\n",
              "34. 3.3\n",
              "35. 3.4\n",
              "36. 3.5\n",
              "37. 3.6\n",
              "38. 3.7\n",
              "39. 3.8\n",
              "40. 3.9\n",
              "41. 4\n",
              "42. 4.1\n",
              "43. 4.2\n",
              "44. 4.3\n",
              "45. 4.4\n",
              "46. 4.5\n",
              "47. 4.6\n",
              "48. 4.7\n",
              "49. 4.8\n",
              "50. 4.9\n",
              "51. 5\n",
              "52. 5.1\n",
              "53. 5.2\n",
              "54. 5.3\n",
              "55. 5.4\n",
              "56. 5.5\n",
              "57. 5.6\n",
              "58. 5.7\n",
              "59. 5.8\n",
              "60. 5.9\n",
              "61. 6\n",
              "62. 6.1\n",
              "63. 6.2\n",
              "64. 6.3\n",
              "65. 6.4\n",
              "66. 6.5\n",
              "67. 6.6\n",
              "68. 6.7\n",
              "69. 6.8\n",
              "70. 6.9\n",
              "71. 7\n",
              "72. 7.1\n",
              "73. 7.2\n",
              "74. 7.3\n",
              "75. 7.4\n",
              "76. 7.5\n",
              "77. 7.6\n",
              "78. 7.7\n",
              "79. 7.8\n",
              "80. 7.9\n",
              "81. 8\n",
              "82. 8.1\n",
              "83. 8.2\n",
              "84. 8.3\n",
              "85. 8.4\n",
              "86. 8.5\n",
              "87. 8.6\n",
              "88. 8.7\n",
              "89. 8.8\n",
              "90. 8.9\n",
              "91. 9\n",
              "92. 9.1\n",
              "93. 9.2\n",
              "94. 9.3\n",
              "95. 9.4\n",
              "96. 9.5\n",
              "97. 9.6\n",
              "98. 9.7\n",
              "99. 9.8\n",
              "100. 9.9\n",
              "101. 10\n",
              "\n",
              "\n"
            ],
            "text/plain": [
              "  [1]  0.0  0.1  0.2  0.3  0.4  0.5  0.6  0.7  0.8  0.9  1.0  1.1  1.2  1.3  1.4\n",
              " [16]  1.5  1.6  1.7  1.8  1.9  2.0  2.1  2.2  2.3  2.4  2.5  2.6  2.7  2.8  2.9\n",
              " [31]  3.0  3.1  3.2  3.3  3.4  3.5  3.6  3.7  3.8  3.9  4.0  4.1  4.2  4.3  4.4\n",
              " [46]  4.5  4.6  4.7  4.8  4.9  5.0  5.1  5.2  5.3  5.4  5.5  5.6  5.7  5.8  5.9\n",
              " [61]  6.0  6.1  6.2  6.3  6.4  6.5  6.6  6.7  6.8  6.9  7.0  7.1  7.2  7.3  7.4\n",
              " [76]  7.5  7.6  7.7  7.8  7.9  8.0  8.1  8.2  8.3  8.4  8.5  8.6  8.7  8.8  8.9\n",
              " [91]  9.0  9.1  9.2  9.3  9.4  9.5  9.6  9.7  9.8  9.9 10.0"
            ]
          },
          "metadata": {},
          "output_type": "display_data"
        }
      ],
      "source": [
        "seq(0,10,0.1) # 생략해도 됨"
      ]
    },
    {
      "cell_type": "code",
      "execution_count": null,
      "id": "ea8b884c-7611-4fe4-84fd-a527c636c561",
      "metadata": {
        "id": "ea8b884c-7611-4fe4-84fd-a527c636c561",
        "outputId": "0814dc4c-e17a-4a4d-9ece-0c48babf48a8"
      },
      "outputs": [
        {
          "data": {
            "text/html": [
              "<style>\n",
              ".list-inline {list-style: none; margin:0; padding: 0}\n",
              ".list-inline>li {display: inline-block}\n",
              ".list-inline>li:not(:last-child)::after {content: \"\\00b7\"; padding: 0 .5ex}\n",
              "</style>\n",
              "<ol class=list-inline><li>0</li><li>0.1</li><li>0.2</li><li>0.3</li><li>0.4</li><li>0.5</li><li>0.6</li><li>0.7</li><li>0.8</li><li>0.9</li><li>1</li></ol>\n"
            ],
            "text/latex": [
              "\\begin{enumerate*}\n",
              "\\item 0\n",
              "\\item 0.1\n",
              "\\item 0.2\n",
              "\\item 0.3\n",
              "\\item 0.4\n",
              "\\item 0.5\n",
              "\\item 0.6\n",
              "\\item 0.7\n",
              "\\item 0.8\n",
              "\\item 0.9\n",
              "\\item 1\n",
              "\\end{enumerate*}\n"
            ],
            "text/markdown": [
              "1. 0\n",
              "2. 0.1\n",
              "3. 0.2\n",
              "4. 0.3\n",
              "5. 0.4\n",
              "6. 0.5\n",
              "7. 0.6\n",
              "8. 0.7\n",
              "9. 0.8\n",
              "10. 0.9\n",
              "11. 1\n",
              "\n",
              "\n"
            ],
            "text/plain": [
              " [1] 0.0 0.1 0.2 0.3 0.4 0.5 0.6 0.7 0.8 0.9 1.0"
            ]
          },
          "metadata": {},
          "output_type": "display_data"
        }
      ],
      "source": [
        "seq(from=0,to=1,length.out = 11) # 0부터 1까지 등간격의 11개의 수열"
      ]
    },
    {
      "cell_type": "markdown",
      "id": "19b75947-79a9-47f0-8e6b-b26b134191a5",
      "metadata": {
        "id": "19b75947-79a9-47f0-8e6b-b26b134191a5"
      },
      "source": [
        "`-` 방법 3: `:`를 이용"
      ]
    },
    {
      "cell_type": "code",
      "execution_count": null,
      "id": "5a6e35e8-61da-4102-ba54-53a70c5d32af",
      "metadata": {
        "id": "5a6e35e8-61da-4102-ba54-53a70c5d32af",
        "outputId": "42b18748-f985-445f-f26d-1dede386fbf5"
      },
      "outputs": [
        {
          "data": {
            "text/html": [
              "<style>\n",
              ".list-inline {list-style: none; margin:0; padding: 0}\n",
              ".list-inline>li {display: inline-block}\n",
              ".list-inline>li:not(:last-child)::after {content: \"\\00b7\"; padding: 0 .5ex}\n",
              "</style>\n",
              "<ol class=list-inline><li>1</li><li>2</li><li>3</li><li>4</li><li>5</li><li>6</li><li>7</li><li>8</li><li>9</li><li>10</li></ol>\n"
            ],
            "text/latex": [
              "\\begin{enumerate*}\n",
              "\\item 1\n",
              "\\item 2\n",
              "\\item 3\n",
              "\\item 4\n",
              "\\item 5\n",
              "\\item 6\n",
              "\\item 7\n",
              "\\item 8\n",
              "\\item 9\n",
              "\\item 10\n",
              "\\end{enumerate*}\n"
            ],
            "text/markdown": [
              "1. 1\n",
              "2. 2\n",
              "3. 3\n",
              "4. 4\n",
              "5. 5\n",
              "6. 6\n",
              "7. 7\n",
              "8. 8\n",
              "9. 9\n",
              "10. 10\n",
              "\n",
              "\n"
            ],
            "text/plain": [
              " [1]  1  2  3  4  5  6  7  8  9 10"
            ]
          },
          "metadata": {},
          "output_type": "display_data"
        }
      ],
      "source": [
        "1:10"
      ]
    },
    {
      "cell_type": "markdown",
      "id": "f73f3d75-12c3-49b6-92c8-604fc1107682",
      "metadata": {
        "id": "f73f3d75-12c3-49b6-92c8-604fc1107682"
      },
      "source": [
        "- 이 방법으로 위의 n개의 등간격 수열을 만들 수 있다."
      ]
    },
    {
      "cell_type": "code",
      "execution_count": null,
      "id": "7fb3881a-59c3-45e2-8d48-6087271ee2e3",
      "metadata": {
        "id": "7fb3881a-59c3-45e2-8d48-6087271ee2e3",
        "outputId": "fc8e9958-7890-48b6-dc70-89fe15bcdc41"
      },
      "outputs": [
        {
          "name": "stdout",
          "output_type": "stream",
          "text": [
            " [1] 0.00000000 0.03333333 0.06666667 0.10000000 0.13333333 0.16666667\n",
            " [7] 0.20000000 0.23333333 0.26666667 0.30000000 0.33333333 0.36666667\n",
            "[13] 0.40000000 0.43333333 0.46666667 0.50000000 0.53333333 0.56666667\n",
            "[19] 0.60000000 0.63333333 0.66666667 0.70000000 0.73333333 0.76666667\n",
            "[25] 0.80000000 0.83333333 0.86666667 0.90000000 0.93333333 0.96666667\n",
            "[31] 1.00000000\n"
          ]
        }
      ],
      "source": [
        "print(0:30/30)"
      ]
    },
    {
      "cell_type": "code",
      "execution_count": null,
      "id": "4f9cea04-e0cc-4de5-b084-7860dbca84ce",
      "metadata": {
        "id": "4f9cea04-e0cc-4de5-b084-7860dbca84ce",
        "outputId": "a00b0aa4-94f1-41f0-ce11-f6b82e40274e"
      },
      "outputs": [
        {
          "name": "stdout",
          "output_type": "stream",
          "text": [
            " [1] 0.00000000 0.03333333 0.06666667 0.10000000 0.13333333 0.16666667\n",
            " [7] 0.20000000 0.23333333 0.26666667 0.30000000 0.33333333 0.36666667\n",
            "[13] 0.40000000 0.43333333 0.46666667 0.50000000 0.53333333 0.56666667\n",
            "[19] 0.60000000 0.63333333 0.66666667 0.70000000 0.73333333 0.76666667\n",
            "[25] 0.80000000 0.83333333 0.86666667 0.90000000 0.93333333 0.96666667\n",
            "[31] 1.00000000\n"
          ]
        }
      ],
      "source": [
        "print(seq(from=0,to=1,length.out = 31))"
      ]
    },
    {
      "cell_type": "markdown",
      "id": "f92b7edd-f26d-409a-839a-1b9a2c58969e",
      "metadata": {
        "id": "f92b7edd-f26d-409a-839a-1b9a2c58969e"
      },
      "source": [
        "`-` 방법 4: req를 이용"
      ]
    },
    {
      "cell_type": "code",
      "execution_count": null,
      "id": "55e73574-b303-4b33-83c7-f90c0dfb208c",
      "metadata": {
        "id": "55e73574-b303-4b33-83c7-f90c0dfb208c",
        "outputId": "cc98a7e3-9d10-48ce-bd7e-a642298a13b8"
      },
      "outputs": [
        {
          "data": {
            "text/html": [
              "<style>\n",
              ".list-inline {list-style: none; margin:0; padding: 0}\n",
              ".list-inline>li {display: inline-block}\n",
              ".list-inline>li:not(:last-child)::after {content: \"\\00b7\"; padding: 0 .5ex}\n",
              "</style>\n",
              "<ol class=list-inline><li>0</li><li>0</li><li>0</li><li>0</li><li>0</li><li>0</li><li>0</li><li>0</li><li>0</li><li>0</li><li>0</li><li>0</li><li>0</li><li>0</li><li>0</li><li>0</li><li>0</li><li>0</li><li>0</li><li>0</li><li>0</li><li>0</li><li>0</li><li>0</li><li>0</li><li>0</li><li>0</li><li>0</li><li>0</li><li>0</li><li>0</li><li>0</li><li>0</li><li>0</li><li>0</li><li>0</li><li>0</li><li>0</li><li>0</li><li>0</li><li>0</li><li>0</li><li>0</li><li>0</li><li>0</li><li>0</li><li>0</li><li>0</li><li>0</li><li>0</li><li>0</li><li>0</li><li>0</li><li>0</li><li>0</li><li>0</li><li>0</li><li>0</li><li>0</li><li>0</li><li>0</li><li>0</li><li>0</li><li>0</li><li>0</li><li>0</li><li>0</li><li>0</li><li>0</li><li>0</li><li>0</li><li>0</li><li>0</li><li>0</li><li>0</li><li>0</li><li>0</li><li>0</li><li>0</li><li>0</li><li>0</li><li>0</li><li>0</li><li>0</li><li>0</li><li>0</li><li>0</li><li>0</li><li>0</li><li>0</li><li>0</li><li>0</li><li>0</li><li>0</li><li>0</li><li>0</li><li>0</li><li>0</li><li>0</li><li>0</li></ol>\n"
            ],
            "text/latex": [
              "\\begin{enumerate*}\n",
              "\\item 0\n",
              "\\item 0\n",
              "\\item 0\n",
              "\\item 0\n",
              "\\item 0\n",
              "\\item 0\n",
              "\\item 0\n",
              "\\item 0\n",
              "\\item 0\n",
              "\\item 0\n",
              "\\item 0\n",
              "\\item 0\n",
              "\\item 0\n",
              "\\item 0\n",
              "\\item 0\n",
              "\\item 0\n",
              "\\item 0\n",
              "\\item 0\n",
              "\\item 0\n",
              "\\item 0\n",
              "\\item 0\n",
              "\\item 0\n",
              "\\item 0\n",
              "\\item 0\n",
              "\\item 0\n",
              "\\item 0\n",
              "\\item 0\n",
              "\\item 0\n",
              "\\item 0\n",
              "\\item 0\n",
              "\\item 0\n",
              "\\item 0\n",
              "\\item 0\n",
              "\\item 0\n",
              "\\item 0\n",
              "\\item 0\n",
              "\\item 0\n",
              "\\item 0\n",
              "\\item 0\n",
              "\\item 0\n",
              "\\item 0\n",
              "\\item 0\n",
              "\\item 0\n",
              "\\item 0\n",
              "\\item 0\n",
              "\\item 0\n",
              "\\item 0\n",
              "\\item 0\n",
              "\\item 0\n",
              "\\item 0\n",
              "\\item 0\n",
              "\\item 0\n",
              "\\item 0\n",
              "\\item 0\n",
              "\\item 0\n",
              "\\item 0\n",
              "\\item 0\n",
              "\\item 0\n",
              "\\item 0\n",
              "\\item 0\n",
              "\\item 0\n",
              "\\item 0\n",
              "\\item 0\n",
              "\\item 0\n",
              "\\item 0\n",
              "\\item 0\n",
              "\\item 0\n",
              "\\item 0\n",
              "\\item 0\n",
              "\\item 0\n",
              "\\item 0\n",
              "\\item 0\n",
              "\\item 0\n",
              "\\item 0\n",
              "\\item 0\n",
              "\\item 0\n",
              "\\item 0\n",
              "\\item 0\n",
              "\\item 0\n",
              "\\item 0\n",
              "\\item 0\n",
              "\\item 0\n",
              "\\item 0\n",
              "\\item 0\n",
              "\\item 0\n",
              "\\item 0\n",
              "\\item 0\n",
              "\\item 0\n",
              "\\item 0\n",
              "\\item 0\n",
              "\\item 0\n",
              "\\item 0\n",
              "\\item 0\n",
              "\\item 0\n",
              "\\item 0\n",
              "\\item 0\n",
              "\\item 0\n",
              "\\item 0\n",
              "\\item 0\n",
              "\\item 0\n",
              "\\end{enumerate*}\n"
            ],
            "text/markdown": [
              "1. 0\n",
              "2. 0\n",
              "3. 0\n",
              "4. 0\n",
              "5. 0\n",
              "6. 0\n",
              "7. 0\n",
              "8. 0\n",
              "9. 0\n",
              "10. 0\n",
              "11. 0\n",
              "12. 0\n",
              "13. 0\n",
              "14. 0\n",
              "15. 0\n",
              "16. 0\n",
              "17. 0\n",
              "18. 0\n",
              "19. 0\n",
              "20. 0\n",
              "21. 0\n",
              "22. 0\n",
              "23. 0\n",
              "24. 0\n",
              "25. 0\n",
              "26. 0\n",
              "27. 0\n",
              "28. 0\n",
              "29. 0\n",
              "30. 0\n",
              "31. 0\n",
              "32. 0\n",
              "33. 0\n",
              "34. 0\n",
              "35. 0\n",
              "36. 0\n",
              "37. 0\n",
              "38. 0\n",
              "39. 0\n",
              "40. 0\n",
              "41. 0\n",
              "42. 0\n",
              "43. 0\n",
              "44. 0\n",
              "45. 0\n",
              "46. 0\n",
              "47. 0\n",
              "48. 0\n",
              "49. 0\n",
              "50. 0\n",
              "51. 0\n",
              "52. 0\n",
              "53. 0\n",
              "54. 0\n",
              "55. 0\n",
              "56. 0\n",
              "57. 0\n",
              "58. 0\n",
              "59. 0\n",
              "60. 0\n",
              "61. 0\n",
              "62. 0\n",
              "63. 0\n",
              "64. 0\n",
              "65. 0\n",
              "66. 0\n",
              "67. 0\n",
              "68. 0\n",
              "69. 0\n",
              "70. 0\n",
              "71. 0\n",
              "72. 0\n",
              "73. 0\n",
              "74. 0\n",
              "75. 0\n",
              "76. 0\n",
              "77. 0\n",
              "78. 0\n",
              "79. 0\n",
              "80. 0\n",
              "81. 0\n",
              "82. 0\n",
              "83. 0\n",
              "84. 0\n",
              "85. 0\n",
              "86. 0\n",
              "87. 0\n",
              "88. 0\n",
              "89. 0\n",
              "90. 0\n",
              "91. 0\n",
              "92. 0\n",
              "93. 0\n",
              "94. 0\n",
              "95. 0\n",
              "96. 0\n",
              "97. 0\n",
              "98. 0\n",
              "99. 0\n",
              "100. 0\n",
              "\n",
              "\n"
            ],
            "text/plain": [
              "  [1] 0 0 0 0 0 0 0 0 0 0 0 0 0 0 0 0 0 0 0 0 0 0 0 0 0 0 0 0 0 0 0 0 0 0 0 0 0\n",
              " [38] 0 0 0 0 0 0 0 0 0 0 0 0 0 0 0 0 0 0 0 0 0 0 0 0 0 0 0 0 0 0 0 0 0 0 0 0 0\n",
              " [75] 0 0 0 0 0 0 0 0 0 0 0 0 0 0 0 0 0 0 0 0 0 0 0 0 0 0"
            ]
          },
          "metadata": {},
          "output_type": "display_data"
        }
      ],
      "source": [
        "rep(0,100) # 0을 100번 반복"
      ]
    },
    {
      "cell_type": "code",
      "execution_count": null,
      "id": "6981b0d4-bcfc-4d43-a066-752349ca0531",
      "metadata": {
        "id": "6981b0d4-bcfc-4d43-a066-752349ca0531",
        "outputId": "9d03f601-f434-4510-8a35-27ee98b24db1"
      },
      "outputs": [
        {
          "name": "stdout",
          "output_type": "stream",
          "text": [
            "  [1] 0 0 0 0 0 0 0 0 0 0 0 0 0 0 0 0 0 0 0 0 0 0 0 0 0 0 0 0 0 0 0 0 0 0 0 0 0\n",
            " [38] 0 0 0 0 0 0 0 0 0 0 0 0 0 0 0 0 0 0 0 0 0 0 0 0 0 0 0 0 0 0 0 0 0 0 0 0 0\n",
            " [75] 0 0 0 0 0 0 0 0 0 0 0 0 0 0 0 0 0 0 0 0 0 0 0 0 0 0\n"
          ]
        }
      ],
      "source": [
        "print(rep(0,100))"
      ]
    },
    {
      "cell_type": "markdown",
      "id": "2d8abdbc-1f0c-4c05-8dec-de0ecf74ff6c",
      "metadata": {
        "id": "2d8abdbc-1f0c-4c05-8dec-de0ecf74ff6c"
      },
      "source": [
        "### 3. 함수 사용하는 방법"
      ]
    },
    {
      "cell_type": "markdown",
      "id": "1635fd3b-3677-4788-acf8-2ce981f99d6c",
      "metadata": {
        "id": "1635fd3b-3677-4788-acf8-2ce981f99d6c"
      },
      "source": [
        "`-` 기본구조\n",
        "\n",
        "```r\n",
        "함수이름 <- function(입력){\n",
        "    함수의 기능\n",
        "    return(출력)\n",
        "    }\n",
        "```"
      ]
    },
    {
      "cell_type": "code",
      "execution_count": null,
      "id": "5a4da3ce-5982-4c5e-b71f-e486eb138164",
      "metadata": {
        "id": "5a4da3ce-5982-4c5e-b71f-e486eb138164"
      },
      "outputs": [],
      "source": [
        "f <- function(d){\n",
        "    I0=1\n",
        "    Id=I0*0.25\n",
        "    y=I0*2^(-0.25*d)/Id\n",
        "    return(y)\n",
        "}"
      ]
    },
    {
      "cell_type": "code",
      "execution_count": null,
      "id": "c7c2f95c-3632-4634-97d6-3116029da2db",
      "metadata": {
        "id": "c7c2f95c-3632-4634-97d6-3116029da2db",
        "outputId": "715acd22-f9bf-4261-fdd3-f9ca16b39fee"
      },
      "outputs": [
        {
          "data": {
            "text/html": [
              "1"
            ],
            "text/latex": [
              "1"
            ],
            "text/markdown": [
              "1"
            ],
            "text/plain": [
              "[1] 1"
            ]
          },
          "metadata": {},
          "output_type": "display_data"
        }
      ],
      "source": [
        "f(8)"
      ]
    },
    {
      "cell_type": "markdown",
      "id": "0b3db823-64a8-4bf6-9413-40332d2a9202",
      "metadata": {
        "id": "0b3db823-64a8-4bf6-9413-40332d2a9202"
      },
      "source": [
        "`-` 아래 두 코드는 `거의` 같다."
      ]
    },
    {
      "cell_type": "code",
      "execution_count": null,
      "id": "d01be0bc-8e1e-42d5-8e47-b54fb632393f",
      "metadata": {
        "id": "d01be0bc-8e1e-42d5-8e47-b54fb632393f",
        "outputId": "200454cd-b298-46c6-e5a9-5777a6cb7fd9"
      },
      "outputs": [
        {
          "data": {
            "text/html": [
              "1"
            ],
            "text/latex": [
              "1"
            ],
            "text/markdown": [
              "1"
            ],
            "text/plain": [
              "[1] 1"
            ]
          },
          "metadata": {},
          "output_type": "display_data"
        },
        {
          "data": {
            "text/html": [
              "1"
            ],
            "text/latex": [
              "1"
            ],
            "text/markdown": [
              "1"
            ],
            "text/plain": [
              "[1] 1"
            ]
          },
          "metadata": {},
          "output_type": "display_data"
        }
      ],
      "source": [
        "# 1)\n",
        "f <- function(d){\n",
        "    I0=1\n",
        "    Id=I0*0.25\n",
        "    y=I0*2^(-0.25*d)/Id\n",
        "    return(y) # return은 생략해도 괜찮음. -> y\n",
        "}\n",
        "f(8)\n",
        "\n",
        "# 2)\n",
        "d=8\n",
        "I0=1\n",
        "Id=I0*0.25\n",
        "y=I0*2^(-0.25*d)/Id\n",
        "y"
      ]
    },
    {
      "cell_type": "markdown",
      "id": "3e884cf0-e6af-41ba-9a6d-787ddd5a151f",
      "metadata": {
        "id": "3e884cf0-e6af-41ba-9a6d-787ddd5a151f"
      },
      "source": [
        "- 두 코드의 차이: 1)의 코드에서 함수의 기능 부분에 입력된 변수는 컴퓨터에 따로 저장되지 않기에 해당 코드를 실행한 후 I0, Id, y를 다시 입력해도 저장된 값이 없지만 2)의 코드는 컴퓨터에 일일이 저장한 것이기 때문에 함수 설정에 사용된 변수가 불필요하게 저장된다. "
      ]
    }
  ],
  "metadata": {
    "kernelspec": {
      "display_name": "R",
      "language": "R",
      "name": "ir"
    },
    "language_info": {
      "codemirror_mode": "r",
      "file_extension": ".r",
      "mimetype": "text/x-r-source",
      "name": "R",
      "pygments_lexer": "r",
      "version": "4.0.5"
    },
    "colab": {
      "name": "2022-01-24-IR.ipynb",
      "provenance": [],
      "toc_visible": true
    }
  },
  "nbformat": 4,
  "nbformat_minor": 5
}
