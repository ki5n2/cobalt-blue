{
  "cells": [
    {
      "cell_type": "markdown",
      "source": [
        "# IR 12.  매트릭스, 문법정리2(%>%, 벡터 및 행렬 결합, 매트릭스 원소 선택, 벡터 연산, 매트릭스 연산, 티블)\n",
        "\n",
        "> \"작성완료\"\n",
        "\n",
        "- toc:true\n",
        "- branch: master\n",
        "- badges: true\n",
        "- comments: true\n",
        "- [R]"
      ],
      "metadata": {
        "id": "Ep2u2Ko__1Y7"
      },
      "id": "Ep2u2Ko__1Y7"
    },
    {
      "cell_type": "markdown",
      "source": [
        "---\n",
        "# Introduce R \n",
        "- lecture: Introduce R_8-2nd week of lectures\n",
        "- lecture date: 2021-10-29, 2021-11-02\n",
        "- lecturer: Guebin choi\n",
        "- study date: 2022-02-23, 2022-02-24\n",
        "- author: Kione kim\n",
        "---"
      ],
      "metadata": {
        "id": "OVQ6CPs2_3rl"
      },
      "id": "OVQ6CPs2_3rl"
    },
    {
      "cell_type": "code",
      "execution_count": null,
      "id": "55ed6ed7-9e40-4a09-a0d8-298e884026b9",
      "metadata": {
        "id": "55ed6ed7-9e40-4a09-a0d8-298e884026b9"
      },
      "outputs": [],
      "source": [
        "options(jupyter.rich_display=FALSE)"
      ]
    },
    {
      "cell_type": "markdown",
      "id": "2af6e062-07fe-423a-9178-ff7e844e62a0",
      "metadata": {
        "jp-MarkdownHeadingCollapsed": true,
        "tags": [],
        "id": "2af6e062-07fe-423a-9178-ff7e844e62a0"
      },
      "source": [
        "## 행렬과 연립방정식"
      ]
    },
    {
      "cell_type": "markdown",
      "id": "5969ba6d-862c-4005-944a-899c8b6a96aa",
      "metadata": {
        "id": "5969ba6d-862c-4005-944a-899c8b6a96aa"
      },
      "source": [
        "`-` 예를들어 아래와 같은 문제가 있다고 하자. \n",
        "\n",
        "$\\begin{cases}\n",
        "w+2x+3y+4z=1 \\\\\n",
        "2w+2x+y=9 \\\\\n",
        "x-y=4 \\\\\n",
        "3w+x-y+3y=7\n",
        "\\end{cases}$\n"
      ]
    },
    {
      "cell_type": "markdown",
      "id": "cf28d137-5b3b-4609-8c73-3e1a67e51a89",
      "metadata": {
        "tags": [],
        "id": "cf28d137-5b3b-4609-8c73-3e1a67e51a89"
      },
      "source": [
        "이는 다음과 같이 표현할 수 있고\n",
        "\n",
        "$\\begin{bmatrix}\n",
        "1 & 2 & 3 & 4 \\\\ \n",
        "2 & 2 & 1 & 0 \\\\\n",
        "0 & 1 &-1 & 0 \\\\\n",
        "3 & 1 &-1 & 3 \n",
        "\\end{bmatrix}\n",
        "\\begin{bmatrix}\n",
        "w \\\\ x \\\\ y \\\\z \n",
        "\\end{bmatrix}=\\begin{bmatrix}\n",
        "1 \\\\ 9 \\\\ 4 \\\\7 \n",
        "\\end{bmatrix}$\n"
      ]
    },
    {
      "cell_type": "markdown",
      "id": "65b01d63-7092-4b86-ad05-ff285caaa63b",
      "metadata": {
        "id": "65b01d63-7092-4b86-ad05-ff285caaa63b"
      },
      "source": [
        "양변에 역행렬을 곱해주면 다음과 같이 된다.\n",
        "\n",
        "$\\begin{bmatrix}\n",
        "w \\\\ x \\\\ y \\\\z \n",
        "\\end{bmatrix}=\\begin{bmatrix}\n",
        "1 & 2 & 3 & 4 \\\\ \n",
        "2 & 2 & 1 & 0 \\\\\n",
        "0 & 1 &-1 & 0 \\\\\n",
        "3 & 1 &-1 & 3 \n",
        "\\end{bmatrix}^{-1}\\begin{bmatrix}\n",
        "1 \\\\ 9 \\\\ 4 \\\\7 \n",
        "\\end{bmatrix}$"
      ]
    },
    {
      "cell_type": "markdown",
      "id": "3a80b609-0cac-4ab5-b60a-0af19b7fcecf",
      "metadata": {
        "id": "3a80b609-0cac-4ab5-b60a-0af19b7fcecf"
      },
      "source": [
        "### R로 구현"
      ]
    },
    {
      "cell_type": "markdown",
      "id": "f9fe872f-b066-4a48-b535-55adf8bdb111",
      "metadata": {
        "id": "f9fe872f-b066-4a48-b535-55adf8bdb111"
      },
      "source": [
        "#### 역행렬: `solve()` -> $A^{-1}$"
      ]
    },
    {
      "cell_type": "markdown",
      "source": [
        "`-` 행렬의 곱셉: `%*%`"
      ],
      "metadata": {
        "id": "YEeGs7yfBTtR"
      },
      "id": "YEeGs7yfBTtR"
    },
    {
      "cell_type": "code",
      "execution_count": null,
      "id": "bc6c403a-9d97-43dc-883d-fbd3e1954d6e",
      "metadata": {
        "id": "bc6c403a-9d97-43dc-883d-fbd3e1954d6e",
        "outputId": "d8cc51b7-68db-48de-f428-05f4a4853c2f"
      },
      "outputs": [
        {
          "data": {
            "text/plain": [
              "     [,1] [,2] [,3] [,4]\n",
              "[1,] 1    2     3   4   \n",
              "[2,] 2    2     1   0   \n",
              "[3,] 0    1    -1   0   \n",
              "[4,] 3    1    -1   3   "
            ]
          },
          "metadata": {},
          "output_type": "display_data"
        }
      ],
      "source": [
        "A <- rbind(c(1,2,3,4),c(2,2,1,0),c(0,1,-1,0),c(3,1,-1,3))\n",
        "A"
      ]
    },
    {
      "cell_type": "code",
      "execution_count": null,
      "id": "69867846-1c9a-44f6-9c4f-4f99e29ab074",
      "metadata": {
        "id": "69867846-1c9a-44f6-9c4f-4f99e29ab074",
        "outputId": "cec17531-d45d-4cac-d7eb-0ca2e647f229"
      },
      "outputs": [
        {
          "data": {
            "text/plain": [
              "     [,1]       [,2]       [,3]       [,4]      \n",
              "[1,] -0.1578947  0.2631579 -0.4210526  0.2105263\n",
              "[2,]  0.1052632  0.1578947  0.6140351 -0.1403509\n",
              "[3,]  0.1052632  0.1578947 -0.3859649 -0.1403509\n",
              "[4,]  0.1578947 -0.2631579  0.0877193  0.1228070"
            ]
          },
          "metadata": {},
          "output_type": "display_data"
        }
      ],
      "source": [
        "solve(A)"
      ]
    },
    {
      "cell_type": "code",
      "execution_count": null,
      "id": "8dff25a5-55f3-4075-b486-a662b7380ef1",
      "metadata": {
        "id": "8dff25a5-55f3-4075-b486-a662b7380ef1",
        "outputId": "0f0d365b-e452-41c3-892d-e4267786e9f0"
      },
      "outputs": [
        {
          "data": {
            "text/plain": [
              "     [,1]\n",
              "[1,] 1   \n",
              "[2,] 9   \n",
              "[3,] 4   \n",
              "[4,] 7   "
            ]
          },
          "metadata": {},
          "output_type": "display_data"
        }
      ],
      "source": [
        "B <- cbind(c(1,9,4,7))\n",
        "B"
      ]
    },
    {
      "cell_type": "code",
      "execution_count": null,
      "id": "7d392d84-9915-408b-9cf7-57311a970494",
      "metadata": {
        "id": "7d392d84-9915-408b-9cf7-57311a970494",
        "outputId": "18f2c430-abae-4164-a544-e894707bea7a"
      },
      "outputs": [
        {
          "data": {
            "text/plain": [
              "     [,1]\n",
              "[1,]  2  \n",
              "[2,]  3  \n",
              "[3,] -1  \n",
              "[4,] -1  "
            ]
          },
          "metadata": {},
          "output_type": "display_data"
        }
      ],
      "source": [
        "solve(A) %*% B"
      ]
    },
    {
      "cell_type": "markdown",
      "id": "7895fecc-4cdb-4800-ad83-b1fa7646ccfb",
      "metadata": {
        "id": "7895fecc-4cdb-4800-ad83-b1fa7646ccfb"
      },
      "source": [
        "- 답은 $(w,x,y,z) =$ $ (2,3,-1,-1)$ 이다."
      ]
    },
    {
      "cell_type": "markdown",
      "id": "9ca732e5-9f55-406a-8666-747f5bc02536",
      "metadata": {
        "id": "9ca732e5-9f55-406a-8666-747f5bc02536"
      },
      "source": [
        "`-` 아래와 같이해도 답은 동일하게 나옴."
      ]
    },
    {
      "cell_type": "code",
      "execution_count": null,
      "id": "677ad955-9a2e-4c69-b4ad-87c561141785",
      "metadata": {
        "id": "677ad955-9a2e-4c69-b4ad-87c561141785",
        "outputId": "8ca9b5fb-5b03-45f0-9010-a18f79aca282"
      },
      "outputs": [
        {
          "data": {
            "text/plain": [
              "[1] 1 9 4 7"
            ]
          },
          "metadata": {},
          "output_type": "display_data"
        }
      ],
      "source": [
        "B <- c(1,9,4,7)\n",
        "B"
      ]
    },
    {
      "cell_type": "code",
      "execution_count": null,
      "id": "9b6a80b5-1a9c-431d-9786-a93206c69754",
      "metadata": {
        "id": "9b6a80b5-1a9c-431d-9786-a93206c69754",
        "outputId": "7c936338-e45f-4b27-ca60-fbeb948bf09d"
      },
      "outputs": [
        {
          "data": {
            "text/plain": [
              "     [,1]\n",
              "[1,]  2  \n",
              "[2,]  3  \n",
              "[3,] -1  \n",
              "[4,] -1  "
            ]
          },
          "metadata": {},
          "output_type": "display_data"
        }
      ],
      "source": [
        "solve(A) %*% B"
      ]
    },
    {
      "cell_type": "markdown",
      "id": "0c16e950-54c7-4774-92e3-75b75c62ae5d",
      "metadata": {
        "tags": [],
        "id": "0c16e950-54c7-4774-92e3-75b75c62ae5d"
      },
      "source": [
        "## 문법정리 2"
      ]
    },
    {
      "cell_type": "markdown",
      "id": "7d050e01-623a-412e-8259-14ae2d060538",
      "metadata": {
        "jp-MarkdownHeadingCollapsed": true,
        "tags": [],
        "id": "7d050e01-623a-412e-8259-14ae2d060538"
      },
      "source": [
        "### %>%"
      ]
    },
    {
      "cell_type": "markdown",
      "source": [
        "`-` tidyverse 중 하나인 dplyr 기능\n",
        "\n",
        "`-` 함수의 첫번째 입력이 `%>% 연산자`의 왼쪽의 결과로 생각한다.\n",
        "\n",
        "`-` 하나의 입력만 받는 함수라면 함수이름만 쓸 수 있다.\n",
        "\n",
        "`-` 첫 입력을 생략한다는 것이 포인트"
      ],
      "metadata": {
        "id": "cnHlTfnCBbDF"
      },
      "id": "cnHlTfnCBbDF"
    },
    {
      "cell_type": "code",
      "execution_count": null,
      "id": "193db597-9252-4ecb-a194-09902f574625",
      "metadata": {
        "id": "193db597-9252-4ecb-a194-09902f574625"
      },
      "outputs": [],
      "source": [
        "library(tidyverse)"
      ]
    },
    {
      "cell_type": "markdown",
      "id": "b077be45-094a-4970-9228-c0f8afc7850b",
      "metadata": {
        "id": "b077be45-094a-4970-9228-c0f8afc7850b"
      },
      "source": [
        "`-` 예시1"
      ]
    },
    {
      "cell_type": "code",
      "execution_count": null,
      "id": "061b1bb2-2e13-4e18-8b85-7357974e7446",
      "metadata": {
        "id": "061b1bb2-2e13-4e18-8b85-7357974e7446"
      },
      "outputs": [],
      "source": [
        "f <- function(x) x+3"
      ]
    },
    {
      "cell_type": "code",
      "execution_count": null,
      "id": "482d2936-da12-401f-8daf-74c0fc67f5b6",
      "metadata": {
        "id": "482d2936-da12-401f-8daf-74c0fc67f5b6",
        "outputId": "22cb5b57-aee8-474c-e9fa-cc1db67ba390"
      },
      "outputs": [
        {
          "data": {
            "text/plain": [
              "[1] 6"
            ]
          },
          "metadata": {},
          "output_type": "display_data"
        }
      ],
      "source": [
        "f(3)"
      ]
    },
    {
      "cell_type": "code",
      "execution_count": null,
      "id": "f239e8ae-4569-419c-a686-c19abba2005a",
      "metadata": {
        "id": "f239e8ae-4569-419c-a686-c19abba2005a",
        "outputId": "d48482ba-f4f9-4d71-f779-95e9a82fbdd4"
      },
      "outputs": [
        {
          "data": {
            "text/plain": [
              "[1] 6"
            ]
          },
          "metadata": {},
          "output_type": "display_data"
        }
      ],
      "source": [
        "3 %>% f"
      ]
    },
    {
      "cell_type": "markdown",
      "id": "e04e4807-63d1-42d7-bdfa-d5762275ee1e",
      "metadata": {
        "id": "e04e4807-63d1-42d7-bdfa-d5762275ee1e"
      },
      "source": [
        "`-` 예시2"
      ]
    },
    {
      "cell_type": "code",
      "execution_count": null,
      "id": "b95e8eda-f0ab-4599-bc1e-6ebd11d5e817",
      "metadata": {
        "id": "b95e8eda-f0ab-4599-bc1e-6ebd11d5e817"
      },
      "outputs": [],
      "source": [
        "f <- function(x,y) x**2+y"
      ]
    },
    {
      "cell_type": "code",
      "execution_count": null,
      "id": "28def8bc-4d64-4b64-b143-1ff5fff0a3b4",
      "metadata": {
        "id": "28def8bc-4d64-4b64-b143-1ff5fff0a3b4",
        "outputId": "047fda25-f658-477a-f5b8-30823a2d2e52"
      },
      "outputs": [
        {
          "data": {
            "text/plain": [
              "[1] 11"
            ]
          },
          "metadata": {},
          "output_type": "display_data"
        }
      ],
      "source": [
        "f(3,2)"
      ]
    },
    {
      "cell_type": "code",
      "execution_count": null,
      "id": "c2d537bd-009c-4aa0-bb12-2926dd58bfe9",
      "metadata": {
        "id": "c2d537bd-009c-4aa0-bb12-2926dd58bfe9",
        "outputId": "e3c67d52-20bc-4c41-e6ed-26d709181aa3"
      },
      "outputs": [
        {
          "data": {
            "text/plain": [
              "[1] 11"
            ]
          },
          "metadata": {},
          "output_type": "display_data"
        }
      ],
      "source": [
        "3 %>% f(2)"
      ]
    },
    {
      "cell_type": "markdown",
      "id": "c2b59484-e45d-4e68-8f10-9b0ce695b52b",
      "metadata": {
        "tags": [],
        "id": "c2b59484-e45d-4e68-8f10-9b0ce695b52b"
      },
      "source": [
        "### 두 개 이상의 벡터, 행렬을 결합"
      ]
    },
    {
      "cell_type": "markdown",
      "id": "33077306-137d-41bb-b2cb-0f26c78a9f91",
      "metadata": {
        "jp-MarkdownHeadingCollapsed": true,
        "tags": [],
        "id": "33077306-137d-41bb-b2cb-0f26c78a9f91"
      },
      "source": [
        "### 벡터의 결합"
      ]
    },
    {
      "cell_type": "code",
      "execution_count": null,
      "id": "3e671673-a832-4b6b-930e-b03f2a77e30d",
      "metadata": {
        "id": "3e671673-a832-4b6b-930e-b03f2a77e30d"
      },
      "outputs": [],
      "source": [
        "x <- c(1,2,3)\n",
        "y <- c(4,5,6,7)"
      ]
    },
    {
      "cell_type": "code",
      "execution_count": null,
      "id": "9511a7fd-aa18-488a-a96e-e0d15b89c529",
      "metadata": {
        "id": "9511a7fd-aa18-488a-a96e-e0d15b89c529",
        "outputId": "70aceeff-ef25-40f6-bc25-cb6e953cd72c"
      },
      "outputs": [
        {
          "data": {
            "text/plain": [
              "[1] 1 2 3"
            ]
          },
          "metadata": {},
          "output_type": "display_data"
        },
        {
          "data": {
            "text/plain": [
              "[1] 4 5 6 7"
            ]
          },
          "metadata": {},
          "output_type": "display_data"
        }
      ],
      "source": [
        "x\n",
        "y"
      ]
    },
    {
      "cell_type": "code",
      "execution_count": null,
      "id": "695ee513-a1bc-4d76-bc84-e84adfbe4003",
      "metadata": {
        "id": "695ee513-a1bc-4d76-bc84-e84adfbe4003",
        "outputId": "5ff6ad7e-e264-4fd1-ba9f-01c22229ec3c"
      },
      "outputs": [
        {
          "data": {
            "text/plain": [
              "[1] 1 2 3 4 5 6 7"
            ]
          },
          "metadata": {},
          "output_type": "display_data"
        }
      ],
      "source": [
        "c(x,y)"
      ]
    },
    {
      "cell_type": "code",
      "execution_count": null,
      "id": "10257c2d-8f36-44a4-b878-0f27139e133b",
      "metadata": {
        "id": "10257c2d-8f36-44a4-b878-0f27139e133b",
        "outputId": "1a99fdc4-b5e3-4a5d-b499-7089aee6a9b5"
      },
      "outputs": [
        {
          "data": {
            "text/plain": [
              "[1] 4 5 6 7 1 2 3"
            ]
          },
          "metadata": {},
          "output_type": "display_data"
        }
      ],
      "source": [
        "c(y,x)"
      ]
    },
    {
      "cell_type": "code",
      "execution_count": null,
      "id": "913dc1ba-6326-4847-9013-f6fa2a532160",
      "metadata": {
        "id": "913dc1ba-6326-4847-9013-f6fa2a532160",
        "outputId": "1e58c1ac-cb17-49e2-ae26-6946bfe14896"
      },
      "outputs": [
        {
          "data": {
            "text/plain": [
              " [1] 1 2 3 8 8 8 4 5 6 7"
            ]
          },
          "metadata": {},
          "output_type": "display_data"
        }
      ],
      "source": [
        "c(x,8,8,8,y)"
      ]
    },
    {
      "cell_type": "markdown",
      "id": "ed2763c8-2246-476a-af30-cc07d16a114e",
      "metadata": {
        "id": "ed2763c8-2246-476a-af30-cc07d16a114e"
      },
      "source": [
        "- $c()$에서 $c$는 결합하라라는 의미"
      ]
    },
    {
      "cell_type": "markdown",
      "id": "0d3b11ac-c0f5-42d3-b40e-6c7ab51fccba",
      "metadata": {
        "id": "0d3b11ac-c0f5-42d3-b40e-6c7ab51fccba"
      },
      "source": [
        "`-` 예제2"
      ]
    },
    {
      "cell_type": "code",
      "execution_count": null,
      "id": "c3eaf43f-71e5-4911-91c4-fca255f6b97f",
      "metadata": {
        "id": "c3eaf43f-71e5-4911-91c4-fca255f6b97f"
      },
      "outputs": [],
      "source": [
        "x<-c(1,2,3)\n",
        "y<-c(4,5,6)"
      ]
    },
    {
      "cell_type": "code",
      "execution_count": null,
      "id": "b8ffbfc4-51f1-4e22-80cd-ee8cb6226eeb",
      "metadata": {
        "id": "b8ffbfc4-51f1-4e22-80cd-ee8cb6226eeb",
        "outputId": "d3796bb5-1187-49c0-af97-bde540bcfb3a"
      },
      "outputs": [
        {
          "data": {
            "text/plain": [
              "     x y\n",
              "[1,] 1 4\n",
              "[2,] 2 5\n",
              "[3,] 3 6"
            ]
          },
          "metadata": {},
          "output_type": "display_data"
        }
      ],
      "source": [
        "cbind(x,y)"
      ]
    },
    {
      "cell_type": "markdown",
      "id": "7507f448-2d8b-4662-b21c-6bf5f91b84ee",
      "metadata": {
        "id": "7507f448-2d8b-4662-b21c-6bf5f91b84ee"
      },
      "source": [
        "`-` 예제2-1"
      ]
    },
    {
      "cell_type": "code",
      "execution_count": null,
      "id": "8cf7942f-1dcc-4201-bd75-f814ed90fba6",
      "metadata": {
        "id": "8cf7942f-1dcc-4201-bd75-f814ed90fba6"
      },
      "outputs": [],
      "source": [
        "x<-c(1,2,3,4)\n",
        "y<-c(1,2)"
      ]
    },
    {
      "cell_type": "code",
      "execution_count": null,
      "id": "260306aa-9b1e-498a-847e-c39a65e5c5fa",
      "metadata": {
        "id": "260306aa-9b1e-498a-847e-c39a65e5c5fa",
        "outputId": "b2fd485e-e914-4344-e869-ae245a291a26"
      },
      "outputs": [
        {
          "data": {
            "text/plain": [
              "     x y\n",
              "[1,] 1 1\n",
              "[2,] 2 2\n",
              "[3,] 3 1\n",
              "[4,] 4 2"
            ]
          },
          "metadata": {},
          "output_type": "display_data"
        }
      ],
      "source": [
        "cbind(x,y)"
      ]
    },
    {
      "cell_type": "markdown",
      "id": "86580309-a053-45ef-9d8f-a63a3de55c92",
      "metadata": {
        "id": "86580309-a053-45ef-9d8f-a63a3de55c92"
      },
      "source": [
        "`-` 예제2-2"
      ]
    },
    {
      "cell_type": "code",
      "execution_count": null,
      "id": "e3ab367f-3908-4c5f-9b29-4433d0743d20",
      "metadata": {
        "id": "e3ab367f-3908-4c5f-9b29-4433d0743d20",
        "outputId": "53f9e31e-bdc2-4fc1-b8ca-48bd830900e3"
      },
      "outputs": [
        {
          "data": {
            "text/plain": [
              "       x\n",
              "[1,] 1 1\n",
              "[2,] 1 2\n",
              "[3,] 1 3\n",
              "[4,] 1 4"
            ]
          },
          "metadata": {},
          "output_type": "display_data"
        }
      ],
      "source": [
        "x<-c(1,2,3,4)\n",
        "cbind(1,x)"
      ]
    },
    {
      "cell_type": "markdown",
      "id": "bb5bbbbb-fce5-4ab4-a53d-15fd2aa4a466",
      "metadata": {
        "id": "bb5bbbbb-fce5-4ab4-a53d-15fd2aa4a466"
      },
      "source": [
        "`-` 예제3"
      ]
    },
    {
      "cell_type": "code",
      "execution_count": null,
      "id": "650a0734-4020-459a-9911-629ddaac4370",
      "metadata": {
        "id": "650a0734-4020-459a-9911-629ddaac4370",
        "outputId": "2d68599b-f9cc-489a-a522-5838ed709d82"
      },
      "outputs": [
        {
          "data": {
            "text/plain": [
              "  [,1] [,2] [,3] [,4]\n",
              "x 1    2    3    4   \n",
              "y 1    2    1    2   "
            ]
          },
          "metadata": {},
          "output_type": "display_data"
        }
      ],
      "source": [
        "x<-c(1,2,3,4)\n",
        "y<-c(1,2)\n",
        "rbind(x,y)"
      ]
    },
    {
      "cell_type": "markdown",
      "id": "a717c368-6a72-42b2-bb02-fd77b71162bc",
      "metadata": {
        "id": "a717c368-6a72-42b2-bb02-fd77b71162bc"
      },
      "source": [
        "`-` 예제4"
      ]
    },
    {
      "cell_type": "code",
      "execution_count": null,
      "id": "174c6200-5cb6-4f96-a42c-9d44de68bc44",
      "metadata": {
        "id": "174c6200-5cb6-4f96-a42c-9d44de68bc44",
        "outputId": "fe5ae270-6cba-43e2-a1db-7a27189b829b"
      },
      "outputs": [
        {
          "data": {
            "text/plain": [
              "     [,1] [,2]\n",
              "[1,] 1    1   \n",
              "[2,] 1    2   \n",
              "[3,] 1    3   \n",
              "[4,] 1    4   \n",
              "[5,] 1    5   "
            ]
          },
          "metadata": {},
          "output_type": "display_data"
        }
      ],
      "source": [
        "x<-c(1,2,3)\n",
        "y<-c(4,5)\n",
        "cbind(1,c(x,y))"
      ]
    },
    {
      "cell_type": "markdown",
      "id": "d8594f72-7da5-4503-9df6-8795acd97c75",
      "metadata": {
        "jp-MarkdownHeadingCollapsed": true,
        "tags": [],
        "id": "d8594f72-7da5-4503-9df6-8795acd97c75"
      },
      "source": [
        "### 행렬의 결합"
      ]
    },
    {
      "cell_type": "markdown",
      "id": "0fe5baf1-dbf7-4b03-9c6f-12c1ff697eef",
      "metadata": {
        "id": "0fe5baf1-dbf7-4b03-9c6f-12c1ff697eef"
      },
      "source": [
        "`-` 예제1"
      ]
    },
    {
      "cell_type": "code",
      "execution_count": null,
      "id": "2492e31f-320e-4347-9d52-0089de600bcf",
      "metadata": {
        "id": "2492e31f-320e-4347-9d52-0089de600bcf"
      },
      "outputs": [],
      "source": [
        "x<-rbind(1:5,6:10)\n",
        "y<-c(1,2)"
      ]
    },
    {
      "cell_type": "code",
      "execution_count": null,
      "id": "ff10db4e-ced7-4557-a8ba-1a4b668e07f1",
      "metadata": {
        "id": "ff10db4e-ced7-4557-a8ba-1a4b668e07f1",
        "outputId": "264e2b81-f742-4a2c-d37b-84b9657fe1c5"
      },
      "outputs": [
        {
          "data": {
            "text/plain": [
              "     [,1] [,2] [,3] [,4] [,5]\n",
              "[1,] 1    2    3    4     5  \n",
              "[2,] 6    7    8    9    10  "
            ]
          },
          "metadata": {},
          "output_type": "display_data"
        }
      ],
      "source": [
        "x"
      ]
    },
    {
      "cell_type": "code",
      "execution_count": null,
      "id": "d23acee5-e6db-4857-8f83-1ba01062798e",
      "metadata": {
        "id": "d23acee5-e6db-4857-8f83-1ba01062798e",
        "outputId": "e1bac104-feb2-4812-f231-9d020d2a4ef2"
      },
      "outputs": [
        {
          "data": {
            "text/plain": [
              "[1] 1 2"
            ]
          },
          "metadata": {},
          "output_type": "display_data"
        }
      ],
      "source": [
        "y"
      ]
    },
    {
      "cell_type": "code",
      "execution_count": null,
      "id": "cfb2ae84-cc8c-4524-beb4-2f6af7c62e72",
      "metadata": {
        "id": "cfb2ae84-cc8c-4524-beb4-2f6af7c62e72",
        "outputId": "9fc9ae18-0a73-4485-8149-472fc28c8791"
      },
      "outputs": [
        {
          "data": {
            "text/plain": [
              "                y\n",
              "[1,] 1 2 3 4  5 1\n",
              "[2,] 6 7 8 9 10 2"
            ]
          },
          "metadata": {},
          "output_type": "display_data"
        }
      ],
      "source": [
        "cbind(x,y)"
      ]
    },
    {
      "cell_type": "code",
      "execution_count": null,
      "id": "f224829c-bde2-4f62-b5f5-366bb4900111",
      "metadata": {
        "id": "f224829c-bde2-4f62-b5f5-366bb4900111",
        "outputId": "474a1835-da48-4293-d30e-47bcb5c26eb7"
      },
      "outputs": [
        {
          "data": {
            "text/plain": [
              "                y y\n",
              "[1,] 1 2 3 4  5 1 1\n",
              "[2,] 6 7 8 9 10 2 2"
            ]
          },
          "metadata": {},
          "output_type": "display_data"
        }
      ],
      "source": [
        "cbind(x,y,y)"
      ]
    },
    {
      "cell_type": "markdown",
      "id": "5001e056-793e-4898-8292-8042d43b31d5",
      "metadata": {
        "id": "5001e056-793e-4898-8292-8042d43b31d5"
      },
      "source": [
        "`-` 열의 이름은 다음과 같이 지울 수 있다."
      ]
    },
    {
      "cell_type": "code",
      "execution_count": null,
      "id": "ddf5292b-ae1b-45ce-b3c1-e6b5e3b5b8f6",
      "metadata": {
        "id": "ddf5292b-ae1b-45ce-b3c1-e6b5e3b5b8f6",
        "outputId": "9d3d4c95-c41d-498b-e425-0a557303222a"
      },
      "outputs": [
        {
          "data": {
            "text/plain": [
              "[1] \"\"  \"\"  \"\"  \"\"  \"\"  \"y\" \"y\""
            ]
          },
          "metadata": {},
          "output_type": "display_data"
        }
      ],
      "source": [
        "xyy = cbind(x,y,y)\n",
        "colnames(xyy)"
      ]
    },
    {
      "cell_type": "code",
      "execution_count": null,
      "id": "435c883c-0bbe-4cfe-8ead-930b6d43ba47",
      "metadata": {
        "id": "435c883c-0bbe-4cfe-8ead-930b6d43ba47",
        "outputId": "bcd2ee4b-743e-408c-b46a-5e7f0dcad3f2"
      },
      "outputs": [
        {
          "data": {
            "text/plain": [
              "NULL"
            ]
          },
          "metadata": {},
          "output_type": "display_data"
        }
      ],
      "source": [
        "colnames(x)"
      ]
    },
    {
      "cell_type": "code",
      "execution_count": null,
      "id": "5d4ce357-b3ab-41b1-b4a4-50ff070e7217",
      "metadata": {
        "id": "5d4ce357-b3ab-41b1-b4a4-50ff070e7217"
      },
      "outputs": [],
      "source": [
        "colnames(xyy) = NULL"
      ]
    },
    {
      "cell_type": "code",
      "execution_count": null,
      "id": "4a0dc780-1f9e-4976-a4bc-7fefd094e784",
      "metadata": {
        "id": "4a0dc780-1f9e-4976-a4bc-7fefd094e784",
        "outputId": "30d552a0-b53a-4f23-a521-db473228b5e0"
      },
      "outputs": [
        {
          "data": {
            "text/plain": [
              "     [,1] [,2] [,3] [,4] [,5] [,6] [,7]\n",
              "[1,] 1    2    3    4     5   1    1   \n",
              "[2,] 6    7    8    9    10   2    2   "
            ]
          },
          "metadata": {},
          "output_type": "display_data"
        }
      ],
      "source": [
        "xyy"
      ]
    },
    {
      "cell_type": "markdown",
      "id": "28546052-c3bc-4f7e-a67b-5ea3841342a0",
      "metadata": {
        "id": "28546052-c3bc-4f7e-a67b-5ea3841342a0"
      },
      "source": [
        "`-` 예제2"
      ]
    },
    {
      "cell_type": "code",
      "execution_count": null,
      "id": "3f936cda-4e34-47fe-a242-41a5344f27da",
      "metadata": {
        "id": "3f936cda-4e34-47fe-a242-41a5344f27da",
        "outputId": "8429c32e-66b6-4259-9616-d82221cb47be"
      },
      "outputs": [
        {
          "data": {
            "text/plain": [
              "     [,1] [,2] [,3] [,4] [,5]\n",
              "[1,] 1    2    3    4     5  \n",
              "[2,] 6    7    8    9    10  \n",
              "[3,] 1    1    1    1     1  "
            ]
          },
          "metadata": {},
          "output_type": "display_data"
        }
      ],
      "source": [
        "x <- rbind(1:5,6:10)\n",
        "rbind(x,1)"
      ]
    },
    {
      "cell_type": "markdown",
      "id": "95d46d43-c4ba-4a85-a6ff-999371e9bf22",
      "metadata": {
        "id": "95d46d43-c4ba-4a85-a6ff-999371e9bf22"
      },
      "source": [
        "`-` 예제3"
      ]
    },
    {
      "cell_type": "code",
      "execution_count": null,
      "id": "3fd6f4b8-7269-4136-9e01-ff4562c5a417",
      "metadata": {
        "id": "3fd6f4b8-7269-4136-9e01-ff4562c5a417"
      },
      "outputs": [],
      "source": [
        "x <- rbind(1:5,6:10,1:5)\n",
        "y <- cbind(1:3,4:6,7:9)"
      ]
    },
    {
      "cell_type": "code",
      "execution_count": null,
      "id": "c96fc97f-242e-42b8-a250-30ffc83eeadd",
      "metadata": {
        "id": "c96fc97f-242e-42b8-a250-30ffc83eeadd",
        "outputId": "e5d2ac37-16ac-446d-a46f-5108dae5bfbf"
      },
      "outputs": [
        {
          "data": {
            "text/plain": [
              "     [,1] [,2] [,3] [,4] [,5]\n",
              "[1,] 1    2    3    4     5  \n",
              "[2,] 6    7    8    9    10  \n",
              "[3,] 1    2    3    4     5  "
            ]
          },
          "metadata": {},
          "output_type": "display_data"
        }
      ],
      "source": [
        "x"
      ]
    },
    {
      "cell_type": "code",
      "execution_count": null,
      "id": "2af7840d-27ea-4b1a-92e7-68fc05109efb",
      "metadata": {
        "id": "2af7840d-27ea-4b1a-92e7-68fc05109efb",
        "outputId": "e5b26599-79ba-4c5a-b3fc-a51f908f09e7"
      },
      "outputs": [
        {
          "data": {
            "text/plain": [
              "     [,1] [,2] [,3]\n",
              "[1,] 1    4    7   \n",
              "[2,] 2    5    8   \n",
              "[3,] 3    6    9   "
            ]
          },
          "metadata": {},
          "output_type": "display_data"
        }
      ],
      "source": [
        "y"
      ]
    },
    {
      "cell_type": "code",
      "execution_count": null,
      "id": "e04f8199-f790-4d64-9e25-092bfbb89a08",
      "metadata": {
        "id": "e04f8199-f790-4d64-9e25-092bfbb89a08",
        "outputId": "a45faca2-2285-43a1-a16b-d6c6de58bb5b"
      },
      "outputs": [
        {
          "data": {
            "text/plain": [
              "     [,1] [,2] [,3] [,4] [,5] [,6] [,7] [,8]\n",
              "[1,] 1    2    3    4     5   1    4    7   \n",
              "[2,] 6    7    8    9    10   2    5    8   \n",
              "[3,] 1    2    3    4     5   3    6    9   "
            ]
          },
          "metadata": {},
          "output_type": "display_data"
        }
      ],
      "source": [
        "cbind(x,y)"
      ]
    },
    {
      "cell_type": "code",
      "execution_count": null,
      "id": "4e0e80ea-07d6-4851-b0e7-deb99502c53d",
      "metadata": {
        "id": "4e0e80ea-07d6-4851-b0e7-deb99502c53d",
        "outputId": "a454cd97-8983-4601-8985-57f19f018648"
      },
      "outputs": [
        {
          "ename": "ERROR",
          "evalue": "Error in rbind(x, y): 각각의 행렬이 가진 열의 개수는 반드시 서로 일치해야 합니다 (인자 2를 참고하세요)\n",
          "output_type": "error",
          "traceback": [
            "Error in rbind(x, y): 각각의 행렬이 가진 열의 개수는 반드시 서로 일치해야 합니다 (인자 2를 참고하세요)\nTraceback:\n",
            "1. rbind(x, y)"
          ]
        }
      ],
      "source": [
        "rbind(x,y)"
      ]
    },
    {
      "cell_type": "markdown",
      "id": "2cb72739-a7c8-4866-9a4f-1c33ab524112",
      "metadata": {
        "id": "2cb72739-a7c8-4866-9a4f-1c33ab524112"
      },
      "source": [
        "- 차원이 맞지 않아 오류"
      ]
    },
    {
      "cell_type": "markdown",
      "id": "80fd4d13-7051-42c1-a69c-eff67ab7a006",
      "metadata": {
        "jp-MarkdownHeadingCollapsed": true,
        "tags": [],
        "id": "80fd4d13-7051-42c1-a69c-eff67ab7a006"
      },
      "source": [
        "### 매트릭스 원소 선택"
      ]
    },
    {
      "cell_type": "code",
      "execution_count": null,
      "id": "9cab3f57-91a4-4f34-baf7-91884734a757",
      "metadata": {
        "id": "9cab3f57-91a4-4f34-baf7-91884734a757",
        "outputId": "d8cb7483-50ab-4bd9-d498-43779f3e1521"
      },
      "outputs": [
        {
          "data": {
            "text/plain": [
              "     [,1] [,2] [,3] [,4] [,5]\n",
              "[1,] 1    2    3    4     5  \n",
              "[2,] 6    7    8    9    10  \n",
              "[3,] 1    2    3    4     5  "
            ]
          },
          "metadata": {},
          "output_type": "display_data"
        }
      ],
      "source": [
        "x <- rbind(1:5,6:10,1:5)\n",
        "x"
      ]
    },
    {
      "cell_type": "markdown",
      "id": "144712e5-25a1-40ef-8dd6-03efae8b4971",
      "metadata": {
        "id": "144712e5-25a1-40ef-8dd6-03efae8b4971"
      },
      "source": [
        "`-` 예제1"
      ]
    },
    {
      "cell_type": "code",
      "execution_count": null,
      "id": "36631f50-2087-4130-ae4a-16e127387ad8",
      "metadata": {
        "id": "36631f50-2087-4130-ae4a-16e127387ad8",
        "outputId": "eedecf4f-034e-4007-cb7d-8fd48ecda415"
      },
      "outputs": [
        {
          "data": {
            "text/plain": [
              "[1] 1 6 1"
            ]
          },
          "metadata": {},
          "output_type": "display_data"
        }
      ],
      "source": [
        "x[,1]"
      ]
    },
    {
      "cell_type": "markdown",
      "id": "678a8306-f060-419b-b146-46b48967d869",
      "metadata": {
        "id": "678a8306-f060-419b-b146-46b48967d869"
      },
      "source": [
        "- 선택된 원소는 자동으로 벡터화 된다."
      ]
    },
    {
      "cell_type": "code",
      "execution_count": null,
      "id": "0fa8d17a-069a-4000-9ee0-d6adad9cee9b",
      "metadata": {
        "id": "0fa8d17a-069a-4000-9ee0-d6adad9cee9b",
        "outputId": "606ca728-b0b6-4ad7-be69-6bf8eb9bde37"
      },
      "outputs": [
        {
          "data": {
            "text/plain": [
              "[1] 1 6 1"
            ]
          },
          "metadata": {},
          "output_type": "display_data"
        }
      ],
      "source": [
        "X=x[,1]\n",
        "X"
      ]
    },
    {
      "cell_type": "code",
      "execution_count": null,
      "id": "0040ce60-fcc7-4d16-8449-f146c1665d5c",
      "metadata": {
        "id": "0040ce60-fcc7-4d16-8449-f146c1665d5c",
        "outputId": "0c429298-7f9d-4ae2-88fd-3f517a72fc21"
      },
      "outputs": [
        {
          "data": {
            "text/plain": [
              "NULL"
            ]
          },
          "metadata": {},
          "output_type": "display_data"
        }
      ],
      "source": [
        "dim(X)"
      ]
    },
    {
      "cell_type": "markdown",
      "id": "b4774055-8cf9-4059-b3ae-c4d3ee933da1",
      "metadata": {
        "id": "b4774055-8cf9-4059-b3ae-c4d3ee933da1"
      },
      "source": [
        "- 벡터화되어서 행렬의 차원이 존재하지 않는다."
      ]
    },
    {
      "cell_type": "code",
      "execution_count": null,
      "id": "741ad0ef-732b-472c-848d-8f86a9a5cf82",
      "metadata": {
        "id": "741ad0ef-732b-472c-848d-8f86a9a5cf82",
        "outputId": "6af3675e-12fd-471c-e469-1fae498212dc"
      },
      "outputs": [
        {
          "data": {
            "text/plain": [
              "     [,1]\n",
              "[1,] 1   \n",
              "[2,] 6   \n",
              "[3,] 1   "
            ]
          },
          "metadata": {},
          "output_type": "display_data"
        }
      ],
      "source": [
        "dim(X) <- c(3,1)\n",
        "X"
      ]
    },
    {
      "cell_type": "markdown",
      "id": "08c92261-1c39-40b4-875a-d3cae53674eb",
      "metadata": {
        "id": "08c92261-1c39-40b4-875a-d3cae53674eb"
      },
      "source": [
        "`-` 예제2"
      ]
    },
    {
      "cell_type": "code",
      "execution_count": null,
      "id": "727e6d43-a6d0-4e3b-9a9a-1e70107de47a",
      "metadata": {
        "id": "727e6d43-a6d0-4e3b-9a9a-1e70107de47a",
        "outputId": "21a042be-a9e9-4597-ee28-2810d2056c8a"
      },
      "outputs": [
        {
          "data": {
            "text/plain": [
              "     [,1] [,2]\n",
              "[1,] 1    2   \n",
              "[2,] 6    7   \n",
              "[3,] 1    2   "
            ]
          },
          "metadata": {},
          "output_type": "display_data"
        }
      ],
      "source": [
        "x[,1:2]"
      ]
    },
    {
      "cell_type": "markdown",
      "id": "94e955bd-12f4-480a-9dfa-554122520617",
      "metadata": {
        "id": "94e955bd-12f4-480a-9dfa-554122520617"
      },
      "source": [
        "`-` 예제3"
      ]
    },
    {
      "cell_type": "code",
      "execution_count": null,
      "id": "e96d9cb1-eaf5-4a1f-a555-23fb0bbd9430",
      "metadata": {
        "id": "e96d9cb1-eaf5-4a1f-a555-23fb0bbd9430",
        "outputId": "33f7694a-f0ee-424e-bc97-050beac72e9c"
      },
      "outputs": [
        {
          "data": {
            "text/plain": [
              "     [,1] [,2] [,3] [,4]\n",
              "[1,] 2    3    4     5  \n",
              "[2,] 7    8    9    10  \n",
              "[3,] 2    3    4     5  "
            ]
          },
          "metadata": {},
          "output_type": "display_data"
        }
      ],
      "source": [
        "x[,-1]"
      ]
    },
    {
      "cell_type": "markdown",
      "id": "72f78b69-fac5-4504-9dd5-13a1b0ca36ef",
      "metadata": {
        "id": "72f78b69-fac5-4504-9dd5-13a1b0ca36ef"
      },
      "source": [
        "`-` 예제4"
      ]
    },
    {
      "cell_type": "code",
      "execution_count": null,
      "id": "522396d5-e79a-4103-bf34-9c0feb1f1874",
      "metadata": {
        "id": "522396d5-e79a-4103-bf34-9c0feb1f1874",
        "outputId": "f9fe54b0-1008-42d6-a585-c92568325790"
      },
      "outputs": [
        {
          "data": {
            "text/plain": [
              "     [,1] [,2] [,3]\n",
              "[1,] 3    4     5  \n",
              "[2,] 8    9    10  \n",
              "[3,] 3    4     5  "
            ]
          },
          "metadata": {},
          "output_type": "display_data"
        }
      ],
      "source": [
        "x[,-(1:2)]"
      ]
    },
    {
      "cell_type": "markdown",
      "id": "914a836c-8630-4161-bc49-6bb6d6bbe11a",
      "metadata": {
        "id": "914a836c-8630-4161-bc49-6bb6d6bbe11a"
      },
      "source": [
        "`-` 예제5"
      ]
    },
    {
      "cell_type": "code",
      "execution_count": null,
      "id": "05fd81b1-dba4-4bc5-9853-a8e43f853e53",
      "metadata": {
        "id": "05fd81b1-dba4-4bc5-9853-a8e43f853e53",
        "outputId": "b47f0a9c-2c22-4e01-9500-12c4638d8d77"
      },
      "outputs": [
        {
          "data": {
            "text/plain": [
              "     [,1] [,2] [,3] [,4] [,5]\n",
              "[1,] 1    2    3    4     5  \n",
              "[2,] 6    7    8    9    10  "
            ]
          },
          "metadata": {},
          "output_type": "display_data"
        }
      ],
      "source": [
        "x[1:2,]"
      ]
    },
    {
      "cell_type": "markdown",
      "id": "e6244d73-4d3d-4fad-a6ba-915c655ff62e",
      "metadata": {
        "id": "e6244d73-4d3d-4fad-a6ba-915c655ff62e"
      },
      "source": [
        "`-` 예제6"
      ]
    },
    {
      "cell_type": "code",
      "execution_count": null,
      "id": "203964e1-d1ab-404b-9f99-588b66e9d0b2",
      "metadata": {
        "id": "203964e1-d1ab-404b-9f99-588b66e9d0b2",
        "outputId": "07417ad4-18d8-44cf-b09c-a4f35a5b5fea"
      },
      "outputs": [
        {
          "data": {
            "text/plain": [
              "     [,1] [,2]\n",
              "[1,] 3    4   \n",
              "[2,] 8    9   "
            ]
          },
          "metadata": {},
          "output_type": "display_data"
        }
      ],
      "source": [
        "x[1:2,3:4]"
      ]
    },
    {
      "cell_type": "markdown",
      "id": "ec75cb85-5bd8-4a2d-95cc-c366c5ffbc94",
      "metadata": {
        "id": "ec75cb85-5bd8-4a2d-95cc-c366c5ffbc94"
      },
      "source": [
        "`-` 예제7"
      ]
    },
    {
      "cell_type": "code",
      "execution_count": null,
      "id": "f27b0d69-2c43-487f-a923-dae529d3854a",
      "metadata": {
        "id": "f27b0d69-2c43-487f-a923-dae529d3854a",
        "outputId": "7efa1136-2a03-4286-aab1-513d448fbe07"
      },
      "outputs": [
        {
          "data": {
            "text/plain": [
              "     [,1] [,2] [,3] [,4]\n",
              "[1,] 2    3    4     5  \n",
              "[2,] 7    8    9    10  "
            ]
          },
          "metadata": {},
          "output_type": "display_data"
        }
      ],
      "source": [
        "x[1:2,-1]"
      ]
    },
    {
      "cell_type": "markdown",
      "id": "7b99e48c-bf95-4e04-8a53-1dac79d0a83d",
      "metadata": {
        "jp-MarkdownHeadingCollapsed": true,
        "tags": [],
        "id": "7b99e48c-bf95-4e04-8a53-1dac79d0a83d"
      },
      "source": [
        "### 벡터관련연산"
      ]
    },
    {
      "cell_type": "markdown",
      "id": "8d63e46b-3c41-4bf1-b251-5d38bab5905f",
      "metadata": {
        "id": "8d63e46b-3c41-4bf1-b251-5d38bab5905f"
      },
      "source": [
        "`-` 예제1"
      ]
    },
    {
      "cell_type": "code",
      "execution_count": null,
      "id": "3e9df2b8-0e4c-40db-b1d5-3c1fa72ce662",
      "metadata": {
        "id": "3e9df2b8-0e4c-40db-b1d5-3c1fa72ce662",
        "outputId": "5b411d8b-7f3a-4e3d-b9d1-623c3ef55b84"
      },
      "outputs": [
        {
          "data": {
            "text/plain": [
              "[1]  TRUE  TRUE FALSE"
            ]
          },
          "metadata": {},
          "output_type": "display_data"
        }
      ],
      "source": [
        "c(1,2,3) %in% c(1,2,4)"
      ]
    },
    {
      "cell_type": "markdown",
      "id": "0175b67b-f9d1-41da-886b-fc5c316925d2",
      "metadata": {
        "id": "0175b67b-f9d1-41da-886b-fc5c316925d2"
      },
      "source": [
        "`-` 예제2 : 합집합"
      ]
    },
    {
      "cell_type": "code",
      "execution_count": null,
      "id": "13e0d087-8328-4439-b1bf-aed0941a3231",
      "metadata": {
        "id": "13e0d087-8328-4439-b1bf-aed0941a3231",
        "outputId": "82c60993-812f-43c7-d4bb-ef5bcca258be"
      },
      "outputs": [
        {
          "data": {
            "text/plain": [
              "[1] 1 2 3 5"
            ]
          },
          "metadata": {},
          "output_type": "display_data"
        }
      ],
      "source": [
        "union(c(1,2,2),c(1,3,5)) # 합집합"
      ]
    },
    {
      "cell_type": "markdown",
      "id": "cab600bc-890b-4bd5-a1fd-273b19f52c09",
      "metadata": {
        "id": "cab600bc-890b-4bd5-a1fd-273b19f52c09"
      },
      "source": [
        "`-` 예제3 : 교집합"
      ]
    },
    {
      "cell_type": "code",
      "execution_count": null,
      "id": "5fc0c39b-831c-472d-afd1-727701c0d3b6",
      "metadata": {
        "id": "5fc0c39b-831c-472d-afd1-727701c0d3b6",
        "outputId": "992ee848-c882-45e2-970e-fc7e92c77328"
      },
      "outputs": [
        {
          "data": {
            "text/plain": [
              "[1] 3 4"
            ]
          },
          "metadata": {},
          "output_type": "display_data"
        }
      ],
      "source": [
        "intersect(1:4,3:6)"
      ]
    },
    {
      "cell_type": "markdown",
      "id": "21ef3a44-3f9a-4581-88ba-42ecdb04c36e",
      "metadata": {
        "id": "21ef3a44-3f9a-4581-88ba-42ecdb04c36e"
      },
      "source": [
        "`-` 예제4 : 내적계산 (`%*%`)"
      ]
    },
    {
      "cell_type": "code",
      "execution_count": null,
      "id": "6cc5706b-d2fd-41e5-b662-25ed44508ce3",
      "metadata": {
        "id": "6cc5706b-d2fd-41e5-b662-25ed44508ce3"
      },
      "outputs": [],
      "source": [
        "x=1:5"
      ]
    },
    {
      "cell_type": "code",
      "execution_count": null,
      "id": "93633798-9328-4a3e-9b79-1cf39db82b34",
      "metadata": {
        "id": "93633798-9328-4a3e-9b79-1cf39db82b34",
        "outputId": "a2729f23-3fe1-4c36-e0e1-d8d3fafd864d"
      },
      "outputs": [
        {
          "data": {
            "text/plain": [
              "     [,1]\n",
              "[1,] 55  "
            ]
          },
          "metadata": {},
          "output_type": "display_data"
        }
      ],
      "source": [
        "x %*% x"
      ]
    },
    {
      "cell_type": "markdown",
      "id": "35eb4dcc-68cf-4b86-86cc-3b983501e676",
      "metadata": {
        "id": "35eb4dcc-68cf-4b86-86cc-3b983501e676"
      },
      "source": [
        "`-` 예제5 : 외적계산(`%o%`)"
      ]
    },
    {
      "cell_type": "code",
      "execution_count": null,
      "id": "5795ab30-d873-4905-9bfa-3cfc7b6e38ef",
      "metadata": {
        "id": "5795ab30-d873-4905-9bfa-3cfc7b6e38ef"
      },
      "outputs": [],
      "source": [
        "x=1:5"
      ]
    },
    {
      "cell_type": "code",
      "execution_count": null,
      "id": "5f918d54-c269-4700-bbc8-9abf3138e438",
      "metadata": {
        "id": "5f918d54-c269-4700-bbc8-9abf3138e438",
        "outputId": "ce474ac0-b906-4391-ec7b-a76c06f2de4d"
      },
      "outputs": [
        {
          "data": {
            "text/plain": [
              "     [,1] [,2] [,3] [,4] [,5]\n",
              "[1,] 1     2    3    4    5  \n",
              "[2,] 2     4    6    8   10  \n",
              "[3,] 3     6    9   12   15  \n",
              "[4,] 4     8   12   16   20  \n",
              "[5,] 5    10   15   20   25  "
            ]
          },
          "metadata": {},
          "output_type": "display_data"
        }
      ],
      "source": [
        "x %o% x"
      ]
    },
    {
      "cell_type": "markdown",
      "id": "27529737-1c3c-4a5e-8ba3-09f7ffde4b4b",
      "metadata": {
        "jp-MarkdownHeadingCollapsed": true,
        "tags": [],
        "id": "27529737-1c3c-4a5e-8ba3-09f7ffde4b4b"
      },
      "source": [
        "### 매트릭스 관련 연산"
      ]
    },
    {
      "cell_type": "markdown",
      "id": "3cae5af0-c857-4dbb-b4f3-0622f9749cdf",
      "metadata": {
        "id": "3cae5af0-c857-4dbb-b4f3-0622f9749cdf"
      },
      "source": [
        "`-` 예제1 : 전치행렬"
      ]
    },
    {
      "cell_type": "code",
      "execution_count": null,
      "id": "dfbda4f8-6840-4b8c-b369-049185b03c45",
      "metadata": {
        "id": "dfbda4f8-6840-4b8c-b369-049185b03c45",
        "outputId": "e6aedd78-b537-44c6-b986-85f1e6d69ef5"
      },
      "outputs": [
        {
          "data": {
            "text/plain": [
              "     [,1] [,2] [,3]\n",
              "[1,] 1    4    7   \n",
              "[2,] 2    5    8   \n",
              "[3,] 3    6    9   "
            ]
          },
          "metadata": {},
          "output_type": "display_data"
        }
      ],
      "source": [
        "A <- cbind(c(1,2,3),c(4,5,6),c(7,8,9))\n",
        "A"
      ]
    },
    {
      "cell_type": "code",
      "execution_count": null,
      "id": "f71d0a0f-05c7-4174-b0b0-68ffa079acec",
      "metadata": {
        "id": "f71d0a0f-05c7-4174-b0b0-68ffa079acec",
        "outputId": "6a66e63c-e3c8-49ef-d403-2e5593a9bb72"
      },
      "outputs": [
        {
          "data": {
            "text/plain": [
              "     [,1] [,2] [,3]\n",
              "[1,] 1    2    3   \n",
              "[2,] 4    5    6   \n",
              "[3,] 7    8    9   "
            ]
          },
          "metadata": {},
          "output_type": "display_data"
        }
      ],
      "source": [
        "t(A)"
      ]
    },
    {
      "cell_type": "markdown",
      "id": "aec1a14b-9a05-4841-b47c-c35884eebb87",
      "metadata": {
        "id": "aec1a14b-9a05-4841-b47c-c35884eebb87"
      },
      "source": [
        "`-` 예제2 : 상수 곱하기"
      ]
    },
    {
      "cell_type": "code",
      "execution_count": null,
      "id": "0227e146-492b-4e9c-94ba-79f89c645438",
      "metadata": {
        "id": "0227e146-492b-4e9c-94ba-79f89c645438",
        "outputId": "5d87345f-9c32-427c-9a63-857cd1baa48a"
      },
      "outputs": [
        {
          "data": {
            "text/plain": [
              "     [,1] [,2] [,3]\n",
              "[1,] 1    4    7   \n",
              "[2,] 2    5    8   \n",
              "[3,] 3    6    9   "
            ]
          },
          "metadata": {},
          "output_type": "display_data"
        }
      ],
      "source": [
        "A = cbind(c(1,2,3),c(4,5,6),c(7,8,9))\n",
        "A"
      ]
    },
    {
      "cell_type": "code",
      "execution_count": null,
      "id": "4d046ac7-a2e3-41a4-bbc7-6ec575a430c5",
      "metadata": {
        "id": "4d046ac7-a2e3-41a4-bbc7-6ec575a430c5",
        "outputId": "ce8be6dd-76f5-413c-9ba0-da5e63fd0f62"
      },
      "outputs": [
        {
          "data": {
            "text/plain": [
              "     [,1] [,2] [,3]\n",
              "[1,] -1   -4   -7  \n",
              "[2,] -2   -5   -8  \n",
              "[3,] -3   -6   -9  "
            ]
          },
          "metadata": {},
          "output_type": "display_data"
        }
      ],
      "source": [
        "-A"
      ]
    },
    {
      "cell_type": "code",
      "execution_count": null,
      "id": "852d3373-c33f-4f3c-95d3-fb53acf1a342",
      "metadata": {
        "id": "852d3373-c33f-4f3c-95d3-fb53acf1a342",
        "outputId": "fa75f339-329a-4b30-f894-37dbf8cf00bf"
      },
      "outputs": [
        {
          "data": {
            "text/plain": [
              "     [,1] [,2] [,3]\n",
              "[1,] 2     8   14  \n",
              "[2,] 4    10   16  \n",
              "[3,] 6    12   18  "
            ]
          },
          "metadata": {},
          "output_type": "display_data"
        }
      ],
      "source": [
        "A*2"
      ]
    },
    {
      "cell_type": "code",
      "execution_count": null,
      "id": "fb699acb-8588-4bb9-95b2-88c75e142b82",
      "metadata": {
        "id": "fb699acb-8588-4bb9-95b2-88c75e142b82",
        "outputId": "5d8d3336-075e-42a4-a95c-0880f1b10edc"
      },
      "outputs": [
        {
          "data": {
            "text/plain": [
              "     [,1] [,2] [,3]\n",
              "[1,] 1    16   49  \n",
              "[2,] 4    25   64  \n",
              "[3,] 9    36   81  "
            ]
          },
          "metadata": {},
          "output_type": "display_data"
        }
      ],
      "source": [
        "A**2"
      ]
    },
    {
      "cell_type": "markdown",
      "id": "13937edc-d1dd-42c2-94db-eb4f4440974c",
      "metadata": {
        "id": "13937edc-d1dd-42c2-94db-eb4f4440974c"
      },
      "source": [
        "`-` 예제3 : 덧셈, 뺄셈"
      ]
    },
    {
      "cell_type": "code",
      "execution_count": null,
      "id": "1a624b30-1f3e-4efb-9378-6ae9a12db375",
      "metadata": {
        "id": "1a624b30-1f3e-4efb-9378-6ae9a12db375"
      },
      "outputs": [],
      "source": [
        "A=cbind(c(1,2,3),c(4,5,6),c(7,8,9))\n",
        "B=cbind(1:3,2:4,3:5)"
      ]
    },
    {
      "cell_type": "code",
      "execution_count": null,
      "id": "5456201f-010d-4c0b-9cd3-029ab234c8dd",
      "metadata": {
        "id": "5456201f-010d-4c0b-9cd3-029ab234c8dd",
        "outputId": "a808ccfc-aabd-4fa0-96c0-4e9e946e01ed"
      },
      "outputs": [
        {
          "data": {
            "text/plain": [
              "     [,1] [,2] [,3]\n",
              "[1,] 1    4    7   \n",
              "[2,] 2    5    8   \n",
              "[3,] 3    6    9   "
            ]
          },
          "metadata": {},
          "output_type": "display_data"
        }
      ],
      "source": [
        "A"
      ]
    },
    {
      "cell_type": "code",
      "execution_count": null,
      "id": "f293ade6-8cf1-4f85-8a02-b6df7ea8e0b0",
      "metadata": {
        "id": "f293ade6-8cf1-4f85-8a02-b6df7ea8e0b0",
        "outputId": "d8607182-3eac-47ba-c7fb-1864b2720c54"
      },
      "outputs": [
        {
          "data": {
            "text/plain": [
              "     [,1] [,2] [,3]\n",
              "[1,] 1    2    3   \n",
              "[2,] 2    3    4   \n",
              "[3,] 3    4    5   "
            ]
          },
          "metadata": {},
          "output_type": "display_data"
        }
      ],
      "source": [
        "B"
      ]
    },
    {
      "cell_type": "code",
      "execution_count": null,
      "id": "c51b6d85-8ee1-4daa-99ef-20989e834dd1",
      "metadata": {
        "id": "c51b6d85-8ee1-4daa-99ef-20989e834dd1",
        "outputId": "5e19cf71-0445-400f-d886-bff76feee053"
      },
      "outputs": [
        {
          "data": {
            "text/plain": [
              "     [,1] [,2] [,3]\n",
              "[1,] 2     6   10  \n",
              "[2,] 4     8   12  \n",
              "[3,] 6    10   14  "
            ]
          },
          "metadata": {},
          "output_type": "display_data"
        }
      ],
      "source": [
        "A+B"
      ]
    },
    {
      "cell_type": "markdown",
      "id": "b44a0ff4-b2a7-4077-b554-ca60b9af4eda",
      "metadata": {
        "id": "b44a0ff4-b2a7-4077-b554-ca60b9af4eda"
      },
      "source": [
        "`-` 예제4 : 곱셈"
      ]
    },
    {
      "cell_type": "code",
      "execution_count": null,
      "id": "b49755d7-1e2c-4d0b-9d15-5e3d431de704",
      "metadata": {
        "id": "b49755d7-1e2c-4d0b-9d15-5e3d431de704",
        "outputId": "129f4a75-69e6-4b1d-c784-45c76055378e"
      },
      "outputs": [
        {
          "data": {
            "text/plain": [
              "     [,1] [,2]\n",
              "[1,] 1    3   \n",
              "[2,] 2    4   "
            ]
          },
          "metadata": {},
          "output_type": "display_data"
        }
      ],
      "source": [
        "A=cbind(c(1,2),c(3,4))\n",
        "A"
      ]
    },
    {
      "cell_type": "code",
      "execution_count": null,
      "id": "b7f45c83-d97f-4dc8-9e25-50aa083ed356",
      "metadata": {
        "id": "b7f45c83-d97f-4dc8-9e25-50aa083ed356",
        "outputId": "d4f5c750-f52f-4bd3-d599-c474baebdc18"
      },
      "outputs": [
        {
          "data": {
            "text/plain": [
              "     [,1] [,2]\n",
              "[1,]  7   15  \n",
              "[2,] 10   22  "
            ]
          },
          "metadata": {},
          "output_type": "display_data"
        }
      ],
      "source": [
        "A %*% A"
      ]
    },
    {
      "cell_type": "markdown",
      "id": "88504bd7-07e7-487d-811e-d2110cf50d99",
      "metadata": {
        "id": "88504bd7-07e7-487d-811e-d2110cf50d99"
      },
      "source": [
        "`-` 예제5 : 역행렬"
      ]
    },
    {
      "cell_type": "code",
      "execution_count": null,
      "id": "e17b54ba-4c29-428f-9541-b835b7640069",
      "metadata": {
        "id": "e17b54ba-4c29-428f-9541-b835b7640069",
        "outputId": "98797896-90a5-4d2f-beec-43cdc6eaa022"
      },
      "outputs": [
        {
          "data": {
            "text/plain": [
              "     [,1] [,2]\n",
              "[1,] 1    3   \n",
              "[2,] 3    1   "
            ]
          },
          "metadata": {},
          "output_type": "display_data"
        }
      ],
      "source": [
        "A=rbind(c(1,3),c(3,1))\n",
        "A"
      ]
    },
    {
      "cell_type": "code",
      "execution_count": null,
      "id": "a6285662-8a13-46c2-b913-a5dbd11793e0",
      "metadata": {
        "id": "a6285662-8a13-46c2-b913-a5dbd11793e0",
        "outputId": "b2f0a011-7f97-4bdf-8735-60317c374a5b"
      },
      "outputs": [
        {
          "data": {
            "text/plain": [
              "     [,1]   [,2]  \n",
              "[1,] -0.125  0.375\n",
              "[2,]  0.375 -0.125"
            ]
          },
          "metadata": {},
          "output_type": "display_data"
        }
      ],
      "source": [
        "solve(A)"
      ]
    },
    {
      "cell_type": "code",
      "execution_count": null,
      "id": "f5bec240-0ff2-46c8-8a35-ddc9d36013b4",
      "metadata": {
        "id": "f5bec240-0ff2-46c8-8a35-ddc9d36013b4",
        "outputId": "15f89f13-b5e4-410f-bed6-8ab85a7e335c"
      },
      "outputs": [
        {
          "data": {
            "text/plain": [
              "     [,1] [,2]\n",
              "[1,] 1    0   \n",
              "[2,] 0    1   "
            ]
          },
          "metadata": {},
          "output_type": "display_data"
        }
      ],
      "source": [
        "A %*% solve(A)"
      ]
    },
    {
      "cell_type": "markdown",
      "id": "1bc0f75f-c97c-41a9-9f14-ce8899842eb5",
      "metadata": {
        "jp-MarkdownHeadingCollapsed": true,
        "tags": [],
        "id": "1bc0f75f-c97c-41a9-9f14-ce8899842eb5"
      },
      "source": [
        "### 티블 만드는 방법"
      ]
    },
    {
      "cell_type": "markdown",
      "id": "92a29269-056c-4f6d-adb1-ead2ecf762d7",
      "metadata": {
        "id": "92a29269-056c-4f6d-adb1-ead2ecf762d7"
      },
      "source": [
        "`-` 벡터로 만들기"
      ]
    },
    {
      "cell_type": "code",
      "execution_count": null,
      "id": "da809915-b2eb-4ad1-8611-ea3e92419366",
      "metadata": {
        "id": "da809915-b2eb-4ad1-8611-ea3e92419366"
      },
      "outputs": [],
      "source": [
        "x<-c(1,2,3)\n",
        "y<-c('a','b','c')"
      ]
    },
    {
      "cell_type": "code",
      "execution_count": null,
      "id": "06bc5c48-65ca-470f-89f3-60e0a8ea7623",
      "metadata": {
        "id": "06bc5c48-65ca-470f-89f3-60e0a8ea7623"
      },
      "outputs": [],
      "source": [
        "tb=tibble(x=x,y=y)"
      ]
    },
    {
      "cell_type": "code",
      "execution_count": null,
      "id": "4d00bce0-3cfc-4348-a6b0-0bb10b2f6111",
      "metadata": {
        "id": "4d00bce0-3cfc-4348-a6b0-0bb10b2f6111",
        "outputId": "b213ea23-5ef6-4f30-89a5-3f4fb9842c1e"
      },
      "outputs": [
        {
          "data": {
            "text/plain": [
              "  x y\n",
              "1 1 a\n",
              "2 2 b\n",
              "3 3 c"
            ]
          },
          "metadata": {},
          "output_type": "display_data"
        }
      ],
      "source": [
        "tb"
      ]
    },
    {
      "cell_type": "code",
      "execution_count": null,
      "id": "15108c56-0483-45d8-99da-61b5cd9366b7",
      "metadata": {
        "id": "15108c56-0483-45d8-99da-61b5cd9366b7",
        "outputId": "d66e7e25-7a06-44bd-86b7-3de0ad03f716"
      },
      "outputs": [
        {
          "data": {
            "text/plain": [
              "[1] 1 2 3"
            ]
          },
          "metadata": {},
          "output_type": "display_data"
        }
      ],
      "source": [
        "tb$x"
      ]
    },
    {
      "cell_type": "code",
      "execution_count": null,
      "id": "b378eef2-e387-4230-a200-2e7b26fc45d8",
      "metadata": {
        "id": "b378eef2-e387-4230-a200-2e7b26fc45d8",
        "outputId": "442220c6-38a7-4fa2-e0c2-0e0b67cbd231"
      },
      "outputs": [
        {
          "data": {
            "text/plain": [
              "[1] \"a\" \"b\" \"c\""
            ]
          },
          "metadata": {},
          "output_type": "display_data"
        }
      ],
      "source": [
        "tb$y"
      ]
    },
    {
      "cell_type": "markdown",
      "id": "cef93b5e-6dbf-4b20-bdeb-7bb041e96191",
      "metadata": {
        "id": "cef93b5e-6dbf-4b20-bdeb-7bb041e96191"
      },
      "source": [
        "- column간의 원소형태가 달라도 됨(x는 numeric, y는 character)"
      ]
    },
    {
      "cell_type": "markdown",
      "id": "2f89930c-0de5-43ae-80a6-b475afda43f7",
      "metadata": {
        "id": "2f89930c-0de5-43ae-80a6-b475afda43f7"
      },
      "source": [
        "`-` 메트릭스로 만들기"
      ]
    },
    {
      "cell_type": "code",
      "execution_count": null,
      "id": "1cf46e07-f00c-4982-a0bd-41c289e74ce7",
      "metadata": {
        "id": "1cf46e07-f00c-4982-a0bd-41c289e74ce7",
        "outputId": "0db4bec5-93a1-480c-d668-4aac71127209"
      },
      "outputs": [
        {
          "data": {
            "text/plain": [
              "     [,1] [,2]\n",
              "[1,] 1    16  \n",
              "[2,] 2    17  \n",
              "[3,] 3    18  \n",
              "[4,] 4    19  \n",
              "[5,] 5    20  "
            ]
          },
          "metadata": {},
          "output_type": "display_data"
        }
      ],
      "source": [
        "X=cbind(1:5,16:20)\n",
        "X"
      ]
    },
    {
      "cell_type": "code",
      "execution_count": null,
      "id": "4cff67c8-5d12-4e85-ba42-b0d6f4d9a4cc",
      "metadata": {
        "id": "4cff67c8-5d12-4e85-ba42-b0d6f4d9a4cc",
        "outputId": "3df393b4-6761-4793-bff4-ab59946c89c8"
      },
      "outputs": [
        {
          "data": {
            "text/plain": [
              "  V1 V2\n",
              "1 1  16\n",
              "2 2  17\n",
              "3 3  18\n",
              "4 4  19\n",
              "5 5  20"
            ]
          },
          "metadata": {},
          "output_type": "display_data"
        }
      ],
      "source": [
        "tb=as_tibble(X)\n",
        "tb"
      ]
    },
    {
      "cell_type": "code",
      "execution_count": null,
      "id": "42e41a19-b2ae-422c-a7e5-b987cc185521",
      "metadata": {
        "id": "42e41a19-b2ae-422c-a7e5-b987cc185521",
        "outputId": "c36a82d5-a517-4a4c-d085-bd0acdd16db4"
      },
      "outputs": [
        {
          "data": {
            "text/plain": [
              "[1] 1 2 3 4 5"
            ]
          },
          "metadata": {},
          "output_type": "display_data"
        }
      ],
      "source": [
        "tb$V1"
      ]
    },
    {
      "cell_type": "code",
      "execution_count": null,
      "id": "660e1066-9bcd-46d9-90a5-d0a66a29a9aa",
      "metadata": {
        "id": "660e1066-9bcd-46d9-90a5-d0a66a29a9aa",
        "outputId": "7e79f9a1-8ea1-4651-aa1d-68188111c4a8"
      },
      "outputs": [
        {
          "data": {
            "text/plain": [
              "[1] 16 17 18 19 20"
            ]
          },
          "metadata": {},
          "output_type": "display_data"
        }
      ],
      "source": [
        "tb$V2"
      ]
    },
    {
      "cell_type": "markdown",
      "id": "70c68324-dfd5-49c3-9188-c80d88ba1da3",
      "metadata": {
        "tags": [],
        "id": "70c68324-dfd5-49c3-9188-c80d88ba1da3"
      },
      "source": [
        "#### 티블을 사용하는 이유:"
      ]
    },
    {
      "cell_type": "markdown",
      "source": [
        "`1. mutate`\n",
        "\n",
        "`2. filter`"
      ],
      "metadata": {
        "id": "rgz3Fn3VBpAo"
      },
      "id": "rgz3Fn3VBpAo"
    },
    {
      "cell_type": "markdown",
      "id": "ed57e797-beac-4bf9-a651-164b796b13f7",
      "metadata": {
        "id": "ed57e797-beac-4bf9-a651-164b796b13f7"
      },
      "source": [
        "`1.mutate`"
      ]
    },
    {
      "cell_type": "code",
      "execution_count": null,
      "id": "18f4cb0b-c68c-4fe8-b470-3f144c49e4ca",
      "metadata": {
        "id": "18f4cb0b-c68c-4fe8-b470-3f144c49e4ca",
        "outputId": "2ba1043c-33ae-4b96-a341-72a09e8c543b"
      },
      "outputs": [
        {
          "data": {
            "text/plain": [
              "  V1 V2 V3 V4    V5    \n",
              "1 1  16 19 19.00   0.00\n",
              "2 2  17 23 11.50 -11.50\n",
              "3 3  18 27  9.00 -18.00\n",
              "4 4  19 31  7.75 -23.25\n",
              "5 5  20 35  7.00 -28.00"
            ]
          },
          "metadata": {},
          "output_type": "display_data"
        }
      ],
      "source": [
        "tb %>% mutate(V3=3*V1+V2,V4=V3/V1,V5=V4-V3)"
      ]
    },
    {
      "cell_type": "code",
      "execution_count": null,
      "id": "45c0b040-ffac-41ea-93d0-4f273b403894",
      "metadata": {
        "id": "45c0b040-ffac-41ea-93d0-4f273b403894",
        "outputId": "a834597a-7cc2-400d-f626-89339737bdc4"
      },
      "outputs": [
        {
          "data": {
            "text/plain": [
              "  V1 V2 V3 V4    V5    \n",
              "1 1  16 19 19.00   0.00\n",
              "2 2  17 23 11.50 -11.50\n",
              "3 3  18 27  9.00 -18.00\n",
              "4 4  19 31  7.75 -23.25\n",
              "5 5  20 35  7.00 -28.00"
            ]
          },
          "metadata": {},
          "output_type": "display_data"
        }
      ],
      "source": [
        "mutate(tb,V3=3*V1+V2,V4=V3/V1,V5=V4-V3)"
      ]
    },
    {
      "cell_type": "markdown",
      "id": "d82b8fc7-dd99-4ba5-b89d-84f4cfa62e4a",
      "metadata": {
        "id": "d82b8fc7-dd99-4ba5-b89d-84f4cfa62e4a"
      },
      "source": [
        "- 새로운 열을 만드는데 편리함"
      ]
    },
    {
      "cell_type": "code",
      "execution_count": null,
      "id": "251a1cc7-6ee9-4001-b601-1ceb45893aa0",
      "metadata": {
        "id": "251a1cc7-6ee9-4001-b601-1ceb45893aa0",
        "outputId": "9e9544fe-8b2f-41f1-ca5d-f6f544734912"
      },
      "outputs": [
        {
          "data": {
            "text/plain": [
              "  V1 V2\n",
              "1 1  16\n",
              "2 2  17\n",
              "3 3  18\n",
              "4 4  19\n",
              "5 5  20"
            ]
          },
          "metadata": {},
          "output_type": "display_data"
        }
      ],
      "source": [
        "tb"
      ]
    },
    {
      "cell_type": "markdown",
      "id": "1d799988-0445-4c61-85bf-ee3da07849b3",
      "metadata": {
        "id": "1d799988-0445-4c61-85bf-ee3da07849b3"
      },
      "source": [
        "- 기존의 tb는 변하지 않음"
      ]
    },
    {
      "cell_type": "markdown",
      "id": "5ce30bb3-37b2-483f-a860-4ef83abe764e",
      "metadata": {
        "id": "5ce30bb3-37b2-483f-a860-4ef83abe764e"
      },
      "source": [
        "`2.filter`"
      ]
    },
    {
      "cell_type": "code",
      "execution_count": null,
      "id": "4c62d950-42fd-4d74-a154-2e3af79bbe2b",
      "metadata": {
        "id": "4c62d950-42fd-4d74-a154-2e3af79bbe2b",
        "outputId": "9fd55c4f-3a7a-4d4e-9b84-528fa6c0437a"
      },
      "outputs": [
        {
          "data": {
            "text/plain": [
              "  V1 V2 V3 V4    V5    \n",
              "1 1  16 19 19.00   0.00\n",
              "2 2  17 23 11.50 -11.50\n",
              "3 3  18 27  9.00 -18.00\n",
              "4 4  19 31  7.75 -23.25\n",
              "5 5  20 35  7.00 -28.00"
            ]
          },
          "metadata": {},
          "output_type": "display_data"
        }
      ],
      "source": [
        "tb_ <- tb %>% mutate(V3=3*V1+V2,V4=V3/V1,V5=V4-V3)\n",
        "tb_"
      ]
    },
    {
      "cell_type": "code",
      "execution_count": null,
      "id": "6a875da1-af93-4c5d-b334-fdcaea786211",
      "metadata": {
        "id": "6a875da1-af93-4c5d-b334-fdcaea786211",
        "outputId": "a9001d6c-a083-496d-d9ee-547082847c84"
      },
      "outputs": [
        {
          "data": {
            "text/plain": [
              "  V1 V2 V3 V4   V5    \n",
              "1 4  19 31 7.75 -23.25\n",
              "2 5  20 35 7.00 -28.00"
            ]
          },
          "metadata": {},
          "output_type": "display_data"
        }
      ],
      "source": [
        "tb_ %>% filter(V1>3,V4<10)"
      ]
    },
    {
      "cell_type": "markdown",
      "id": "fabd60f9-f034-442d-95cb-f064b66c5fa6",
      "metadata": {
        "id": "fabd60f9-f034-442d-95cb-f064b66c5fa6"
      },
      "source": [
        "#### mutate + filter"
      ]
    },
    {
      "cell_type": "code",
      "execution_count": null,
      "id": "0d103e20-d953-4b74-beaa-a8d38270ebab",
      "metadata": {
        "id": "0d103e20-d953-4b74-beaa-a8d38270ebab",
        "outputId": "e6b29887-62b1-4bf7-d105-3b3dc7a82b29"
      },
      "outputs": [
        {
          "data": {
            "text/plain": [
              "  V1 V2\n",
              "1 1  16\n",
              "2 2  17\n",
              "3 3  18\n",
              "4 4  19\n",
              "5 5  20"
            ]
          },
          "metadata": {},
          "output_type": "display_data"
        }
      ],
      "source": [
        "tb"
      ]
    },
    {
      "cell_type": "code",
      "execution_count": null,
      "id": "6893ed3e-2a0e-4b34-a8a7-cf73c2b039b6",
      "metadata": {
        "id": "6893ed3e-2a0e-4b34-a8a7-cf73c2b039b6",
        "outputId": "274c45b7-bbb9-4af1-8a81-233901f8402f"
      },
      "outputs": [
        {
          "data": {
            "text/plain": [
              "  V1 V2 V3         \n",
              "1 1  16 -0.13333333\n",
              "2 2  17 -0.06666667\n",
              "3 3  18  0.00000000\n",
              "4 4  19  0.06666667\n",
              "5 5  20  0.13333333"
            ]
          },
          "metadata": {},
          "output_type": "display_data"
        }
      ],
      "source": [
        "tb %>% mutate(V3=(V2-mean(V2))/sum(V1))"
      ]
    },
    {
      "cell_type": "code",
      "execution_count": null,
      "id": "ff328a85-e537-4950-95ef-b84483f6aa54",
      "metadata": {
        "id": "ff328a85-e537-4950-95ef-b84483f6aa54",
        "outputId": "6ef7f92f-2feb-4e8f-b865-d57cd1a3ceb7"
      },
      "outputs": [
        {
          "data": {
            "text/plain": [
              "  V1 V2 V3        \n",
              "1 4  19 0.06666667\n",
              "2 5  20 0.13333333"
            ]
          },
          "metadata": {},
          "output_type": "display_data"
        }
      ],
      "source": [
        "tb %>% mutate(V3=(V2-mean(V2))/sum(V1)) %>% filter(V3>0)"
      ]
    },
    {
      "cell_type": "markdown",
      "id": "a560f309-fb6a-4681-8ba0-de4ebfcae216",
      "metadata": {
        "id": "a560f309-fb6a-4681-8ba0-de4ebfcae216"
      },
      "source": [
        "- mutate와 filter를 함께 사용할 수 있다."
      ]
    }
  ],
  "metadata": {
    "kernelspec": {
      "display_name": "R",
      "language": "R",
      "name": "ir"
    },
    "language_info": {
      "codemirror_mode": "r",
      "file_extension": ".r",
      "mimetype": "text/x-r-source",
      "name": "R",
      "pygments_lexer": "r",
      "version": "4.0.5"
    },
    "colab": {
      "name": "2022-02-23-IR.ipynb",
      "provenance": [],
      "toc_visible": true
    }
  },
  "nbformat": 4,
  "nbformat_minor": 5
}