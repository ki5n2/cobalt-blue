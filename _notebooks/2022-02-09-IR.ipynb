{
  "cells": [
    {
      "cell_type": "markdown",
      "source": [
        "# IR 5. if문, if~else문, 중첩\n",
        "> \"작성완료\"\n",
        "\n",
        "- toc:true\n",
        "- branch: master\n",
        "- badges: true\n",
        "- comments: true\n",
        "- [R]"
      ],
      "metadata": {
        "id": "M2sqsMAB6vbN"
      },
      "id": "M2sqsMAB6vbN"
    },
    {
      "cell_type": "markdown",
      "source": [
        "---\n",
        "# Introduce R \n",
        "- lecture: Introduce R_4nd week of lectures.\n",
        "- lecture date: 2021-09-30\n",
        "- lecturer: Guebin choi\n",
        "- study date: 2022-02-09\n",
        "- author: Kione kim\n",
        "---"
      ],
      "metadata": {
        "id": "7beBhkXl6xbs"
      },
      "id": "7beBhkXl6xbs"
    },
    {
      "cell_type": "code",
      "execution_count": null,
      "id": "afb48a4f-892d-4f4e-9fdf-8cc9737df83e",
      "metadata": {
        "id": "afb48a4f-892d-4f4e-9fdf-8cc9737df83e"
      },
      "outputs": [],
      "source": [
        "#hide\n",
        "options(jupyter.plot_scale=3)\n",
        "options(jupyter.display_mimetypes=c(\"text/html\"))\n",
        "options(jupyter.rich_display=FALSE)\n",
        "options(repr.plot.width=6,repr.plot.height=6,repr.plot.res=300) # 고해상도 \n",
        "options(max.print=1000)"
      ]
    },
    {
      "cell_type": "markdown",
      "id": "10d16b8c-7a04-4fa6-85f8-a27c9fa813f9",
      "metadata": {
        "id": "10d16b8c-7a04-4fa6-85f8-a27c9fa813f9"
      },
      "source": [
        "### if문"
      ]
    },
    {
      "cell_type": "markdown",
      "id": "a6f34316-0b80-441b-a7af-05d83f99a672",
      "metadata": {
        "id": "a6f34316-0b80-441b-a7af-05d83f99a672"
      },
      "source": [
        "`-` `if (조건문) 표현식` 형태로 사용한다.(space는 무방하다.)"
      ]
    },
    {
      "cell_type": "code",
      "execution_count": null,
      "id": "05d45b33-3d52-4d50-9336-b1c766c20a6f",
      "metadata": {
        "id": "05d45b33-3d52-4d50-9336-b1c766c20a6f",
        "outputId": "fe591b85-14b5-4248-9619-91c11eb8c11a"
      },
      "outputs": [
        {
          "name": "stdout",
          "output_type": "stream",
          "text": [
            "[1] \"a는 양수\"\n"
          ]
        }
      ],
      "source": [
        "a=2\n",
        "if (a>0) print('a는 양수')"
      ]
    },
    {
      "cell_type": "code",
      "execution_count": null,
      "id": "059cbefb-5f03-4bd2-a917-308b1e25952c",
      "metadata": {
        "id": "059cbefb-5f03-4bd2-a917-308b1e25952c"
      },
      "outputs": [],
      "source": [
        "a=-2\n",
        "if (a>0) print('a는 양수') # 참일 때만 표현식이 나타난다."
      ]
    },
    {
      "cell_type": "markdown",
      "id": "f160b011-a03c-4ab7-8198-130a23c2b942",
      "metadata": {
        "id": "f160b011-a03c-4ab7-8198-130a23c2b942"
      },
      "source": [
        "`-` 여러개의 표현식을 사용하는 경우"
      ]
    },
    {
      "cell_type": "markdown",
      "id": "e7ae0c6c-b512-4bb2-abe0-f24eb14c27f2",
      "metadata": {
        "id": "e7ae0c6c-b512-4bb2-abe0-f24eb14c27f2"
      },
      "source": [
        "틀린코드:"
      ]
    },
    {
      "cell_type": "code",
      "execution_count": null,
      "id": "a7c629ed-692a-45dd-abed-7fc163e310ef",
      "metadata": {
        "id": "a7c629ed-692a-45dd-abed-7fc163e310ef",
        "outputId": "a52a7877-c71f-43d5-8969-a437c6504e90"
      },
      "outputs": [
        {
          "name": "stdout",
          "output_type": "stream",
          "text": [
            "[1] \"양수인 a의 값은 아래와 같다.\"\n",
            "[1] -5\n"
          ]
        }
      ],
      "source": [
        "a= -5\n",
        "if (a>0) \n",
        "    print('a는 양수')\n",
        "    print('양수인 a의 값은 아래와 같다.')\n",
        "    print(a)"
      ]
    },
    {
      "cell_type": "markdown",
      "id": "66cdb6ed-8cee-43d0-bafa-b283b618a90e",
      "metadata": {
        "id": "66cdb6ed-8cee-43d0-bafa-b283b618a90e"
      },
      "source": [
        "``` R\n",
        "- 위의 코드를 뜯어보면, if문에 걸린 표현식은 print('a는 양수') 하나이고 뒤의 두 개의 표현식은 if문에 걸린 것이 아니라 if문과는 별개로 입력된 코드이다.\n",
        "즉, 아래의 3개의 코드를 독립적으로 실행한 것이다.\n",
        "a= -5\n",
        "(1) if (a>0) \n",
        "    print('a는 양수')\n",
        "(2) print('양수인 a의 값은 아래와 같다.')\n",
        "(3) print(a)\n",
        "\n",
        "```"
      ]
    },
    {
      "cell_type": "markdown",
      "id": "5e6c5e8c-f86a-4c12-a5a0-a848b314deee",
      "metadata": {
        "id": "5e6c5e8c-f86a-4c12-a5a0-a848b314deee"
      },
      "source": [
        "`해결법` : `{ }`를 이용"
      ]
    },
    {
      "cell_type": "code",
      "execution_count": null,
      "id": "b85fac79-4b45-4016-b14f-6ca284c13419",
      "metadata": {
        "id": "b85fac79-4b45-4016-b14f-6ca284c13419"
      },
      "outputs": [],
      "source": [
        "a= -5\n",
        "if (a>0){ \n",
        "    print('a는 양수')\n",
        "    print('양수인 a의 값은 아래와 같다.')\n",
        "    print(a)\n",
        "}"
      ]
    },
    {
      "cell_type": "markdown",
      "id": "8ad5617a-43c7-43d9-88ca-86af40427f6a",
      "metadata": {
        "id": "8ad5617a-43c7-43d9-88ca-86af40427f6a"
      },
      "source": [
        "``` R\n",
        "`사용 TIP`: 표현식이 하나인 경우 (enter을 사용하지 말고) if문을 한 줄로 사용하고 표현식이 여러개인 경우에만 enter한 후 {}에 표현식을 입력해준다.\n",
        "1. a= 5\n",
        "if (a>0) print('a는 양수')\n",
        "2. a= -5\n",
        "if (a>0){ \n",
        "    print('a는 양수')\n",
        "    print('양수인 a의 값은 아래와 같다.')\n",
        "    print(a)\n",
        "}\n",
        "```"
      ]
    },
    {
      "cell_type": "markdown",
      "id": "e57fd299-3149-4498-9fc4-486a85dc8b1a",
      "metadata": {
        "id": "e57fd299-3149-4498-9fc4-486a85dc8b1a"
      },
      "source": [
        "`-` `if 조건문 표현식`(중요)"
      ]
    },
    {
      "cell_type": "code",
      "execution_count": null,
      "id": "95faad87-708f-4f8a-8164-daf0f52e2985",
      "metadata": {
        "id": "95faad87-708f-4f8a-8164-daf0f52e2985",
        "outputId": "64cb2bb6-16f5-4a22-990a-be7a1598283a"
      },
      "outputs": [
        {
          "data": {
            "text/plain": [
              "[1]  10 -20"
            ]
          },
          "metadata": {},
          "output_type": "display_data"
        }
      ],
      "source": [
        "a=c(10,-20)\n",
        "a"
      ]
    },
    {
      "cell_type": "code",
      "execution_count": null,
      "id": "79a3393b-3244-4510-a43b-920a4b151f56",
      "metadata": {
        "id": "79a3393b-3244-4510-a43b-920a4b151f56",
        "outputId": "c19c5a8f-2aa4-4779-faa6-16f8b9715d79"
      },
      "outputs": [
        {
          "data": {
            "text/plain": [
              "[1]  TRUE FALSE"
            ]
          },
          "metadata": {},
          "output_type": "display_data"
        }
      ],
      "source": [
        "a>0"
      ]
    },
    {
      "cell_type": "markdown",
      "id": "eb572465-24ef-4494-bc50-78af810af81a",
      "metadata": {
        "id": "eb572465-24ef-4494-bc50-78af810af81a"
      },
      "source": [
        "`-` 위의 문장은 참일까 거짓일까?    \n",
        ": R은 첫 번째 원소가 참이라면 참이라고 판단한다."
      ]
    },
    {
      "cell_type": "code",
      "execution_count": null,
      "id": "8b57d055-dba1-4c13-82ff-024b16b31ce5",
      "metadata": {
        "id": "8b57d055-dba1-4c13-82ff-024b16b31ce5",
        "outputId": "8a9bbcc5-0aab-4734-8da0-b4299026c116"
      },
      "outputs": [
        {
          "name": "stderr",
          "output_type": "stream",
          "text": [
            "Warning message in if (a > 0) print(\"참이라면 이 문장이 출력된다.\"):\n",
            "\"length > 1 이라는 조건이 있고, 첫번째 요소만이 사용될 것입니다\"\n"
          ]
        },
        {
          "name": "stdout",
          "output_type": "stream",
          "text": [
            "[1] \"참이라면 이 문장이 출력된다.\"\n"
          ]
        }
      ],
      "source": [
        "a= c(10,-20)\n",
        "if (a>0) print('참이라면 이 문장이 출력된다.')"
      ]
    },
    {
      "cell_type": "markdown",
      "id": "34923fe3-2d34-4722-aacb-f55350a55e32",
      "metadata": {
        "id": "34923fe3-2d34-4722-aacb-f55350a55e32"
      },
      "source": [
        "- 경고 메세지가 뜨긴 하지만 표현식이 출력된다."
      ]
    },
    {
      "cell_type": "code",
      "execution_count": null,
      "id": "7b6018fa-cc70-4d31-b2a0-4b966a04c4d2",
      "metadata": {
        "id": "7b6018fa-cc70-4d31-b2a0-4b966a04c4d2",
        "outputId": "399043a7-b04a-423d-ce7c-862929193044"
      },
      "outputs": [
        {
          "name": "stderr",
          "output_type": "stream",
          "text": [
            "Warning message in if (a > 0) print(\"참이라면 이 문장이 출력된다.\"):\n",
            "\"length > 1 이라는 조건이 있고, 첫번째 요소만이 사용될 것입니다\"\n"
          ]
        }
      ],
      "source": [
        "a= c(-10,20)\n",
        "if (a>0) print('참이라면 이 문장이 출력된다.')"
      ]
    },
    {
      "cell_type": "markdown",
      "id": "069a7254-a4ea-4460-95a8-d4fe13894c85",
      "metadata": {
        "id": "069a7254-a4ea-4460-95a8-d4fe13894c85"
      },
      "source": [
        "- 경고메시지만 뜨고 표현식은 출력되지 않았다."
      ]
    },
    {
      "cell_type": "markdown",
      "id": "e1bd5aba-63a8-4452-9624-58389fb938fa",
      "metadata": {
        "id": "e1bd5aba-63a8-4452-9624-58389fb938fa"
      },
      "source": [
        "- 하지만 위와 같은 코드는 잘못된 코드이다."
      ]
    },
    {
      "cell_type": "markdown",
      "id": "af3ad39a-5ca8-4b47-8d8d-101be55ec184",
      "metadata": {
        "id": "af3ad39a-5ca8-4b47-8d8d-101be55ec184"
      },
      "source": [
        "## if~else"
      ]
    },
    {
      "cell_type": "markdown",
      "id": "5ef1e95f-e0e4-4dd7-a08a-77ad7acfa89d",
      "metadata": {
        "id": "5ef1e95f-e0e4-4dd7-a08a-77ad7acfa89d"
      },
      "source": [
        "`사용법`: `if (조건문) 표현식1 else 표현식2`의 형태로 사용한다."
      ]
    },
    {
      "cell_type": "code",
      "execution_count": null,
      "id": "b38a7b99-395e-45d1-bcd8-08caa27a085d",
      "metadata": {
        "id": "b38a7b99-395e-45d1-bcd8-08caa27a085d",
        "outputId": "280f896a-0801-4ed6-d3d5-90ee48e02249"
      },
      "outputs": [
        {
          "name": "stdout",
          "output_type": "stream",
          "text": [
            "[1] \"x는 10보다 큰 값\"\n"
          ]
        }
      ],
      "source": [
        "x= 11 # 예제 1\n",
        "if (x>10) print('x는 10보다 큰 값') else print('x는 10 이하의 값')"
      ]
    },
    {
      "cell_type": "code",
      "execution_count": null,
      "id": "5e387076-020d-4557-8d46-74804551542e",
      "metadata": {
        "id": "5e387076-020d-4557-8d46-74804551542e",
        "outputId": "351734dd-e5b9-4b37-bc61-947ebafee4f1"
      },
      "outputs": [
        {
          "name": "stdout",
          "output_type": "stream",
          "text": [
            "[1] \"x는 10 이하의 값\"\n"
          ]
        }
      ],
      "source": [
        "x= 10 \n",
        "if (x>10) print('x는 10보다 큰 값') else print('x는 10 이하의 값')"
      ]
    },
    {
      "cell_type": "code",
      "execution_count": null,
      "id": "e5954c60-d39c-4609-b999-090924c181f0",
      "metadata": {
        "id": "e5954c60-d39c-4609-b999-090924c181f0",
        "outputId": "361ba853-aa97-4da5-8513-25c1ab37772e"
      },
      "outputs": [
        {
          "data": {
            "text/plain": [
              "[1] 0.6931472"
            ]
          },
          "metadata": {},
          "output_type": "display_data"
        }
      ],
      "source": [
        "x = 2 # 예제 2\n",
        "if(x>0) log(x) else print('x > 0을 만족해야 함')"
      ]
    },
    {
      "cell_type": "code",
      "execution_count": null,
      "id": "60be7fa5-6476-41e0-b9ed-913ca206a56e",
      "metadata": {
        "id": "60be7fa5-6476-41e0-b9ed-913ca206a56e",
        "outputId": "8363fc18-a528-4cab-af26-aeb3f8541f61"
      },
      "outputs": [
        {
          "name": "stdout",
          "output_type": "stream",
          "text": [
            "[1] \"x > 0을 만족해야 함\"\n"
          ]
        }
      ],
      "source": [
        "x = -10\n",
        "if(x>0) log(x) else print('x > 0을 만족해야 함')"
      ]
    },
    {
      "cell_type": "markdown",
      "id": "34b5db44-7419-4870-b39f-28f16caa02cb",
      "metadata": {
        "id": "34b5db44-7419-4870-b39f-28f16caa02cb"
      },
      "source": [
        "```R\n",
        "if문과 if~else문은 다른 기능이다. (if문에서 기능이 추가된 것이 if~else문이 아님)\n",
        "```"
      ]
    },
    {
      "cell_type": "code",
      "execution_count": null,
      "id": "d7af1b5a-99b3-45b6-a92e-e58377f1e9b0",
      "metadata": {
        "id": "d7af1b5a-99b3-45b6-a92e-e58377f1e9b0",
        "outputId": "4196d663-338d-4fcc-cced-28eeced17759"
      },
      "outputs": [
        {
          "data": {
            "text/plain": [
              "[1] 2.302585"
            ]
          },
          "metadata": {},
          "output_type": "display_data"
        }
      ],
      "source": [
        "x = 10\n",
        "if (x>0)  log(x)    else    print('x>0을 만족해야 함')"
      ]
    },
    {
      "cell_type": "code",
      "execution_count": null,
      "id": "9a032297-1153-4357-9125-823df8cada2b",
      "metadata": {
        "id": "9a032297-1153-4357-9125-823df8cada2b",
        "outputId": "1b1e2d6b-8bb1-4ec8-ba24-3e680d6ff22b"
      },
      "outputs": [
        {
          "data": {
            "text/plain": [
              "[1] 2.302585"
            ]
          },
          "metadata": {},
          "output_type": "display_data"
        }
      ],
      "source": [
        "x = 10\n",
        "if (x>0) log(x) else \n",
        "    print('x>0을 만족해야 함')"
      ]
    },
    {
      "cell_type": "code",
      "execution_count": null,
      "id": "39fdfe40-8501-4c62-9f07-cea821c97b4f",
      "metadata": {
        "id": "39fdfe40-8501-4c62-9f07-cea821c97b4f",
        "outputId": "1983ebcf-3a01-46e7-cffb-5ee1bfecccec"
      },
      "outputs": [
        {
          "data": {
            "text/plain": [
              "[1] 2.302585"
            ]
          },
          "metadata": {},
          "output_type": "display_data"
        }
      ],
      "source": [
        "x = 10\n",
        "if (x>0)\n",
        "    log(x) else \n",
        "    print('x>0을 만족해야 함')"
      ]
    },
    {
      "cell_type": "code",
      "execution_count": null,
      "id": "69fdc16f-58d4-4d0a-94b3-38da482a249d",
      "metadata": {
        "id": "69fdc16f-58d4-4d0a-94b3-38da482a249d",
        "outputId": "01aef3a2-14c2-4f09-a7e1-40e519cf3ab1"
      },
      "outputs": [
        {
          "ename": "ERROR",
          "evalue": "Error in parse(text = x, srcfile = src): <text>:4:1: 예기치 않은 'else'입니다\n3:     log(x)\n4: else\n   ^\n",
          "output_type": "error",
          "traceback": [
            "Error in parse(text = x, srcfile = src): <text>:4:1: 예기치 않은 'else'입니다\n3:     log(x)\n4: else\n   ^\nTraceback:\n"
          ]
        }
      ],
      "source": [
        "x = 10\n",
        "if (x>0)\n",
        "    log(x)\n",
        "else\n",
        "    print('x>0을 만족해야 함')"
      ]
    },
    {
      "cell_type": "markdown",
      "id": "6d8366ea-e0d2-496f-b37c-e3472f62fff9",
      "metadata": {
        "id": "6d8366ea-e0d2-496f-b37c-e3472f62fff9"
      },
      "source": [
        "- 실행이 되지 않음. 이 점을 통해 if문과 if~else문이 애초에 다른 문법의 문장이라는 것을 알 수 있음"
      ]
    },
    {
      "cell_type": "markdown",
      "id": "266cc334-8e18-4fc6-a5f0-6472519e9ead",
      "metadata": {
        "id": "266cc334-8e18-4fc6-a5f0-6472519e9ead"
      },
      "source": [
        "``` R\n",
        "if문:\n",
        "a= -5\n",
        "if (a>0){ \n",
        "    print('a는 양수')\n",
        "    print('양수인 a의 값은 아래와 같다.')\n",
        "    print(a)\n",
        "}\n",
        "- if문 같은 경우 enter를 해도 잘 실행이 됐는데, if~else문은 enter를 할 경우 실행이 되지 않는 경우가 있다.\n",
        "이는 if (조건문) 표현식1 else 표현식2의 구조를 갖는 if~else문에서, else 전에 enter를 할 경우 if (조건문) 표현식1 으로 (if~else문이 아닌)if문의 형태로 컴퓨터가 인식하기 때문이다.\n",
        "즉, 이미 if (조건문) 표현식 1 로 문장이 끝난 것이고 그 후에 else가 나오면 오류가 뜨는 것이다.\n",
        "    \n",
        "- 또한, else를 표현식 1과 함께 걸어두면 컴퓨터는 else를 통해 아직 끝나지 않았음을 인식하기에 표현식 2를 기다리게 된다.\n",
        "```"
      ]
    },
    {
      "cell_type": "markdown",
      "id": "c827c622-5e05-450f-85f8-c0c8d498cd40",
      "metadata": {
        "id": "c827c622-5e05-450f-85f8-c0c8d498cd40"
      },
      "source": [
        "`-` 사용TIP: 다음과 같이 `{ }`를 적절히 활용한다. {를 입력하고 }를 입력하지 않으면 문장이 끝나지 않았음을 인식시켜주기 때문!"
      ]
    },
    {
      "cell_type": "code",
      "execution_count": null,
      "id": "3c451a00-bc23-47a6-ad26-46292978de11",
      "metadata": {
        "id": "3c451a00-bc23-47a6-ad26-46292978de11",
        "outputId": "092c1dad-f0b3-4e8c-d878-65234c8c3155"
      },
      "outputs": [
        {
          "data": {
            "text/plain": [
              "[1] 2.302585"
            ]
          },
          "metadata": {},
          "output_type": "display_data"
        }
      ],
      "source": [
        "x = 10\n",
        "if (x>0){\n",
        "    log(x)\n",
        "}else{\n",
        "    print('x>0을 만족해야 함')\n",
        "}"
      ]
    },
    {
      "cell_type": "code",
      "execution_count": null,
      "id": "2e5e4cc7-b604-40e5-b095-d20f99bc9a78",
      "metadata": {
        "id": "2e5e4cc7-b604-40e5-b095-d20f99bc9a78",
        "outputId": "f1251430-0041-48b8-af0c-e3aed9911ce4"
      },
      "outputs": [
        {
          "data": {
            "text/plain": [
              "[1] 2.302585"
            ]
          },
          "metadata": {},
          "output_type": "display_data"
        }
      ],
      "source": [
        "x = 10\n",
        "if (x>0){\n",
        "    log(x)\n",
        "}else\n",
        "    print('x>0을 만족해야 함')"
      ]
    },
    {
      "cell_type": "markdown",
      "id": "c42d6e8f-3206-4d68-88c5-e51dd7b86db2",
      "metadata": {
        "id": "c42d6e8f-3206-4d68-88c5-e51dd7b86db2"
      },
      "source": [
        "- 위의 코드처럼 else 뒤에 {}를 사용하지 않아도 되나, 확장성의 측면에서 사용하는 것이 좋음"
      ]
    },
    {
      "cell_type": "code",
      "execution_count": null,
      "id": "f615273b-92a4-40b1-94a9-b659afe49619",
      "metadata": {
        "id": "f615273b-92a4-40b1-94a9-b659afe49619",
        "outputId": "b5c4a436-25c3-400f-9590-43c542dafd74"
      },
      "outputs": [
        {
          "name": "stdout",
          "output_type": "stream",
          "text": [
            "[1] \"x>0을 만족해야 함\"\n",
            "[1] -10\n"
          ]
        }
      ],
      "source": [
        "x = -10\n",
        "if (x>0){\n",
        "    log(x)\n",
        "}else\n",
        "    print('x>0을 만족해야 함')\n",
        "    print(x)"
      ]
    },
    {
      "cell_type": "code",
      "execution_count": null,
      "id": "02facb1b-8921-47b2-890c-b517f300d82f",
      "metadata": {
        "id": "02facb1b-8921-47b2-890c-b517f300d82f",
        "outputId": "0512a58f-1a53-406c-ec0c-eca1cd4dc0a6"
      },
      "outputs": [
        {
          "data": {
            "text/plain": [
              "[1] 2.302585"
            ]
          },
          "metadata": {},
          "output_type": "display_data"
        },
        {
          "name": "stdout",
          "output_type": "stream",
          "text": [
            "[1] 10\n"
          ]
        }
      ],
      "source": [
        "x = 10\n",
        "if (x>0){\n",
        "    log(x)\n",
        "}else\n",
        "    print('x>0을 만족해야 함')\n",
        "    print(x)"
      ]
    },
    {
      "cell_type": "markdown",
      "id": "85d9acc9-c5f5-4404-b697-59ac3d22d561",
      "metadata": {
        "id": "85d9acc9-c5f5-4404-b697-59ac3d22d561"
      },
      "source": [
        "``` R\n",
        "- 위 코드에서 print(x)는 else에 x>0이 아닐 경우 else에 걸어둔 문장이지만 x>0과 상관없이 출력되는 것을 알 수 있다. 즉, \n",
        "x = 10\n",
        "if (x>0){\n",
        "    log(x)\n",
        "}else\n",
        "    print('x>0을 만족해야 함')\n",
        "이 하나의 코드이고\n",
        "print(x)가 독립적인 또 다른 코드이다.\n",
        "따라서 x>0가 아닐 경우 else에 함께 걸어두기 위해선 {}를 사용해야 한다.\n",
        "```"
      ]
    },
    {
      "cell_type": "code",
      "execution_count": null,
      "id": "89a0b618-8d92-44d9-b55d-38abb3081b98",
      "metadata": {
        "id": "89a0b618-8d92-44d9-b55d-38abb3081b98",
        "outputId": "0880e091-e65c-4efa-ae95-94a1a15372df"
      },
      "outputs": [
        {
          "name": "stdout",
          "output_type": "stream",
          "text": [
            "[1] \"x>0을 만족해야 함\"\n",
            "[1] -10\n"
          ]
        }
      ],
      "source": [
        "x = -10\n",
        "if (x>0){\n",
        "    log(x)\n",
        "}else{\n",
        "    print('x>0을 만족해야 함')\n",
        "    print(x)\n",
        "}"
      ]
    },
    {
      "cell_type": "code",
      "execution_count": null,
      "id": "9aacc614-5553-44c3-8abc-5d0f4373fb65",
      "metadata": {
        "id": "9aacc614-5553-44c3-8abc-5d0f4373fb65",
        "outputId": "7d9067d9-592c-49ad-a0df-9ffd8a4937fb"
      },
      "outputs": [
        {
          "data": {
            "text/plain": [
              "[1] 2.302585"
            ]
          },
          "metadata": {},
          "output_type": "display_data"
        }
      ],
      "source": [
        "x = 10\n",
        "if (x>0){\n",
        "    log(x)\n",
        "}else{\n",
        "    print('x>0을 만족해야 함')\n",
        "    print(x)\n",
        "}"
      ]
    },
    {
      "cell_type": "markdown",
      "id": "188ae12b-bc9b-4a3e-b0ae-1eca1e5b0774",
      "metadata": {
        "id": "188ae12b-bc9b-4a3e-b0ae-1eca1e5b0774"
      },
      "source": [
        "## 중첩"
      ]
    },
    {
      "cell_type": "code",
      "execution_count": null,
      "id": "cc3fe0b7-45b4-4f7f-898b-7857f08caf29",
      "metadata": {
        "id": "cc3fe0b7-45b4-4f7f-898b-7857f08caf29",
        "outputId": "b639bef0-6d20-4ac1-9507-9000cb37de19"
      },
      "outputs": [
        {
          "name": "stdout",
          "output_type": "stream",
          "text": [
            "[1] 2.302585\n"
          ]
        }
      ],
      "source": [
        "x=10\n",
        "if (x>0){\n",
        "    print(log(x))\n",
        "}else{\n",
        "    if (x==0){\n",
        "        x=1e-100\n",
        "        print('x=0에서는 log(x)가 정의되지 않으므로 x=1e-100의 값으로 대체함')\n",
        "        log(x)\n",
        "    }else{\n",
        "        print('x는 음수입니다.')\n",
        "        }\n",
        "}"
      ]
    },
    {
      "cell_type": "code",
      "execution_count": null,
      "id": "9705ada0-9bbb-4086-9551-a82667766150",
      "metadata": {
        "id": "9705ada0-9bbb-4086-9551-a82667766150",
        "outputId": "807913b7-55bb-4503-8217-4c8a542ce7b6"
      },
      "outputs": [
        {
          "name": "stdout",
          "output_type": "stream",
          "text": [
            "[1] \"x=0에서는 log(x)가 정의되지 않으므로 x=1e-100의 값으로 바꾸겠습니다.\"\n"
          ]
        },
        {
          "data": {
            "text/plain": [
              "[1] -230.2585"
            ]
          },
          "metadata": {},
          "output_type": "display_data"
        }
      ],
      "source": [
        "x=0\n",
        "if (x>0){\n",
        "    log(x)\n",
        "}else{\n",
        "    if (x==0){\n",
        "        x=1e-100\n",
        "        print('x=0에서는 log(x)가 정의되지 않으므로 x=1e-100의 값으로 대체함')\n",
        "        log(x)\n",
        "    } else{\n",
        "        print('x는 음수입니다.')\n",
        "        }\n",
        "}        "
      ]
    },
    {
      "cell_type": "code",
      "execution_count": null,
      "id": "9de9a89f-aa39-4da2-b301-823e43b28190",
      "metadata": {
        "id": "9de9a89f-aa39-4da2-b301-823e43b28190",
        "outputId": "741355db-dd01-47bb-a7de-d576dfad5307"
      },
      "outputs": [
        {
          "data": {
            "text/plain": [
              "[1]  100 1000"
            ]
          },
          "metadata": {},
          "output_type": "display_data"
        }
      ],
      "source": [
        "c(1e2,1e3) # 1x(10의 제곱) # 1x(10의 세제곱)"
      ]
    },
    {
      "cell_type": "code",
      "execution_count": null,
      "id": "4a4d624f-4b45-46a8-9445-c4b4211c9910",
      "metadata": {
        "id": "4a4d624f-4b45-46a8-9445-c4b4211c9910",
        "outputId": "46dfdb2f-6a2f-41e0-8ec5-062fb361f92b"
      },
      "outputs": [
        {
          "data": {
            "text/plain": [
              "[1] 2.23000 0.00223"
            ]
          },
          "metadata": {},
          "output_type": "display_data"
        }
      ],
      "source": [
        "c(2.23,2.23e-3) # 2.23 x 10^-3"
      ]
    },
    {
      "cell_type": "markdown",
      "id": "9c9a1405-3db4-4d75-8357-a9caa6da4470",
      "metadata": {
        "id": "9c9a1405-3db4-4d75-8357-a9caa6da4470"
      },
      "source": [
        "`-` 보통 함수의 형태로 사용한다."
      ]
    },
    {
      "cell_type": "code",
      "execution_count": null,
      "id": "2e331452-cfa9-4796-a538-edba31421e8d",
      "metadata": {
        "id": "2e331452-cfa9-4796-a538-edba31421e8d"
      },
      "outputs": [],
      "source": [
        "mylogfuc <- function(x){\n",
        "    if (x>0){\n",
        "        log(x)\n",
        "    }else{\n",
        "        if(x==0){\n",
        "            x=1e-100\n",
        "            print('x=0에서는 log(x)가 정의되지 않으므로 x=1e-100의 값으로 대체함')\n",
        "            log(x)\n",
        "        }else{\n",
        "            print('x는 음수입니다.')\n",
        "        }\n",
        "    }\n",
        "}"
      ]
    },
    {
      "cell_type": "code",
      "execution_count": null,
      "id": "3696bc99-9ef8-47f5-8f79-4d5bf6b2f7e4",
      "metadata": {
        "id": "3696bc99-9ef8-47f5-8f79-4d5bf6b2f7e4",
        "outputId": "7e949e14-d1e8-49c5-f2ea-e8e28fb16c24"
      },
      "outputs": [
        {
          "data": {
            "text/plain": [
              "[1] 4.60517"
            ]
          },
          "metadata": {},
          "output_type": "display_data"
        }
      ],
      "source": [
        "mylogfuc(100)"
      ]
    },
    {
      "cell_type": "code",
      "execution_count": null,
      "id": "1c4d5cdb-b9fd-4871-b5cf-9de76d317c22",
      "metadata": {
        "id": "1c4d5cdb-b9fd-4871-b5cf-9de76d317c22",
        "outputId": "e106c58b-3bfd-4131-a0d8-00692f5b96af"
      },
      "outputs": [
        {
          "name": "stdout",
          "output_type": "stream",
          "text": [
            "[1] \"x=0에서는 log(x)가 정의되지 않으므로 x=1e-100의 값으로 대체함\"\n"
          ]
        },
        {
          "data": {
            "text/plain": [
              "[1] -230.2585"
            ]
          },
          "metadata": {},
          "output_type": "display_data"
        }
      ],
      "source": [
        "mylogfuc(0)"
      ]
    },
    {
      "cell_type": "code",
      "execution_count": null,
      "id": "18c72ea5-70b4-4921-a288-63297945de48",
      "metadata": {
        "id": "18c72ea5-70b4-4921-a288-63297945de48",
        "outputId": "efae2f4a-654a-41ce-b688-c1f6b9956d00"
      },
      "outputs": [
        {
          "name": "stdout",
          "output_type": "stream",
          "text": [
            "[1] \"x는 음수입니다.\"\n"
          ]
        }
      ],
      "source": [
        "mylogfuc(-3)"
      ]
    },
    {
      "cell_type": "markdown",
      "id": "bd0feb87-4975-4609-879e-45e16179c40a",
      "metadata": {
        "id": "bd0feb87-4975-4609-879e-45e16179c40a"
      },
      "source": [
        "### 간단한 응용"
      ]
    },
    {
      "cell_type": "code",
      "execution_count": null,
      "id": "e1f6cd09-4e21-4a1a-b55c-3b347e956855",
      "metadata": {
        "id": "e1f6cd09-4e21-4a1a-b55c-3b347e956855"
      },
      "outputs": [],
      "source": [
        "mysqrtfun <- function(x){\n",
        "    if (x>=0){\n",
        "        sqrt(x)\n",
        "    }else{\n",
        "        print('x는 양수이어야합니다.')\n",
        "    }\n",
        "}"
      ]
    },
    {
      "cell_type": "code",
      "execution_count": null,
      "id": "0438aaf3-e58e-4723-a74a-ea02143b05c1",
      "metadata": {
        "id": "0438aaf3-e58e-4723-a74a-ea02143b05c1",
        "outputId": "e7296a5e-b181-4275-9922-db03ae8cc769"
      },
      "outputs": [
        {
          "name": "stdout",
          "output_type": "stream",
          "text": [
            "[1] \"x는 양수이어야합니다.\"\n"
          ]
        }
      ],
      "source": [
        "mysqrtfun(-2)"
      ]
    },
    {
      "cell_type": "code",
      "execution_count": null,
      "id": "f6a11628-e62c-4c30-8d4c-ad42eec8cc55",
      "metadata": {
        "id": "f6a11628-e62c-4c30-8d4c-ad42eec8cc55",
        "outputId": "a537301a-c37a-45f8-8a36-d4f6ecd79c6c"
      },
      "outputs": [
        {
          "data": {
            "text/plain": [
              "[1] 1.414214"
            ]
          },
          "metadata": {},
          "output_type": "display_data"
        }
      ],
      "source": [
        "mysqrtfun(2)"
      ]
    }
  ],
  "metadata": {
    "kernelspec": {
      "display_name": "R",
      "language": "R",
      "name": "ir"
    },
    "language_info": {
      "codemirror_mode": "r",
      "file_extension": ".r",
      "mimetype": "text/x-r-source",
      "name": "R",
      "pygments_lexer": "r",
      "version": "4.0.5"
    },
    "colab": {
      "name": "2022-02-09-IR.ipynb",
      "provenance": [],
      "toc_visible": true
    }
  },
  "nbformat": 4,
  "nbformat_minor": 5
}