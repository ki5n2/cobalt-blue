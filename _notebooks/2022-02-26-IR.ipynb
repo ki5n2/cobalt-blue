{
  "cells": [
    {
      "cell_type": "markdown",
      "source": [
        "# IR 13. 리스트, 리스트의 서브셋팅, 리스트의 응용, 추가학습\n",
        "\n",
        "> \"작성완료\"\n",
        "\n",
        "- toc:true\n",
        "- branch: master\n",
        "- badges: true\n",
        "- comments: true\n",
        "- [R]"
      ],
      "metadata": {
        "id": "h6Goo39ieYvc"
      },
      "id": "h6Goo39ieYvc"
    },
    {
      "cell_type": "markdown",
      "source": [
        "---\n",
        "# Introduce R \n",
        "- lecture: Introduce R_10nd week of lectures\n",
        "- lecture date: 2021-11-16\n",
        "- lecturer: Guebin choi\n",
        "- study date: 2022-02-26\n",
        "- author: Kione kim\n",
        "---"
      ],
      "metadata": {
        "id": "ed9JichJebe-"
      },
      "id": "ed9JichJebe-"
    },
    {
      "cell_type": "code",
      "execution_count": null,
      "id": "c6630f0e-cfbe-45e2-af63-5a3eb1ff51bf",
      "metadata": {
        "id": "c6630f0e-cfbe-45e2-af63-5a3eb1ff51bf"
      },
      "outputs": [],
      "source": [
        "options(jupyter.rich_display=FALSE)"
      ]
    },
    {
      "cell_type": "markdown",
      "id": "de9d4efd-a6f3-4273-afbf-86aa22175f98",
      "metadata": {
        "id": "de9d4efd-a6f3-4273-afbf-86aa22175f98"
      },
      "source": [
        "## 리스트"
      ]
    },
    {
      "cell_type": "markdown",
      "id": "28c8afae-eb32-4472-805d-f3bbc942b0d2",
      "metadata": {
        "id": "28c8afae-eb32-4472-805d-f3bbc942b0d2"
      },
      "source": [
        "### 예제1"
      ]
    },
    {
      "cell_type": "code",
      "execution_count": null,
      "id": "450a6f2a-654c-46ab-9a2a-aa08bab9d639",
      "metadata": {
        "id": "450a6f2a-654c-46ab-9a2a-aa08bab9d639"
      },
      "outputs": [],
      "source": [
        "lst = list(5:10,c(\"A\",\"B\",\"C\"),matrix(c(T,T,F,T),ncol=2))"
      ]
    },
    {
      "cell_type": "code",
      "execution_count": null,
      "id": "c13004f4-2534-49b9-85ab-2aad9c2cd14b",
      "metadata": {
        "id": "c13004f4-2534-49b9-85ab-2aad9c2cd14b",
        "outputId": "f9ba13d8-06f9-41c3-c1a9-15d2c710dd66"
      },
      "outputs": [
        {
          "data": {
            "text/plain": [
              "[[1]]\n",
              "[1]  5  6  7  8  9 10\n",
              "\n",
              "[[2]]\n",
              "[1] \"A\" \"B\" \"C\"\n",
              "\n",
              "[[3]]\n",
              "     [,1]  [,2]\n",
              "[1,] TRUE FALSE\n",
              "[2,] TRUE  TRUE\n"
            ]
          },
          "metadata": {},
          "output_type": "display_data"
        }
      ],
      "source": [
        "lst"
      ]
    },
    {
      "cell_type": "markdown",
      "id": "bdb1039e-9146-4eed-a6e8-09c5f6af7125",
      "metadata": {
        "id": "bdb1039e-9146-4eed-a6e8-09c5f6af7125"
      },
      "source": [
        "- 리스트의 첫번째 원소 = 숫자로 이루어진 벡터\n",
        "- 리스트의 두번째 원소 = 문자로 이루어진 벡터\n",
        "- 리스트의 세번째 원소 = True/False로 이루어진 매트릭스"
      ]
    },
    {
      "cell_type": "markdown",
      "id": "67d65174-c594-43fd-8062-3cc689141e6e",
      "metadata": {
        "id": "67d65174-c594-43fd-8062-3cc689141e6e"
      },
      "source": [
        "`-` 리스트의 각 원소를 추출하는 방법"
      ]
    },
    {
      "cell_type": "code",
      "execution_count": null,
      "id": "2af47965-b8c1-4f0b-af8b-4e82fb812c67",
      "metadata": {
        "id": "2af47965-b8c1-4f0b-af8b-4e82fb812c67",
        "outputId": "c8653431-4154-4f63-8d64-59bbb5e4dc13"
      },
      "outputs": [
        {
          "data": {
            "text/plain": [
              "[1]  5  6  7  8  9 10"
            ]
          },
          "metadata": {},
          "output_type": "display_data"
        }
      ],
      "source": [
        "lst[[1]]"
      ]
    },
    {
      "cell_type": "code",
      "execution_count": null,
      "id": "4cdd8b59-8f04-4db5-9ed3-b4d3b6b4f1f9",
      "metadata": {
        "id": "4cdd8b59-8f04-4db5-9ed3-b4d3b6b4f1f9",
        "outputId": "1b7951df-cf84-4249-8a93-edb83fb32291"
      },
      "outputs": [
        {
          "data": {
            "text/plain": [
              "[1] 10 11 12 13 14 15"
            ]
          },
          "metadata": {},
          "output_type": "display_data"
        }
      ],
      "source": [
        "lst[[1]] + 5"
      ]
    },
    {
      "cell_type": "markdown",
      "id": "c3481475-e824-4138-a25e-8a1eff0f0227",
      "metadata": {
        "id": "c3481475-e824-4138-a25e-8a1eff0f0227"
      },
      "source": [
        "`-` 리스트의 길이"
      ]
    },
    {
      "cell_type": "code",
      "execution_count": null,
      "id": "26c84904-d302-4cb2-bdcb-4e28d84c1fe6",
      "metadata": {
        "id": "26c84904-d302-4cb2-bdcb-4e28d84c1fe6",
        "outputId": "3991019c-187a-42cc-e1c8-e21102b98395"
      },
      "outputs": [
        {
          "data": {
            "text/plain": [
              "[1] 3"
            ]
          },
          "metadata": {},
          "output_type": "display_data"
        }
      ],
      "source": [
        "length(lst)"
      ]
    },
    {
      "cell_type": "markdown",
      "id": "a24221b9-625b-4c09-8cfc-39ef45b435c2",
      "metadata": {
        "id": "a24221b9-625b-4c09-8cfc-39ef45b435c2"
      },
      "source": [
        "`-` 리스트를 사용하는 이유: $(1)$ 함수에서 여러개의 리턴값을 주는 효과 $(2)$ 정리의 효과 "
      ]
    },
    {
      "cell_type": "markdown",
      "id": "a1e9af23-0880-44ca-a61c-8056a8bf558c",
      "metadata": {
        "id": "a1e9af23-0880-44ca-a61c-8056a8bf558c"
      },
      "source": [
        "### 예제2"
      ]
    },
    {
      "cell_type": "code",
      "execution_count": null,
      "id": "48b656bd-dedf-457f-a323-3da4e8c3f543",
      "metadata": {
        "id": "48b656bd-dedf-457f-a323-3da4e8c3f543"
      },
      "outputs": [],
      "source": [
        "\"mid = list(c('A','B','C'),c(90,100,95))"
      ]
    },
    {
      "cell_type": "code",
      "execution_count": null,
      "id": "f4a26a18-387d-4d8b-8c54-a113f85b0248",
      "metadata": {
        "id": "f4a26a18-387d-4d8b-8c54-a113f85b0248",
        "outputId": "3186a979-4629-4ab7-8903-e6478ec0b8b0"
      },
      "outputs": [
        {
          "data": {
            "text/plain": [
              "[[1]]\n",
              "[1] \"A\" \"B\" \"C\"\n",
              "\n",
              "[[2]]\n",
              "[1]  90 100  95\n"
            ]
          },
          "metadata": {},
          "output_type": "display_data"
        }
      ],
      "source": [
        "mid"
      ]
    },
    {
      "cell_type": "code",
      "execution_count": null,
      "id": "7d22feb7-dad9-4032-97a6-cdda76cca319",
      "metadata": {
        "id": "7d22feb7-dad9-4032-97a6-cdda76cca319",
        "outputId": "8e994006-6e80-4a0b-d118-025241348971"
      },
      "outputs": [
        {
          "data": {
            "text/plain": [
              "NULL"
            ]
          },
          "metadata": {},
          "output_type": "display_data"
        }
      ],
      "source": [
        "names(mid)"
      ]
    },
    {
      "cell_type": "code",
      "execution_count": null,
      "id": "8ffded07-c5f2-47cf-98bf-c0a3865bd2ee",
      "metadata": {
        "id": "8ffded07-c5f2-47cf-98bf-c0a3865bd2ee"
      },
      "outputs": [],
      "source": [
        "names(mid) <- c('student','score')"
      ]
    },
    {
      "cell_type": "code",
      "execution_count": null,
      "id": "83aa49fe-0f57-462f-ada9-fdb641bff315",
      "metadata": {
        "id": "83aa49fe-0f57-462f-ada9-fdb641bff315",
        "outputId": "8f7fc4a9-c9d6-48d4-868f-3df6b7007081"
      },
      "outputs": [
        {
          "data": {
            "text/plain": [
              "$student\n",
              "[1] \"A\" \"B\" \"C\"\n",
              "\n",
              "$score\n",
              "[1]  90 100  95\n"
            ]
          },
          "metadata": {},
          "output_type": "display_data"
        }
      ],
      "source": [
        "mid"
      ]
    },
    {
      "cell_type": "code",
      "execution_count": null,
      "id": "b9c29da7-9d44-4bdc-9974-cc49a6aec8b2",
      "metadata": {
        "id": "b9c29da7-9d44-4bdc-9974-cc49a6aec8b2",
        "outputId": "4332c687-b8c6-404b-d838-834e01094631"
      },
      "outputs": [
        {
          "data": {
            "text/plain": [
              "[1] \"student\" \"score\"  "
            ]
          },
          "metadata": {},
          "output_type": "display_data"
        }
      ],
      "source": [
        "names(mid)"
      ]
    },
    {
      "cell_type": "markdown",
      "id": "cf6a8068-7a66-46a0-9df2-cf69e86f893e",
      "metadata": {
        "id": "cf6a8068-7a66-46a0-9df2-cf69e86f893e"
      },
      "source": [
        "- 보기에 깔끔함"
      ]
    },
    {
      "cell_type": "code",
      "execution_count": null,
      "id": "d9af6169-a8b9-46c2-a937-d3d3f904aeaf",
      "metadata": {
        "id": "d9af6169-a8b9-46c2-a937-d3d3f904aeaf",
        "outputId": "cf2be592-73c2-4242-d56d-0e65ca051592"
      },
      "outputs": [
        {
          "data": {
            "text/plain": [
              "[1] \"A\" \"B\" \"C\""
            ]
          },
          "metadata": {},
          "output_type": "display_data"
        }
      ],
      "source": [
        "mid$student"
      ]
    },
    {
      "cell_type": "code",
      "execution_count": null,
      "id": "e2f29264-587d-4670-9888-e52e03551119",
      "metadata": {
        "id": "e2f29264-587d-4670-9888-e52e03551119",
        "outputId": "5a6523c0-663d-46d2-cde2-ac39d719ab00"
      },
      "outputs": [
        {
          "data": {
            "text/plain": [
              "[1]  90 100  95"
            ]
          },
          "metadata": {},
          "output_type": "display_data"
        }
      ],
      "source": [
        "mid$score"
      ]
    },
    {
      "cell_type": "markdown",
      "id": "45888cfb-fdb7-46c7-98cd-2bb7bc58e05e",
      "metadata": {
        "id": "45888cfb-fdb7-46c7-98cd-2bb7bc58e05e"
      },
      "source": [
        "- 데이터에 접근하기 좋음"
      ]
    },
    {
      "cell_type": "code",
      "execution_count": null,
      "id": "b45fd318-c35d-4293-876f-868bf4f47b2a",
      "metadata": {
        "id": "b45fd318-c35d-4293-876f-868bf4f47b2a",
        "outputId": "40c16b8b-891b-45e3-8708-e249a0bc28ac"
      },
      "outputs": [
        {
          "data": {
            "text/plain": [
              "[1] \"A\" \"B\" \"C\""
            ]
          },
          "metadata": {},
          "output_type": "display_data"
        }
      ],
      "source": [
        "mid[[1]]"
      ]
    },
    {
      "cell_type": "code",
      "execution_count": null,
      "id": "615f3b6c-97fe-4729-9779-ef3105414a29",
      "metadata": {
        "id": "615f3b6c-97fe-4729-9779-ef3105414a29",
        "outputId": "07ef7d4e-714f-4860-fe88-d181714af95d"
      },
      "outputs": [
        {
          "data": {
            "text/plain": [
              "[1]  90 100  95"
            ]
          },
          "metadata": {},
          "output_type": "display_data"
        }
      ],
      "source": [
        "mid[[2]]"
      ]
    },
    {
      "cell_type": "markdown",
      "id": "b569d771-e60d-4b74-9d48-8ae5ca0a3753",
      "metadata": {
        "id": "b569d771-e60d-4b74-9d48-8ae5ca0a3753"
      },
      "source": [
        "- 위와 동일한 코드"
      ]
    },
    {
      "cell_type": "markdown",
      "id": "8f3c9371-ee45-40c6-9772-e3422d2aa26f",
      "metadata": {
        "id": "8f3c9371-ee45-40c6-9772-e3422d2aa26f"
      },
      "source": [
        "`-` 리스트를 카피 후 재생성하는데 좋음"
      ]
    },
    {
      "cell_type": "code",
      "execution_count": null,
      "id": "3152cfb5-0c7d-40ca-83f3-f1f52c990c78",
      "metadata": {
        "id": "3152cfb5-0c7d-40ca-83f3-f1f52c990c78",
        "outputId": "0eccb11c-a64e-4362-bd53-766e6eef9ba5"
      },
      "outputs": [
        {
          "data": {
            "text/plain": [
              "$student\n",
              "[1] \"A\" \"B\" \"C\"\n",
              "\n",
              "$score\n",
              "[1]  90 100  95\n"
            ]
          },
          "metadata": {},
          "output_type": "display_data"
        }
      ],
      "source": [
        "mid"
      ]
    },
    {
      "cell_type": "code",
      "execution_count": null,
      "id": "53f0f2ff-fe55-4e09-aca1-de62fd640077",
      "metadata": {
        "id": "53f0f2ff-fe55-4e09-aca1-de62fd640077"
      },
      "outputs": [],
      "source": [
        "final = mid"
      ]
    },
    {
      "cell_type": "code",
      "execution_count": null,
      "id": "6cb505d7-0729-43f9-bea3-0511716f40b7",
      "metadata": {
        "id": "6cb505d7-0729-43f9-bea3-0511716f40b7",
        "outputId": "cf0b6a23-2eb1-4f78-eb9f-55bd77773088"
      },
      "outputs": [
        {
          "data": {
            "text/plain": [
              "$student\n",
              "[1] \"A\" \"B\" \"C\"\n",
              "\n",
              "$score\n",
              "[1]  90 100  95\n"
            ]
          },
          "metadata": {},
          "output_type": "display_data"
        }
      ],
      "source": [
        "final"
      ]
    },
    {
      "cell_type": "markdown",
      "id": "7e08094e-2fa8-459a-8c11-6627e2013ff7",
      "metadata": {
        "id": "7e08094e-2fa8-459a-8c11-6627e2013ff7"
      },
      "source": [
        "`-` 모든 학생의 기말 점수가 중간 점수보다 10점씩 낮을 경우"
      ]
    },
    {
      "cell_type": "code",
      "execution_count": null,
      "id": "a0bc0be4-4f5a-4109-b476-26c0d3b59002",
      "metadata": {
        "id": "a0bc0be4-4f5a-4109-b476-26c0d3b59002"
      },
      "outputs": [],
      "source": [
        "final$score = mid$score - 10"
      ]
    },
    {
      "cell_type": "code",
      "execution_count": null,
      "id": "8ef58f08-66c7-472f-b6be-4229949626bd",
      "metadata": {
        "id": "8ef58f08-66c7-472f-b6be-4229949626bd",
        "outputId": "0fc20fbe-2db2-4700-ddc0-d131a6257c04"
      },
      "outputs": [
        {
          "data": {
            "text/plain": [
              "[1] 80 90 85"
            ]
          },
          "metadata": {},
          "output_type": "display_data"
        }
      ],
      "source": [
        "final$score"
      ]
    },
    {
      "cell_type": "code",
      "execution_count": null,
      "id": "8f15e705-adc9-4228-a358-3e6c785cd97d",
      "metadata": {
        "id": "8f15e705-adc9-4228-a358-3e6c785cd97d",
        "outputId": "1899c468-6ee1-4782-ec2d-cf2e8e3f8c79"
      },
      "outputs": [
        {
          "data": {
            "text/plain": [
              "$student\n",
              "[1] \"A\" \"B\" \"C\"\n",
              "\n",
              "$score\n",
              "[1] 80 90 85\n"
            ]
          },
          "metadata": {},
          "output_type": "display_data"
        }
      ],
      "source": [
        "final"
      ]
    },
    {
      "cell_type": "markdown",
      "id": "f4f5038e-eb75-415c-afdf-ae61ffd8cafe",
      "metadata": {
        "id": "f4f5038e-eb75-415c-afdf-ae61ffd8cafe"
      },
      "source": [
        "`-` 리스트를 묶어서 새로운 리스트를 생성할 수 있음"
      ]
    },
    {
      "cell_type": "code",
      "execution_count": null,
      "id": "fbfd8a0a-5479-41f4-b5e9-1aeac89b726c",
      "metadata": {
        "id": "fbfd8a0a-5479-41f4-b5e9-1aeac89b726c"
      },
      "outputs": [],
      "source": [
        "IR2022 <- list(mid,final)"
      ]
    },
    {
      "cell_type": "code",
      "execution_count": null,
      "id": "8d85c7d3-fdf0-420f-9c1e-52aa501696ca",
      "metadata": {
        "id": "8d85c7d3-fdf0-420f-9c1e-52aa501696ca",
        "outputId": "d6fc20fa-95ca-46a9-e408-53fb83de67a8"
      },
      "outputs": [
        {
          "data": {
            "text/plain": [
              "[[1]]\n",
              "[[1]]$student\n",
              "[1] \"A\" \"B\" \"C\"\n",
              "\n",
              "[[1]]$score\n",
              "[1]  90 100  95\n",
              "\n",
              "\n",
              "[[2]]\n",
              "[[2]]$student\n",
              "[1] \"A\" \"B\" \"C\"\n",
              "\n",
              "[[2]]$score\n",
              "[1] 80 90 85\n",
              "\n"
            ]
          },
          "metadata": {},
          "output_type": "display_data"
        }
      ],
      "source": [
        "IR2022"
      ]
    },
    {
      "cell_type": "markdown",
      "id": "d6d31d81-4904-471d-80f6-167fc2590e94",
      "metadata": {
        "id": "d6d31d81-4904-471d-80f6-167fc2590e94"
      },
      "source": [
        "`-` 리스트의 이름을 입력할 수 있다."
      ]
    },
    {
      "cell_type": "code",
      "execution_count": null,
      "id": "b944e91e-8a87-46ef-82e4-631eac791a6a",
      "metadata": {
        "id": "b944e91e-8a87-46ef-82e4-631eac791a6a",
        "outputId": "d8f917a2-cb15-428c-fe43-c00fe8d896e4"
      },
      "outputs": [
        {
          "data": {
            "text/plain": [
              "NULL"
            ]
          },
          "metadata": {},
          "output_type": "display_data"
        }
      ],
      "source": [
        "names(IR2022)"
      ]
    },
    {
      "cell_type": "code",
      "execution_count": null,
      "id": "6191288e-bd21-4784-af2a-0f67f2049f3a",
      "metadata": {
        "id": "6191288e-bd21-4784-af2a-0f67f2049f3a"
      },
      "outputs": [],
      "source": [
        "names(IR2022) <- c(\"mid\",\"final\")"
      ]
    },
    {
      "cell_type": "code",
      "execution_count": null,
      "id": "0f0e48e6-7b40-4847-84fa-7a761cec491c",
      "metadata": {
        "id": "0f0e48e6-7b40-4847-84fa-7a761cec491c",
        "outputId": "5e3aedcd-4561-4ce1-cb97-e67772f419c2"
      },
      "outputs": [
        {
          "data": {
            "text/plain": [
              "$mid\n",
              "$mid$student\n",
              "[1] \"A\" \"B\" \"C\"\n",
              "\n",
              "$mid$score\n",
              "[1]  90 100  95\n",
              "\n",
              "\n",
              "$final\n",
              "$final$student\n",
              "[1] \"A\" \"B\" \"C\"\n",
              "\n",
              "$final$score\n",
              "[1] 80 90 85\n",
              "\n"
            ]
          },
          "metadata": {},
          "output_type": "display_data"
        }
      ],
      "source": [
        "IR2022"
      ]
    },
    {
      "cell_type": "code",
      "execution_count": null,
      "id": "6f685234-fce0-40c4-9232-49d0f0383dfb",
      "metadata": {
        "id": "6f685234-fce0-40c4-9232-49d0f0383dfb",
        "outputId": "fe9e9064-2105-41f3-e844-c4973249e962"
      },
      "outputs": [
        {
          "data": {
            "text/plain": [
              "[1] \"A\" \"B\" \"C\""
            ]
          },
          "metadata": {},
          "output_type": "display_data"
        }
      ],
      "source": [
        "IR2022$mid$student"
      ]
    },
    {
      "cell_type": "code",
      "execution_count": null,
      "id": "5d3588b8-e70b-4740-b517-1cea84948d69",
      "metadata": {
        "id": "5d3588b8-e70b-4740-b517-1cea84948d69",
        "outputId": "9ea5e8ef-0ced-41b1-8741-fa6c79a8f615"
      },
      "outputs": [
        {
          "data": {
            "text/plain": [
              "[1]  90 100  95"
            ]
          },
          "metadata": {},
          "output_type": "display_data"
        }
      ],
      "source": [
        "IR2022$mid$score"
      ]
    },
    {
      "cell_type": "code",
      "execution_count": null,
      "id": "951e60ca-61b4-4d78-8cd2-358090feb2a0",
      "metadata": {
        "id": "951e60ca-61b4-4d78-8cd2-358090feb2a0",
        "outputId": "b0720a05-1e58-42af-a9c9-6068e8fc19c8"
      },
      "outputs": [
        {
          "data": {
            "text/plain": [
              "[1] \"A\" \"B\" \"C\""
            ]
          },
          "metadata": {},
          "output_type": "display_data"
        }
      ],
      "source": [
        "IR2022$final$student"
      ]
    },
    {
      "cell_type": "code",
      "execution_count": null,
      "id": "511595d1-f5ca-4345-bbd0-8147b6ed2f53",
      "metadata": {
        "id": "511595d1-f5ca-4345-bbd0-8147b6ed2f53",
        "outputId": "442e34f2-3a19-4a99-d303-b460aa2b69f0"
      },
      "outputs": [
        {
          "data": {
            "text/plain": [
              "[1] 80 90 85"
            ]
          },
          "metadata": {},
          "output_type": "display_data"
        }
      ],
      "source": [
        "IR2022$final$score"
      ]
    },
    {
      "cell_type": "markdown",
      "id": "d37b4216-9d98-4860-9750-7d2c098a45ac",
      "metadata": {
        "id": "d37b4216-9d98-4860-9750-7d2c098a45ac"
      },
      "source": [
        "`-` 학생의 이름, 중간점수, 기말점수만 출력하고 싶다."
      ]
    },
    {
      "cell_type": "code",
      "execution_count": null,
      "id": "5b7b339f-0f35-46d1-9ef8-25205ea668ad",
      "metadata": {
        "id": "5b7b339f-0f35-46d1-9ef8-25205ea668ad"
      },
      "outputs": [],
      "source": [
        "IR2022 <- list(mid$student, mid$score, final$score)"
      ]
    },
    {
      "cell_type": "code",
      "execution_count": null,
      "id": "bf2896cb-cd98-43f4-8c0e-8f97651e168b",
      "metadata": {
        "id": "bf2896cb-cd98-43f4-8c0e-8f97651e168b",
        "outputId": "66c36074-978e-4372-d8fe-f6f1d43331a2"
      },
      "outputs": [
        {
          "data": {
            "text/plain": [
              "[[1]]\n",
              "[1] \"A\" \"B\" \"C\"\n",
              "\n",
              "[[2]]\n",
              "[1]  90 100  95\n",
              "\n",
              "[[3]]\n",
              "[1] 80 90 85\n"
            ]
          },
          "metadata": {},
          "output_type": "display_data"
        }
      ],
      "source": [
        "IR2022"
      ]
    },
    {
      "cell_type": "markdown",
      "id": "c403932f-f6bb-4312-bd62-784227b51563",
      "metadata": {
        "id": "c403932f-f6bb-4312-bd62-784227b51563"
      },
      "source": [
        "- 원하는 형태로 출력되긴 했으나, 이름이 지정되지 않았다. 다음과 같이 하면 이름이 함께 입력된다."
      ]
    },
    {
      "cell_type": "code",
      "execution_count": null,
      "id": "ddaf94a3-5577-4da2-aaba-c12d4eadf15a",
      "metadata": {
        "id": "ddaf94a3-5577-4da2-aaba-c12d4eadf15a"
      },
      "outputs": [],
      "source": [
        "IR2022 <- list(name=mid$student, mid=mid$score, final=final$score)"
      ]
    },
    {
      "cell_type": "code",
      "execution_count": null,
      "id": "97189a0a-955a-4d85-aeb2-61eae9720e01",
      "metadata": {
        "id": "97189a0a-955a-4d85-aeb2-61eae9720e01",
        "outputId": "b13ffe17-157c-43d9-99a2-7f53f4ae6603"
      },
      "outputs": [
        {
          "data": {
            "text/plain": [
              "$name\n",
              "[1] \"A\" \"B\" \"C\"\n",
              "\n",
              "$mid\n",
              "[1]  90 100  95\n",
              "\n",
              "$final\n",
              "[1] 80 90 85\n"
            ]
          },
          "metadata": {},
          "output_type": "display_data"
        }
      ],
      "source": [
        "IR2022"
      ]
    },
    {
      "cell_type": "markdown",
      "id": "8f39bb51-fa0a-46b8-9654-1fa5339206f4",
      "metadata": {
        "id": "8f39bb51-fa0a-46b8-9654-1fa5339206f4"
      },
      "source": [
        "## 리스트의 서브셋팅"
      ]
    },
    {
      "cell_type": "markdown",
      "id": "f90413fc-ec26-4471-99c5-c85d27ff4f41",
      "metadata": {
        "id": "f90413fc-ec26-4471-99c5-c85d27ff4f41"
      },
      "source": [
        "### 방법 1: `[ ]`를 이용, 리스트를 리턴"
      ]
    },
    {
      "cell_type": "code",
      "execution_count": null,
      "id": "dc3cfe7e-c0a3-4392-a641-971529ce6874",
      "metadata": {
        "id": "dc3cfe7e-c0a3-4392-a641-971529ce6874",
        "outputId": "d68c1270-ab7e-401b-f84e-16b322437c22"
      },
      "outputs": [
        {
          "data": {
            "text/plain": [
              "$name\n",
              "[1] \"A\" \"B\" \"C\"\n"
            ]
          },
          "metadata": {},
          "output_type": "display_data"
        }
      ],
      "source": [
        "IR2022[1]"
      ]
    },
    {
      "cell_type": "markdown",
      "id": "486596f2-fd9f-4f65-be8c-95bef82ddced",
      "metadata": {
        "id": "486596f2-fd9f-4f65-be8c-95bef82ddced"
      },
      "source": [
        "- 길이가 1인 리스트를 리턴"
      ]
    },
    {
      "cell_type": "code",
      "execution_count": null,
      "id": "70c88574-df88-45cc-86a0-8cd28fff9b0e",
      "metadata": {
        "id": "70c88574-df88-45cc-86a0-8cd28fff9b0e",
        "outputId": "dc4d6fb6-20ba-48da-eda3-c2be4a05485e"
      },
      "outputs": [
        {
          "data": {
            "text/plain": [
              "$name\n",
              "[1] \"A\" \"B\" \"C\"\n",
              "\n",
              "$mid\n",
              "[1]  90 100  95\n"
            ]
          },
          "metadata": {},
          "output_type": "display_data"
        }
      ],
      "source": [
        "IR2022[1:2]"
      ]
    },
    {
      "cell_type": "markdown",
      "id": "89c8bcb3-87e9-4ac1-84b9-bb649ffb96c1",
      "metadata": {
        "id": "89c8bcb3-87e9-4ac1-84b9-bb649ffb96c1"
      },
      "source": [
        "- 길이가 1~2인 리스트를 리턴"
      ]
    },
    {
      "cell_type": "code",
      "execution_count": null,
      "id": "152965a6-a1cc-489a-bec4-9939047b83ed",
      "metadata": {
        "id": "152965a6-a1cc-489a-bec4-9939047b83ed",
        "outputId": "afe3e1f8-bd1b-4090-afde-76ab496e418d"
      },
      "outputs": [
        {
          "data": {
            "text/plain": [
              "$name\n",
              "[1] \"A\" \"B\" \"C\"\n",
              "\n",
              "$mid\n",
              "[1]  90 100  95\n",
              "\n",
              "$final\n",
              "[1] 80 90 85\n"
            ]
          },
          "metadata": {},
          "output_type": "display_data"
        }
      ],
      "source": [
        "IR2022[1:3]"
      ]
    },
    {
      "cell_type": "code",
      "execution_count": null,
      "id": "af17efd7-7c92-4e34-b9ed-bf82e4e43631",
      "metadata": {
        "id": "af17efd7-7c92-4e34-b9ed-bf82e4e43631",
        "outputId": "dd62e104-0d22-4acc-e4a6-dd82d7164a84"
      },
      "outputs": [
        {
          "data": {
            "text/plain": [
              "$name\n",
              "[1] \"A\" \"B\" \"C\"\n",
              "\n",
              "$mid\n",
              "[1]  90 100  95\n",
              "\n",
              "$final\n",
              "[1] 80 90 85\n"
            ]
          },
          "metadata": {},
          "output_type": "display_data"
        }
      ],
      "source": [
        "IR2022[c(1,2,3)]"
      ]
    },
    {
      "cell_type": "markdown",
      "id": "53ad3ece-61a3-44f2-9c2a-e03ff801cb34",
      "metadata": {
        "id": "53ad3ece-61a3-44f2-9c2a-e03ff801cb34"
      },
      "source": [
        "- 길이가 1~3인 리스트를 리턴"
      ]
    },
    {
      "cell_type": "code",
      "execution_count": null,
      "id": "f0522892-2c01-4fc2-ba17-1a8b6e2f8668",
      "metadata": {
        "id": "f0522892-2c01-4fc2-ba17-1a8b6e2f8668",
        "outputId": "1f678e24-ee1b-47ae-f700-6b8f6f92f004"
      },
      "outputs": [
        {
          "data": {
            "text/plain": [
              "$name\n",
              "[1] \"A\" \"B\" \"C\"\n",
              "\n",
              "$final\n",
              "[1] 80 90 85\n"
            ]
          },
          "metadata": {},
          "output_type": "display_data"
        }
      ],
      "source": [
        "IR2022[c(1,3)]"
      ]
    },
    {
      "cell_type": "code",
      "execution_count": null,
      "id": "18e71de5-5bc5-4372-8856-1f2e575f75cd",
      "metadata": {
        "id": "18e71de5-5bc5-4372-8856-1f2e575f75cd",
        "outputId": "72488ee5-e9cb-47e8-877c-c226808e5cef"
      },
      "outputs": [
        {
          "data": {
            "text/plain": [
              "$name\n",
              "[1] \"A\" \"B\" \"C\"\n",
              "\n",
              "$final\n",
              "[1] 80 90 85\n"
            ]
          },
          "metadata": {},
          "output_type": "display_data"
        }
      ],
      "source": [
        "IR2022[-2]"
      ]
    },
    {
      "cell_type": "markdown",
      "id": "7625e0e0-c2b0-4b1d-8273-a28e3ee32737",
      "metadata": {
        "id": "7625e0e0-c2b0-4b1d-8273-a28e3ee32737"
      },
      "source": [
        "- 길이가 1,3인 리스트를 리턴"
      ]
    },
    {
      "cell_type": "markdown",
      "id": "a76cf733-a868-43a1-9ae6-5ac7848f22c7",
      "metadata": {
        "id": "a76cf733-a868-43a1-9ae6-5ac7848f22c7"
      },
      "source": [
        "### 방법 2: `[[ ]]`를 이용, 리스트의 요소를 추출"
      ]
    },
    {
      "cell_type": "code",
      "execution_count": null,
      "id": "0b375589-23b3-4b7c-8513-467a602ca52f",
      "metadata": {
        "id": "0b375589-23b3-4b7c-8513-467a602ca52f",
        "outputId": "0da5d067-d23f-4d5a-d551-973e518afc98"
      },
      "outputs": [
        {
          "data": {
            "text/plain": [
              "[1] \"A\" \"B\" \"C\""
            ]
          },
          "metadata": {},
          "output_type": "display_data"
        }
      ],
      "source": [
        "IR2022[[1]]"
      ]
    },
    {
      "cell_type": "code",
      "execution_count": null,
      "id": "a5fae711-e832-4ff6-bc39-081a3b3812cc",
      "metadata": {
        "id": "a5fae711-e832-4ff6-bc39-081a3b3812cc",
        "outputId": "21163a6a-1bc1-4f89-9f26-78e7f4ed61af"
      },
      "outputs": [
        {
          "data": {
            "text/plain": [
              "[1]  90 100  95"
            ]
          },
          "metadata": {},
          "output_type": "display_data"
        }
      ],
      "source": [
        "IR2022[[2]]"
      ]
    },
    {
      "cell_type": "code",
      "execution_count": null,
      "id": "564afc13-0b55-41da-8c2a-2bc944dd6108",
      "metadata": {
        "id": "564afc13-0b55-41da-8c2a-2bc944dd6108",
        "outputId": "72e71785-1fab-46ae-88b9-dabb2e126d04"
      },
      "outputs": [
        {
          "data": {
            "text/plain": [
              "[1] 80 90 85"
            ]
          },
          "metadata": {},
          "output_type": "display_data"
        }
      ],
      "source": [
        "IR2022[[3]]"
      ]
    },
    {
      "cell_type": "markdown",
      "id": "2dacb8b7-ff2c-4f71-a823-bb2ddd1e1746",
      "metadata": {
        "id": "2dacb8b7-ff2c-4f71-a823-bb2ddd1e1746"
      },
      "source": [
        "`-` `[ ]`와 다르게 \n",
        "\n",
        "1. 제외하고를 뜻하는 `[-n]`은 동작하지 않음  \n",
        "\n",
        "2. `[1:n] or [c(1,...,n)]` 또한 의도와 다르게 동작"
      ]
    },
    {
      "cell_type": "code",
      "execution_count": null,
      "id": "2760ef39-e136-4146-a36e-b847a8176016",
      "metadata": {
        "id": "2760ef39-e136-4146-a36e-b847a8176016",
        "outputId": "1e7764a3-15a1-4cc3-e931-183f4624cf36"
      },
      "outputs": [
        {
          "ename": "ERROR",
          "evalue": "Error in IR2022[[-3]]: invalid negative subscript in get1index <real>\n",
          "output_type": "error",
          "traceback": [
            "Error in IR2022[[-3]]: invalid negative subscript in get1index <real>\nTraceback:\n"
          ]
        }
      ],
      "source": [
        "IR2022[[-3]]"
      ]
    },
    {
      "cell_type": "code",
      "execution_count": null,
      "id": "8a900b03-05fb-4e65-b455-eba57f3bd89f",
      "metadata": {
        "id": "8a900b03-05fb-4e65-b455-eba57f3bd89f",
        "outputId": "b562c2c2-abe2-4768-db2a-5782dceee03a"
      },
      "outputs": [
        {
          "data": {
            "text/plain": [
              "[1] \"B\""
            ]
          },
          "metadata": {},
          "output_type": "display_data"
        }
      ],
      "source": [
        "IR2022[[1:2]]"
      ]
    },
    {
      "cell_type": "code",
      "execution_count": null,
      "id": "408e588b-b253-40ef-8f2a-326b96ec8eba",
      "metadata": {
        "id": "408e588b-b253-40ef-8f2a-326b96ec8eba",
        "outputId": "d330b497-146a-4f39-b395-f71ce21ffb6a"
      },
      "outputs": [
        {
          "data": {
            "text/plain": [
              "[1] \"B\""
            ]
          },
          "metadata": {},
          "output_type": "display_data"
        }
      ],
      "source": [
        "IR2022[[c(1,2)]]"
      ]
    },
    {
      "cell_type": "markdown",
      "id": "e9a9eb45-bd93-48b8-b1ea-2d8ab512f27f",
      "metadata": {
        "id": "e9a9eb45-bd93-48b8-b1ea-2d8ab512f27f"
      },
      "source": [
        "- 위에서 언급한 것처럼 원하는 결과가 나오지 않았는데, 이는 아래의 코드가 실행된 것과 같은 결과임"
      ]
    },
    {
      "cell_type": "code",
      "execution_count": null,
      "id": "2b9cbed2-3aa4-4762-a629-551c9b73923b",
      "metadata": {
        "id": "2b9cbed2-3aa4-4762-a629-551c9b73923b",
        "outputId": "91d520eb-9d2c-4ccd-951a-5da16f9df24f"
      },
      "outputs": [
        {
          "data": {
            "text/plain": [
              "[1] \"B\""
            ]
          },
          "metadata": {},
          "output_type": "display_data"
        }
      ],
      "source": [
        "IR2022[[1]][2]"
      ]
    },
    {
      "cell_type": "markdown",
      "id": "e69962b1-ac13-4a8c-bfb6-8c190b7f8b49",
      "metadata": {
        "id": "e69962b1-ac13-4a8c-bfb6-8c190b7f8b49"
      },
      "source": [
        "`-` `$`연산자"
      ]
    },
    {
      "cell_type": "code",
      "execution_count": null,
      "id": "8229a923-8e82-46bd-b0d4-8be04fd87b22",
      "metadata": {
        "id": "8229a923-8e82-46bd-b0d4-8be04fd87b22",
        "outputId": "aeb2844e-54e5-4d53-fcd4-d7aa91f9b7af"
      },
      "outputs": [
        {
          "data": {
            "text/plain": [
              "[1] \"A\" \"B\" \"C\""
            ]
          },
          "metadata": {},
          "output_type": "display_data"
        }
      ],
      "source": [
        "IR2022$name"
      ]
    },
    {
      "cell_type": "markdown",
      "id": "a47ff664-f99c-47d5-86e3-7b1013cae75b",
      "metadata": {
        "id": "a47ff664-f99c-47d5-86e3-7b1013cae75b"
      },
      "source": [
        "`-` `[[name]]`도 같은 형태"
      ]
    },
    {
      "cell_type": "code",
      "execution_count": null,
      "id": "00cbea3d-d446-46f9-8192-127bd513ee5d",
      "metadata": {
        "id": "00cbea3d-d446-46f9-8192-127bd513ee5d",
        "outputId": "01ddc399-15a4-4f8b-fd3d-81a0cd7e802f"
      },
      "outputs": [
        {
          "data": {
            "text/plain": [
              "[1] \"A\" \"B\" \"C\""
            ]
          },
          "metadata": {},
          "output_type": "display_data"
        }
      ],
      "source": [
        "IR2022$name"
      ]
    },
    {
      "cell_type": "code",
      "execution_count": null,
      "id": "e7acf0b1-848e-4d7d-bcc9-6b93a1ff86b8",
      "metadata": {
        "id": "e7acf0b1-848e-4d7d-bcc9-6b93a1ff86b8",
        "outputId": "c3842b69-ba27-4dde-f6b5-33d272bb9a9b"
      },
      "outputs": [
        {
          "data": {
            "text/plain": [
              "[1] \"A\" \"B\" \"C\""
            ]
          },
          "metadata": {},
          "output_type": "display_data"
        }
      ],
      "source": [
        "IR2022[['name']]"
      ]
    },
    {
      "cell_type": "markdown",
      "id": "5873993d-2f17-4b2b-8892-9fa3a4c2de9e",
      "metadata": {
        "id": "5873993d-2f17-4b2b-8892-9fa3a4c2de9e"
      },
      "source": [
        "`-` `$`와 `[[ ]]`의 기능이 같기 때문에 언제나 `$`와 `[[]]`를 서로 바꿔도 될 것 같으나, 항상 그런 것은 아니다."
      ]
    },
    {
      "cell_type": "code",
      "execution_count": null,
      "id": "68bb0850-36b9-4b6d-b303-5399412d335a",
      "metadata": {
        "id": "68bb0850-36b9-4b6d-b303-5399412d335a",
        "outputId": "969628f5-8ddb-457e-ecae-bb56836a0280"
      },
      "outputs": [
        {
          "data": {
            "text/plain": [
              "[1] \"A\" \"B\" \"C\""
            ]
          },
          "metadata": {},
          "output_type": "display_data"
        }
      ],
      "source": [
        "IR2022$n"
      ]
    },
    {
      "cell_type": "code",
      "execution_count": null,
      "id": "977958ce-0fdb-427d-a27b-cbf50a0a0c55",
      "metadata": {
        "id": "977958ce-0fdb-427d-a27b-cbf50a0a0c55",
        "outputId": "a3d5c423-6092-476e-b615-b125a197a7a3"
      },
      "outputs": [
        {
          "data": {
            "text/plain": [
              "NULL"
            ]
          },
          "metadata": {},
          "output_type": "display_data"
        }
      ],
      "source": [
        "IR2022[['n']]"
      ]
    },
    {
      "cell_type": "markdown",
      "id": "246ec33f-ff79-42fe-bb01-683108052011",
      "metadata": {
        "id": "246ec33f-ff79-42fe-bb01-683108052011"
      },
      "source": [
        "`-` `$`와 `[[ ]]`의 차이는 파샬매칭(partial matching)을 허용하는지 여부이다."
      ]
    },
    {
      "cell_type": "code",
      "execution_count": null,
      "id": "b00f9e91-031a-48bf-8583-4afc2df4046f",
      "metadata": {
        "id": "b00f9e91-031a-48bf-8583-4afc2df4046f",
        "outputId": "b4c9d489-5c59-494d-e915-5dc02803933f"
      },
      "outputs": [
        {
          "data": {
            "text/plain": [
              "[1] \"A\" \"B\" \"C\""
            ]
          },
          "metadata": {},
          "output_type": "display_data"
        }
      ],
      "source": [
        "IR2022$n"
      ]
    },
    {
      "cell_type": "code",
      "execution_count": null,
      "id": "14d81924-573c-48e1-8bd7-7082e6c0446a",
      "metadata": {
        "id": "14d81924-573c-48e1-8bd7-7082e6c0446a",
        "outputId": "1dda7519-2cd9-4896-b51d-baa9d089f72a"
      },
      "outputs": [
        {
          "data": {
            "text/plain": [
              "[1] \"A\" \"B\" \"C\""
            ]
          },
          "metadata": {},
          "output_type": "display_data"
        }
      ],
      "source": [
        "IR2022$na"
      ]
    },
    {
      "cell_type": "markdown",
      "id": "21e10d3d-f1ae-4c14-b5e8-867796ef437e",
      "metadata": {
        "id": "21e10d3d-f1ae-4c14-b5e8-867796ef437e"
      },
      "source": [
        "`-` 그렇다고 비슷한 모든 형태가 동작되지는 않는다."
      ]
    },
    {
      "cell_type": "code",
      "execution_count": null,
      "id": "801138e6-5dac-4d94-874d-3504d89a4142",
      "metadata": {
        "id": "801138e6-5dac-4d94-874d-3504d89a4142",
        "outputId": "e2376d4c-e93f-42be-9449-c7ffb01c6b51"
      },
      "outputs": [
        {
          "data": {
            "text/plain": [
              "NULL"
            ]
          },
          "metadata": {},
          "output_type": "display_data"
        }
      ],
      "source": [
        "IR2022$a"
      ]
    },
    {
      "cell_type": "code",
      "execution_count": null,
      "id": "1b3f3c05-4a46-4666-8307-b50868170225",
      "metadata": {
        "id": "1b3f3c05-4a46-4666-8307-b50868170225",
        "outputId": "63386940-23c8-4f7b-f892-8230e0534aeb"
      },
      "outputs": [
        {
          "data": {
            "text/plain": [
              "NULL"
            ]
          },
          "metadata": {},
          "output_type": "display_data"
        }
      ],
      "source": [
        "IR2022$ame"
      ]
    },
    {
      "cell_type": "markdown",
      "id": "98078090-219f-4252-909e-3bf1619c1d78",
      "metadata": {
        "id": "98078090-219f-4252-909e-3bf1619c1d78"
      },
      "source": [
        "- 첫글자(+)가 동일해야 함"
      ]
    },
    {
      "cell_type": "markdown",
      "id": "32673d0b-5b79-4884-83cb-3c9bb48217c5",
      "metadata": {
        "id": "32673d0b-5b79-4884-83cb-3c9bb48217c5"
      },
      "source": [
        "## 리스트의 응용: 함수의 return()으로 사용"
      ]
    },
    {
      "cell_type": "markdown",
      "id": "104195c6-fb9e-486d-ad1a-b87901db1439",
      "metadata": {
        "id": "104195c6-fb9e-486d-ad1a-b87901db1439"
      },
      "source": [
        "`-` R에서는 일반적으로 하나의 오브젝트만 리턴하지만 리스트를 사용하면 다중리턴을 지원하는 것처럼 느낄 수 있음"
      ]
    },
    {
      "cell_type": "code",
      "execution_count": null,
      "id": "bb171bb0-2f20-45db-806b-ab4985cc2bc4",
      "metadata": {
        "id": "bb171bb0-2f20-45db-806b-ab4985cc2bc4"
      },
      "outputs": [],
      "source": [
        "cal = function(x,y){\n",
        "    return(x+y, x-y, x*y, x/y)\n",
        "}"
      ]
    },
    {
      "cell_type": "code",
      "execution_count": null,
      "id": "02027860-29c8-46e9-9889-ce99aea6b3a4",
      "metadata": {
        "id": "02027860-29c8-46e9-9889-ce99aea6b3a4",
        "outputId": "cc68501b-6919-4748-c18e-d888cad38119"
      },
      "outputs": [
        {
          "ename": "ERROR",
          "evalue": "Error in return(x + y, x - y, x * y, x/y): 다중인자 반환은 허용되지 않습니다\n",
          "output_type": "error",
          "traceback": [
            "Error in return(x + y, x - y, x * y, x/y): 다중인자 반환은 허용되지 않습니다\nTraceback:\n",
            "1. cal(2, 3)"
          ]
        }
      ],
      "source": [
        "cal(2,3)"
      ]
    },
    {
      "cell_type": "code",
      "execution_count": null,
      "id": "2ac74de0-1e02-480a-a032-88a95422ae8b",
      "metadata": {
        "id": "2ac74de0-1e02-480a-a032-88a95422ae8b"
      },
      "outputs": [],
      "source": [
        "cal = function(x,y){\n",
        "    return(x+y)\n",
        "}"
      ]
    },
    {
      "cell_type": "code",
      "execution_count": null,
      "id": "2f150696-92b6-4ebb-89aa-59bc7818bbaf",
      "metadata": {
        "id": "2f150696-92b6-4ebb-89aa-59bc7818bbaf",
        "outputId": "b3dc2e7b-65d4-4ed8-e7ea-170e77fe0bfd"
      },
      "outputs": [
        {
          "data": {
            "text/plain": [
              "[1] 5"
            ]
          },
          "metadata": {},
          "output_type": "display_data"
        }
      ],
      "source": [
        "cal(2,3)"
      ]
    },
    {
      "cell_type": "markdown",
      "id": "554ae97d-a33c-4e65-a1b4-6171e22bf705",
      "metadata": {
        "id": "554ae97d-a33c-4e65-a1b4-6171e22bf705"
      },
      "source": [
        "- 하나의 오브젝트만 리턴가능"
      ]
    },
    {
      "cell_type": "markdown",
      "id": "acdf1e8a-e925-4eef-bb8b-06f5d8e57528",
      "metadata": {
        "id": "acdf1e8a-e925-4eef-bb8b-06f5d8e57528"
      },
      "source": [
        "`-` 하지만, 리스트의 형태로 하면 다중리턴 가능함"
      ]
    },
    {
      "cell_type": "code",
      "execution_count": null,
      "id": "56d6d9d0-a7ea-40f7-8b66-e958a2ef2d8f",
      "metadata": {
        "id": "56d6d9d0-a7ea-40f7-8b66-e958a2ef2d8f"
      },
      "outputs": [],
      "source": [
        "cal = function(x,y){\n",
        "    return(list(x+y,x-y,x*y,x/y))\n",
        "}"
      ]
    },
    {
      "cell_type": "code",
      "execution_count": null,
      "id": "1bb60b85-1afd-4d0c-b944-4d8e90bc2bf6",
      "metadata": {
        "id": "1bb60b85-1afd-4d0c-b944-4d8e90bc2bf6",
        "outputId": "e284b8ad-eb0a-4bb3-a378-df9d48deb518"
      },
      "outputs": [
        {
          "data": {
            "text/plain": [
              "[[1]]\n",
              "[1] 5\n",
              "\n",
              "[[2]]\n",
              "[1] -1\n",
              "\n",
              "[[3]]\n",
              "[1] 6\n",
              "\n",
              "[[4]]\n",
              "[1] 0.6666667\n"
            ]
          },
          "metadata": {},
          "output_type": "display_data"
        }
      ],
      "source": [
        "cal(2,3)"
      ]
    },
    {
      "cell_type": "code",
      "execution_count": null,
      "id": "af7716d1-6870-4c3b-9c32-e7356a0b3948",
      "metadata": {
        "id": "af7716d1-6870-4c3b-9c32-e7356a0b3948"
      },
      "outputs": [],
      "source": [
        "cal = function(x,y){\n",
        "    return(list(add=x+y, sub=x-y, mul=x*y, dic=x/y))\n",
        "}"
      ]
    },
    {
      "cell_type": "code",
      "execution_count": null,
      "id": "f93096b7-4b22-4a10-914d-ac32b27c6278",
      "metadata": {
        "id": "f93096b7-4b22-4a10-914d-ac32b27c6278",
        "outputId": "05f3fe14-7b2d-4bda-80fc-809c7079b01f"
      },
      "outputs": [
        {
          "data": {
            "text/plain": [
              "$add\n",
              "[1] 5\n",
              "\n",
              "$sub\n",
              "[1] -1\n",
              "\n",
              "$mul\n",
              "[1] 6\n",
              "\n",
              "$dic\n",
              "[1] 0.6666667\n"
            ]
          },
          "metadata": {},
          "output_type": "display_data"
        }
      ],
      "source": [
        "cal(2,3)"
      ]
    },
    {
      "cell_type": "markdown",
      "id": "abfcfc16-2144-4cb7-ba30-adb00cbedad8",
      "metadata": {
        "id": "abfcfc16-2144-4cb7-ba30-adb00cbedad8"
      },
      "source": [
        "`-` 리스트를 통한 다중리턴의 장점: 코드가 간결"
      ]
    },
    {
      "cell_type": "markdown",
      "id": "58ccf0e1-6e91-4962-bd35-3f7b5a96eb9c",
      "metadata": {
        "id": "58ccf0e1-6e91-4962-bd35-3f7b5a96eb9c"
      },
      "source": [
        "`-` 함수의 결과값을 저장하여 아래와 같이 사용"
      ]
    },
    {
      "cell_type": "code",
      "execution_count": null,
      "id": "8028eb54-398d-4137-a6db-1a17a2c1b017",
      "metadata": {
        "id": "8028eb54-398d-4137-a6db-1a17a2c1b017"
      },
      "outputs": [],
      "source": [
        "rslt <- cal(3,2)"
      ]
    },
    {
      "cell_type": "code",
      "execution_count": null,
      "id": "645b1491-7979-4bee-a4b2-3f900c54abf1",
      "metadata": {
        "id": "645b1491-7979-4bee-a4b2-3f900c54abf1",
        "outputId": "5ed2a5d9-4040-4356-ec33-e43a4caee827"
      },
      "outputs": [
        {
          "data": {
            "text/plain": [
              "[1] 5"
            ]
          },
          "metadata": {},
          "output_type": "display_data"
        }
      ],
      "source": [
        "rslt$add"
      ]
    },
    {
      "cell_type": "code",
      "execution_count": null,
      "id": "a2cee1b3-7f21-4a25-a35b-965e69084cd2",
      "metadata": {
        "id": "a2cee1b3-7f21-4a25-a35b-965e69084cd2",
        "outputId": "09c86b32-0b44-482a-8f09-665d296e7a5a"
      },
      "outputs": [
        {
          "data": {
            "text/plain": [
              "[1] 1"
            ]
          },
          "metadata": {},
          "output_type": "display_data"
        }
      ],
      "source": [
        "rslt$sub"
      ]
    },
    {
      "cell_type": "markdown",
      "id": "dedf32af-ecc1-4db2-9262-20fd00aaf63c",
      "metadata": {
        "id": "dedf32af-ecc1-4db2-9262-20fd00aaf63c"
      },
      "source": [
        "`-` 아래와 같이 사용하지는 않음"
      ]
    },
    {
      "cell_type": "code",
      "execution_count": null,
      "id": "13601889-9fa3-4ac4-97ea-1ab725e0aa38",
      "metadata": {
        "id": "13601889-9fa3-4ac4-97ea-1ab725e0aa38",
        "outputId": "0e76941c-c75f-4b85-e6a9-39af7ac843b6"
      },
      "outputs": [
        {
          "data": {
            "text/plain": [
              "[1] 5"
            ]
          },
          "metadata": {},
          "output_type": "display_data"
        }
      ],
      "source": [
        "cal(3,2)$add"
      ]
    },
    {
      "cell_type": "code",
      "execution_count": null,
      "id": "92c15b95-4fff-4448-9a42-8ba4bb8a03a1",
      "metadata": {
        "id": "92c15b95-4fff-4448-9a42-8ba4bb8a03a1",
        "outputId": "e8997c02-a39c-4ddf-816a-f45d3a9e1986"
      },
      "outputs": [
        {
          "data": {
            "text/plain": [
              "[1] 1"
            ]
          },
          "metadata": {},
          "output_type": "display_data"
        }
      ],
      "source": [
        "cal(3,2)$sub"
      ]
    },
    {
      "cell_type": "markdown",
      "id": "9294cb06-1a81-4cb2-9e0e-0a7a206799ea",
      "metadata": {
        "id": "9294cb06-1a81-4cb2-9e0e-0a7a206799ea"
      },
      "source": [
        "- 이유는 저장된 결과값에 대한 출력만 수행해주는 첫 번째 코드와는 달리 두 번째 코드는 각 코드를 실행할 때마다 함수가 실행되어 불필요한 계산이 실행됨. 즉, 효율성이 떨어짐"
      ]
    },
    {
      "cell_type": "markdown",
      "id": "5709136f-2ae1-4351-8548-67d67a4f68cb",
      "metadata": {
        "id": "5709136f-2ae1-4351-8548-67d67a4f68cb"
      },
      "source": [
        "## 추가학습"
      ]
    },
    {
      "cell_type": "markdown",
      "id": "bf77c2d9-e563-480d-b6a4-d2509c73de52",
      "metadata": {
        "id": "bf77c2d9-e563-480d-b6a4-d2509c73de52"
      },
      "source": [
        "`-` 기본적인 자료형 vector, matrix, list에 기능을 스스로 정리해보고 요약해볼것\n",
        "\n",
        "- 벡터의 길이를 재려면 어떻게 해야하는지? \n",
        "- 매트릭스의 차원은 어떻게 알 수 있는지? \n",
        "- 리스트의 원소에 접근하려면? \n",
        "- $n\\times 1$ 매트릭스 혹은 $1\\times n$ 매트릭스를 쓰면 되는데 왜 굳이 벡터를 만들었을까? "
      ]
    },
    {
      "cell_type": "markdown",
      "id": "cca773c1-4b91-4df3-bfb3-5a7b0377ca75",
      "metadata": {
        "id": "cca773c1-4b91-4df3-bfb3-5a7b0377ca75"
      },
      "source": [
        "`-` 벡터 ${\\bf x}$와 벡터 ${\\bf y}$를 아래의 코드를 이용해 표준 정규분포에서 생성하라. (표준정규분포를 모른다면 질문하거나 네이버 구글에서 스스로 찾아볼것) \n",
        "```r\n",
        "x=rnorm(100)\n",
        "y=rnorm(100)\n",
        "```\n",
        "아래의 수식을 계산하는 코드를 작성하라. "
      ]
    },
    {
      "cell_type": "markdown",
      "id": "0b6aa750-e7e6-46eb-ae5d-6426622db1d0",
      "metadata": {
        "id": "0b6aa750-e7e6-46eb-ae5d-6426622db1d0"
      },
      "source": [
        "$$\\frac{\\sum_{i=1}^{100}(x_i-\\bar{x})(y_i-\\bar{y})}{\\sqrt{\\sum_{i=1}^{100}(x_i-\\bar{x})^2}\\sqrt{\\sum_{i=1}^{100}(y_i-\\bar{y})^2}}$$"
      ]
    },
    {
      "cell_type": "markdown",
      "id": "0095d44a-eb94-4fb1-bbd8-6fe928b86898",
      "metadata": {
        "id": "0095d44a-eb94-4fb1-bbd8-6fe928b86898"
      },
      "source": [
        "단 $\\bar{x}=\\frac{1}{100}\\sum_{i=1}^{100}x_i$로 정의한다. "
      ]
    },
    {
      "cell_type": "markdown",
      "id": "2908fbb0-5850-450f-98d0-5d42336bcccf",
      "metadata": {
        "id": "2908fbb0-5850-450f-98d0-5d42336bcccf"
      },
      "source": [
        "`-` 풀이1"
      ]
    },
    {
      "cell_type": "code",
      "execution_count": null,
      "id": "23884a31-461f-4b8f-824e-a1af7010ca3a",
      "metadata": {
        "id": "23884a31-461f-4b8f-824e-a1af7010ca3a"
      },
      "outputs": [],
      "source": [
        "x=rnorm(100)\n",
        "y=rnorm(100)"
      ]
    },
    {
      "cell_type": "code",
      "execution_count": null,
      "id": "3f0f71cf-313d-417d-b453-7d118a37face",
      "metadata": {
        "id": "3f0f71cf-313d-417d-b453-7d118a37face",
        "outputId": "d78fe757-6e1a-4c31-c554-cd8d48f7eae1"
      },
      "outputs": [
        {
          "data": {
            "text/plain": [
              "[1] -2.282807e+30"
            ]
          },
          "metadata": {},
          "output_type": "display_data"
        }
      ],
      "source": [
        "sum((x-mean(x))*(y-mean(y)))/(sqrt(sum(x-mean(x))**2)*sqrt(sum(y-mean(y))**2))"
      ]
    },
    {
      "cell_type": "markdown",
      "id": "d3dcbe24-c4a2-42be-8c62-58a64c196e7f",
      "metadata": {
        "id": "d3dcbe24-c4a2-42be-8c62-58a64c196e7f"
      },
      "source": [
        "`-` 풀이2"
      ]
    },
    {
      "cell_type": "markdown",
      "id": "e1b1ab70-343b-48f3-8c76-6abbb6193e68",
      "metadata": {
        "id": "e1b1ab70-343b-48f3-8c76-6abbb6193e68"
      },
      "source": [
        "$$\\frac{\\sum_{i=1}^{100}(x_i-\\bar{x})(y_i-\\bar{y})}{\\sqrt{\\sum_{i=1}^{100}(x_i-\\bar{x})^2}\\sqrt{\\sum_{i=1}^{100}(y_i-\\bar{y})^2}} =\\frac{A}{BC}$$"
      ]
    },
    {
      "cell_type": "code",
      "execution_count": null,
      "id": "46dc521d-0063-4134-a3e0-e0a1bcccad65",
      "metadata": {
        "id": "46dc521d-0063-4134-a3e0-e0a1bcccad65",
        "outputId": "7ac98404-6ea1-4146-801e-f519dbebd626"
      },
      "outputs": [
        {
          "data": {
            "text/plain": [
              "[1] -11.02912"
            ]
          },
          "metadata": {},
          "output_type": "display_data"
        }
      ],
      "source": [
        "A=0\n",
        "for (i in 1:100) A = A + (x[i]-mean(x))*(y[i]-mean(y))\n",
        "A"
      ]
    },
    {
      "cell_type": "code",
      "execution_count": null,
      "id": "23a5d510-260d-4822-830d-b3efa46d96fb",
      "metadata": {
        "id": "23a5d510-260d-4822-830d-b3efa46d96fb",
        "outputId": "e74600eb-0250-4a35-c192-81033b653066"
      },
      "outputs": [
        {
          "data": {
            "text/plain": [
              "[1] 9.909512"
            ]
          },
          "metadata": {},
          "output_type": "display_data"
        }
      ],
      "source": [
        "B=0\n",
        "for (i in 1:100) B=B+(x[i]-mean(x))**2\n",
        "B=sqrt(B)\n",
        "B"
      ]
    },
    {
      "cell_type": "code",
      "execution_count": null,
      "id": "236dd59c-edcd-4e40-a719-34daf02bce9c",
      "metadata": {
        "id": "236dd59c-edcd-4e40-a719-34daf02bce9c",
        "outputId": "348c54b9-6e99-4f7b-f35e-1b229186a2c7"
      },
      "outputs": [
        {
          "data": {
            "text/plain": [
              "[1] 10.35376"
            ]
          },
          "metadata": {},
          "output_type": "display_data"
        }
      ],
      "source": [
        "C=0\n",
        "for (i in 1:100) C=C+(y[i]-mean(y))**2\n",
        "C=sqrt(C)\n",
        "C"
      ]
    },
    {
      "cell_type": "code",
      "execution_count": null,
      "id": "02e098de-bcac-4cea-9421-3981094fd2ea",
      "metadata": {
        "id": "02e098de-bcac-4cea-9421-3981094fd2ea",
        "outputId": "a6b81f1f-0263-4c4c-9f5c-69bb8b382faf"
      },
      "outputs": [
        {
          "data": {
            "text/plain": [
              "[1] -0.1074956"
            ]
          },
          "metadata": {},
          "output_type": "display_data"
        }
      ],
      "source": [
        "A/(B*C)"
      ]
    },
    {
      "cell_type": "markdown",
      "source": [
        "`-` 풀이3"
      ],
      "metadata": {
        "id": "C60vfbIufAfC"
      },
      "id": "C60vfbIufAfC"
    },
    {
      "cell_type": "markdown",
      "id": "f2e6246e-c2b8-4056-a495-f85c42c35a8b",
      "metadata": {
        "id": "f2e6246e-c2b8-4056-a495-f85c42c35a8b"
      },
      "source": [
        ": 벡터의 내적`%*%`을 통한 풀이\n",
        "\n",
        "`벡터의 내적:` $x = (x_1, ... ,x_{100})$이고 $y = (y_1, ... , y_{100})$라 할 때 두 벡터의 내적은 다음과 같다.\n",
        "\n",
        "$${\\bf x} \\cdot {\\bf y} = x_1y_1 + ... + x_{100}y_{100}$$"
      ]
    },
    {
      "cell_type": "code",
      "execution_count": null,
      "id": "3f59358b-fe78-4d76-ba28-d7abe9a3bd27",
      "metadata": {
        "id": "3f59358b-fe78-4d76-ba28-d7abe9a3bd27",
        "outputId": "ca181aaa-06d3-4211-9bb8-3ee6ea37dd12"
      },
      "outputs": [
        {
          "data": {
            "text/plain": [
              "     [,1]     \n",
              "[1,] -11.02912"
            ]
          },
          "metadata": {},
          "output_type": "display_data"
        }
      ],
      "source": [
        "A=(x-mean(x)) %*% (y-mean(y))\n",
        "A"
      ]
    },
    {
      "cell_type": "code",
      "execution_count": null,
      "id": "7c6a0692-3c24-4970-aebb-cdb2f94a005e",
      "metadata": {
        "id": "7c6a0692-3c24-4970-aebb-cdb2f94a005e",
        "outputId": "ae132f73-cf8e-4a1c-9b07-73da525e4a86"
      },
      "outputs": [
        {
          "data": {
            "text/plain": [
              "     [,1]    \n",
              "[1,] 102.6007"
            ]
          },
          "metadata": {},
          "output_type": "display_data"
        }
      ],
      "source": [
        "B=(sqrt((x-mean(x)) %*% (x-mean(x)))) %*% (sqrt((y-mean(y)) %*% (y-mean(y))))\n",
        "B"
      ]
    },
    {
      "cell_type": "code",
      "execution_count": null,
      "id": "4d38a182-9ffd-4ac4-9ec1-3bcdf073c2ee",
      "metadata": {
        "id": "4d38a182-9ffd-4ac4-9ec1-3bcdf073c2ee",
        "outputId": "67a3ad07-5015-45a0-b6d6-a222a98c19d5"
      },
      "outputs": [
        {
          "data": {
            "text/plain": [
              "     [,1]      \n",
              "[1,] -0.1074956"
            ]
          },
          "metadata": {},
          "output_type": "display_data"
        }
      ],
      "source": [
        "A/B"
      ]
    },
    {
      "cell_type": "markdown",
      "id": "638a799d-7000-418b-bab9-0ce21031b04b",
      "metadata": {
        "id": "638a799d-7000-418b-bab9-0ce21031b04b"
      },
      "source": [
        "`-` $x-mean(x) =$ xx, $y-mean(y) =$ yy 로 치환하면 다음과 같이 깔끔하게 정리할 수 있음"
      ]
    },
    {
      "cell_type": "code",
      "execution_count": null,
      "id": "2a1a7051-5c69-4bac-9851-ad30d70abf9a",
      "metadata": {
        "id": "2a1a7051-5c69-4bac-9851-ad30d70abf9a"
      },
      "outputs": [],
      "source": [
        "xx=x-mean(x)\n",
        "yy=y-mean(y)"
      ]
    },
    {
      "cell_type": "code",
      "execution_count": null,
      "id": "be13332b-1e8e-4071-a097-76f0e81a7e85",
      "metadata": {
        "id": "be13332b-1e8e-4071-a097-76f0e81a7e85",
        "outputId": "b0db6daa-8a63-49be-cae0-3f5d987c8b17"
      },
      "outputs": [
        {
          "data": {
            "text/plain": [
              "     [,1]     \n",
              "[1,] -11.02912"
            ]
          },
          "metadata": {},
          "output_type": "display_data"
        }
      ],
      "source": [
        "xx %*% yy"
      ]
    },
    {
      "cell_type": "code",
      "execution_count": null,
      "id": "83011990-27fc-4d73-8fc0-04ea3d986142",
      "metadata": {
        "id": "83011990-27fc-4d73-8fc0-04ea3d986142",
        "outputId": "e248d0f7-ad55-40a4-a414-98b1fbd46e9f"
      },
      "outputs": [
        {
          "data": {
            "text/plain": [
              "     [,1]    \n",
              "[1,] 102.6007"
            ]
          },
          "metadata": {},
          "output_type": "display_data"
        }
      ],
      "source": [
        "sqrt(xx %*% xx) %*% sqrt(yy %*% yy)"
      ]
    },
    {
      "cell_type": "code",
      "execution_count": null,
      "id": "b7f3b11c-4d8e-46b8-934a-bae0b0ffe787",
      "metadata": {
        "id": "b7f3b11c-4d8e-46b8-934a-bae0b0ffe787",
        "outputId": "68de6303-e723-40f9-ab3d-9f5878e1d57c"
      },
      "outputs": [
        {
          "data": {
            "text/plain": [
              "     [,1]      \n",
              "[1,] -0.1074956"
            ]
          },
          "metadata": {},
          "output_type": "display_data"
        }
      ],
      "source": [
        "xx %*% yy/(sqrt(xx %*% xx) %*% sqrt(yy %*% yy))"
      ]
    }
  ],
  "metadata": {
    "kernelspec": {
      "display_name": "R",
      "language": "R",
      "name": "ir"
    },
    "language_info": {
      "codemirror_mode": "r",
      "file_extension": ".r",
      "mimetype": "text/x-r-source",
      "name": "R",
      "pygments_lexer": "r",
      "version": "4.0.5"
    },
    "colab": {
      "name": "2022-02-26-IR.ipynb",
      "provenance": [],
      "toc_visible": true
    }
  },
  "nbformat": 4,
  "nbformat_minor": 5
}