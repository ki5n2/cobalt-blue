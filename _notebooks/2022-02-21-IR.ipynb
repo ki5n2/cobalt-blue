{
  "cells": [
    {
      "cell_type": "markdown",
      "source": [
        "# IR 10. 볼링공문제(2019 SW마에스트로 입학 테스트), 벡터만 사용한 풀이, 매트릭스를 이용한 풀이, 데이터프레임을 활용한 풀이\n",
        "> \"작성완료\"\n",
        "\n",
        "- toc:true\n",
        "- branch: master\n",
        "- badges: true\n",
        "- comments: true\n",
        "- [R]"
      ],
      "metadata": {
        "id": "xCUQ8LmCpwWc"
      },
      "id": "xCUQ8LmCpwWc"
    },
    {
      "cell_type": "markdown",
      "source": [
        "---\n",
        "# Introduce R \n",
        "- lecture: Introduce R_7-2nd week of lectures\n",
        "- lecture date: 2021-10-26\n",
        "- lecturer: Guebin choi\n",
        "- study date: 2022-02-21\n",
        "- author: Kione kim\n",
        "---"
      ],
      "metadata": {
        "id": "zux7FFgipxwD"
      },
      "id": "zux7FFgipxwD"
    },
    {
      "cell_type": "code",
      "execution_count": null,
      "id": "0a99e644-7da4-48d4-9f56-5bb07b53121b",
      "metadata": {
        "id": "0a99e644-7da4-48d4-9f56-5bb07b53121b"
      },
      "outputs": [],
      "source": [
        "#hide\n",
        "options(jupyter.plot_scale=3)\n",
        "options(jupyter.display_mimetypes=c(\"text/html\"))\n",
        "options(jupyter.rich_display=FALSE)\n",
        "options(repr.plot.width=6,repr.plot.height=6,repr.plot.res=300)\n",
        "options(max.print=1000)"
      ]
    },
    {
      "cell_type": "markdown",
      "id": "2baf5ee9-483c-48ed-852c-b26b2ed862ef",
      "metadata": {
        "jp-MarkdownHeadingCollapsed": true,
        "tags": [],
        "id": "2baf5ee9-483c-48ed-852c-b26b2ed862ef"
      },
      "source": [
        "## 볼링공문제 (2019 SW마에스트로 입학 테스트)"
      ]
    },
    {
      "cell_type": "markdown",
      "source": [
        "A,B 두 사람이 볼링을 치고 있습니다. 두 사람은 서로 무게가 다른 볼링공을 고르려고 합니다. 볼링공은 총 N개가 있으며 각 볼링공마다 무게가 적혀 있고, 공의 번호는 1번부터 순서대로 부여됩니다. 또한 같은 무게의 공이 여러개 있을 수 있지만, 서로 다른 공으로 간주합니다. 볼링공의 무게는 1부터 M까지의 자연수 형태로 존재합니다. \n",
        "\n",
        "예를들어 N이 5이고, M이 3이며 각각의 무게가 차례대로 1,3,2,3,2일 때 각 공의 번호가 차례대로 1번부터 5번까지 부여됩니다. 이때 두 사람이 고를 수 있는 볼링공 번호의 조합을 구하면 다음과 같습니다. \n",
        "\n",
        "(1번,2번), (1번,3번), (1번,4번), (1번,5번), (2번,3번), (2번,5번), (3번,4번), (4번,5번)\n",
        "\n",
        "결과적으로 두 사람이 공을 고르는 경우의 수는 8가지입니다. N개의 공의 무게가 각각 주어질 때, 두 사람이 볼링공을 고르는 경우의 수를 구하는 프로그램을 작성하세요. "
      ],
      "metadata": {
        "id": "QDV9c11sseQ5"
      },
      "id": "QDV9c11sseQ5"
    },
    {
      "cell_type": "markdown",
      "id": "6a8f18ca-f645-467d-8921-00603766ad0b",
      "metadata": {
        "id": "6a8f18ca-f645-467d-8921-00603766ad0b"
      },
      "source": [
        "`-` $N$개의 볼링공의 무게를 각각 $x_1,\\dots,x_N$ 이라고 하자.  $x_1,\\dots, x_N$은 $\\{1,\\dots, M\\}$사이의 자연수의 값을 갖고 서로 같은 값을 가질 수 있다"
      ]
    },
    {
      "cell_type": "markdown",
      "id": "df1e7efa-6359-43ee-9d8e-2966b2bbf445",
      "metadata": {
        "id": "df1e7efa-6359-43ee-9d8e-2966b2bbf445"
      },
      "source": [
        "``` R\n",
        "입력:\n",
        "N: 5 M: 3\n",
        "xi: 1 3 2 3 2\n",
        "출력:\n",
        "8\n",
        "```"
      ]
    },
    {
      "cell_type": "markdown",
      "id": "414e6375-f6d8-4e70-980b-c49245abfcc6",
      "metadata": {
        "id": "414e6375-f6d8-4e70-980b-c49245abfcc6"
      },
      "source": [
        "- $(a_1,\\dots, a_5)=(1,3,2,3,2)$일 때   \n",
        "$(a_1,a_2), (a_1,a_3), (a_1,a_4), (a_1,a_5), (a_2,a_3), (a_2,a_5), (a_3,a_4), (a_4,a_5)$"
      ]
    },
    {
      "cell_type": "markdown",
      "id": "df655025-5a7e-47d3-8ace-f2ca24673d61",
      "metadata": {
        "jp-MarkdownHeadingCollapsed": true,
        "tags": [],
        "id": "df655025-5a7e-47d3-8ace-f2ca24673d61"
      },
      "source": [
        "### 풀이1 ~ 풀이2: 벡터만 사용한 풀이(매트릭스 사용 x)"
      ]
    },
    {
      "cell_type": "markdown",
      "id": "135f19b3-728b-4b63-95c6-425ea3c2b52b",
      "metadata": {
        "tags": [],
        "id": "135f19b3-728b-4b63-95c6-425ea3c2b52b"
      },
      "source": [
        "#### 풀이1"
      ]
    },
    {
      "cell_type": "markdown",
      "id": "8007c9f4-d1c0-49e2-847a-24e04cdbe68d",
      "metadata": {
        "id": "8007c9f4-d1c0-49e2-847a-24e04cdbe68d"
      },
      "source": [
        "`-` 잘못된 풀이"
      ]
    },
    {
      "cell_type": "code",
      "execution_count": null,
      "id": "fe8eece6-6a2a-4c78-a435-f854cf44fa0f",
      "metadata": {
        "id": "fe8eece6-6a2a-4c78-a435-f854cf44fa0f",
        "outputId": "ccbfdaf7-df9d-418d-ba9c-5a8ad76b0895"
      },
      "outputs": [
        {
          "data": {
            "text/plain": [
              "[1] 1 3 2 3 2"
            ]
          },
          "metadata": {},
          "output_type": "display_data"
        }
      ],
      "source": [
        "a <- c(1,3,2,3,2)\n",
        "a"
      ]
    },
    {
      "cell_type": "code",
      "execution_count": null,
      "id": "57ddeb8c-79ae-463f-a76f-120f6d49f1c5",
      "metadata": {
        "id": "57ddeb8c-79ae-463f-a76f-120f6d49f1c5"
      },
      "outputs": [],
      "source": [
        "count = 0\n",
        "for (i in 1:5){\n",
        "    for (j in 1:5){\n",
        "        if (a[i] != a[j]) count <- count +1\n",
        "    }\n",
        "}"
      ]
    },
    {
      "cell_type": "code",
      "execution_count": null,
      "id": "dad0b418-0184-4fac-89de-ee8d08f63453",
      "metadata": {
        "id": "dad0b418-0184-4fac-89de-ee8d08f63453",
        "outputId": "b4669aab-afb4-4797-8442-747b80c7c93e"
      },
      "outputs": [
        {
          "data": {
            "text/plain": [
              "[1] 16"
            ]
          },
          "metadata": {},
          "output_type": "display_data"
        }
      ],
      "source": [
        "count"
      ]
    },
    {
      "cell_type": "markdown",
      "id": "ffa0e859-bb63-4703-beb0-bbe589d6cc8d",
      "metadata": {
        "id": "ffa0e859-bb63-4703-beb0-bbe589d6cc8d"
      },
      "source": [
        "- 답은 8인데 8의 두 배인 16이 계산됨"
      ]
    },
    {
      "cell_type": "markdown",
      "id": "9c6da737-9d83-4777-94a9-7cb64fe61b07",
      "metadata": {
        "id": "9c6da737-9d83-4777-94a9-7cb64fe61b07"
      },
      "source": [
        "- 생각해보니, 위의 코드는 무게가 각각 1과 2인 $(x1,x3)$과 $(x3,x1)$을 중복하여 계산했을 것임   \n",
        "즉, $(a_1,a_2), (a_1,a_3), (a_1,a_4), (a_1,a_5), (a_2,a_3), (a_2,a_5), (a_3,a_4), (a_4,a_5)$에    \n",
        "순서가 바뀐 $(a_2,a_1), (a_3,a_1), (a_4,a_1), (a_5,a_1), (a_3,a_2), (a_5,a_2), (a_4,a_3), (a_5,a_4)$이 중복되어 계산되었음"
      ]
    },
    {
      "cell_type": "markdown",
      "id": "e643cc7c-8453-4d40-b99a-368e8d13769d",
      "metadata": {
        "id": "e643cc7c-8453-4d40-b99a-368e8d13769d"
      },
      "source": [
        "- 이를 해결하기 위해 $(a_2,a_1), (a_3,a_1), (a_4,a_1), (a_5,a_1), (a_3,a_2), (a_5,a_2), (a_4,a_3), (a_5,a_4)$을 제외시켜주면 되는데,   \n",
        "$(a_1,a_2), (a_1,a_3), (a_1,a_4), (a_1,a_5), (a_2,a_3), (a_2,a_5), (a_3,a_4), (a_4,a_5)$을 살펴보니 $a[i]$가 $a[j]$보다 작은 것을 알 수 있다.   \n",
        "이는 우리가 경우의 수를 계산할 때 작은 수부터 오름차순으로 계산해나가기 때문이다.    \n",
        "따라서 $a[i] < a[j]$인 조건을 주면 된다."
      ]
    },
    {
      "cell_type": "markdown",
      "id": "31459579-6e4f-4eaa-90f1-078fe4bad3fc",
      "metadata": {
        "id": "31459579-6e4f-4eaa-90f1-078fe4bad3fc"
      },
      "source": [
        "##### 수정된 풀이(풀이 1)"
      ]
    },
    {
      "cell_type": "code",
      "execution_count": null,
      "id": "d1b23c71-332a-45eb-80ad-8db1551659e3",
      "metadata": {
        "id": "d1b23c71-332a-45eb-80ad-8db1551659e3"
      },
      "outputs": [],
      "source": [
        "count = 0\n",
        "for (i in 1:5){\n",
        "    for (j in 1:5){\n",
        "        if (a[i] != a[j] & a[i] < a[j]) count <- count +1\n",
        "    }\n",
        "}"
      ]
    },
    {
      "cell_type": "code",
      "execution_count": null,
      "id": "2f3ada82-a00d-47f8-ab25-b6e6eae15b76",
      "metadata": {
        "id": "2f3ada82-a00d-47f8-ab25-b6e6eae15b76",
        "outputId": "b1fe27ce-92ca-43ad-abfd-1684fbb0cc34"
      },
      "outputs": [
        {
          "data": {
            "text/plain": [
              "[1] 8"
            ]
          },
          "metadata": {},
          "output_type": "display_data"
        }
      ],
      "source": [
        "count"
      ]
    },
    {
      "cell_type": "markdown",
      "id": "50f3d43b-2286-4b65-a9f5-b8e4c144ec25",
      "metadata": {
        "tags": [],
        "id": "50f3d43b-2286-4b65-a9f5-b8e4c144ec25"
      },
      "source": [
        "#### 풀이2"
      ]
    },
    {
      "cell_type": "code",
      "execution_count": null,
      "id": "7603e4dd-a086-46c4-8770-8bd4274182a0",
      "metadata": {
        "id": "7603e4dd-a086-46c4-8770-8bd4274182a0"
      },
      "outputs": [],
      "source": [
        "count = 0\n",
        "for (i in 1:5){\n",
        "    for (j in i:5){\n",
        "        if (a[i] != a[j]) count <- count+1\n",
        "    }\n",
        "}"
      ]
    },
    {
      "cell_type": "code",
      "execution_count": null,
      "id": "cc9897ba-22f3-42dd-91c1-e37a58f2dd27",
      "metadata": {
        "id": "cc9897ba-22f3-42dd-91c1-e37a58f2dd27",
        "outputId": "20682c25-92f5-4d2e-87f1-11ff9281b83c"
      },
      "outputs": [
        {
          "data": {
            "text/plain": [
              "[1] 8"
            ]
          },
          "metadata": {},
          "output_type": "display_data"
        }
      ],
      "source": [
        "count"
      ]
    },
    {
      "cell_type": "markdown",
      "id": "97d8192f-2eb2-4fa8-ad97-e4c25b39d1c6",
      "metadata": {
        "id": "97d8192f-2eb2-4fa8-ad97-e4c25b39d1c6"
      },
      "source": [
        "``` R\n",
        "위 코드 풀이:\n",
        "i = 1 일 때\n",
        "j = 1,2,3,4,5\n",
        "에 대한 if문 실행\n",
        "i = 2 일 때\n",
        "j = 2,3,4,5\n",
        "if문\n",
        "i = 3 일 때\n",
        "j = 3,4,5\n",
        "if문\n",
        "i = 4 일 때\n",
        "j = 4,5\n",
        "if문\n",
        "i = 5 일 때\n",
        "j = 5\n",
        "if문\n",
        "\n",
        ": 조건을 j에 대한 for문에 적용시켰고 보다 간결해짐\n",
        "```"
      ]
    },
    {
      "cell_type": "markdown",
      "id": "34583b67-ac34-4b30-8ea6-3347a6f3f529",
      "metadata": {
        "jp-MarkdownHeadingCollapsed": true,
        "tags": [],
        "id": "34583b67-ac34-4b30-8ea6-3347a6f3f529"
      },
      "source": [
        "### 풀이3 ~ 풀이5: 매트릭스를 사용한 풀이"
      ]
    },
    {
      "cell_type": "markdown",
      "id": "874d6dc2-c260-44e4-b04b-bbeba43ebb5f",
      "metadata": {
        "tags": [],
        "id": "874d6dc2-c260-44e4-b04b-bbeba43ebb5f"
      },
      "source": [
        "#### 풀이 3"
      ]
    },
    {
      "cell_type": "code",
      "execution_count": null,
      "id": "9a5fe96f-d098-4fd3-8b90-c9c62dafa0fe",
      "metadata": {
        "id": "9a5fe96f-d098-4fd3-8b90-c9c62dafa0fe",
        "outputId": "8ddc1352-5f55-45b3-c885-debf82c2df69"
      },
      "outputs": [
        {
          "data": {
            "text/plain": [
              " [1] 0 0 0 0 0 0 0 0 0 0 0 0 0 0 0 0 0 0 0 0 0 0 0 0 0 0 0 0 0 0 0 0 0 0 0 0 0 0\n",
              "[39] 0 0 0 0 0 0 0 0 0 0 0 0"
            ]
          },
          "metadata": {},
          "output_type": "display_data"
        }
      ],
      "source": [
        "rep(0,25*2) # 0을 25*2개 리턴"
      ]
    },
    {
      "cell_type": "code",
      "execution_count": null,
      "id": "d45086dc-c35f-4832-a4f8-a719c5affaf4",
      "metadata": {
        "id": "d45086dc-c35f-4832-a4f8-a719c5affaf4",
        "outputId": "1be9d544-fcdc-40bf-aba7-3281e645fed1"
      },
      "outputs": [
        {
          "data": {
            "text/plain": [
              "      [,1] [,2]\n",
              " [1,] 0    0   \n",
              " [2,] 0    0   \n",
              " [3,] 0    0   \n",
              " [4,] 0    0   \n",
              " [5,] 0    0   \n",
              " [6,] 0    0   \n",
              " [7,] 0    0   \n",
              " [8,] 0    0   \n",
              " [9,] 0    0   \n",
              "[10,] 0    0   \n",
              "[11,] 0    0   \n",
              "[12,] 0    0   \n",
              "[13,] 0    0   \n",
              "[14,] 0    0   \n",
              "[15,] 0    0   \n",
              "[16,] 0    0   \n",
              "[17,] 0    0   \n",
              "[18,] 0    0   \n",
              "[19,] 0    0   \n",
              "[20,] 0    0   \n",
              "[21,] 0    0   \n",
              "[22,] 0    0   \n",
              "[23,] 0    0   \n",
              "[24,] 0    0   \n",
              "[25,] 0    0   "
            ]
          },
          "metadata": {},
          "output_type": "display_data"
        }
      ],
      "source": [
        "a <- c(1,3,2,3,2)\n",
        "A = rep(0,25*2)\n",
        "dim(A) <- c(25,2)\n",
        "A"
      ]
    },
    {
      "cell_type": "markdown",
      "id": "2e85ae64-a5bc-470e-bb7e-38ec20bd752c",
      "metadata": {
        "id": "2e85ae64-a5bc-470e-bb7e-38ec20bd752c"
      },
      "source": [
        "- 25 × 2 행렬을 만듦"
      ]
    },
    {
      "cell_type": "code",
      "execution_count": null,
      "id": "c7c8c584-e956-47f8-97c3-a279e63d07c4",
      "metadata": {
        "id": "c7c8c584-e956-47f8-97c3-a279e63d07c4"
      },
      "outputs": [],
      "source": [
        "k=1\n",
        "for (i in 1:5){\n",
        "    for (j in 1:5){\n",
        "        A[k,] <- c(a[i],a[j])\n",
        "        k=k+1\n",
        "    }\n",
        "}"
      ]
    },
    {
      "cell_type": "code",
      "execution_count": null,
      "id": "4801ed5e-c952-4526-98cd-d244f0057f9c",
      "metadata": {
        "id": "4801ed5e-c952-4526-98cd-d244f0057f9c",
        "outputId": "03a2228b-560f-4671-c6d7-38b3e99169a3"
      },
      "outputs": [
        {
          "data": {
            "text/plain": [
              "      [,1] [,2]\n",
              " [1,] 1    1   \n",
              " [2,] 1    3   \n",
              " [3,] 1    2   \n",
              " [4,] 1    3   \n",
              " [5,] 1    2   \n",
              " [6,] 3    1   \n",
              " [7,] 3    3   \n",
              " [8,] 3    2   \n",
              " [9,] 3    3   \n",
              "[10,] 3    2   \n",
              "[11,] 2    1   \n",
              "[12,] 2    3   \n",
              "[13,] 2    2   \n",
              "[14,] 2    3   \n",
              "[15,] 2    2   \n",
              "[16,] 3    1   \n",
              "[17,] 3    3   \n",
              "[18,] 3    2   \n",
              "[19,] 3    3   \n",
              "[20,] 3    2   \n",
              "[21,] 2    1   \n",
              "[22,] 2    3   \n",
              "[23,] 2    2   \n",
              "[24,] 2    3   \n",
              "[25,] 2    2   "
            ]
          },
          "metadata": {},
          "output_type": "display_data"
        }
      ],
      "source": [
        "A"
      ]
    },
    {
      "cell_type": "code",
      "execution_count": null,
      "id": "42202496-7dc1-41a1-a6ff-b472865c0feb",
      "metadata": {
        "id": "42202496-7dc1-41a1-a6ff-b472865c0feb",
        "outputId": "769f8a12-0b15-4718-9344-9b36fd720972"
      },
      "outputs": [
        {
          "data": {
            "text/plain": [
              "[1] 1 1"
            ]
          },
          "metadata": {},
          "output_type": "display_data"
        },
        {
          "data": {
            "text/plain": [
              "[1] 1 3"
            ]
          },
          "metadata": {},
          "output_type": "display_data"
        },
        {
          "data": {
            "text/plain": [
              "[1] 1 2"
            ]
          },
          "metadata": {},
          "output_type": "display_data"
        },
        {
          "data": {
            "text/plain": [
              "[1] 3 2"
            ]
          },
          "metadata": {},
          "output_type": "display_data"
        },
        {
          "data": {
            "text/plain": [
              "[1] 2 2"
            ]
          },
          "metadata": {},
          "output_type": "display_data"
        }
      ],
      "source": [
        "A[1,]\n",
        "A[2,]\n",
        "A[5,]\n",
        "A[20,]\n",
        "k=23\n",
        "A[k,]"
      ]
    },
    {
      "cell_type": "markdown",
      "id": "e2ae7f43-58ac-4c80-b74f-470df4f31525",
      "metadata": {
        "id": "e2ae7f43-58ac-4c80-b74f-470df4f31525"
      },
      "source": [
        "``` R\n",
        "k=1\n",
        "for (i in 1:5){\n",
        "    for (j in 1:5){\n",
        "        A[k,] <- c(a[i],a[j])\n",
        "        k=k+1\n",
        "    }\n",
        "}\n",
        "\n",
        "코드 풀이: \n",
        "1. A[k,]: k값에 해당하는 행을 출력\n",
        "2. A[k,] <- c(3,2): k값에 해당하는 행에 c(3,2)를 입력\n",
        "3. i가 1일 때 j는 1,2,3,4,5의 값을 a[i],a[j]에 입력하여 백터화하여 A[k,]에 입력\n",
        "i가 2일 때 j는 1,2,3,4,5의 값을 a[i],a[j]에 입력하여 백터화하여 A[k,]에 입력위와 동일하게 입력\n",
        "i가 3,4,5일 때도 동일\n",
        "4. k=k+1:(처음에 k=1으로 입력했기 때문에 A[k,]는 첫번째 행이고) 반복을 한 번 실행할 때마다 k값이 1씩 커짐 \n",
        "-> A[1,], A[2,], A[3,], ... , A[25,]로 모든 행에 위 3.의 입력을 실행\n",
        "```"
      ]
    },
    {
      "cell_type": "code",
      "execution_count": null,
      "id": "08cc1c10-f4a0-4013-b095-a8d23edb958f",
      "metadata": {
        "id": "08cc1c10-f4a0-4013-b095-a8d23edb958f",
        "outputId": "f38f70cf-a8bd-404c-c856-c70f69590994"
      },
      "outputs": [
        {
          "data": {
            "text/plain": [
              "      [,1] [,2]\n",
              " [1,] 1    1   \n",
              " [2,] 1    3   \n",
              " [3,] 1    2   \n",
              " [4,] 1    3   \n",
              " [5,] 1    2   \n",
              " [6,] 3    1   \n",
              " [7,] 3    3   \n",
              " [8,] 3    2   \n",
              " [9,] 3    3   \n",
              "[10,] 3    2   \n",
              "[11,] 2    1   \n",
              "[12,] 2    3   \n",
              "[13,] 2    2   \n",
              "[14,] 2    3   \n",
              "[15,] 2    2   \n",
              "[16,] 3    1   \n",
              "[17,] 3    3   \n",
              "[18,] 3    2   \n",
              "[19,] 3    3   \n",
              "[20,] 3    2   \n",
              "[21,] 2    1   \n",
              "[22,] 2    3   \n",
              "[23,] 2    2   \n",
              "[24,] 2    3   \n",
              "[25,] 2    2   "
            ]
          },
          "metadata": {},
          "output_type": "display_data"
        }
      ],
      "source": [
        "A"
      ]
    },
    {
      "cell_type": "markdown",
      "id": "e9ec805b-acfa-4bf9-9fd1-fd5c7f600a49",
      "metadata": {
        "id": "e9ec805b-acfa-4bf9-9fd1-fd5c7f600a49"
      },
      "source": [
        "- 여기까지 하면 조건을 걸어두지 않은 상태   "
      ]
    },
    {
      "cell_type": "markdown",
      "id": "66f6d297-1c4c-4f58-bec4-6993e340c34c",
      "metadata": {
        "id": "66f6d297-1c4c-4f58-bec4-6993e340c34c"
      },
      "source": [
        "`-` $1)$ 같은 무게를 뽑지 않고    $2)$ 중복되는 경우 제외   \n",
        "위 두 조건을 설정해야 함"
      ]
    },
    {
      "cell_type": "code",
      "execution_count": null,
      "id": "4572845e-9634-4182-ac61-035bef0dec8d",
      "metadata": {
        "id": "4572845e-9634-4182-ac61-035bef0dec8d"
      },
      "outputs": [],
      "source": [
        "vec1 <- c()\n",
        "for (i in 1:25){\n",
        "    vec1[i] <- A[i,1] != A[i,2]\n",
        "}"
      ]
    },
    {
      "cell_type": "code",
      "execution_count": null,
      "id": "391958c1-d6f9-4bb9-a3ae-41a730193803",
      "metadata": {
        "id": "391958c1-d6f9-4bb9-a3ae-41a730193803",
        "outputId": "8220ce32-47db-4d16-c7c5-26ac526a45af"
      },
      "outputs": [
        {
          "data": {
            "text/plain": [
              " [1] FALSE  TRUE  TRUE  TRUE  TRUE  TRUE FALSE  TRUE FALSE  TRUE  TRUE  TRUE\n",
              "[13] FALSE  TRUE FALSE  TRUE FALSE  TRUE FALSE  TRUE  TRUE  TRUE FALSE  TRUE\n",
              "[25] FALSE"
            ]
          },
          "metadata": {},
          "output_type": "display_data"
        }
      ],
      "source": [
        "vec1"
      ]
    },
    {
      "cell_type": "markdown",
      "id": "1428dcf1-be8f-4188-a2e2-4fc5ed3cc9b5",
      "metadata": {
        "id": "1428dcf1-be8f-4188-a2e2-4fc5ed3cc9b5"
      },
      "source": [
        "`-` 1"
      ]
    },
    {
      "cell_type": "code",
      "execution_count": null,
      "id": "d8e42f05-68a3-49b3-b06d-bd5498cd7b79",
      "metadata": {
        "id": "d8e42f05-68a3-49b3-b06d-bd5498cd7b79"
      },
      "outputs": [],
      "source": [
        "vec2 <- c()\n",
        "k=1\n",
        "for (i in 1:5){\n",
        "    for (j in 1:5){\n",
        "        vec2[k] <- (i<j)\n",
        "        k=k+1\n",
        "    }\n",
        "}"
      ]
    },
    {
      "cell_type": "code",
      "execution_count": null,
      "id": "62dcddcb-6351-4585-b326-de7931d1b17b",
      "metadata": {
        "id": "62dcddcb-6351-4585-b326-de7931d1b17b",
        "outputId": "fc3683a0-a074-4838-e1fb-b2088d5d64ae"
      },
      "outputs": [
        {
          "data": {
            "text/plain": [
              " [1] FALSE  TRUE  TRUE  TRUE  TRUE FALSE FALSE  TRUE  TRUE  TRUE FALSE FALSE\n",
              "[13] FALSE  TRUE  TRUE FALSE FALSE FALSE FALSE  TRUE FALSE FALSE FALSE FALSE\n",
              "[25] FALSE"
            ]
          },
          "metadata": {},
          "output_type": "display_data"
        }
      ],
      "source": [
        "vec2"
      ]
    },
    {
      "cell_type": "code",
      "execution_count": null,
      "id": "44921006-4f7e-45e8-9dde-71d48aa4636b",
      "metadata": {
        "id": "44921006-4f7e-45e8-9dde-71d48aa4636b",
        "outputId": "7d084aee-d93b-426e-a5a4-50eb87e524de"
      },
      "outputs": [
        {
          "data": {
            "text/plain": [
              "[1] 8"
            ]
          },
          "metadata": {},
          "output_type": "display_data"
        }
      ],
      "source": [
        "sum(vec1 & vec2)"
      ]
    },
    {
      "cell_type": "markdown",
      "id": "5187ca5f-f474-4e09-8ab1-434c9d2eca71",
      "metadata": {
        "id": "5187ca5f-f474-4e09-8ab1-434c9d2eca71"
      },
      "source": [
        "`-` 2"
      ]
    },
    {
      "cell_type": "code",
      "execution_count": null,
      "id": "50468c18-cc1b-45ad-9a93-1d5fbd72b2f7",
      "metadata": {
        "id": "50468c18-cc1b-45ad-9a93-1d5fbd72b2f7"
      },
      "outputs": [],
      "source": [
        "vec2 <- c()\n",
        "for (i in 1:25){\n",
        "    vec2[i] <- A[i,1] < A[i,2]\n",
        "}"
      ]
    },
    {
      "cell_type": "code",
      "execution_count": null,
      "id": "49fd0777-1950-41ad-bb3f-0391cf4d8c28",
      "metadata": {
        "id": "49fd0777-1950-41ad-bb3f-0391cf4d8c28",
        "outputId": "d70a6247-0fcb-4086-f738-9a02e752bc15"
      },
      "outputs": [
        {
          "data": {
            "text/plain": [
              " [1] FALSE  TRUE  TRUE  TRUE  TRUE FALSE FALSE FALSE FALSE FALSE FALSE  TRUE\n",
              "[13] FALSE  TRUE FALSE FALSE FALSE FALSE FALSE FALSE FALSE  TRUE FALSE  TRUE\n",
              "[25] FALSE"
            ]
          },
          "metadata": {},
          "output_type": "display_data"
        }
      ],
      "source": [
        "vec2"
      ]
    },
    {
      "cell_type": "code",
      "execution_count": null,
      "id": "dfe8ae6a-af01-4224-947b-4ccbab8dff2d",
      "metadata": {
        "id": "dfe8ae6a-af01-4224-947b-4ccbab8dff2d",
        "outputId": "44ad0bc1-9666-49cf-8276-35f35a2a3913"
      },
      "outputs": [
        {
          "data": {
            "text/plain": [
              "[1] 8"
            ]
          },
          "metadata": {},
          "output_type": "display_data"
        }
      ],
      "source": [
        "sum(vec1 & vec2)"
      ]
    },
    {
      "cell_type": "markdown",
      "id": "1ea99a73-2d31-4c26-9230-69e2e54349a8",
      "metadata": {
        "id": "1ea99a73-2d31-4c26-9230-69e2e54349a8"
      },
      "source": [
        "`-` 위 코드를 간결하게 정리하면 아래와 같음"
      ]
    },
    {
      "cell_type": "code",
      "execution_count": null,
      "id": "86790d0d-1e62-4cb7-bdb5-184a43f6b519",
      "metadata": {
        "id": "86790d0d-1e62-4cb7-bdb5-184a43f6b519"
      },
      "outputs": [],
      "source": [
        "vec1 <- c()\n",
        "vec2 <- c()\n",
        "for (k in 1:25){\n",
        "    vec1[k] <- A[k,1] != A[k,2]     # vec1가 아닌 vec1[k]를 입력\n",
        "    vec2[k] <- A[k,1] < A[k,2]      # 마찬가지로 vec2가 아닌 vec2[k]를 입력\n",
        "}"
      ]
    },
    {
      "cell_type": "code",
      "execution_count": null,
      "id": "9f54a53c-9cd5-4dc5-bace-dd87243e868e",
      "metadata": {
        "id": "9f54a53c-9cd5-4dc5-bace-dd87243e868e",
        "outputId": "41b76a2d-e81a-49df-a4d4-e6b39fec940c"
      },
      "outputs": [
        {
          "data": {
            "text/plain": [
              " [1] FALSE  TRUE  TRUE  TRUE  TRUE  TRUE FALSE  TRUE FALSE  TRUE  TRUE  TRUE\n",
              "[13] FALSE  TRUE FALSE  TRUE FALSE  TRUE FALSE  TRUE  TRUE  TRUE FALSE  TRUE\n",
              "[25] FALSE"
            ]
          },
          "metadata": {},
          "output_type": "display_data"
        }
      ],
      "source": [
        "vec1"
      ]
    },
    {
      "cell_type": "code",
      "execution_count": null,
      "id": "166f4916-68f9-4c0c-933e-fdc3df36aa61",
      "metadata": {
        "id": "166f4916-68f9-4c0c-933e-fdc3df36aa61",
        "outputId": "0304ecfd-ab25-4c4b-817e-4e481b387694"
      },
      "outputs": [
        {
          "data": {
            "text/plain": [
              " [1] FALSE  TRUE  TRUE  TRUE  TRUE FALSE FALSE FALSE FALSE FALSE FALSE  TRUE\n",
              "[13] FALSE  TRUE FALSE FALSE FALSE FALSE FALSE FALSE FALSE  TRUE FALSE  TRUE\n",
              "[25] FALSE"
            ]
          },
          "metadata": {},
          "output_type": "display_data"
        }
      ],
      "source": [
        "vec2"
      ]
    },
    {
      "cell_type": "code",
      "execution_count": null,
      "id": "f8dac15e-eaf7-4e26-8b2c-16d74e389a9f",
      "metadata": {
        "id": "f8dac15e-eaf7-4e26-8b2c-16d74e389a9f",
        "outputId": "202d121e-37b3-4d02-f9d0-136b742a11a7"
      },
      "outputs": [
        {
          "data": {
            "text/plain": [
              "[1] 8"
            ]
          },
          "metadata": {},
          "output_type": "display_data"
        }
      ],
      "source": [
        "sum(vec1 & vec2)"
      ]
    },
    {
      "cell_type": "markdown",
      "id": "258fb67e-f779-4a47-8d37-4e50e8750314",
      "metadata": {
        "tags": [],
        "id": "258fb67e-f779-4a47-8d37-4e50e8750314"
      },
      "source": [
        "#### 풀이4"
      ]
    },
    {
      "cell_type": "markdown",
      "source": [
        ": 굳이 vec1, vec2를 for문 을 통해 구할 필요가 없음"
      ],
      "metadata": {
        "id": "YSPhihknszvJ"
      },
      "id": "YSPhihknszvJ"
    },
    {
      "cell_type": "code",
      "execution_count": null,
      "id": "2945c543-90c2-47ea-9b9b-c5df11a372fb",
      "metadata": {
        "id": "2945c543-90c2-47ea-9b9b-c5df11a372fb",
        "outputId": "4a9b3129-fe50-438f-d523-f314b51f13ca"
      },
      "outputs": [
        {
          "data": {
            "text/plain": [
              "      [,1] [,2]\n",
              " [1,] 1    1   \n",
              " [2,] 1    3   \n",
              " [3,] 1    2   \n",
              " [4,] 1    3   \n",
              " [5,] 1    2   \n",
              " [6,] 3    1   \n",
              " [7,] 3    3   \n",
              " [8,] 3    2   \n",
              " [9,] 3    3   \n",
              "[10,] 3    2   \n",
              "[11,] 2    1   \n",
              "[12,] 2    3   \n",
              "[13,] 2    2   \n",
              "[14,] 2    3   \n",
              "[15,] 2    2   \n",
              "[16,] 3    1   \n",
              "[17,] 3    3   \n",
              "[18,] 3    2   \n",
              "[19,] 3    3   \n",
              "[20,] 3    2   \n",
              "[21,] 2    1   \n",
              "[22,] 2    3   \n",
              "[23,] 2    2   \n",
              "[24,] 2    3   \n",
              "[25,] 2    2   "
            ]
          },
          "metadata": {},
          "output_type": "display_data"
        }
      ],
      "source": [
        "a = c(1,3,2,3,2)\n",
        "A = rep(0,25*2)\n",
        "dim(A) <- c(25,2)\n",
        "k=1\n",
        "for (i in 1:5){\n",
        "    for (j in 1:5){\n",
        "        A[k,] <- c(a[i],a[j])\n",
        "        k=k+1\n",
        "    }\n",
        "}\n",
        "A"
      ]
    },
    {
      "cell_type": "code",
      "execution_count": null,
      "id": "c61d0acf-07c5-446d-8b2f-cc9760d0d81d",
      "metadata": {
        "id": "c61d0acf-07c5-446d-8b2f-cc9760d0d81d",
        "outputId": "2d78e041-92a1-4d00-ebc3-939ef4b3f27d"
      },
      "outputs": [
        {
          "data": {
            "text/plain": [
              " [1] FALSE  TRUE  TRUE  TRUE  TRUE  TRUE FALSE  TRUE FALSE  TRUE  TRUE  TRUE\n",
              "[13] FALSE  TRUE FALSE  TRUE FALSE  TRUE FALSE  TRUE  TRUE  TRUE FALSE  TRUE\n",
              "[25] FALSE"
            ]
          },
          "metadata": {},
          "output_type": "display_data"
        }
      ],
      "source": [
        "vec1 <- A[,1] != A[,2]\n",
        "vec1"
      ]
    },
    {
      "cell_type": "code",
      "execution_count": null,
      "id": "10b31ace-12a5-494d-bfaf-3463ee2961da",
      "metadata": {
        "id": "10b31ace-12a5-494d-bfaf-3463ee2961da",
        "outputId": "a88143bf-a573-4003-dcf9-57d4076b2604"
      },
      "outputs": [
        {
          "data": {
            "text/plain": [
              " [1] FALSE  TRUE  TRUE  TRUE  TRUE FALSE FALSE FALSE FALSE FALSE FALSE  TRUE\n",
              "[13] FALSE  TRUE FALSE FALSE FALSE FALSE FALSE FALSE FALSE  TRUE FALSE  TRUE\n",
              "[25] FALSE"
            ]
          },
          "metadata": {},
          "output_type": "display_data"
        }
      ],
      "source": [
        "vec2 <- A[,1] < A[,2]\n",
        "vec2"
      ]
    },
    {
      "cell_type": "code",
      "execution_count": null,
      "id": "750acad8-0d48-465f-959f-f923f66bd522",
      "metadata": {
        "id": "750acad8-0d48-465f-959f-f923f66bd522",
        "outputId": "4635da07-cd89-4f1c-c2e8-5a4fc2c90ecf"
      },
      "outputs": [
        {
          "data": {
            "text/plain": [
              "[1] 8"
            ]
          },
          "metadata": {},
          "output_type": "display_data"
        }
      ],
      "source": [
        "sum(vec1 & vec2)"
      ]
    },
    {
      "cell_type": "markdown",
      "id": "d60a3ea3-6c26-4503-baa5-593976513a1d",
      "metadata": {
        "tags": [],
        "id": "d60a3ea3-6c26-4503-baa5-593976513a1d"
      },
      "source": [
        "#### 풀이5"
      ]
    },
    {
      "cell_type": "markdown",
      "source": [
        ": 생각해보니, $2)$ 중복되는 경우 제외 이 성립하면 $1)$ 같은 무게를 뽑지 않고 또한 성립하게 된다. 왜냐하면, $A[,1] < A[,2]$에는 $A[,1] ≠ A[,2]$이 포함되어 있기 때문(작으면 같을 수 없기 때문)"
      ],
      "metadata": {
        "id": "btiY33_MsxHC"
      },
      "id": "btiY33_MsxHC"
    },
    {
      "cell_type": "code",
      "execution_count": null,
      "id": "bb5a4a57-9e2e-440d-905c-53863cba66d5",
      "metadata": {
        "id": "bb5a4a57-9e2e-440d-905c-53863cba66d5",
        "outputId": "e1ad96e5-9a77-4747-b838-f8a68064714b"
      },
      "outputs": [
        {
          "data": {
            "text/plain": [
              "      [,1] [,2]\n",
              " [1,] 1    1   \n",
              " [2,] 1    3   \n",
              " [3,] 1    2   \n",
              " [4,] 1    3   \n",
              " [5,] 1    2   \n",
              " [6,] 3    1   \n",
              " [7,] 3    3   \n",
              " [8,] 3    2   \n",
              " [9,] 3    3   \n",
              "[10,] 3    2   \n",
              "[11,] 2    1   \n",
              "[12,] 2    3   \n",
              "[13,] 2    2   \n",
              "[14,] 2    3   \n",
              "[15,] 2    2   \n",
              "[16,] 3    1   \n",
              "[17,] 3    3   \n",
              "[18,] 3    2   \n",
              "[19,] 3    3   \n",
              "[20,] 3    2   \n",
              "[21,] 2    1   \n",
              "[22,] 2    3   \n",
              "[23,] 2    2   \n",
              "[24,] 2    3   \n",
              "[25,] 2    2   "
            ]
          },
          "metadata": {},
          "output_type": "display_data"
        }
      ],
      "source": [
        "a <- c(1,3,2,3,2)\n",
        "A <- rep(0,25*2)\n",
        "dim(A) <- c(25,2)\n",
        "k=1\n",
        "for (i in 1:5){\n",
        "    for (j in 1:5){\n",
        "        A[k,] <- c(a[i],a[j])\n",
        "        k=k+1\n",
        "    }\n",
        "}\n",
        "A"
      ]
    },
    {
      "cell_type": "code",
      "execution_count": null,
      "id": "e2d6b23f-b6fd-43f7-907f-1aa6c7721aca",
      "metadata": {
        "id": "e2d6b23f-b6fd-43f7-907f-1aa6c7721aca"
      },
      "outputs": [],
      "source": [
        "vec2 <- A[,1] < A[,2]"
      ]
    },
    {
      "cell_type": "code",
      "execution_count": null,
      "id": "1c65c51b-468f-4511-a79d-d0cb9e35f950",
      "metadata": {
        "id": "1c65c51b-468f-4511-a79d-d0cb9e35f950",
        "outputId": "2fd54c85-2f0c-43f7-b7d5-259de8343fcb"
      },
      "outputs": [
        {
          "data": {
            "text/plain": [
              " [1] FALSE  TRUE  TRUE  TRUE  TRUE FALSE FALSE FALSE FALSE FALSE FALSE  TRUE\n",
              "[13] FALSE  TRUE FALSE FALSE FALSE FALSE FALSE FALSE FALSE  TRUE FALSE  TRUE\n",
              "[25] FALSE"
            ]
          },
          "metadata": {},
          "output_type": "display_data"
        }
      ],
      "source": [
        "vec2"
      ]
    },
    {
      "cell_type": "code",
      "execution_count": null,
      "id": "8f0ffd01-6761-4bf8-a7e3-a08ce8023270",
      "metadata": {
        "id": "8f0ffd01-6761-4bf8-a7e3-a08ce8023270",
        "outputId": "fd1f83d0-6c8a-41c9-b1c7-db3a003403f8"
      },
      "outputs": [
        {
          "data": {
            "text/plain": [
              "[1] 8"
            ]
          },
          "metadata": {},
          "output_type": "display_data"
        }
      ],
      "source": [
        "sum(vec2)"
      ]
    },
    {
      "cell_type": "code",
      "execution_count": null,
      "id": "d1746ac4-e8a9-46ee-8f3b-c3673b73e2f4",
      "metadata": {
        "id": "d1746ac4-e8a9-46ee-8f3b-c3673b73e2f4",
        "outputId": "53d30881-29bd-43e3-dcae-657b1d7ba6c1"
      },
      "outputs": [
        {
          "data": {
            "text/plain": [
              "[1] 8"
            ]
          },
          "metadata": {},
          "output_type": "display_data"
        }
      ],
      "source": [
        "sum(A[,1] < A[,2])"
      ]
    },
    {
      "cell_type": "markdown",
      "id": "cc34ac7a-5e89-46cd-8b32-adb1e6a2058c",
      "metadata": {
        "id": "cc34ac7a-5e89-46cd-8b32-adb1e6a2058c"
      },
      "source": [
        "**`-` 풀이2가 가장 간결하고 루프도 적게 돌아가지만 틀리기 쉬운 코드이다. 즉 디버깅(오류수정)이 어려워 예외사항을 처리하기 힘들 수 있다.(코딩테스트에서는 예외사항을 잘 처리해야 하는 문제가 자주 출제되곤 하니 디버깅에 용이한 풀이법으로 익히는 것이 좋다.)**"
      ]
    },
    {
      "cell_type": "markdown",
      "id": "bcaec83d-4634-48ce-baa1-44c8656c4d3f",
      "metadata": {
        "jp-MarkdownHeadingCollapsed": true,
        "tags": [],
        "id": "bcaec83d-4634-48ce-baa1-44c8656c4d3f"
      },
      "source": [
        "### 풀이6 ~ 풀이8"
      ]
    },
    {
      "cell_type": "markdown",
      "id": "da299336-7a76-4380-99b1-30c08e3ce204",
      "metadata": {
        "id": "da299336-7a76-4380-99b1-30c08e3ce204"
      },
      "source": [
        "`풀이6:` 데이터프레임 활용 $\\to$ 사용하기 쉽고 확장성이 좋음   \n",
        "`풀이7,8:` 코드가 간결하나, 에러가 발생할 수 있음"
      ]
    },
    {
      "cell_type": "markdown",
      "id": "0de70c82-a1e7-4502-a0e4-e0375375ee99",
      "metadata": {
        "tags": [],
        "id": "0de70c82-a1e7-4502-a0e4-e0375375ee99"
      },
      "source": [
        "#### 풀이6"
      ]
    },
    {
      "cell_type": "markdown",
      "source": [
        ": A를 구해주는 함수인 `expand.grid()`이용(R에 내장)"
      ],
      "metadata": {
        "id": "l49Ov_datCcT"
      },
      "id": "l49Ov_datCcT"
    },
    {
      "cell_type": "markdown",
      "id": "38eecc23-52c7-4e33-a611-5e25937dca33",
      "metadata": {
        "id": "38eecc23-52c7-4e33-a611-5e25937dca33"
      },
      "source": [
        "`expand.grid():` 벡터를 입력으로 받아 그 벡터의 원소가 만들어내는 순서쌍 조합을 데이터프레임 형태로 반환하는 기능을 하는 함수   \n",
        "`mutate():` 데이터프레임에서만 쓸수 있는 함수로 새로운 열을 만들어내는 기능을 한다. 특히, 기존에 있는 컬럼을 활용한 파생되는 컬럼을 만들 수 있는 장점이 있다.   \n",
        "`filter():` 데이터프레임에서 특정조건을 만족하는 행을 필터링하는 기능을 한다.   \n",
        "`count():` 데이터프레임에서 행의 숫자를 세어주는 기능을 한다. 이는 데이터프레임 형태로 반환하는 불편함이 있다.(숫자가 하나이기 때문)   \n",
        "`as.numeric():` 숫자로 변환해주는 기능을 한다."
      ]
    },
    {
      "cell_type": "code",
      "execution_count": null,
      "id": "036a0a47-0fa0-4332-8dcc-ac9ef883b530",
      "metadata": {
        "id": "036a0a47-0fa0-4332-8dcc-ac9ef883b530"
      },
      "outputs": [],
      "source": [
        "# library(tidyverse)"
      ]
    },
    {
      "cell_type": "code",
      "execution_count": null,
      "id": "6e815327-c8fc-46d4-89bf-7f087264571e",
      "metadata": {
        "id": "6e815327-c8fc-46d4-89bf-7f087264571e",
        "outputId": "d4588fea-b177-4fde-e358-06f6d88cce6b"
      },
      "outputs": [
        {
          "data": {
            "text/plain": [
              "[1] 1 3 2 3 2"
            ]
          },
          "metadata": {},
          "output_type": "display_data"
        }
      ],
      "source": [
        "a <- c(1,3,2,3,2)\n",
        "a"
      ]
    },
    {
      "cell_type": "code",
      "execution_count": null,
      "id": "39851074-9293-4f3a-b2fe-02acb9d201e6",
      "metadata": {
        "id": "39851074-9293-4f3a-b2fe-02acb9d201e6",
        "outputId": "cce2a978-0e82-4226-df86-d4426ff1296f"
      },
      "outputs": [
        {
          "data": {
            "text/plain": [
              "   Var1 Var2\n",
              "1  1    1   \n",
              "2  3    1   \n",
              "3  2    1   \n",
              "4  3    1   \n",
              "5  2    1   \n",
              "6  1    3   \n",
              "7  3    3   \n",
              "8  2    3   \n",
              "9  3    3   \n",
              "10 2    3   \n",
              "11 1    2   \n",
              "12 3    2   \n",
              "13 2    2   \n",
              "14 3    2   \n",
              "15 2    2   \n",
              "16 1    3   \n",
              "17 3    3   \n",
              "18 2    3   \n",
              "19 3    3   \n",
              "20 2    3   \n",
              "21 1    2   \n",
              "22 3    2   \n",
              "23 2    2   \n",
              "24 3    2   \n",
              "25 2    2   "
            ]
          },
          "metadata": {},
          "output_type": "display_data"
        }
      ],
      "source": [
        "A = expand.grid(a,a)\n",
        "A"
      ]
    },
    {
      "cell_type": "markdown",
      "id": "d670369d-b5f7-4dc9-a167-22ea7e934db9",
      "metadata": {
        "id": "d670369d-b5f7-4dc9-a167-22ea7e934db9"
      },
      "source": [
        "- A는 풀이 3~5에서 다루었던 메트릭스 형태가 아니고 dataframe 형태임"
      ]
    },
    {
      "cell_type": "code",
      "execution_count": null,
      "id": "0c2dd5e2-2197-4e41-ac82-93124bebe07d",
      "metadata": {
        "id": "0c2dd5e2-2197-4e41-ac82-93124bebe07d",
        "outputId": "dd70195c-b58d-4eb8-d1aa-5b909e0443de"
      },
      "outputs": [
        {
          "data": {
            "text/plain": [
              "   Var1 Var2 C    \n",
              "1  1    1    FALSE\n",
              "2  3    1     TRUE\n",
              "3  2    1     TRUE\n",
              "4  3    1     TRUE\n",
              "5  2    1     TRUE\n",
              "6  1    3    FALSE\n",
              "7  3    3    FALSE\n",
              "8  2    3    FALSE\n",
              "9  3    3    FALSE\n",
              "10 2    3    FALSE\n",
              "11 1    2    FALSE\n",
              "12 3    2     TRUE\n",
              "13 2    2    FALSE\n",
              "14 3    2     TRUE\n",
              "15 2    2    FALSE\n",
              "16 1    3    FALSE\n",
              "17 3    3    FALSE\n",
              "18 2    3    FALSE\n",
              "19 3    3    FALSE\n",
              "20 2    3    FALSE\n",
              "21 1    2    FALSE\n",
              "22 3    2     TRUE\n",
              "23 2    2    FALSE\n",
              "24 3    2     TRUE\n",
              "25 2    2    FALSE"
            ]
          },
          "metadata": {},
          "output_type": "display_data"
        }
      ],
      "source": [
        "A %>% mutate(C= Var1 > Var2) # 조건2"
      ]
    },
    {
      "cell_type": "code",
      "execution_count": null,
      "id": "0bd3cccb-6911-4679-b3ee-76b841378c06",
      "metadata": {
        "id": "0bd3cccb-6911-4679-b3ee-76b841378c06",
        "outputId": "7c1524d7-b9d7-4848-fc1c-fb18c08d8da3"
      },
      "outputs": [
        {
          "data": {
            "text/plain": [
              "  Var1 Var2 C   \n",
              "1 3    1    TRUE\n",
              "2 2    1    TRUE\n",
              "3 3    1    TRUE\n",
              "4 2    1    TRUE\n",
              "5 3    2    TRUE\n",
              "6 3    2    TRUE\n",
              "7 3    2    TRUE\n",
              "8 3    2    TRUE"
            ]
          },
          "metadata": {},
          "output_type": "display_data"
        }
      ],
      "source": [
        "A %>% mutate(C= Var1 > Var2) %>% filter(C==TRUE) # 조건2를 만족하는 경우"
      ]
    },
    {
      "cell_type": "code",
      "execution_count": null,
      "id": "3aa07371-4183-4ad2-abfc-9df63692f9b5",
      "metadata": {
        "id": "3aa07371-4183-4ad2-abfc-9df63692f9b5",
        "outputId": "3453cab8-d4f1-4f96-9121-d64a935f9847"
      },
      "outputs": [
        {
          "data": {
            "text/plain": [
              "  n\n",
              "1 8"
            ]
          },
          "metadata": {},
          "output_type": "display_data"
        }
      ],
      "source": [
        "A %>% mutate(C= Var1 > Var2) %>% filter(C==TRUE) %>% count"
      ]
    },
    {
      "cell_type": "code",
      "execution_count": null,
      "id": "26adf001-6265-425e-ae83-8454eb18cdfe",
      "metadata": {
        "id": "26adf001-6265-425e-ae83-8454eb18cdfe",
        "outputId": "0cc27efb-ceb5-4441-c186-cc52e16b3a73"
      },
      "outputs": [
        {
          "data": {
            "text/plain": [
              "[1] 8"
            ]
          },
          "metadata": {},
          "output_type": "display_data"
        }
      ],
      "source": [
        "A %>% mutate(C= Var1 > Var2) %>% filter(C==TRUE) %>% count %>% as.numeric"
      ]
    },
    {
      "cell_type": "markdown",
      "id": "7a74f3a6-1293-4c43-b432-ee2f9eb6a4c4",
      "metadata": {
        "id": "7a74f3a6-1293-4c43-b432-ee2f9eb6a4c4"
      },
      "source": [
        "---"
      ]
    },
    {
      "cell_type": "markdown",
      "id": "e34c9148-dad4-4cd9-ba0e-3ad422009954",
      "metadata": {
        "tags": [],
        "id": "e34c9148-dad4-4cd9-ba0e-3ad422009954"
      },
      "source": [
        "`-` 열을 추출하는 방법"
      ]
    },
    {
      "cell_type": "code",
      "execution_count": null,
      "id": "81d81239-86bd-4202-87dd-2ef461827fdf",
      "metadata": {
        "id": "81d81239-86bd-4202-87dd-2ef461827fdf",
        "outputId": "84b313fc-98ed-4dc9-b15b-76bb8b79e761"
      },
      "outputs": [
        {
          "data": {
            "text/plain": [
              " [1] 1 3 2 3 2 1 3 2 3 2 1 3 2 3 2 1 3 2 3 2 1 3 2 3 2"
            ]
          },
          "metadata": {},
          "output_type": "display_data"
        }
      ],
      "source": [
        "A[,1]"
      ]
    },
    {
      "cell_type": "code",
      "execution_count": null,
      "id": "eaa31e47-038a-4838-abe4-1f9f9abdeb08",
      "metadata": {
        "id": "eaa31e47-038a-4838-abe4-1f9f9abdeb08",
        "outputId": "b6538aa8-0f80-468b-c290-37fde360a684"
      },
      "outputs": [
        {
          "data": {
            "text/plain": [
              "   Var1\n",
              "1  1   \n",
              "2  3   \n",
              "3  2   \n",
              "4  3   \n",
              "5  2   \n",
              "6  1   \n",
              "7  3   \n",
              "8  2   \n",
              "9  3   \n",
              "10 2   \n",
              "11 1   \n",
              "12 3   \n",
              "13 2   \n",
              "14 3   \n",
              "15 2   \n",
              "16 1   \n",
              "17 3   \n",
              "18 2   \n",
              "19 3   \n",
              "20 2   \n",
              "21 1   \n",
              "22 3   \n",
              "23 2   \n",
              "24 3   \n",
              "25 2   "
            ]
          },
          "metadata": {},
          "output_type": "display_data"
        }
      ],
      "source": [
        "A['Var1']"
      ]
    },
    {
      "cell_type": "code",
      "execution_count": null,
      "id": "3f794be0-ce26-427a-97b0-389647767289",
      "metadata": {
        "id": "3f794be0-ce26-427a-97b0-389647767289",
        "outputId": "503a4e71-622d-49ec-cc15-baeb29f6a650"
      },
      "outputs": [
        {
          "data": {
            "text/plain": [
              " [1] 1 3 2 3 2 1 3 2 3 2 1 3 2 3 2 1 3 2 3 2 1 3 2 3 2"
            ]
          },
          "metadata": {},
          "output_type": "display_data"
        }
      ],
      "source": [
        "A $ Var1"
      ]
    },
    {
      "cell_type": "markdown",
      "id": "7c9e38db-c84e-499a-aa48-1fecbb7dac99",
      "metadata": {
        "id": "7c9e38db-c84e-499a-aa48-1fecbb7dac99"
      },
      "source": [
        "---"
      ]
    },
    {
      "cell_type": "markdown",
      "id": "fb2cbf04-acb0-4e38-9d44-3a750d12d62f",
      "metadata": {
        "jp-MarkdownHeadingCollapsed": true,
        "tags": [],
        "id": "fb2cbf04-acb0-4e38-9d44-3a750d12d62f"
      },
      "source": [
        "#### 풀이7"
      ]
    },
    {
      "cell_type": "markdown",
      "id": "f1bc0538-e425-469a-82b1-34af9a159e38",
      "metadata": {
        "id": "f1bc0538-e425-469a-82b1-34af9a159e38"
      },
      "source": [
        "`%*% 연산자:` 메트릭스 간의 곱셈을 하는 기능   \n",
        "`upper.tri():` 행렬의 상단부에 위치한 원소들은 TRUE, 대각선과 하단부에 위치한 원소들은 FALSE를 취해주는 기능   \n",
        "`%in%:` 원소가 포함되어 있는지 확인하는 기능으로 포함되어 있으면 TRUE, 포함되어 있지 않으면 FALSE를 반환"
      ]
    },
    {
      "cell_type": "markdown",
      "id": "546b6044-fbf2-43cb-a19c-ba24a09c0f61",
      "metadata": {
        "id": "546b6044-fbf2-43cb-a19c-ba24a09c0f61"
      },
      "source": [
        "`%in% 예시(★★★)`"
      ]
    },
    {
      "cell_type": "code",
      "execution_count": null,
      "id": "edeede79-1b6b-4b64-9f9c-436de1dae713",
      "metadata": {
        "id": "edeede79-1b6b-4b64-9f9c-436de1dae713"
      },
      "outputs": [],
      "source": [
        "a_ <- c(6,6,7,9,1,2,3,8,5,5,5)"
      ]
    },
    {
      "cell_type": "code",
      "execution_count": null,
      "id": "fbf267e1-dc0b-4b11-9585-9a98e1e6d86e",
      "metadata": {
        "id": "fbf267e1-dc0b-4b11-9585-9a98e1e6d86e",
        "outputId": "415ec243-d93f-41e6-fd9d-d1a8548d5125"
      },
      "outputs": [
        {
          "data": {
            "text/plain": [
              " [1]  TRUE  TRUE FALSE FALSE FALSE FALSE FALSE FALSE  TRUE  TRUE  TRUE"
            ]
          },
          "metadata": {},
          "output_type": "display_data"
        }
      ],
      "source": [
        "a_ %in% c(5,6)"
      ]
    },
    {
      "cell_type": "code",
      "execution_count": null,
      "id": "1aa26b49-9939-42fd-bfe8-97693d2d393f",
      "metadata": {
        "id": "1aa26b49-9939-42fd-bfe8-97693d2d393f",
        "outputId": "fb2072d8-102a-4b12-924e-5761b5b573df"
      },
      "outputs": [
        {
          "data": {
            "text/plain": [
              "[1] 1 3 2 3 2"
            ]
          },
          "metadata": {},
          "output_type": "display_data"
        }
      ],
      "source": [
        "a <- c(1,3,2,3,2)\n",
        "a"
      ]
    },
    {
      "cell_type": "markdown",
      "id": "cdfc9525-85f5-40e9-9739-a23d3258d789",
      "metadata": {
        "id": "cdfc9525-85f5-40e9-9739-a23d3258d789"
      },
      "source": [
        "---"
      ]
    },
    {
      "cell_type": "code",
      "execution_count": null,
      "id": "b100529d-2891-4895-9baf-cc04555ea0bb",
      "metadata": {
        "id": "b100529d-2891-4895-9baf-cc04555ea0bb"
      },
      "outputs": [],
      "source": [
        "a1 <- a\n",
        "a2 <- a"
      ]
    },
    {
      "cell_type": "code",
      "execution_count": null,
      "id": "d6a45272-7d6f-4aa7-9233-caa8eee0ccee",
      "metadata": {
        "id": "d6a45272-7d6f-4aa7-9233-caa8eee0ccee"
      },
      "outputs": [],
      "source": [
        "dim(a1) <- c(5,1)\n",
        "dim(a2) <- c(1,5)"
      ]
    },
    {
      "cell_type": "code",
      "execution_count": null,
      "id": "5357ddca-c2ef-4797-827e-523d28ae02b7",
      "metadata": {
        "id": "5357ddca-c2ef-4797-827e-523d28ae02b7",
        "outputId": "d5c4a64d-66bd-4dfe-a316-c27cb56ac8f7"
      },
      "outputs": [
        {
          "data": {
            "text/plain": [
              "     [,1]\n",
              "[1,] 1   \n",
              "[2,] 3   \n",
              "[3,] 2   \n",
              "[4,] 3   \n",
              "[5,] 2   "
            ]
          },
          "metadata": {},
          "output_type": "display_data"
        }
      ],
      "source": [
        "a1 # 5×1 matrix"
      ]
    },
    {
      "cell_type": "code",
      "execution_count": null,
      "id": "252426fb-6a0f-421f-aeae-0657017fbf96",
      "metadata": {
        "id": "252426fb-6a0f-421f-aeae-0657017fbf96",
        "outputId": "07c70ffb-1070-41b6-badc-3cf946b2517f"
      },
      "outputs": [
        {
          "data": {
            "text/plain": [
              "     [,1] [,2] [,3] [,4] [,5]\n",
              "[1,] 1    3    2    3    2   "
            ]
          },
          "metadata": {},
          "output_type": "display_data"
        }
      ],
      "source": [
        "a2 # 1×5 matrix"
      ]
    },
    {
      "cell_type": "code",
      "execution_count": null,
      "id": "c340ab70-18c3-475b-9728-acf0695ebcb7",
      "metadata": {
        "id": "c340ab70-18c3-475b-9728-acf0695ebcb7",
        "outputId": "455dd05b-3623-4a65-923b-3d4c69f4afb0"
      },
      "outputs": [
        {
          "data": {
            "text/plain": [
              "     [,1] [,2] [,3] [,4] [,5]\n",
              "[1,] 1    3    2    3    2   \n",
              "[2,] 3    9    6    9    6   \n",
              "[3,] 2    6    4    6    4   \n",
              "[4,] 3    9    6    9    6   \n",
              "[5,] 2    6    4    6    4   "
            ]
          },
          "metadata": {},
          "output_type": "display_data"
        }
      ],
      "source": [
        "a1 %*% a2 # 5×5 matrix"
      ]
    },
    {
      "cell_type": "code",
      "execution_count": null,
      "id": "eea02bc7-c461-43fb-8841-51046d1d526c",
      "metadata": {
        "id": "eea02bc7-c461-43fb-8841-51046d1d526c",
        "outputId": "efe5e96e-c2ef-4c62-bf4d-06e1436975eb"
      },
      "outputs": [
        {
          "data": {
            "text/plain": [
              "     [,1] [,2] [,3] [,4] [,5]\n",
              "[1,] 1    3    2    3    2   \n",
              "[2,] 3    9    6    9    6   \n",
              "[3,] 2    6    4    6    4   \n",
              "[4,] 3    9    6    9    6   \n",
              "[5,] 2    6    4    6    4   "
            ]
          },
          "metadata": {},
          "output_type": "display_data"
        }
      ],
      "source": [
        "A = a1 %*% a2\n",
        "A"
      ]
    },
    {
      "cell_type": "code",
      "execution_count": null,
      "id": "374dcbcf-0279-45d5-b517-c6d785cdb14c",
      "metadata": {
        "id": "374dcbcf-0279-45d5-b517-c6d785cdb14c",
        "outputId": "6131dde6-786d-4f50-b18e-0453b6f60000"
      },
      "outputs": [
        {
          "data": {
            "text/plain": [
              "     [,1]  [,2]  [,3]  [,4]  [,5] \n",
              "[1,] FALSE  TRUE  TRUE  TRUE  TRUE\n",
              "[2,] FALSE FALSE  TRUE  TRUE  TRUE\n",
              "[3,] FALSE FALSE FALSE  TRUE  TRUE\n",
              "[4,] FALSE FALSE FALSE FALSE  TRUE\n",
              "[5,] FALSE FALSE FALSE FALSE FALSE"
            ]
          },
          "metadata": {},
          "output_type": "display_data"
        }
      ],
      "source": [
        "upper.tri(A)"
      ]
    },
    {
      "cell_type": "code",
      "execution_count": null,
      "id": "b892d771-afc9-4b32-86c7-48984b90c336",
      "metadata": {
        "id": "b892d771-afc9-4b32-86c7-48984b90c336",
        "outputId": "a53172be-f7e4-4520-e7ff-9ba23d880da9"
      },
      "outputs": [
        {
          "data": {
            "text/plain": [
              " [1] 3 2 6 3 9 6 2 6 4 6"
            ]
          },
          "metadata": {},
          "output_type": "display_data"
        }
      ],
      "source": [
        "A[upper.tri(A)]"
      ]
    },
    {
      "cell_type": "code",
      "execution_count": null,
      "id": "63d10842-1f37-445c-9284-deb3cec1042b",
      "metadata": {
        "id": "63d10842-1f37-445c-9284-deb3cec1042b",
        "outputId": "842eb1bd-9a15-4a59-e05e-345561c49042"
      },
      "outputs": [
        {
          "data": {
            "text/plain": [
              "[1] 8"
            ]
          },
          "metadata": {},
          "output_type": "display_data"
        }
      ],
      "source": [
        "sum(!A[upper.tri(A)] %in% c(4,9)) # 벡터 원소 중 4와 9의 값을 갖지 않는 원소의 계수"
      ]
    },
    {
      "cell_type": "markdown",
      "id": "2b75f971-4433-4547-abc1-1cc53468759b",
      "metadata": {
        "jp-MarkdownHeadingCollapsed": true,
        "tags": [],
        "id": "2b75f971-4433-4547-abc1-1cc53468759b"
      },
      "source": [
        "#### 풀이8"
      ]
    },
    {
      "cell_type": "markdown",
      "source": [
        ": A를 바로 구해주는 함수인 `outer()`이용(R에 내장)"
      ],
      "metadata": {
        "id": "D7ePgYv-tg9B"
      },
      "id": "D7ePgYv-tg9B"
    },
    {
      "cell_type": "code",
      "execution_count": null,
      "id": "4791bf21-dab6-4018-9caf-8fd57ebd639f",
      "metadata": {
        "id": "4791bf21-dab6-4018-9caf-8fd57ebd639f",
        "outputId": "7c37b252-932e-4838-be1f-2f3fd1dd0420"
      },
      "outputs": [
        {
          "data": {
            "text/plain": [
              "     [,1] [,2] [,3] [,4] [,5]\n",
              "[1,] 1    3    2    3    2   \n",
              "[2,] 3    9    6    9    6   \n",
              "[3,] 2    6    4    6    4   \n",
              "[4,] 3    9    6    9    6   \n",
              "[5,] 2    6    4    6    4   "
            ]
          },
          "metadata": {},
          "output_type": "display_data"
        }
      ],
      "source": [
        "A"
      ]
    },
    {
      "cell_type": "code",
      "execution_count": null,
      "id": "2c739cb3-554c-4dda-a3cf-6857f4786f59",
      "metadata": {
        "id": "2c739cb3-554c-4dda-a3cf-6857f4786f59",
        "outputId": "93d9c5a7-1ec7-493b-c082-8d14c64b3081"
      },
      "outputs": [
        {
          "data": {
            "text/plain": [
              "[1] 1 3 2 3 2"
            ]
          },
          "metadata": {},
          "output_type": "display_data"
        }
      ],
      "source": [
        "a <- c(1,3,2,3,2)\n",
        "a"
      ]
    },
    {
      "cell_type": "code",
      "execution_count": null,
      "id": "ef0ed796-d259-487b-8988-6c3038005909",
      "metadata": {
        "id": "ef0ed796-d259-487b-8988-6c3038005909",
        "outputId": "4444ec87-12c9-409f-b3e2-9d52d38b9158"
      },
      "outputs": [
        {
          "data": {
            "text/plain": [
              "     [,1] [,2] [,3] [,4] [,5]\n",
              "[1,] 1    3    2    3    2   \n",
              "[2,] 3    9    6    9    6   \n",
              "[3,] 2    6    4    6    4   \n",
              "[4,] 3    9    6    9    6   \n",
              "[5,] 2    6    4    6    4   "
            ]
          },
          "metadata": {},
          "output_type": "display_data"
        }
      ],
      "source": [
        "A = outer(a,a)\n",
        "A"
      ]
    },
    {
      "cell_type": "code",
      "execution_count": null,
      "id": "909547f3-78ad-4403-ab44-a833fb6e0cb4",
      "metadata": {
        "id": "909547f3-78ad-4403-ab44-a833fb6e0cb4",
        "outputId": "1e62a4c9-06bb-463f-c3d4-080899855065"
      },
      "outputs": [
        {
          "data": {
            "text/plain": [
              "[1] 8"
            ]
          },
          "metadata": {},
          "output_type": "display_data"
        }
      ],
      "source": [
        "sum(!A[upper.tri(A)] %in% c(4,9))"
      ]
    },
    {
      "cell_type": "markdown",
      "id": "3823d905-57fd-4a0e-bc64-45e291137594",
      "metadata": {
        "id": "3823d905-57fd-4a0e-bc64-45e291137594"
      },
      "source": [
        "`-` 풀이 7,8의 오류 예"
      ]
    },
    {
      "cell_type": "code",
      "execution_count": null,
      "id": "a22fceeb-012b-40d9-9b95-187fbaaa49f7",
      "metadata": {
        "id": "a22fceeb-012b-40d9-9b95-187fbaaa49f7"
      },
      "outputs": [],
      "source": [
        "a <- c(1,2,4,4,8)"
      ]
    },
    {
      "cell_type": "code",
      "execution_count": null,
      "id": "d2db152e-380b-4093-be22-a8bf4932c11c",
      "metadata": {
        "id": "d2db152e-380b-4093-be22-a8bf4932c11c",
        "outputId": "549a6f19-6734-4310-ab61-efe3bea46c43"
      },
      "outputs": [
        {
          "data": {
            "text/plain": [
              "[1] 6"
            ]
          },
          "metadata": {},
          "output_type": "display_data"
        }
      ],
      "source": [
        "sum(!(outer(a,a)[upper.tri(outer(a,a))] %in% a**2))"
      ]
    },
    {
      "cell_type": "markdown",
      "id": "512f1b14-76e9-4cbd-a5ab-34e096d7d89b",
      "metadata": {
        "id": "512f1b14-76e9-4cbd-a5ab-34e096d7d89b"
      },
      "source": [
        "- 여기서 $a^2$이 $2^2$,$4^2$을 통해서만 계산되는 것이 아닌 $1×4$, $2×8$ 등을 통해서도 나올 수 있음 -> $1×4$, $2×8$ 값이 제외될 수 있음"
      ]
    },
    {
      "cell_type": "markdown",
      "id": "8ccf8fda-ba26-46f4-9926-81d0094ee81b",
      "metadata": {
        "tags": [],
        "id": "8ccf8fda-ba26-46f4-9926-81d0094ee81b"
      },
      "source": [
        "`-` 추가학습"
      ]
    },
    {
      "cell_type": "code",
      "execution_count": null,
      "id": "efd4a9f0-700d-4e5a-9f5c-0a8a20a6fcc9",
      "metadata": {
        "id": "efd4a9f0-700d-4e5a-9f5c-0a8a20a6fcc9",
        "outputId": "3815ba02-3b5a-412b-f081-0525e0863fb2"
      },
      "outputs": [
        {
          "data": {
            "text/plain": [
              "[1] 8"
            ]
          },
          "metadata": {},
          "output_type": "display_data"
        }
      ],
      "source": [
        "A %>% mutate(C=Var1-Var2) %>% filter(C > 0) %>% count %>% as.numeric"
      ]
    }
  ],
  "metadata": {
    "kernelspec": {
      "display_name": "R",
      "language": "R",
      "name": "ir"
    },
    "language_info": {
      "codemirror_mode": "r",
      "file_extension": ".r",
      "mimetype": "text/x-r-source",
      "name": "R",
      "pygments_lexer": "r",
      "version": "4.0.5"
    },
    "colab": {
      "name": "2022-02-21-IR.ipynb",
      "provenance": [],
      "toc_visible": true
    }
  },
  "nbformat": 4,
  "nbformat_minor": 5
}