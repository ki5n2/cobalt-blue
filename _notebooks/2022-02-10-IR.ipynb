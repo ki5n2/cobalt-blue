{
  "cells": [
    {
      "cell_type": "markdown",
      "source": [
        "# IR 6. R을 이용한 평가원 문제 풀이 3, for+break, while\n",
        "> \"작성완료\"\n",
        "\n",
        "- toc:true\n",
        "- branch: master\n",
        "- badges: true\n",
        "- comments: true\n",
        "- [R]"
      ],
      "metadata": {
        "id": "_uki0ZsYDByE"
      },
      "id": "_uki0ZsYDByE"
    },
    {
      "cell_type": "markdown",
      "source": [
        "---\n",
        "# Introduce R \n",
        "- lecture: Introduce R_4nd week of lectures.\n",
        "- lecture date: 2021-10-05\n",
        "- lecturer: Guebin choi\n",
        "- study date: 2022-02-10\n",
        "- author: Kione kim\n",
        "---"
      ],
      "metadata": {
        "id": "KvzLRvu1DEGq"
      },
      "id": "KvzLRvu1DEGq"
    },
    {
      "cell_type": "code",
      "execution_count": null,
      "id": "e249b92b-c41e-4ea1-bdff-ed3777bc572f",
      "metadata": {
        "id": "e249b92b-c41e-4ea1-bdff-ed3777bc572f"
      },
      "outputs": [],
      "source": [
        "#hide\n",
        "options(jupyter.plot_scale=3)\n",
        "options(jupyter.display_mimetypes=c(\"text/html\"))\n",
        "options(jupyter.rich_display=FALSE)\n",
        "options(repr.plot.width=6,repr.plot.height=6,repr.plot.res=300) # 고해상도 \n",
        "options(max.print=1000)"
      ]
    },
    {
      "cell_type": "markdown",
      "id": "30b83cac-52c4-4ae2-987a-4ccdf37471d7",
      "metadata": {
        "id": "30b83cac-52c4-4ae2-987a-4ccdf37471d7"
      },
      "source": [
        "## 2007(나) 9월/평가원 16(고3)"
      ]
    },
    {
      "cell_type": "markdown",
      "source": [
        "자연수 n에 대하여 점 $P_n$을 다음 규칙에 따라 정한다.\n",
        "(가) 점 $P_1$의 좌표는 $(1,1)$이다.\n",
        "(나) 점 $P_n$의 좌표가 $(a,b)$일 때,\n",
        "- $b<2^a$이면 점 $P_{n+1}$의 좌표는 $(a,b+1)$이고\n",
        "- $b=2^a$이면 점 $P+_{n+1}$의 좌표는 $(a+1,1)$이다.   \n",
        "`문제`: 점 $P_n$의 좌표가 $(10,2^{10})$일 때, $n$의 값은?\n",
        "\n",
        "(1) $2^{10}-2$\n",
        "\n",
        "(2) $2^{10}+2$\n",
        "\n",
        "(3) $2^{11}-2$\n",
        "\n",
        "(4) $2^{11}$\n",
        "\n",
        "(5) $2^{11}+2$"
      ],
      "metadata": {
        "id": "yV0c4Ri0DgOy"
      },
      "id": "yV0c4Ri0DgOy"
    },
    {
      "cell_type": "markdown",
      "id": "735cead7-369a-41c6-8bc7-d5e718747214",
      "metadata": {
        "id": "735cead7-369a-41c6-8bc7-d5e718747214"
      },
      "source": [
        "### 구현해야 할 코드:"
      ]
    },
    {
      "cell_type": "markdown",
      "source": [
        "1. $P_1$을 통해 $P_2$의 좌표 구해서 $(10,2^{10})$인지 확인 \n",
        "2. 아니라면, $P_2$를 통해 $P_3$의 좌표 구해서 $(10,2^{10})$인지 확인\n",
        "3. 이와 같은 방식으로, $P_{n-1}$를 통해 $P_n$의 좌표 구해서 $(10,2^{10})$인지 확인"
      ],
      "metadata": {
        "id": "EFpFAsQqFi-S"
      },
      "id": "EFpFAsQqFi-S"
    },
    {
      "cell_type": "markdown",
      "id": "c05de165-6590-48e7-8a18-1031c1b2c272",
      "metadata": {
        "id": "c05de165-6590-48e7-8a18-1031c1b2c272"
      },
      "source": [
        "``` R\n",
        "for n=1,2,3,...,2^(11)+2까지 아래를 반복한다. 단, P_n=(10,2^(10))인 경우 멈춘다.   \n",
        "\n",
        "if P_n = (10,2^(10))인 경우:    \n",
        "    반복문 탈출   \n",
        "else   \n",
        "    반복할 내용\n",
        "```"
      ]
    },
    {
      "cell_type": "code",
      "execution_count": null,
      "id": "32375ed3-8736-4529-9648-5d6bc3aaefd4",
      "metadata": {
        "id": "32375ed3-8736-4529-9648-5d6bc3aaefd4"
      },
      "outputs": [],
      "source": [
        "a=c()\n",
        "b=c()"
      ]
    },
    {
      "cell_type": "code",
      "execution_count": null,
      "id": "5e200fc6-7004-41f8-b1a7-7a6c38e05213",
      "metadata": {
        "id": "5e200fc6-7004-41f8-b1a7-7a6c38e05213",
        "outputId": "99643da2-07cd-425b-9cc8-a4857383a78e"
      },
      "outputs": [
        {
          "data": {
            "text/plain": [
              "[1] 1"
            ]
          },
          "metadata": {},
          "output_type": "display_data"
        },
        {
          "data": {
            "text/plain": [
              "[1] 1"
            ]
          },
          "metadata": {},
          "output_type": "display_data"
        }
      ],
      "source": [
        "a[1]=1\n",
        "b[1]=1\n",
        "a\n",
        "b"
      ]
    },
    {
      "cell_type": "code",
      "execution_count": null,
      "id": "d088d736-dd3f-4a74-a6aa-60d83301294f",
      "metadata": {
        "id": "d088d736-dd3f-4a74-a6aa-60d83301294f",
        "outputId": "8ea5a84f-cd21-415d-9ede-13d74d78569a"
      },
      "outputs": [
        {
          "name": "stdout",
          "output_type": "stream",
          "text": [
            "[1] 2046\n"
          ]
        }
      ],
      "source": [
        "for (i in 1:(2^12){ # 넉넉하게 2^12까지 구한다(보기에서 가장 큰 수는 2^11 +2)\n",
        "    if ((a[i] == 10) & (b[i] == 2^10)){\n",
        "        print(i) # (10,2^10)에 해당하는 i값을 출력해줌\n",
        "        break # 탈출\n",
        "    }else{ # 탈출하지 않으면 아래를 실행\n",
        "        if (b[i] < 2^a[i]){\n",
        "            a[i+1] = a[i]\n",
        "            b[i+1] = b[i]+1\n",
        "        }else{\n",
        "            if (b[i] == 2^a[i]){\n",
        "                a[i+1] = a[i]+1\n",
        "                b[i+1] = 1\n",
        "                }\n",
        "            }\n",
        "        }\n",
        "}"
      ]
    },
    {
      "cell_type": "markdown",
      "id": "602465ff-5c0a-4034-bec7-05aef06e7f03",
      "metadata": {
        "id": "602465ff-5c0a-4034-bec7-05aef06e7f03"
      },
      "source": [
        "``` R\n",
        "처음에 작성한 코드:\n",
        "for (i in 1:(2^11)+2){\n",
        "    if (a[i] == 10) & (b[i] == 2^10){\n",
        "        exit # 탈출(break)를 사용하면 됨.\n",
        "    }else{\n",
        "        if (b[i]<2^a[i]){\n",
        "            b[i]+1\n",
        "        }else{\n",
        "            if (b[i]=2^a[i]){\n",
        "                a[i]+1\n",
        "                }\n",
        "}\n",
        "        \n",
        "오류 1. 조건문 각각 () 한 후 전체 ()\n",
        "오류 2. break 사용\n",
        "오류 3. a[i+1] = a[i], b[a+1] = b[i] + 1 각각 선언 (a[i+1] = a[i] + 1, b[i+1] = 1도)\n",
        "오류 4. b[i] = 2^a[i]가 아닌 b[i] == 2^a[i]\n",
        "```"
      ]
    },
    {
      "cell_type": "markdown",
      "id": "ef2ab000-9d20-4573-8e59-17bb100f602b",
      "metadata": {
        "id": "ef2ab000-9d20-4573-8e59-17bb100f602b"
      },
      "source": [
        "```R\n",
        "if (조건문 2개 이상일 경우):   \n",
        ": if (() & () & ()) 형태로 묶어준다.\n",
        "if (a[i] == 10) & (b[i] == 2^10)\n",
        "```"
      ]
    },
    {
      "cell_type": "markdown",
      "id": "c46d0ff7-5f19-409c-a592-71399d15eacd",
      "metadata": {
        "id": "c46d0ff7-5f19-409c-a592-71399d15eacd"
      },
      "source": [
        "## 반복문을 적당한 조건하에 수행하는 방법:"
      ]
    },
    {
      "cell_type": "markdown",
      "source": [
        "### 방법 1: for + break를 적절하게 활용"
      ],
      "metadata": {
        "id": "G9bzAwe4FYD2"
      },
      "id": "G9bzAwe4FYD2"
    },
    {
      "cell_type": "code",
      "execution_count": null,
      "id": "ab95bd90-393a-4273-b2b9-336e0db0cdb1",
      "metadata": {
        "tags": [],
        "id": "ab95bd90-393a-4273-b2b9-336e0db0cdb1",
        "outputId": "8ef99e7f-bbf9-4e06-b2af-ff4322d4bd95"
      },
      "outputs": [
        {
          "name": "stdout",
          "output_type": "stream",
          "text": [
            "[1] \"x는 음수\"\n",
            "[1] \"x는 음수\"\n",
            "[1] \"x는 음수\"\n",
            "[1] \"x는 음수\"\n",
            "[1] \"x는 음수\"\n"
          ]
        }
      ],
      "source": [
        "for (x in -5:5){\n",
        "    if (x>=0){\n",
        "        break\n",
        "    }else{\n",
        "        if (x<0){\n",
        "            print('x는 음수')\n",
        "            x=x+1\n",
        "        }\n",
        "    }\n",
        "}"
      ]
    },
    {
      "cell_type": "markdown",
      "source": [
        "### 방법 2: while"
      ],
      "metadata": {
        "id": "zHTPzFiSFaFe"
      },
      "id": "zHTPzFiSFaFe"
    },
    {
      "cell_type": "code",
      "execution_count": null,
      "id": "e27fe926-a840-4c33-8996-8ac01b01267a",
      "metadata": {
        "id": "e27fe926-a840-4c33-8996-8ac01b01267a",
        "outputId": "c8f8d3b5-7ae3-4533-e4e0-45963f74ca5b"
      },
      "outputs": [
        {
          "name": "stdout",
          "output_type": "stream",
          "text": [
            "[1] \"x는 음수\"\n",
            "[1] \"x는 음수\"\n",
            "[1] \"x는 음수\"\n",
            "[1] \"x는 음수\"\n",
            "[1] \"x는 음수\"\n"
          ]
        }
      ],
      "source": [
        "x=-5\n",
        "while (x<0){\n",
        "    print('x는 음수')\n",
        "    x=x+1\n",
        "}"
      ]
    }
  ],
  "metadata": {
    "kernelspec": {
      "display_name": "R",
      "language": "R",
      "name": "ir"
    },
    "language_info": {
      "codemirror_mode": "r",
      "file_extension": ".r",
      "mimetype": "text/x-r-source",
      "name": "R",
      "pygments_lexer": "r",
      "version": "4.0.5"
    },
    "colab": {
      "name": "2022-02-10-IR.ipynb",
      "provenance": [],
      "toc_visible": true
    }
  },
  "nbformat": 4,
  "nbformat_minor": 5
}
