{
 "cells": [
  {
   "cell_type": "markdown",
   "id": "3a65950f-441b-4701-aa58-12d8e73056a5",
   "metadata": {
    "id": "OZMVmwYPNgml"
   },
   "source": [
    "# IR 8. 숫자 카드 게임(2019 국가 교육기관 코딩테스트)\n",
    "> \"작성완료\"\n",
    "\n",
    "- toc:true\n",
    "- branch: master\n",
    "- badges: true\n",
    "- comments: true\n",
    "- [R]"
   ]
  },
  {
   "cell_type": "markdown",
   "id": "b11c9a5b-fe8b-4de1-8444-7131519e2a14",
   "metadata": {
    "id": "jRv0pkRwNhzN"
   },
   "source": [
    "---\n",
    "# Introduce R \n",
    "- lecture: Introduce R_6nd week of lectures\n",
    "- lecture date: 2021-10-19\n",
    "- lecturer: Guebin choi\n",
    "- study date: 2022-02-15\n",
    "- author: Kione kim\n",
    "---"
   ]
  },
  {
   "cell_type": "code",
   "execution_count": 212,
   "id": "896b50b3-72bf-4b6e-a2e1-c8db5a61c297",
   "metadata": {},
   "outputs": [],
   "source": [
    "#hide\n",
    "options(jupyter.plot_scale=3)\n",
    "options(jupyter.display_mimetypes=c(\"text/html\"))\n",
    "options(jupyter.rich_display=FALSE)\n",
    "options(repr.plot.width=6,repr.plot.height=6,repr.plot.res=300)\n",
    "options(max.print=1000)"
   ]
  },
  {
   "cell_type": "code",
   "execution_count": 67,
   "id": "080a703b-a44a-4ccd-8719-14b2d0f411b5",
   "metadata": {},
   "outputs": [],
   "source": [
    "library(tidyverse)"
   ]
  },
  {
   "cell_type": "markdown",
   "id": "47525481-e491-44af-9908-83c244f1b2ee",
   "metadata": {
    "tags": []
   },
   "source": [
    "## 숫자 카드 게임 (2019 국가 교육기관 코딩테스트) "
   ]
  },
  {
   "cell_type": "markdown",
   "id": "766078ab-15cc-47a4-899f-b4be71fd4b7c",
   "metadata": {},
   "source": [
    "숫자 카드 게임은 여러개의 숫자중에서 가장 높은 숫자가 쓰인 카드를 한 장 뽑는 게임이다.\n",
    "\n",
    "단, 게임의 룰을 지키며 뽑아야 하고 룰은 다음과 같다.\n",
    "- 숫자가 쓰인 카드들이 N × M 형태로 놓여있다.\n",
    "- 먼저 뽑고자 하는 카드가 포함되어 있는 행을 선택한다.\n",
    "- 그 다음 선택된 행에 포함된 카드들 중에서 가장 숫자가 낮은 카드를 뽑아야 한다. \n",
    "- 따라서 처음에 카드를 골라낼 행을 선택할 때, 이후에 해당 행에서 가장 숫자가 낮은 카드를 뽑을 것을 고려하여 최종적으로 가장 높은 숫자의 카드를 뽑을 수 있도록 전략을 세워야 한다."
   ]
  },
  {
   "cell_type": "markdown",
   "id": "e0f23feb-c4b9-4494-a143-7c57ab7d40c6",
   "metadata": {},
   "source": [
    "`-` 예시1\n",
    "```\n",
    "입력\n",
    "3 1 2\n",
    "4 1 4\n",
    "2 2 2\n",
    "\n",
    "출력\n",
    "2\n",
    "```"
   ]
  },
  {
   "cell_type": "markdown",
   "id": "4966bc60-df91-4056-89fc-8134e3139d50",
   "metadata": {},
   "source": [
    "`-` 예시2\n",
    "```\n",
    "입력\n",
    "7 3 1 8\n",
    "3 3 3 4\n",
    "\n",
    "출력\n",
    "3\n",
    "```"
   ]
  },
  {
   "cell_type": "markdown",
   "id": "414c904c-4eb7-46f4-b831-be99c80624b9",
   "metadata": {},
   "source": [
    "``` R\n",
    "- 풀이법:\n",
    "1. 함수의 입력에 넣을 수 있도록 행렬의 형태로 만든다.\n",
    "2. 각 행의 최솟값들을 뽑아 벡터를 만들고 그 벡터 값 중 최댓값을 뽑는다.\n",
    "\n",
    "\n",
    "- 구체적인 전략: \n",
    "1. A의 각 행(row)을 돌아가면서 가장 작은 숫자를 찾아 기록한다.\n",
    "2. 기록한 숫자들을 모아서 벡터로 만든다.\n",
    "3. 벡터의 최댓값을 구한다.\n",
    "\n",
    "- 수행에 필요한 skill:\n",
    "A의 첫 번째 행, 두번째 행, 세번째 행의 최솟값을 순서대로 뽑을 수 있어야 한다.\n",
    "```"
   ]
  },
  {
   "cell_type": "markdown",
   "id": "f7affd44-bc0b-43c2-8e1a-578608f85350",
   "metadata": {},
   "source": [
    "`1.` 행렬의 형태"
   ]
  },
  {
   "cell_type": "code",
   "execution_count": 16,
   "id": "2ad7a37d-8154-4bfb-975c-8298f6323075",
   "metadata": {},
   "outputs": [],
   "source": [
    "a1 <- c(3,1,2)\n",
    "a2 <- c(4,1,4)\n",
    "a3 <- c(2,2,2)"
   ]
  },
  {
   "cell_type": "code",
   "execution_count": 17,
   "id": "b691f575-2fb7-4ba4-b640-78e9befb084a",
   "metadata": {},
   "outputs": [
    {
     "data": {
      "text/plain": [
       "   [,1] [,2] [,3]\n",
       "a1 3    1    2   \n",
       "a2 4    1    4   \n",
       "a3 2    2    2   "
      ]
     },
     "metadata": {},
     "output_type": "display_data"
    }
   ],
   "source": [
    "a = rbind(a1,a2,a3)\n",
    "a"
   ]
  },
  {
   "cell_type": "markdown",
   "id": "040d25d2-0289-423b-808f-cc298f6d6cc6",
   "metadata": {},
   "source": [
    "- 아래와 같이 해도 된다."
   ]
  },
  {
   "cell_type": "code",
   "execution_count": 33,
   "id": "a38436dd-efea-4d02-adb7-1d204b06195e",
   "metadata": {},
   "outputs": [
    {
     "data": {
      "text/plain": [
       "     [,1] [,2] [,3]\n",
       "[1,] 3    1    2   \n",
       "[2,] 4    1    4   \n",
       "[3,] 2    2    2   "
      ]
     },
     "metadata": {},
     "output_type": "display_data"
    }
   ],
   "source": [
    "a = rbind(c(3,1,2), c(4,1,4), c(2,2,2))\n",
    "a"
   ]
  },
  {
   "cell_type": "code",
   "execution_count": 45,
   "id": "82daf271-88c8-4152-8e2a-d338db523361",
   "metadata": {},
   "outputs": [
    {
     "data": {
      "text/plain": [
       "     [,1] [,2] [,3]\n",
       "[1,] 3    1    2   \n",
       "[2,] 4    1    4   \n",
       "[3,] 2    2    2   "
      ]
     },
     "metadata": {},
     "output_type": "display_data"
    }
   ],
   "source": [
    "a"
   ]
  },
  {
   "cell_type": "markdown",
   "id": "e39bd0dc-c0a2-4ca0-9cc9-e9e6dacb63d4",
   "metadata": {},
   "source": [
    "`2.` 벡터 출력"
   ]
  },
  {
   "cell_type": "code",
   "execution_count": 46,
   "id": "7e5f925b-b224-4bba-a2fd-8672f200986b",
   "metadata": {},
   "outputs": [
    {
     "data": {
      "text/plain": [
       "[1] 3 1 2"
      ]
     },
     "metadata": {},
     "output_type": "display_data"
    }
   ],
   "source": [
    "(a[1,]) # a[i,] -> a의 i번째 행을 뽑을 수 있다. "
   ]
  },
  {
   "cell_type": "code",
   "execution_count": 47,
   "id": "0459644a-1bc2-4b8b-af8d-ee6e13e2038b",
   "metadata": {},
   "outputs": [
    {
     "data": {
      "text/plain": [
       "[1] 1"
      ]
     },
     "metadata": {},
     "output_type": "display_data"
    }
   ],
   "source": [
    "min(a[1,]) # min(a[i,]) -> a의 i번째 행의 최솟값을 출력해준다."
   ]
  },
  {
   "cell_type": "code",
   "execution_count": 51,
   "id": "978bf539-7398-4652-a311-edd59de82432",
   "metadata": {},
   "outputs": [
    {
     "name": "stdout",
     "output_type": "stream",
     "text": [
      "[1] 1\n",
      "[1] 1\n",
      "[1] 2\n"
     ]
    }
   ],
   "source": [
    "for (i in 1:3) print((min(a[i,])))"
   ]
  },
  {
   "cell_type": "code",
   "execution_count": 52,
   "id": "463424ad-d958-4bf7-bf16-5f5e50b5eedf",
   "metadata": {},
   "outputs": [
    {
     "data": {
      "text/plain": [
       "[1] 1 1 2"
      ]
     },
     "metadata": {},
     "output_type": "display_data"
    }
   ],
   "source": [
    "vec <- c()\n",
    "for (i in 1:3) vec[i] <- (min(a[i,]))\n",
    "vec"
   ]
  },
  {
   "cell_type": "code",
   "execution_count": 53,
   "id": "525bc458-c688-42a3-b780-9fc8b828dec3",
   "metadata": {},
   "outputs": [
    {
     "data": {
      "text/plain": [
       "[1] 2"
      ]
     },
     "metadata": {},
     "output_type": "display_data"
    }
   ],
   "source": [
    "max(vec)"
   ]
  },
  {
   "cell_type": "markdown",
   "id": "b558ffe5-cf9d-4f68-8756-7b459ff150a9",
   "metadata": {},
   "source": [
    "``` R\n",
    "vec <- c()\n",
    "for (i in 1:3) vec[i] <- (min(a[i,]))\n",
    "처럼 코드를 작성하면, \n",
    "for (i in 1:3) print((min(a[i,]))) 에서 출력으로 나오는 값을 벡터로 저장할 수 있다.\n",
    "```"
   ]
  },
  {
   "cell_type": "markdown",
   "id": "b5362518-3668-46db-9a15-11f8fde05366",
   "metadata": {},
   "source": [
    "`-` 예시 2에 대한 적용"
   ]
  },
  {
   "cell_type": "code",
   "execution_count": 58,
   "id": "5cbecafe-a8ec-48eb-8749-96488f34b9f5",
   "metadata": {},
   "outputs": [
    {
     "data": {
      "text/plain": [
       "     [,1] [,2] [,3] [,4]\n",
       "[1,] 7    3    1    8   \n",
       "[2,] 3    3    3    4   "
      ]
     },
     "metadata": {},
     "output_type": "display_data"
    }
   ],
   "source": [
    "a <- rbind(c(7,3,1,8), c(3,3,3,4))\n",
    "a"
   ]
  },
  {
   "cell_type": "code",
   "execution_count": 59,
   "id": "522b4810-5f20-4d09-92ac-751bb926e144",
   "metadata": {},
   "outputs": [
    {
     "data": {
      "text/plain": [
       "[1] 1 3"
      ]
     },
     "metadata": {},
     "output_type": "display_data"
    }
   ],
   "source": [
    "vec <- c()\n",
    "for (i in 1:2) vec[i] <- (min(a[i,]))\n",
    "vec"
   ]
  },
  {
   "cell_type": "code",
   "execution_count": 60,
   "id": "63381145-5e3a-48a9-8f04-3db73a83e224",
   "metadata": {},
   "outputs": [
    {
     "data": {
      "text/plain": [
       "[1] 3"
      ]
     },
     "metadata": {},
     "output_type": "display_data"
    }
   ],
   "source": [
    "max(vec)"
   ]
  },
  {
   "cell_type": "markdown",
   "id": "da685b15-9b00-4849-bf19-12bc5de708f0",
   "metadata": {},
   "source": [
    "`추가 학습`: \n",
    "``` \n",
    "입력\n",
    "3 4 5 1\n",
    "7 7 7 2\n",
    "8 1 8 2\n",
    "3 3 4 5\n",
    "\n",
    "출력은 ? \n",
    "```"
   ]
  },
  {
   "cell_type": "code",
   "execution_count": 63,
   "id": "12e67b08-8e99-4f71-9f91-10bb56dcb08f",
   "metadata": {},
   "outputs": [
    {
     "data": {
      "text/plain": [
       "     [,1] [,2] [,3] [,4]\n",
       "[1,] 3    4    5    1   \n",
       "[2,] 7    7    7    2   \n",
       "[3,] 8    1    8    2   \n",
       "[4,] 3    3    4    5   "
      ]
     },
     "metadata": {},
     "output_type": "display_data"
    }
   ],
   "source": [
    "a <- rbind(c(3,4,5,1),c(7,7,7,2),c(8,1,8,2),c(3,3,4,5))\n",
    "a"
   ]
  },
  {
   "cell_type": "code",
   "execution_count": 64,
   "id": "71cccd5b-f070-413c-a3b7-3f605b437350",
   "metadata": {},
   "outputs": [
    {
     "data": {
      "text/plain": [
       "[1] 1 2 1 3"
      ]
     },
     "metadata": {},
     "output_type": "display_data"
    }
   ],
   "source": [
    "vec <- c()\n",
    "for (i in 1:4) vec[i] <- min(a[i,])\n",
    "vec"
   ]
  },
  {
   "cell_type": "code",
   "execution_count": 65,
   "id": "ea299915-55fd-4159-9763-0464a178fd12",
   "metadata": {},
   "outputs": [
    {
     "data": {
      "text/plain": [
       "[1] 3"
      ]
     },
     "metadata": {},
     "output_type": "display_data"
    }
   ],
   "source": [
    "max(vec)"
   ]
  }
 ],
 "metadata": {
  "kernelspec": {
   "display_name": "R",
   "language": "R",
   "name": "ir"
  },
  "language_info": {
   "codemirror_mode": "r",
   "file_extension": ".r",
   "mimetype": "text/x-r-source",
   "name": "R",
   "pygments_lexer": "r",
   "version": "4.0.5"
  }
 },
 "nbformat": 4,
 "nbformat_minor": 5
}
