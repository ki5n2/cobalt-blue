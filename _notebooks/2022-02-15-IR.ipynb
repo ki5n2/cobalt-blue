{
 "cells": [
  {
   "cell_type": "markdown",
   "id": "3a65950f-441b-4701-aa58-12d8e73056a5",
   "metadata": {
    "id": "OZMVmwYPNgml"
   },
   "source": [
    "# IR 8. 숫자 카드 게임, 매트릭스 선언방법, 매트릭스에서 원소를 추출하는 방법, apply 함수, apply와 for의 코딩 시간비교\n",
    "> \"작성완료\"\n",
    "\n",
    "- toc:true\n",
    "- branch: master\n",
    "- badges: true\n",
    "- comments: true\n",
    "- [R]"
   ]
  },
  {
   "cell_type": "markdown",
   "id": "b11c9a5b-fe8b-4de1-8444-7131519e2a14",
   "metadata": {
    "id": "jRv0pkRwNhzN"
   },
   "source": [
    "---\n",
    "# Introduce R \n",
    "- lecture: Introduce R_6,7nd week of lectures\n",
    "- lecture date: 2021-10-19, 2021-10-21\n",
    "- lecturer: Guebin choi\n",
    "- study date: 2022-02-15\n",
    "- author: Kione kim\n",
    "---"
   ]
  },
  {
   "cell_type": "code",
   "execution_count": 212,
   "id": "896b50b3-72bf-4b6e-a2e1-c8db5a61c297",
   "metadata": {},
   "outputs": [],
   "source": [
    "#hide\n",
    "options(jupyter.plot_scale=3)\n",
    "options(jupyter.display_mimetypes=c(\"text/html\"))\n",
    "options(jupyter.rich_display=FALSE)\n",
    "options(repr.plot.width=6,repr.plot.height=6,repr.plot.res=300)\n",
    "options(max.print=1000)"
   ]
  },
  {
   "cell_type": "code",
   "execution_count": 67,
   "id": "080a703b-a44a-4ccd-8719-14b2d0f411b5",
   "metadata": {},
   "outputs": [],
   "source": [
    "library(tidyverse)"
   ]
  },
  {
   "cell_type": "markdown",
   "id": "cafd0fd0-1619-4fbd-8f29-576325a598af",
   "metadata": {},
   "source": [
    "## 2021-10-19 lecture"
   ]
  },
  {
   "cell_type": "markdown",
   "id": "47525481-e491-44af-9908-83c244f1b2ee",
   "metadata": {
    "jp-MarkdownHeadingCollapsed": true,
    "tags": []
   },
   "source": [
    "### 숫자 카드 게임 (2019 국가 교육기관 코딩테스트) "
   ]
  },
  {
   "cell_type": "markdown",
   "id": "766078ab-15cc-47a4-899f-b4be71fd4b7c",
   "metadata": {},
   "source": [
    "#### 숫자 카드 게임은 여러개의 숫자중에서 가장 높은 숫자가 쓰인 카드를 한 장 뽑는 게임이다.\n",
    "#### 단, 게임의 룰을 지키며 뽑아야 하고 룰은 다음과 같다.\n",
    "- 숫자가 쓰인 카드들이 N × M 형태로 놓여있다.\n",
    "- 먼저 뽑고자 하는 카드가 포함되어 있는 행을 선택한다.\n",
    "- 그 다음 선택된 행에 포함된 카드들 중에서 가장 숫자가 낮은 카드를 뽑아야 한다. \n",
    "- 따라서 처음에 카드를 골라낼 행을 선택할 때, 이후에 해당 행에서 가장 숫자가 낮은 카드를 뽑을 것을 고려하여 최종적으로 가장 높은 숫자의 카드를 뽑을 수 있도록 전략을 세워야 한다."
   ]
  },
  {
   "cell_type": "markdown",
   "id": "e0f23feb-c4b9-4494-a143-7c57ab7d40c6",
   "metadata": {},
   "source": [
    "`-` 예시1\n",
    "```\n",
    "입력\n",
    "3 1 2\n",
    "4 1 4\n",
    "2 2 2\n",
    "\n",
    "출력\n",
    "2\n",
    "```"
   ]
  },
  {
   "cell_type": "markdown",
   "id": "4966bc60-df91-4056-89fc-8134e3139d50",
   "metadata": {},
   "source": [
    "`-` 예시2\n",
    "```\n",
    "입력\n",
    "7 3 1 8\n",
    "3 3 3 4\n",
    "\n",
    "출력\n",
    "3\n",
    "```"
   ]
  },
  {
   "cell_type": "markdown",
   "id": "414c904c-4eb7-46f4-b831-be99c80624b9",
   "metadata": {},
   "source": [
    "``` R\n",
    "- 풀이법:\n",
    "1. 함수의 입력에 넣을 수 있도록 행렬의 형태로 만든다.\n",
    "2. 각 행의 최솟값들을 뽑아 벡터를 만들고 그 벡터 값 중 최댓값을 뽑는다.\n",
    "\n",
    "\n",
    "- 구체적인 전략: \n",
    "1. A의 각 행(row)을 돌아가면서 가장 작은 숫자를 찾아 기록한다.\n",
    "2. 기록한 숫자들을 모아서 벡터로 만든다.\n",
    "3. 벡터의 최댓값을 구한다.\n",
    "\n",
    "- 수행에 필요한 skill:\n",
    "A의 첫 번째 행, 두번째 행, 세번째 행의 최솟값을 순서대로 뽑을 수 있어야 한다.\n",
    "```"
   ]
  },
  {
   "cell_type": "markdown",
   "id": "f7affd44-bc0b-43c2-8e1a-578608f85350",
   "metadata": {},
   "source": [
    "`1.` 행렬의 형태"
   ]
  },
  {
   "cell_type": "code",
   "execution_count": 16,
   "id": "2ad7a37d-8154-4bfb-975c-8298f6323075",
   "metadata": {},
   "outputs": [],
   "source": [
    "a1 <- c(3,1,2)\n",
    "a2 <- c(4,1,4)\n",
    "a3 <- c(2,2,2)"
   ]
  },
  {
   "cell_type": "code",
   "execution_count": 17,
   "id": "b691f575-2fb7-4ba4-b640-78e9befb084a",
   "metadata": {},
   "outputs": [
    {
     "data": {
      "text/plain": [
       "   [,1] [,2] [,3]\n",
       "a1 3    1    2   \n",
       "a2 4    1    4   \n",
       "a3 2    2    2   "
      ]
     },
     "metadata": {},
     "output_type": "display_data"
    }
   ],
   "source": [
    "a = rbind(a1,a2,a3)\n",
    "a"
   ]
  },
  {
   "cell_type": "markdown",
   "id": "040d25d2-0289-423b-808f-cc298f6d6cc6",
   "metadata": {},
   "source": [
    "- 아래와 같이 해도 된다."
   ]
  },
  {
   "cell_type": "code",
   "execution_count": 33,
   "id": "a38436dd-efea-4d02-adb7-1d204b06195e",
   "metadata": {},
   "outputs": [
    {
     "data": {
      "text/plain": [
       "     [,1] [,2] [,3]\n",
       "[1,] 3    1    2   \n",
       "[2,] 4    1    4   \n",
       "[3,] 2    2    2   "
      ]
     },
     "metadata": {},
     "output_type": "display_data"
    }
   ],
   "source": [
    "a = rbind(c(3,1,2), c(4,1,4), c(2,2,2))\n",
    "a"
   ]
  },
  {
   "cell_type": "code",
   "execution_count": 45,
   "id": "82daf271-88c8-4152-8e2a-d338db523361",
   "metadata": {},
   "outputs": [
    {
     "data": {
      "text/plain": [
       "     [,1] [,2] [,3]\n",
       "[1,] 3    1    2   \n",
       "[2,] 4    1    4   \n",
       "[3,] 2    2    2   "
      ]
     },
     "metadata": {},
     "output_type": "display_data"
    }
   ],
   "source": [
    "a"
   ]
  },
  {
   "cell_type": "markdown",
   "id": "e39bd0dc-c0a2-4ca0-9cc9-e9e6dacb63d4",
   "metadata": {},
   "source": [
    "`2.` 벡터 출력"
   ]
  },
  {
   "cell_type": "code",
   "execution_count": 46,
   "id": "7e5f925b-b224-4bba-a2fd-8672f200986b",
   "metadata": {},
   "outputs": [
    {
     "data": {
      "text/plain": [
       "[1] 3 1 2"
      ]
     },
     "metadata": {},
     "output_type": "display_data"
    }
   ],
   "source": [
    "(a[1,]) # a[i,] -> a의 i번째 행을 뽑을 수 있다. "
   ]
  },
  {
   "cell_type": "code",
   "execution_count": 47,
   "id": "0459644a-1bc2-4b8b-af8d-ee6e13e2038b",
   "metadata": {},
   "outputs": [
    {
     "data": {
      "text/plain": [
       "[1] 1"
      ]
     },
     "metadata": {},
     "output_type": "display_data"
    }
   ],
   "source": [
    "min(a[1,]) # min(a[i,]) -> a의 i번째 행의 최솟값을 출력해준다."
   ]
  },
  {
   "cell_type": "code",
   "execution_count": 51,
   "id": "978bf539-7398-4652-a311-edd59de82432",
   "metadata": {},
   "outputs": [
    {
     "name": "stdout",
     "output_type": "stream",
     "text": [
      "[1] 1\n",
      "[1] 1\n",
      "[1] 2\n"
     ]
    }
   ],
   "source": [
    "for (i in 1:3) print((min(a[i,])))"
   ]
  },
  {
   "cell_type": "code",
   "execution_count": 52,
   "id": "463424ad-d958-4bf7-bf16-5f5e50b5eedf",
   "metadata": {},
   "outputs": [
    {
     "data": {
      "text/plain": [
       "[1] 1 1 2"
      ]
     },
     "metadata": {},
     "output_type": "display_data"
    }
   ],
   "source": [
    "vec <- c()\n",
    "for (i in 1:3) vec[i] <- (min(a[i,]))\n",
    "vec"
   ]
  },
  {
   "cell_type": "code",
   "execution_count": 53,
   "id": "525bc458-c688-42a3-b780-9fc8b828dec3",
   "metadata": {},
   "outputs": [
    {
     "data": {
      "text/plain": [
       "[1] 2"
      ]
     },
     "metadata": {},
     "output_type": "display_data"
    }
   ],
   "source": [
    "max(vec)"
   ]
  },
  {
   "cell_type": "markdown",
   "id": "b558ffe5-cf9d-4f68-8756-7b459ff150a9",
   "metadata": {},
   "source": [
    "``` R\n",
    "vec <- c()\n",
    "for (i in 1:3) vec[i] <- (min(a[i,]))\n",
    "처럼 코드를 작성하면, \n",
    "for (i in 1:3) print((min(a[i,]))) 에서 출력으로 나오는 값을 벡터로 저장할 수 있다.\n",
    "```"
   ]
  },
  {
   "cell_type": "markdown",
   "id": "b5362518-3668-46db-9a15-11f8fde05366",
   "metadata": {},
   "source": [
    "`-` 예시 2에 대한 적용"
   ]
  },
  {
   "cell_type": "code",
   "execution_count": 58,
   "id": "5cbecafe-a8ec-48eb-8749-96488f34b9f5",
   "metadata": {},
   "outputs": [
    {
     "data": {
      "text/plain": [
       "     [,1] [,2] [,3] [,4]\n",
       "[1,] 7    3    1    8   \n",
       "[2,] 3    3    3    4   "
      ]
     },
     "metadata": {},
     "output_type": "display_data"
    }
   ],
   "source": [
    "a <- rbind(c(7,3,1,8), c(3,3,3,4))\n",
    "a"
   ]
  },
  {
   "cell_type": "code",
   "execution_count": 59,
   "id": "522b4810-5f20-4d09-92ac-751bb926e144",
   "metadata": {},
   "outputs": [
    {
     "data": {
      "text/plain": [
       "[1] 1 3"
      ]
     },
     "metadata": {},
     "output_type": "display_data"
    }
   ],
   "source": [
    "vec <- c()\n",
    "for (i in 1:2) vec[i] <- (min(a[i,]))\n",
    "vec"
   ]
  },
  {
   "cell_type": "code",
   "execution_count": 60,
   "id": "63381145-5e3a-48a9-8f04-3db73a83e224",
   "metadata": {},
   "outputs": [
    {
     "data": {
      "text/plain": [
       "[1] 3"
      ]
     },
     "metadata": {},
     "output_type": "display_data"
    }
   ],
   "source": [
    "max(vec)"
   ]
  },
  {
   "cell_type": "markdown",
   "id": "da685b15-9b00-4849-bf19-12bc5de708f0",
   "metadata": {},
   "source": [
    "`추가 학습`: \n",
    "``` \n",
    "입력\n",
    "3 4 5 1\n",
    "7 7 7 2\n",
    "8 1 8 2\n",
    "3 3 4 5\n",
    "\n",
    "출력은 ? \n",
    "```"
   ]
  },
  {
   "cell_type": "code",
   "execution_count": 63,
   "id": "12e67b08-8e99-4f71-9f91-10bb56dcb08f",
   "metadata": {},
   "outputs": [
    {
     "data": {
      "text/plain": [
       "     [,1] [,2] [,3] [,4]\n",
       "[1,] 3    4    5    1   \n",
       "[2,] 7    7    7    2   \n",
       "[3,] 8    1    8    2   \n",
       "[4,] 3    3    4    5   "
      ]
     },
     "metadata": {},
     "output_type": "display_data"
    }
   ],
   "source": [
    "a <- rbind(c(3,4,5,1),c(7,7,7,2),c(8,1,8,2),c(3,3,4,5))\n",
    "a"
   ]
  },
  {
   "cell_type": "code",
   "execution_count": 64,
   "id": "71cccd5b-f070-413c-a3b7-3f605b437350",
   "metadata": {},
   "outputs": [
    {
     "data": {
      "text/plain": [
       "[1] 1 2 1 3"
      ]
     },
     "metadata": {},
     "output_type": "display_data"
    }
   ],
   "source": [
    "vec <- c()\n",
    "for (i in 1:4) vec[i] <- min(a[i,])\n",
    "vec"
   ]
  },
  {
   "cell_type": "code",
   "execution_count": 65,
   "id": "ea299915-55fd-4159-9763-0464a178fd12",
   "metadata": {},
   "outputs": [
    {
     "data": {
      "text/plain": [
       "[1] 3"
      ]
     },
     "metadata": {},
     "output_type": "display_data"
    }
   ],
   "source": [
    "max(vec)"
   ]
  },
  {
   "cell_type": "markdown",
   "id": "dff09091-f02d-4115-a59a-125de4027c6c",
   "metadata": {},
   "source": [
    "---"
   ]
  },
  {
   "cell_type": "markdown",
   "id": "b3ff6ce5-830d-4210-b02b-7979973c1e6e",
   "metadata": {
    "tags": []
   },
   "source": [
    "## 2021-10-21 lecture"
   ]
  },
  {
   "cell_type": "markdown",
   "id": "e6c2635d-f7ae-420c-8673-779b51595a09",
   "metadata": {
    "jp-MarkdownHeadingCollapsed": true,
    "tags": []
   },
   "source": [
    "### apply를 이용한 풀이   "
   ]
  },
  {
   "cell_type": "markdown",
   "id": "17bdaee1-fe5f-4eb9-99ce-e97bb008a51f",
   "metadata": {},
   "source": [
    "``` \n",
    "입력\n",
    "3 4 5 1\n",
    "7 7 7 2\n",
    "8 1 8 2\n",
    "3 3 4 5\n",
    "\n",
    "출력은 ? \n",
    "```"
   ]
  },
  {
   "cell_type": "markdown",
   "id": "b7075e33-16b5-4313-afdc-640c0897fd75",
   "metadata": {},
   "source": [
    "**step 1: apply함수를 사용하여 각 row에 min을 구한다.**"
   ]
  },
  {
   "cell_type": "code",
   "execution_count": 9,
   "id": "cf8c42a0-cfcd-4628-aac0-fe5023a87d41",
   "metadata": {},
   "outputs": [
    {
     "data": {
      "text/plain": [
       "     [,1] [,2] [,3] [,4]\n",
       "[1,] 3    4    5    1   \n",
       "[2,] 7    7    7    2   \n",
       "[3,] 8    1    8    2   \n",
       "[4,] 3    3    4    5   "
      ]
     },
     "metadata": {},
     "output_type": "display_data"
    }
   ],
   "source": [
    "a = rbind(c(3,4,5,1), c(7,7,7,2), c(8,1,8,2), c(3,3,4,5))\n",
    "a"
   ]
  },
  {
   "cell_type": "code",
   "execution_count": 69,
   "id": "6120d383-4628-405d-bf33-c0c8cb07741e",
   "metadata": {},
   "outputs": [
    {
     "data": {
      "text/plain": [
       "[1] 1 2 1 3"
      ]
     },
     "metadata": {},
     "output_type": "display_data"
    }
   ],
   "source": [
    "apply(a,1,min) # a= 입력 메트릭스, 1= 입력메트릭스의 각 row에 어떠한 함수를 적용"
   ]
  },
  {
   "cell_type": "code",
   "execution_count": 71,
   "id": "3f0d39c1-da2f-40d6-b597-7461018f9cd9",
   "metadata": {},
   "outputs": [
    {
     "data": {
      "text/plain": [
       "[1] 1 2 1 3"
      ]
     },
     "metadata": {},
     "output_type": "display_data"
    }
   ],
   "source": [
    "a %>% apply(1,min) # 위의 코드와 같음."
   ]
  },
  {
   "cell_type": "markdown",
   "id": "da134040-31af-41f1-a882-84eaac767dbf",
   "metadata": {},
   "source": [
    "**step2: step1의 결과에 max를 취한다.**"
   ]
  },
  {
   "cell_type": "code",
   "execution_count": 72,
   "id": "7054b675-4589-4a18-a051-af936a2a15c1",
   "metadata": {},
   "outputs": [
    {
     "data": {
      "text/plain": [
       "[1] 3"
      ]
     },
     "metadata": {},
     "output_type": "display_data"
    }
   ],
   "source": [
    "max(apply(a,1,min))"
   ]
  },
  {
   "cell_type": "code",
   "execution_count": 74,
   "id": "8e8c1893-ce97-4ad7-b047-449233953069",
   "metadata": {},
   "outputs": [
    {
     "data": {
      "text/plain": [
       "[1] 3"
      ]
     },
     "metadata": {},
     "output_type": "display_data"
    }
   ],
   "source": [
    "a %>% apply(1,min) %>% max # 역시 위와 같은 코드"
   ]
  },
  {
   "cell_type": "markdown",
   "id": "f88f655c-7855-4db8-9b58-a640f33b513f",
   "metadata": {
    "tags": []
   },
   "source": [
    "### 카드뽑기 게임에서 우리가 배울만한 프로그래밍 문법들"
   ]
  },
  {
   "cell_type": "markdown",
   "id": "e521a83b-315c-4338-809e-e779bb26e18f",
   "metadata": {
    "jp-MarkdownHeadingCollapsed": true,
    "tags": []
   },
   "source": [
    "#### `1.` 매트릭스를 선언하는 방법\n",
    "`-` 방법 1: rbind(row vector)"
   ]
  },
  {
   "cell_type": "code",
   "execution_count": 75,
   "id": "60a3e6fc-4c20-4b5b-8e65-85a38fc59cd6",
   "metadata": {},
   "outputs": [
    {
     "data": {
      "text/plain": [
       "     [,1] [,2] [,3] [,4]\n",
       "[1,] 4    3    2    1   \n",
       "[2,] 1    2    3    4   "
      ]
     },
     "metadata": {},
     "output_type": "display_data"
    }
   ],
   "source": [
    "rbind(c(4,3,2,1),c(1,2,3,4))"
   ]
  },
  {
   "cell_type": "markdown",
   "id": "ed26c271-51cc-4e92-bdd5-77c1668d88d0",
   "metadata": {},
   "source": [
    "`-` 방법 2: cbind(column vector)"
   ]
  },
  {
   "cell_type": "code",
   "execution_count": 82,
   "id": "03731084-2c97-4430-bd70-b5a6ed937c82",
   "metadata": {},
   "outputs": [
    {
     "data": {
      "text/plain": [
       "     [,1] [,2]\n",
       "[1,] 4    1   \n",
       "[2,] 3    2   \n",
       "[3,] 2    3   \n",
       "[4,] 1    4   "
      ]
     },
     "metadata": {},
     "output_type": "display_data"
    }
   ],
   "source": [
    "cbind(c(4,3,2,1),c(1,2,3,4))"
   ]
  },
  {
   "cell_type": "markdown",
   "id": "3deb269c-f484-4120-a6a7-8d832048a45c",
   "metadata": {},
   "source": [
    "`참고:` 만들어진 매트릭스의 차원(dimension)을 확인하는 방법 -> dim"
   ]
  },
  {
   "cell_type": "code",
   "execution_count": 83,
   "id": "048c6b8d-fc07-4249-bcdb-d7545c98ce9d",
   "metadata": {},
   "outputs": [
    {
     "data": {
      "text/plain": [
       "     [,1] [,2] [,3] [,4]\n",
       "[1,] 4    3    2    1   \n",
       "[2,] 1    2    3    4   "
      ]
     },
     "metadata": {},
     "output_type": "display_data"
    }
   ],
   "source": [
    "a= rbind(c(4,3,2,1),c(1,2,3,4))\n",
    "a"
   ]
  },
  {
   "cell_type": "code",
   "execution_count": 84,
   "id": "0ba65e39-cb7b-4a70-85cd-89d51aea2f0a",
   "metadata": {},
   "outputs": [
    {
     "data": {
      "text/plain": [
       "[1] 2 4"
      ]
     },
     "metadata": {},
     "output_type": "display_data"
    }
   ],
   "source": [
    "dim(a)"
   ]
  },
  {
   "cell_type": "code",
   "execution_count": 85,
   "id": "c9d081b0-c51b-4077-ac9c-b247794cb2a7",
   "metadata": {},
   "outputs": [
    {
     "data": {
      "text/plain": [
       "     [,1] [,2]\n",
       "[1,] 4    1   \n",
       "[2,] 3    2   \n",
       "[3,] 2    3   \n",
       "[4,] 1    4   "
      ]
     },
     "metadata": {},
     "output_type": "display_data"
    }
   ],
   "source": [
    "a= cbind(c(4,3,2,1),c(1,2,3,4))\n",
    "a"
   ]
  },
  {
   "cell_type": "code",
   "execution_count": 86,
   "id": "acaefcdf-f56d-4cce-883b-385db1652a3d",
   "metadata": {},
   "outputs": [
    {
     "data": {
      "text/plain": [
       "[1] 4 2"
      ]
     },
     "metadata": {},
     "output_type": "display_data"
    }
   ],
   "source": [
    "dim(a)"
   ]
  },
  {
   "cell_type": "markdown",
   "id": "e1091aea-0542-4ea8-993b-da5b15d48de0",
   "metadata": {},
   "source": [
    "`-` 방법 3: 벡터를 선언하고 dim()를 이용하여 차원을 강제셋팅"
   ]
  },
  {
   "cell_type": "code",
   "execution_count": 88,
   "id": "b5cfc15e-8ff5-41f5-ab51-d3c282570b89",
   "metadata": {},
   "outputs": [
    {
     "data": {
      "text/plain": [
       "[1] 1 2 3 4 5 6 7 8"
      ]
     },
     "metadata": {},
     "output_type": "display_data"
    }
   ],
   "source": [
    "a = 1:8\n",
    "a"
   ]
  },
  {
   "cell_type": "code",
   "execution_count": 89,
   "id": "68486b68-e499-4d55-850f-13700cac51e0",
   "metadata": {},
   "outputs": [
    {
     "data": {
      "text/plain": [
       "NULL"
      ]
     },
     "metadata": {},
     "output_type": "display_data"
    }
   ],
   "source": [
    "dim(a)"
   ]
  },
  {
   "cell_type": "code",
   "execution_count": 90,
   "id": "ea287bdd-62f0-4029-8ffb-9f65b0a4b006",
   "metadata": {},
   "outputs": [],
   "source": [
    "dim(a) <- c(2,4) # 차원을 강제 셋팅"
   ]
  },
  {
   "cell_type": "code",
   "execution_count": 92,
   "id": "d6fc5472-c932-4e0a-8e5f-35de0648aea0",
   "metadata": {},
   "outputs": [
    {
     "data": {
      "text/plain": [
       "[1] 2 4"
      ]
     },
     "metadata": {},
     "output_type": "display_data"
    }
   ],
   "source": [
    "dim(a)"
   ]
  },
  {
   "cell_type": "code",
   "execution_count": 93,
   "id": "a3159df3-6a9d-4c62-af81-2ee4e66fb121",
   "metadata": {},
   "outputs": [
    {
     "data": {
      "text/plain": [
       "     [,1] [,2] [,3] [,4]\n",
       "[1,] 1    3    5    7   \n",
       "[2,] 2    4    6    8   "
      ]
     },
     "metadata": {},
     "output_type": "display_data"
    }
   ],
   "source": [
    "a"
   ]
  },
  {
   "cell_type": "code",
   "execution_count": 99,
   "id": "f066fd05-761e-4d13-a1f2-4fc35b8adc4d",
   "metadata": {},
   "outputs": [
    {
     "data": {
      "text/plain": [
       "[1] 4 2"
      ]
     },
     "metadata": {},
     "output_type": "display_data"
    }
   ],
   "source": [
    "dim(a) <- c(4,2) # 차원을 강제 셋팅\n",
    "dim(a)"
   ]
  },
  {
   "cell_type": "code",
   "execution_count": 100,
   "id": "5ca0341e-b02c-4a03-8320-388e1ed082d9",
   "metadata": {},
   "outputs": [
    {
     "data": {
      "text/plain": [
       "     [,1] [,2]\n",
       "[1,] 1    5   \n",
       "[2,] 2    6   \n",
       "[3,] 3    7   \n",
       "[4,] 4    8   "
      ]
     },
     "metadata": {},
     "output_type": "display_data"
    }
   ],
   "source": [
    "a"
   ]
  },
  {
   "cell_type": "code",
   "execution_count": 101,
   "id": "07ffe6de-cb77-4449-a0cf-d369b5b8c5bf",
   "metadata": {},
   "outputs": [
    {
     "ename": "ERROR",
     "evalue": "Error in dim(a) <- c(3, 3): dims [product 9]가 객체 [8]의 길이와 일치하지 않습니다\n",
     "output_type": "error",
     "traceback": [
      "Error in dim(a) <- c(3, 3): dims [product 9]가 객체 [8]의 길이와 일치하지 않습니다\nTraceback:\n"
     ]
    }
   ],
   "source": [
    "dim(a) <- c(3,3) # 차원이 맞지 않기에 오류"
   ]
  },
  {
   "cell_type": "markdown",
   "id": "a9f84256-5744-4dc3-858c-2c058663dab2",
   "metadata": {
    "jp-MarkdownHeadingCollapsed": true,
    "tags": []
   },
   "source": [
    "#### `2.` 메트릭스의 원소를 뽑는 방법"
   ]
  },
  {
   "cell_type": "code",
   "execution_count": 102,
   "id": "2b781222-f012-4d92-a7dd-3f1dd80559e7",
   "metadata": {},
   "outputs": [
    {
     "data": {
      "text/plain": [
       "     [,1] [,2] [,3] [,4]\n",
       "[1,] 5    1    3    4   \n",
       "[2,] 4    3    5    6   \n",
       "[3,] 0    1    5    8   "
      ]
     },
     "metadata": {},
     "output_type": "display_data"
    }
   ],
   "source": [
    "a= rbind(c(5,1,3,4), c(4,3,5,6), c(0,1,5,8))\n",
    "a"
   ]
  },
  {
   "cell_type": "markdown",
   "id": "aa215d6b-8b48-441a-bec3-26a3203fe6e6",
   "metadata": {},
   "source": [
    "`-` 1열 뽑기"
   ]
  },
  {
   "cell_type": "code",
   "execution_count": 103,
   "id": "e2df25be-2134-46c1-831a-439dd4488e1c",
   "metadata": {},
   "outputs": [
    {
     "data": {
      "text/plain": [
       "[1] 5 4 0"
      ]
     },
     "metadata": {},
     "output_type": "display_data"
    }
   ],
   "source": [
    "a[,1]"
   ]
  },
  {
   "cell_type": "markdown",
   "id": "9ea1d44e-d5fc-4b9d-a54f-22107a9347b5",
   "metadata": {},
   "source": [
    "`-` 1열, 4열 뽑기"
   ]
  },
  {
   "cell_type": "code",
   "execution_count": 104,
   "id": "5e805a5e-a361-4649-8e8d-f964d714af0b",
   "metadata": {},
   "outputs": [
    {
     "data": {
      "text/plain": [
       "     [,1] [,2]\n",
       "[1,] 5    4   \n",
       "[2,] 4    6   \n",
       "[3,] 0    8   "
      ]
     },
     "metadata": {},
     "output_type": "display_data"
    }
   ],
   "source": [
    "a[,c(1,4)]"
   ]
  },
  {
   "cell_type": "markdown",
   "id": "4b22f668-8410-430a-ae78-9fb21e909a8d",
   "metadata": {},
   "source": [
    "`-` 2행 뽑기"
   ]
  },
  {
   "cell_type": "code",
   "execution_count": 105,
   "id": "5f6805bc-4711-4153-9f47-6170358843b0",
   "metadata": {},
   "outputs": [
    {
     "data": {
      "text/plain": [
       "[1] 4 3 5 6"
      ]
     },
     "metadata": {},
     "output_type": "display_data"
    }
   ],
   "source": [
    "a[2,]"
   ]
  },
  {
   "cell_type": "markdown",
   "id": "ec6fd6ec-e546-47bd-9eb6-1e71d1fe5903",
   "metadata": {},
   "source": [
    "`-` 1행, 3행 뽑기"
   ]
  },
  {
   "cell_type": "code",
   "execution_count": 106,
   "id": "ae3fcb4f-1ff0-46ec-b35a-a4b97a2923aa",
   "metadata": {},
   "outputs": [
    {
     "data": {
      "text/plain": [
       "     [,1] [,2] [,3] [,4]\n",
       "[1,] 5    1    3    4   \n",
       "[2,] 0    1    5    8   "
      ]
     },
     "metadata": {},
     "output_type": "display_data"
    }
   ],
   "source": [
    "a[c(1,3),]"
   ]
  },
  {
   "cell_type": "markdown",
   "id": "43608fb9-f44c-41f8-a8f1-5f207b395be5",
   "metadata": {},
   "source": [
    "`-` 2행 4열 뽑기"
   ]
  },
  {
   "cell_type": "code",
   "execution_count": 108,
   "id": "48138759-2845-416b-849c-d027e58cb1ef",
   "metadata": {},
   "outputs": [
    {
     "data": {
      "text/plain": [
       "[1] 6"
      ]
     },
     "metadata": {},
     "output_type": "display_data"
    }
   ],
   "source": [
    "a[2,4]"
   ]
  },
  {
   "cell_type": "markdown",
   "id": "f18e5c7c-bfd5-4f13-9593-42f81865dde3",
   "metadata": {},
   "source": [
    "`-` 1행, 3행과 4열 뽑기"
   ]
  },
  {
   "cell_type": "code",
   "execution_count": 110,
   "id": "3dd04d3e-030a-47de-ab15-dd9b577a5d7d",
   "metadata": {},
   "outputs": [
    {
     "data": {
      "text/plain": [
       "[1] 4 8"
      ]
     },
     "metadata": {},
     "output_type": "display_data"
    }
   ],
   "source": [
    "a[c(1,3),4]"
   ]
  },
  {
   "cell_type": "markdown",
   "id": "dc220d91-53e1-4d7d-9c7d-0e4aa37f46d2",
   "metadata": {
    "jp-MarkdownHeadingCollapsed": true,
    "tags": []
   },
   "source": [
    "#### 매트릭스를 쓰는 이유:\n",
    "##### `-` 바둑판 구조의 자료형을 표현하기 위해서 = 자료를 바둑판 구조로 저장하기 위해서\n",
    "##### `-` 자료를 바둑판(2d-array), 나아가 큐브형태(3d-array)로 저장하면 어떠한 이점이 있는가?\n",
    "##### `-` 그렇다면 자료를 벡터(1d-array)로 저장하면 어떠한 이점이 있는가?\n",
    "- 프로그래밍 구조상의 이점\n",
    "- 계산상의 이점"
   ]
  },
  {
   "cell_type": "markdown",
   "id": "e02a7ec3-c030-4f0b-9889-5b1a5ae2bf76",
   "metadata": {
    "jp-MarkdownHeadingCollapsed": true,
    "tags": []
   },
   "source": [
    "#### apply함수\n",
    "``` R\n",
    "사용법: apply(매트릭스, 1, 특정함수)\n",
    "-> 어떠한 특정함수가 각각의 row에 적용되어서 array로 저장된다.\n",
    "- 여기서 특정함수는 \"벡터 입력 - 스칼라 출력\"이라 생각하자. 즉 벡터가 입력되면 스칼라가 출력되는 함수만 apply가 가능하다고 생각하자.(사실 그렇지는 않음)\n",
    "```"
   ]
  },
  {
   "cell_type": "markdown",
   "id": "9e218763-093e-40f2-b646-6f88dec6ee23",
   "metadata": {},
   "source": [
    "`-` 예시"
   ]
  },
  {
   "cell_type": "code",
   "execution_count": 111,
   "id": "1e835fdc-c255-4ab7-8ffe-58c3e647e7a0",
   "metadata": {},
   "outputs": [
    {
     "data": {
      "text/plain": [
       "[1] 10"
      ]
     },
     "metadata": {},
     "output_type": "display_data"
    }
   ],
   "source": [
    "sum(c(3,3,2,2))"
   ]
  },
  {
   "cell_type": "markdown",
   "id": "084626e9-27da-413d-82a1-745fe08c7ebe",
   "metadata": {},
   "source": [
    "- (3,3,2,2)라는 벡터 입력 -> 10이라는 스칼라 출력"
   ]
  },
  {
   "cell_type": "code",
   "execution_count": 112,
   "id": "4d58e0e4-a3d4-4765-aa19-96d01f9af86e",
   "metadata": {},
   "outputs": [
    {
     "data": {
      "text/plain": [
       "[1] 2.5"
      ]
     },
     "metadata": {},
     "output_type": "display_data"
    }
   ],
   "source": [
    "mean(c(3,3,2,2))"
   ]
  },
  {
   "cell_type": "markdown",
   "id": "b24d3b74-fe89-4f79-9462-f6a14c1a7091",
   "metadata": {},
   "source": [
    "- (3,3,2,2)라는 벡터 입력 -> 2.5라는 스칼라 출력"
   ]
  },
  {
   "cell_type": "code",
   "execution_count": 113,
   "id": "7ddb62aa-18d0-42ab-8a1c-0eea12ab80bb",
   "metadata": {},
   "outputs": [
    {
     "data": {
      "text/plain": [
       "[1] 1.732051 1.732051 1.414214 1.414214"
      ]
     },
     "metadata": {},
     "output_type": "display_data"
    }
   ],
   "source": [
    "sqrt(c(3,3,2,2))"
   ]
  },
  {
   "cell_type": "markdown",
   "id": "f495724c-4415-45c7-af48-34c1f73a708d",
   "metadata": {},
   "source": [
    "- (3,3,2,2)라는 벡터 입력 -> (1.732051, 1.732051, 1.414214, 1.414214)라는 벡터 출력\n",
    "- 조건에 해당하지 않음"
   ]
  },
  {
   "cell_type": "markdown",
   "id": "71e4a75a-169e-44d4-8fcd-18ad7ddd9c4c",
   "metadata": {},
   "source": [
    "`apply에 적용`"
   ]
  },
  {
   "cell_type": "code",
   "execution_count": 114,
   "id": "051390ea-c704-4eec-b5e1-c9167e8ecba9",
   "metadata": {},
   "outputs": [
    {
     "data": {
      "text/plain": [
       "     [,1] [,2] [,3] [,4]\n",
       "[1,] 5    1    3    4   \n",
       "[2,] 4    3    5    6   \n",
       "[3,] 0    1    5    8   "
      ]
     },
     "metadata": {},
     "output_type": "display_data"
    }
   ],
   "source": [
    "a"
   ]
  },
  {
   "cell_type": "code",
   "execution_count": 115,
   "id": "d6811e50-0cfd-4f65-a984-90fc00d64aa9",
   "metadata": {},
   "outputs": [
    {
     "data": {
      "text/plain": [
       "[1] 13 18 14"
      ]
     },
     "metadata": {},
     "output_type": "display_data"
    }
   ],
   "source": [
    "apply(a,1,sum)"
   ]
  },
  {
   "cell_type": "code",
   "execution_count": 116,
   "id": "da03830c-fa3a-4bd8-beed-3c8a24b29869",
   "metadata": {},
   "outputs": [
    {
     "data": {
      "text/plain": [
       "[1] 3.25 4.50 3.50"
      ]
     },
     "metadata": {},
     "output_type": "display_data"
    }
   ],
   "source": [
    "apply(a,1,mean)"
   ]
  },
  {
   "cell_type": "code",
   "execution_count": 117,
   "id": "64588aed-67a2-4ddd-82f6-90105da184c9",
   "metadata": {},
   "outputs": [
    {
     "data": {
      "text/plain": [
       "[1] 1 3 0"
      ]
     },
     "metadata": {},
     "output_type": "display_data"
    }
   ],
   "source": [
    "apply(a,1,min)"
   ]
  },
  {
   "cell_type": "code",
   "execution_count": 118,
   "id": "1c1430e6-ccc3-4065-9cbf-134cc2d7a332",
   "metadata": {},
   "outputs": [
    {
     "data": {
      "text/plain": [
       "[1] 5 6 8"
      ]
     },
     "metadata": {},
     "output_type": "display_data"
    }
   ],
   "source": [
    "apply(a,1,max)"
   ]
  },
  {
   "cell_type": "markdown",
   "id": "47816f53-86a1-4668-a98b-6097c9e37bdc",
   "metadata": {},
   "source": [
    "`-` 사용자가 정의한 함수에도 적용가능하다."
   ]
  },
  {
   "cell_type": "code",
   "execution_count": 119,
   "id": "b1547101-4112-4c13-b947-41e8e78d450b",
   "metadata": {},
   "outputs": [],
   "source": [
    "f = function(a) (min(a)-1)^2+7"
   ]
  },
  {
   "cell_type": "code",
   "execution_count": 120,
   "id": "8a8b1df3-d81e-49a6-b9bf-02d623f5d744",
   "metadata": {},
   "outputs": [
    {
     "data": {
      "text/plain": [
       "[1]  7 11  8"
      ]
     },
     "metadata": {},
     "output_type": "display_data"
    }
   ],
   "source": [
    "apply(a,1,f)"
   ]
  },
  {
   "cell_type": "markdown",
   "id": "ca3aae9f-2523-4ded-a78e-1f7f31cd8655",
   "metadata": {},
   "source": [
    "`-` apply(매트릭스, 2, 특정함수) -> 1을 2로 바꾸면 특정함수가 row가 아닌 각각의 column에 적용되어 결과가 array로 저장된다."
   ]
  },
  {
   "cell_type": "code",
   "execution_count": 121,
   "id": "6395876d-9789-430e-ad61-096e68584f64",
   "metadata": {},
   "outputs": [
    {
     "data": {
      "text/plain": [
       "     [,1] [,2] [,3] [,4]\n",
       "[1,] 5    1    3    4   \n",
       "[2,] 4    3    5    6   \n",
       "[3,] 0    1    5    8   "
      ]
     },
     "metadata": {},
     "output_type": "display_data"
    }
   ],
   "source": [
    "a"
   ]
  },
  {
   "cell_type": "code",
   "execution_count": 122,
   "id": "f443fe2b-1d6e-41a8-8890-56e8f764a9e8",
   "metadata": {},
   "outputs": [
    {
     "data": {
      "text/plain": [
       "[1]  9  5 13 18"
      ]
     },
     "metadata": {},
     "output_type": "display_data"
    }
   ],
   "source": [
    "apply(a,2,sum)"
   ]
  },
  {
   "cell_type": "code",
   "execution_count": 125,
   "id": "660f7af2-4a2b-4e66-9a4d-b0ecfccfe3c6",
   "metadata": {},
   "outputs": [
    {
     "data": {
      "text/plain": [
       "[1] 3.000000 1.666667 4.333333 6.000000"
      ]
     },
     "metadata": {},
     "output_type": "display_data"
    }
   ],
   "source": [
    "apply(a,2,mean)"
   ]
  },
  {
   "cell_type": "code",
   "execution_count": 123,
   "id": "c5c1684a-7bd7-4c20-a522-dfefbef812b1",
   "metadata": {},
   "outputs": [
    {
     "data": {
      "text/plain": [
       "[1] 5 3 5 8"
      ]
     },
     "metadata": {},
     "output_type": "display_data"
    }
   ],
   "source": [
    "apply(a,2,max)"
   ]
  },
  {
   "cell_type": "code",
   "execution_count": 126,
   "id": "1fd7260d-6603-4e4a-ad74-4edfbeb80973",
   "metadata": {},
   "outputs": [
    {
     "data": {
      "text/plain": [
       "[1]  8  7 11 16"
      ]
     },
     "metadata": {},
     "output_type": "display_data"
    }
   ],
   "source": [
    "apply(a,2,f)"
   ]
  },
  {
   "cell_type": "markdown",
   "id": "0a9874b0-9fc9-456c-b2de-63a344f5f365",
   "metadata": {
    "jp-MarkdownHeadingCollapsed": true,
    "tags": []
   },
   "source": [
    "#### **%>% 연산자($\\star\\star\\star\\star\\star$)**\n",
    ": 매우 중요함 !"
   ]
  },
  {
   "cell_type": "code",
   "execution_count": 127,
   "id": "087f7c9a-4351-4061-a866-b43ed151b679",
   "metadata": {},
   "outputs": [
    {
     "data": {
      "text/plain": [
       "[1] 55"
      ]
     },
     "metadata": {},
     "output_type": "display_data"
    }
   ],
   "source": [
    "sum(1:10)"
   ]
  },
  {
   "cell_type": "code",
   "execution_count": 128,
   "id": "1b4479d5-5e76-4083-8b9b-58737cf60a72",
   "metadata": {},
   "outputs": [
    {
     "data": {
      "text/plain": [
       "[1] 55"
      ]
     },
     "metadata": {},
     "output_type": "display_data"
    }
   ],
   "source": [
    "1:10 %>% sum()"
   ]
  },
  {
   "cell_type": "code",
   "execution_count": 129,
   "id": "3a9a941e-f9a6-4ffd-921d-bccba71e1e0e",
   "metadata": {},
   "outputs": [
    {
     "data": {
      "text/plain": [
       "[1] 55"
      ]
     },
     "metadata": {},
     "output_type": "display_data"
    }
   ],
   "source": [
    "1:10 %>% sum"
   ]
  },
  {
   "cell_type": "markdown",
   "id": "c1b47f64-c0c3-48e0-8ba0-a77e27860ee9",
   "metadata": {},
   "source": [
    "- 위 세 개는 동일한 코드이다. 즉 ()는 생략 가능하다"
   ]
  },
  {
   "cell_type": "code",
   "execution_count": 130,
   "id": "104663d6-b42a-4158-9405-6ffe871a182c",
   "metadata": {},
   "outputs": [],
   "source": [
    "myfun = function(x,y) x**2+y"
   ]
  },
  {
   "cell_type": "code",
   "execution_count": 134,
   "id": "d54c1132-59d1-4d15-adb5-813bd60192b9",
   "metadata": {},
   "outputs": [
    {
     "data": {
      "text/plain": [
       "[1] 14"
      ]
     },
     "metadata": {},
     "output_type": "display_data"
    }
   ],
   "source": [
    "myfun(3,5)"
   ]
  },
  {
   "cell_type": "code",
   "execution_count": 135,
   "id": "79c91737-bb82-4790-b6c2-1b784c739b4f",
   "metadata": {},
   "outputs": [
    {
     "data": {
      "text/plain": [
       "[1] 14"
      ]
     },
     "metadata": {},
     "output_type": "display_data"
    }
   ],
   "source": [
    "3 %>% myfun(5)"
   ]
  },
  {
   "cell_type": "markdown",
   "id": "69d957e1-c762-4476-a69a-ccda00270bb4",
   "metadata": {},
   "source": [
    "- 위 두 코드는 동일한 코드임"
   ]
  },
  {
   "cell_type": "markdown",
   "id": "2afcf58e-b572-4d79-8699-536ce98a1959",
   "metadata": {},
   "source": [
    "`-` 입력이 세 개인 함수"
   ]
  },
  {
   "cell_type": "code",
   "execution_count": 136,
   "id": "2c2ebb8b-ce63-4092-b81d-fc5f14f2e2b7",
   "metadata": {},
   "outputs": [],
   "source": [
    "myfun2 = function(x,y,z) x**2+y*z"
   ]
  },
  {
   "cell_type": "code",
   "execution_count": 137,
   "id": "4310fe21-f8da-4b86-9376-5cadd7b8ef47",
   "metadata": {},
   "outputs": [
    {
     "data": {
      "text/plain": [
       "[1] 15"
      ]
     },
     "metadata": {},
     "output_type": "display_data"
    }
   ],
   "source": [
    "myfun2(3,3,2)"
   ]
  },
  {
   "cell_type": "code",
   "execution_count": 139,
   "id": "17b99c84-d3a3-49ca-8eaf-7a87576f8ddf",
   "metadata": {},
   "outputs": [
    {
     "data": {
      "text/plain": [
       "[1] 15"
      ]
     },
     "metadata": {},
     "output_type": "display_data"
    }
   ],
   "source": [
    "3 %>% myfun2(3,2)"
   ]
  },
  {
   "cell_type": "markdown",
   "id": "7fc5d3b3-480f-4b11-b767-1745f7131490",
   "metadata": {},
   "source": [
    "- 마찬가지로, 위 두 코드는 동일함"
   ]
  },
  {
   "cell_type": "markdown",
   "id": "4c4185c3-4ba5-42bf-95f3-00536ea7f78c",
   "metadata": {},
   "source": [
    "**`-` %>%를 사용하는 이유: 합성함수 처리에 매우 유용하기 떄문**"
   ]
  },
  {
   "cell_type": "code",
   "execution_count": 145,
   "id": "6b30bbe2-f8cd-4d07-ae30-bec9db231151",
   "metadata": {},
   "outputs": [
    {
     "data": {
      "text/plain": [
       "[1] 4.935136"
      ]
     },
     "metadata": {},
     "output_type": "display_data"
    }
   ],
   "source": [
    "3:6 %>% log %>% sqrt %>% sum %>% myfun2(1,1) %>% sqrt"
   ]
  },
  {
   "cell_type": "markdown",
   "id": "5b87e287-fdcc-4a06-a83f-4d5c69647e78",
   "metadata": {},
   "source": [
    "- 처리하고 싶은대로 즉각적으로 적용 가능"
   ]
  },
  {
   "cell_type": "code",
   "execution_count": 150,
   "id": "1ea9a18e-ac70-4b41-98be-c1e35b276670",
   "metadata": {},
   "outputs": [
    {
     "data": {
      "text/plain": [
       "[1] 4.935136"
      ]
     },
     "metadata": {},
     "output_type": "display_data"
    }
   ],
   "source": [
    "sqrt(myfun2(sum(sqrt(log(3:6))), 1,1))"
   ]
  },
  {
   "cell_type": "markdown",
   "id": "0b479a9a-536e-4eeb-8bfc-df059d70cbb7",
   "metadata": {},
   "source": [
    "- 복잡해질 수록 처리하기 어려워지고 수정이 어려워짐"
   ]
  },
  {
   "cell_type": "markdown",
   "id": "d94bf231-6092-4968-ade2-8b4eec3d4c9b",
   "metadata": {},
   "source": [
    "`-` 다음을 같은 방식으로 처리해보자"
   ]
  },
  {
   "cell_type": "code",
   "execution_count": 151,
   "id": "e5003bd7-b261-4e4f-ace7-bac013c8c1a0",
   "metadata": {},
   "outputs": [
    {
     "data": {
      "text/plain": [
       "[1] 9.180673"
      ]
     },
     "metadata": {},
     "output_type": "display_data"
    }
   ],
   "source": [
    "3:6 %>% log %>% myfun(3) %>% sqrt %>% sum %>% myfun2(1,1) %>% sqrt"
   ]
  },
  {
   "cell_type": "code",
   "execution_count": 156,
   "id": "3af58065-3095-4cb4-bb4c-a472d183a687",
   "metadata": {},
   "outputs": [
    {
     "data": {
      "text/plain": [
       "[1] 9.180673"
      ]
     },
     "metadata": {},
     "output_type": "display_data"
    }
   ],
   "source": [
    "sqrt(myfun2(sum(sqrt(myfun(log(3:6),3))),1,1))"
   ]
  },
  {
   "cell_type": "markdown",
   "id": "e5275a45-6347-4c62-b3a7-52344736009d",
   "metadata": {},
   "source": [
    "- 처음부터 코드를 작성하면 그래도 덜 헷갈리지만, 위에 작성한 코드를 수정하려고 하면 매우 헷갈릴 수 있다."
   ]
  },
  {
   "cell_type": "markdown",
   "id": "173e3029-f327-45fe-8daf-4ed261d95ac6",
   "metadata": {},
   "source": [
    "`-` 아래의 개념차이\n",
    "- $g(h(f(x)))$\n",
    "- $x \\to f \\to h \\to g$"
   ]
  },
  {
   "cell_type": "markdown",
   "id": "6ad573a8-6f0f-4dcc-ad65-a9f0a4a6fb03",
   "metadata": {
    "jp-MarkdownHeadingCollapsed": true,
    "tags": []
   },
   "source": [
    "#### 시간비교"
   ]
  },
  {
   "cell_type": "markdown",
   "id": "f7fa4ff0-0a7a-4ff1-9ab1-f62c6f6e6c43",
   "metadata": {},
   "source": [
    "`-` 시간비교하는 방법   \n",
    ": Sys.time() 사용"
   ]
  },
  {
   "cell_type": "code",
   "execution_count": 164,
   "id": "d41df22f-fc2a-483f-90d6-5d6070a63190",
   "metadata": {},
   "outputs": [],
   "source": [
    "t1= Sys.time()"
   ]
  },
  {
   "cell_type": "code",
   "execution_count": 165,
   "id": "52f54c86-bf84-4a8b-a955-d789e49ecb03",
   "metadata": {},
   "outputs": [],
   "source": [
    "t2= Sys.time()"
   ]
  },
  {
   "cell_type": "code",
   "execution_count": 166,
   "id": "244bcb43-2c02-4966-8324-f4b57b67236c",
   "metadata": {},
   "outputs": [
    {
     "data": {
      "text/plain": [
       "Time difference of 10.89629 secs"
      ]
     },
     "metadata": {},
     "output_type": "display_data"
    }
   ],
   "source": [
    "t2-t1"
   ]
  },
  {
   "cell_type": "markdown",
   "id": "e0ede059-8533-44e9-abc4-d9e5246bc99f",
   "metadata": {},
   "source": [
    "`-` 큰 매트릭스"
   ]
  },
  {
   "cell_type": "code",
   "execution_count": 172,
   "id": "1d089696-e36b-41e5-a967-438a0d7ff49f",
   "metadata": {},
   "outputs": [
    {
     "data": {
      "text/plain": [
       "[1] 4 5 2"
      ]
     },
     "metadata": {},
     "output_type": "display_data"
    }
   ],
   "source": [
    "sample(1:9,size=3) # 1:9까지의 벡터를 생성하고 그 중 중복을 허용하지 않고 랜덤으로 3개를 출력"
   ]
  },
  {
   "cell_type": "code",
   "execution_count": 174,
   "id": "dc70c852-f645-4222-a5d4-15a3e44d5462",
   "metadata": {},
   "outputs": [
    {
     "data": {
      "text/plain": [
       "[1] 9 1 9"
      ]
     },
     "metadata": {},
     "output_type": "display_data"
    }
   ],
   "source": [
    "sample(1:9,size=3,replace=TRUE) # 1:9까지의 벡터를 생성하고 중복을 허용하고 랜덤으로 3개를 출력"
   ]
  },
  {
   "cell_type": "code",
   "execution_count": 175,
   "id": "71a1f44b-8a4a-477e-8b68-045ac7b27837",
   "metadata": {},
   "outputs": [
    {
     "ename": "ERROR",
     "evalue": "Error in sample.int(length(x), size, replace, prob): 'replace = FALSE' 일때는 모집단보다 큰 샘플을 가질 수 없습니다\n",
     "output_type": "error",
     "traceback": [
      "Error in sample.int(length(x), size, replace, prob): 'replace = FALSE' 일때는 모집단보다 큰 샘플을 가질 수 없습니다\nTraceback:\n",
      "1. sample(1:3, size = 4)",
      "2. sample.int(length(x), size, replace, prob)"
     ]
    }
   ],
   "source": [
    "sample(1:3,size=4)"
   ]
  },
  {
   "cell_type": "code",
   "execution_count": 188,
   "id": "dfe287ef-8466-4cb2-9634-ac83c897f946",
   "metadata": {},
   "outputs": [
    {
     "data": {
      "text/plain": [
       "[1] 3 1 3 2"
      ]
     },
     "metadata": {},
     "output_type": "display_data"
    }
   ],
   "source": [
    "sample(1:3,size=4,replace=TRUE)"
   ]
  },
  {
   "cell_type": "code",
   "execution_count": 191,
   "id": "5d128786-72d7-4048-8a1d-26bcbef28077",
   "metadata": {},
   "outputs": [],
   "source": [
    "a=sample(1:9,size = 100*2000000,replace = TRUE)"
   ]
  },
  {
   "cell_type": "code",
   "execution_count": 194,
   "id": "da0979b3-c6e8-4143-84d6-2d208872b51d",
   "metadata": {},
   "outputs": [
    {
     "data": {
      "text/plain": [
       "NULL"
      ]
     },
     "metadata": {},
     "output_type": "display_data"
    }
   ],
   "source": [
    "dim(a)"
   ]
  },
  {
   "cell_type": "code",
   "execution_count": 195,
   "id": "5819ffad-f236-477f-8224-278d0b79596d",
   "metadata": {},
   "outputs": [
    {
     "data": {
      "text/plain": [
       "      [,1] [,2] [,3] [,4] [,5] [,6] [,7] [,8] [,9] [,10] [,11] [,12] [,13]\n",
       " [1,] 5    7    7    9    6    9    4    9    3    7     <U+22EF> 8     2    \n",
       " [2,] 5    7    9    2    8    1    8    9    7    8     <U+22EF> 9     5    \n",
       " [3,] 8    6    2    6    9    4    5    4    8    2     <U+22EF> 7     4    \n",
       " [4,] 6    9    6    7    5    9    6    9    1    7     <U+22EF> 4     3    \n",
       " [5,] 7    4    6    3    3    8    7    2    7    1     <U+22EF> 8     6    \n",
       " [6,] 3    4    8    3    8    9    4    4    2    7     <U+22EF> 2     9    \n",
       " [7,] 3    5    7    1    2    4    5    6    4    7     <U+22EF> 7     6    \n",
       " [8,] 6    2    6    1    8    7    7    6    7    3     <U+22EF> 3     3    \n",
       " [9,] 6    5    2    6    5    4    2    1    5    1     <U+22EF> 9     9    \n",
       "[10,] 7    5    6    5    1    2    9    5    8    7     <U+22EF> 7     1    \n",
       "[11,] 9    3    7    5    4    9    8    8    2    9     <U+22EF> 3     9    \n",
       "[12,] 7    4    9    3    2    3    4    1    7    7     <U+22EF> 4     5    \n",
       "[13,] 2    7    2    8    4    8    9    6    4    8     <U+22EF> 8     5    \n",
       "[14,] 3    3    5    7    2    1    3    1    1    3     <U+22EF> 7     5    \n",
       "[15,] 3    9    7    1    2    4    8    2    2    2     <U+22EF> 9     4    \n",
       "[16,] 5    4    2    3    3    6    9    6    1    2     <U+22EF> 8     4    \n",
       "[17,] 3    9    8    8    1    6    5    7    2    5     <U+22EF> 7     7    \n",
       "[18,] 2    1    5    6    6    4    6    8    7    8     <U+22EF> 1     1    \n",
       "[19,] 2    6    6    1    9    9    9    8    8    7     <U+22EF> 9     7    \n",
       "[20,] 7    5    2    3    9    7    7    1    8    1     <U+22EF> 8     2    \n",
       "[21,] 8    2    8    7    4    8    1    1    8    2     <U+22EF> 9     2    \n",
       "[22,] 2    3    5    9    8    3    3    8    2    4     <U+22EF> 5     2    \n",
       "[23,] 1    9    8    5    5    9    7    8    4    5     <U+22EF> 4     5    \n",
       "[24,] 3    4    3    8    7    5    4    4    2    8     <U+22EF> 6     6    \n",
       "[25,] 2    3    1    3    9    8    4    7    3    4     <U+22EF> 3     5    \n",
       "[26,] 7    2    8    8    2    9    2    2    1    4     <U+22EF> 4     4    \n",
       "[27,] 1    9    9    5    9    1    4    4    1    7     <U+22EF> 1     5    \n",
       "[28,] 4    7    4    8    2    6    1    7    4    2     <U+22EF> 5     4    \n",
       "[29,] 8    1    2    9    9    7    9    7    8    8     <U+22EF> 4     4    \n",
       "[30,] 3    6    7    9    5    1    3    9    9    1     <U+22EF> 3     5    \n",
       "[31,] <U+22EE> <U+22EE> <U+22EE> <U+22EE> <U+22EE> <U+22EE> <U+22EE> <U+22EE> <U+22EE> <U+22EE> <U+22F1> <U+22EE> <U+22EE>\n",
       "[32,] 2    3    9    5    9    8    8    4    9    6     <U+22EF> 5     9    \n",
       "[33,] 2    4    3    4    2    7    8    4    2    9     <U+22EF> 4     1    \n",
       "[34,] 8    6    4    8    3    2    8    4    3    3     <U+22EF> 9     4    \n",
       "[35,] 3    6    2    5    1    2    4    8    2    5     <U+22EF> 9     1    \n",
       "[36,] 4    9    1    8    9    3    6    9    2    7     <U+22EF> 8     4    \n",
       "[37,] 7    3    8    9    1    2    8    5    5    1     <U+22EF> 8     1    \n",
       "[38,] 3    5    6    5    7    1    2    1    3    5     <U+22EF> 4     1    \n",
       "[39,] 8    8    3    8    6    6    2    4    4    4     <U+22EF> 9     5    \n",
       "[40,] 2    8    9    8    1    1    4    8    9    9     <U+22EF> 6     1    \n",
       "[41,] 2    2    5    8    9    5    5    9    8    5     <U+22EF> 2     4    \n",
       "[42,] 2    4    9    9    4    8    9    8    5    3     <U+22EF> 2     5    \n",
       "[43,] 2    3    1    7    2    3    9    9    1    3     <U+22EF> 7     9    \n",
       "[44,] 8    6    2    5    8    8    5    1    7    8     <U+22EF> 1     3    \n",
       "[45,] 7    1    6    1    7    1    6    1    8    9     <U+22EF> 4     9    \n",
       "[46,] 2    8    3    1    7    3    4    5    6    7     <U+22EF> 9     7    \n",
       "[47,] 2    3    1    9    3    6    5    1    2    4     <U+22EF> 5     2    \n",
       "      [,14] [,15] [,16] [,17] [,18] [,19] [,20] [,21]\n",
       " [1,] 6     9     6     9     6     3     3     1    \n",
       " [2,] 9     2     3     7     1     4     8     7    \n",
       " [3,] 2     1     2     2     7     4     3     4    \n",
       " [4,] 8     4     7     7     5     8     5     6    \n",
       " [5,] 8     9     7     5     5     7     7     9    \n",
       " [6,] 6     7     5     4     6     7     9     7    \n",
       " [7,] 3     7     3     4     5     5     4     1    \n",
       " [8,] 2     3     4     6     2     4     5     2    \n",
       " [9,] 7     9     1     6     1     5     2     2    \n",
       "[10,] 5     2     6     2     5     9     8     1    \n",
       "[11,] 9     8     5     6     9     9     5     1    \n",
       "[12,] 8     4     4     6     8     3     9     7    \n",
       "[13,] 5     8     9     3     2     8     4     5    \n",
       "[14,] 6     7     3     8     4     4     9     2    \n",
       "[15,] 6     9     6     5     3     4     5     5    \n",
       "[16,] 3     7     6     4     6     8     9     6    \n",
       "[17,] 4     7     4     3     5     2     6     6    \n",
       "[18,] 4     3     3     9     4     6     8     1    \n",
       "[19,] 7     3     6     6     7     1     6     9    \n",
       "[20,] 3     9     6     3     5     2     1     7    \n",
       "[21,] 7     8     1     7     9     9     5     7    \n",
       "[22,] 6     2     9     5     9     8     2     7    \n",
       "[23,] 8     4     8     2     3     4     1     5    \n",
       "[24,] 8     1     3     2     6     6     4     6    \n",
       "[25,] 1     2     9     4     5     5     9     8    \n",
       "[26,] 3     1     8     4     2     5     7     2    \n",
       "[27,] 7     3     7     7     1     3     9     9    \n",
       "[28,] 5     2     4     1     2     7     9     6    \n",
       "[29,] 3     7     6     1     6     8     6     9    \n",
       "[30,] 5     2     5     9     2     3     5     1    \n",
       "[31,] <U+22EE> <U+22EE> <U+22EE> <U+22EE> <U+22EE> <U+22EE> <U+22EE> <U+22EE>\n",
       "[32,] 2     5     2     5     6     7     9     7    \n",
       "[33,] 6     4     7     7     7     1     5     8    \n",
       "[34,] 1     4     8     5     9     7     5     6    \n",
       "[35,] 5     5     9     2     5     4     2     6    \n",
       "[36,] 4     5     4     2     8     7     4     4    \n",
       "[37,] 3     6     8     8     9     6     6     7    \n",
       "[38,] 7     4     1     9     5     1     8     2    \n",
       "[39,] 4     3     8     5     4     2     7     4    \n",
       "[40,] 2     9     8     9     6     8     2     1    \n",
       "[41,] 1     2     3     6     3     2     6     8    \n",
       "[42,] 2     1     6     4     5     9     9     8    \n",
       "[43,] 6     3     7     8     2     2     4     5    \n",
       "[44,] 8     5     2     3     5     8     9     1    \n",
       "[45,] 2     4     3     8     6     2     7     6    \n",
       "[46,] 5     9     9     4     7     9     2     3    \n",
       "[47,] 6     8     9     1     8     7     1     3    \n",
       " [ getOption(\"max.print\") 에 도달했습니다 -- 14 행들을 생략합니다 ]"
      ]
     },
     "metadata": {},
     "output_type": "display_data"
    }
   ],
   "source": [
    "dim(a) <- c(2000000,100)\n",
    "a"
   ]
  },
  {
   "cell_type": "code",
   "execution_count": 199,
   "id": "a0e71594-f458-480d-893f-9f7c5ee37f2d",
   "metadata": {},
   "outputs": [
    {
     "data": {
      "text/plain": [
       "[1] 2"
      ]
     },
     "metadata": {},
     "output_type": "display_data"
    },
    {
     "data": {
      "text/plain": [
       "Time difference of 15.50931 secs"
      ]
     },
     "metadata": {},
     "output_type": "display_data"
    }
   ],
   "source": [
    "t1= Sys.time()\n",
    "a %>% apply(1,min) %>% max\n",
    "t2= Sys.time()\n",
    "t2-t1"
   ]
  },
  {
   "cell_type": "code",
   "execution_count": 210,
   "id": "328ab050-3859-44b9-a3fd-47d88ea6b43e",
   "metadata": {},
   "outputs": [
    {
     "data": {
      "text/plain": [
       "[1] 2"
      ]
     },
     "metadata": {},
     "output_type": "display_data"
    },
    {
     "data": {
      "text/plain": [
       "Time difference of 8.893018 secs"
      ]
     },
     "metadata": {},
     "output_type": "display_data"
    }
   ],
   "source": [
    "t1= Sys.time()\n",
    "vec <- c()\n",
    "for (i in 1:2000000) vec[i] <- min(a[i,])\n",
    "max(vec)\n",
    "t2= Sys.time()\n",
    "t2-t1"
   ]
  },
  {
   "cell_type": "markdown",
   "id": "8c059aad-c96e-453a-ad56-99d720cc4101",
   "metadata": {},
   "source": [
    "- 위에 1:2000000은 행의 수를 알고 있어야 하기 때문에 확장성이 떨어진다고 할 수 있다. 아래와 같은 코드는 행의 수를 몰라도 되기 때문에 확장성이 있다."
   ]
  },
  {
   "cell_type": "code",
   "execution_count": 202,
   "id": "d55cba48-5bd3-4b4b-b5e1-29a7514bea85",
   "metadata": {},
   "outputs": [
    {
     "data": {
      "text/plain": [
       "[1] 2000000     100"
      ]
     },
     "metadata": {},
     "output_type": "display_data"
    }
   ],
   "source": [
    "dim(a)"
   ]
  },
  {
   "cell_type": "code",
   "execution_count": 203,
   "id": "77a5a856-7d81-4648-94c3-697b0902c3ed",
   "metadata": {},
   "outputs": [
    {
     "data": {
      "text/plain": [
       "[1] 2000000"
      ]
     },
     "metadata": {},
     "output_type": "display_data"
    }
   ],
   "source": [
    "dim(a)[1]"
   ]
  },
  {
   "cell_type": "code",
   "execution_count": 211,
   "id": "69ff59dd-a82b-417f-a148-efc5dbc7c1dd",
   "metadata": {},
   "outputs": [
    {
     "data": {
      "text/plain": [
       "[1] 2"
      ]
     },
     "metadata": {},
     "output_type": "display_data"
    },
    {
     "data": {
      "text/plain": [
       "Time difference of 7.932614 secs"
      ]
     },
     "metadata": {},
     "output_type": "display_data"
    }
   ],
   "source": [
    "t1=Sys.time()\n",
    "vex <- c()\n",
    "for (i in 1:(dim(a)[1])) vec[i] <- min(a[i,])\n",
    "max(vec)\n",
    "t2=Sys.time()\n",
    "t2-t1"
   ]
  },
  {
   "cell_type": "markdown",
   "id": "e2ca8f4a-634f-4ea3-9f49-98993d09044a",
   "metadata": {},
   "source": [
    "- for문이 좀 더 빠르지만, 코드는 apply가 더 간결하다."
   ]
  }
 ],
 "metadata": {
  "kernelspec": {
   "display_name": "R",
   "language": "R",
   "name": "ir"
  },
  "language_info": {
   "codemirror_mode": "r",
   "file_extension": ".r",
   "mimetype": "text/x-r-source",
   "name": "R",
   "pygments_lexer": "r",
   "version": "4.0.5"
  }
 },
 "nbformat": 4,
 "nbformat_minor": 5
}
