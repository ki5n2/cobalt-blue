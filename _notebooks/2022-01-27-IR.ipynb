{
  "cells": [
    {
      "cell_type": "markdown",
      "source": [
        "# IR 2. 벡터인덱싱, 메인플랏과 서브플랏, 주석이용법\n",
        "> \"작성완료\"\n",
        "\n",
        "- toc:true\n",
        "- branch: master\n",
        "- badges: true\n",
        "- comments: true\n",
        "- [R]"
      ],
      "metadata": {
        "id": "lCiS-mvNIOAn"
      },
      "id": "lCiS-mvNIOAn"
    },
    {
      "cell_type": "markdown",
      "source": [
        "---\n",
        "# Introduce R \n",
        "- lenture: Introduce R_2nd week of lectures.\n",
        "- lecture date: 2021-09-14\n",
        "- lecturer: Guebin choi\n",
        "- study date: 2022-01-27\n",
        "- author: Kione kim\n",
        "---"
      ],
      "metadata": {
        "id": "Qdr9trkdIPjm"
      },
      "id": "Qdr9trkdIPjm"
    },
    {
      "cell_type": "code",
      "execution_count": null,
      "id": "afce5722-c56e-4de3-a0c5-7ee0583641d5",
      "metadata": {
        "id": "afce5722-c56e-4de3-a0c5-7ee0583641d5"
      },
      "outputs": [],
      "source": [
        "options(jupyter.rich_display=FALSE) # print() 사용하지 않아도 동일하게 출력\n",
        "options(jupyter.plot_scale=3) # 숫자가 커질 수록 플랏의 사이즈가 작아짐 \n",
        "options(repr.plot.width=5,repr.plot.height=5,repr.plot.res=200) # 그림의 크기 조절"
      ]
    },
    {
      "cell_type": "markdown",
      "id": "c30b0866-aae9-4c3f-86a4-d77b0c25011d",
      "metadata": {
        "id": "c30b0866-aae9-4c3f-86a4-d77b0c25011d"
      },
      "source": [
        "### 1. 벡터인덱싱\n",
        "\n",
        "#### `1)` 원소 순서에 따른 인덱싱"
      ]
    },
    {
      "cell_type": "code",
      "execution_count": null,
      "id": "b6a09b24-ca8f-4bba-bd95-ba3a34f9ec6c",
      "metadata": {
        "id": "b6a09b24-ca8f-4bba-bd95-ba3a34f9ec6c",
        "outputId": "78d9818b-15d0-44a5-acb8-9ce442267fb1"
      },
      "outputs": [
        {
          "data": {
            "text/plain": [
              "[1]   5 -10  15 -20  25 -30  35"
            ]
          },
          "metadata": {},
          "output_type": "display_data"
        }
      ],
      "source": [
        "x <- c(5,-10,15,-20,25,-30,35)\n",
        "x"
      ]
    },
    {
      "cell_type": "code",
      "execution_count": null,
      "id": "c9f15992-e716-4c41-9ca9-eeb649dd282b",
      "metadata": {
        "id": "c9f15992-e716-4c41-9ca9-eeb649dd282b",
        "outputId": "c2b3b581-9186-444e-e34e-7cc8e6c11cdf"
      },
      "outputs": [
        {
          "data": {
            "text/plain": [
              "[1] 5"
            ]
          },
          "metadata": {},
          "output_type": "display_data"
        }
      ],
      "source": [
        "x[1] # 첫 번째 원소 추출"
      ]
    },
    {
      "cell_type": "code",
      "execution_count": null,
      "id": "1449e0ac-571f-4394-a61f-7a924f00d633",
      "metadata": {
        "id": "1449e0ac-571f-4394-a61f-7a924f00d633",
        "outputId": "9d2bc4aa-ba24-4e85-9e98-da3e38079dfd"
      },
      "outputs": [
        {
          "data": {
            "text/plain": [
              "[1] 15"
            ]
          },
          "metadata": {},
          "output_type": "display_data"
        }
      ],
      "source": [
        "x[3] # 세번째 원소 추출"
      ]
    },
    {
      "cell_type": "code",
      "execution_count": null,
      "id": "55e0874c-293d-43e4-b7d2-b689244d0310",
      "metadata": {
        "id": "55e0874c-293d-43e4-b7d2-b689244d0310",
        "outputId": "68956fe3-9727-40f5-f360-b75d580da822"
      },
      "outputs": [
        {
          "data": {
            "text/plain": [
              "[1] 1 2 3"
            ]
          },
          "metadata": {},
          "output_type": "display_data"
        }
      ],
      "source": [
        "1:3"
      ]
    },
    {
      "cell_type": "code",
      "execution_count": null,
      "id": "1e34bd9a-cc21-45b7-be1b-d6b77d0755b1",
      "metadata": {
        "id": "1e34bd9a-cc21-45b7-be1b-d6b77d0755b1",
        "outputId": "1f4ad537-8b8f-40e7-f2b1-bfdd7d8317a9"
      },
      "outputs": [
        {
          "data": {
            "text/plain": [
              "[1] 1 2 3"
            ]
          },
          "metadata": {},
          "output_type": "display_data"
        }
      ],
      "source": [
        "c(1:3)"
      ]
    },
    {
      "cell_type": "markdown",
      "id": "536b0a52-0cff-4f04-8e2f-f43efb28ed16",
      "metadata": {
        "id": "536b0a52-0cff-4f04-8e2f-f43efb28ed16"
      },
      "source": [
        "- 1:3과 c(1:3)은 같음"
      ]
    },
    {
      "cell_type": "code",
      "execution_count": null,
      "id": "4ed7cd3a-44f3-4a59-8f8c-b047dfd1fb5a",
      "metadata": {
        "id": "4ed7cd3a-44f3-4a59-8f8c-b047dfd1fb5a",
        "outputId": "0aa928b1-f815-4fd6-eebd-0b3072585825"
      },
      "outputs": [
        {
          "data": {
            "text/plain": [
              "[1]   5 -10  15"
            ]
          },
          "metadata": {},
          "output_type": "display_data"
        }
      ],
      "source": [
        "x[1:3] # 첫번째부터 세번째까지의 원소 추출"
      ]
    },
    {
      "cell_type": "code",
      "execution_count": null,
      "id": "d93bf76c-15da-45f2-8799-39b5407fc60f",
      "metadata": {
        "id": "d93bf76c-15da-45f2-8799-39b5407fc60f",
        "outputId": "ae62cea3-2adb-4f64-d6b4-755e31dcdc2d"
      },
      "outputs": [
        {
          "data": {
            "text/plain": [
              "[1]   5 -10  15"
            ]
          },
          "metadata": {},
          "output_type": "display_data"
        }
      ],
      "source": [
        "x[c(1:3)] # c(1:3)은 1:3와 같은 값을 추출하므로 위와 동일한 결과가 나타남"
      ]
    },
    {
      "cell_type": "code",
      "execution_count": null,
      "id": "edbb24cc-a5ba-40ff-9bdb-b7df4026c46f",
      "metadata": {
        "id": "edbb24cc-a5ba-40ff-9bdb-b7df4026c46f",
        "outputId": "c8cecf66-9f9b-4376-eccf-b46f2eb051fc"
      },
      "outputs": [
        {
          "data": {
            "text/plain": [
              "[1]   5 -10  15"
            ]
          },
          "metadata": {},
          "output_type": "display_data"
        }
      ],
      "source": [
        "x[c(1,2,3)] # c(1,2,3)은 c(1:3)와 같고 이는 1:3과 같으므로 이 또한 같다."
      ]
    },
    {
      "cell_type": "code",
      "execution_count": null,
      "id": "c8ff7a57-9334-4285-9d98-e841aafb29b7",
      "metadata": {
        "id": "c8ff7a57-9334-4285-9d98-e841aafb29b7",
        "outputId": "73161674-7a32-4439-8014-0b2bbd8be777"
      },
      "outputs": [
        {
          "ename": "ERROR",
          "evalue": "Error in x[1, 2, 3]: incorrect number of dimensions\n",
          "output_type": "error",
          "traceback": [
            "Error in x[1, 2, 3]: incorrect number of dimensions\nTraceback:\n"
          ]
        }
      ],
      "source": [
        "x[1,2,3]"
      ]
    },
    {
      "cell_type": "markdown",
      "id": "98b19d60-0a11-459c-9d2d-a31f64ec6fa9",
      "metadata": {
        "id": "98b19d60-0a11-459c-9d2d-a31f64ec6fa9"
      },
      "source": [
        "- 1:3이 1,2,3이라고 해서 x[1,2,3]을 하면 안 된다. 오류가 뜬다. 두 개 이상의 원소를 []안에 입력할 때는 :을 사용하거나 c()을 이용해야 한다."
      ]
    },
    {
      "cell_type": "code",
      "execution_count": null,
      "id": "90e8713e-e7e7-4b8c-8947-0f9fc53f2772",
      "metadata": {
        "id": "90e8713e-e7e7-4b8c-8947-0f9fc53f2772",
        "outputId": "10ec4593-f9bc-441f-c8cb-6845a6fbc173"
      },
      "outputs": [
        {
          "data": {
            "text/plain": [
              "[1] -10  25 -30"
            ]
          },
          "metadata": {},
          "output_type": "display_data"
        }
      ],
      "source": [
        "x[c(2,5,6)] # 두번째, 다섯번째, 여섯번째 원소 추출"
      ]
    },
    {
      "cell_type": "code",
      "execution_count": null,
      "id": "09fbf059-b09c-4d72-a747-2c653b391cfb",
      "metadata": {
        "id": "09fbf059-b09c-4d72-a747-2c653b391cfb",
        "outputId": "88c79161-285b-4ba0-9419-5c06f1ca161a"
      },
      "outputs": [
        {
          "ename": "ERROR",
          "evalue": "Error in x[2, 5, 6]: incorrect number of dimensions\n",
          "output_type": "error",
          "traceback": [
            "Error in x[2, 5, 6]: incorrect number of dimensions\nTraceback:\n"
          ]
        }
      ],
      "source": [
        "x[2,5,6] # 마찬가지의 오류"
      ]
    },
    {
      "cell_type": "code",
      "execution_count": null,
      "id": "b4388d48-9728-4e92-85b9-58619e5c16ec",
      "metadata": {
        "id": "b4388d48-9728-4e92-85b9-58619e5c16ec",
        "outputId": "2d4fb636-994d-44cd-c410-bb9c6b30a2e5"
      },
      "outputs": [
        {
          "data": {
            "text/plain": [
              "[1]   5 -10 -20  25 -30  35"
            ]
          },
          "metadata": {},
          "output_type": "display_data"
        }
      ],
      "source": [
        "x[-3] # 세번째 원소 제외하고 추출"
      ]
    },
    {
      "cell_type": "code",
      "execution_count": null,
      "id": "5b50a342-bf7c-4fee-8fe2-d338e50512c6",
      "metadata": {
        "id": "5b50a342-bf7c-4fee-8fe2-d338e50512c6",
        "outputId": "0600f44a-9dcf-43bc-8e8b-335a4a6d59d9"
      },
      "outputs": [
        {
          "data": {
            "text/plain": [
              "[1]   5 -10  25 -30  35"
            ]
          },
          "metadata": {},
          "output_type": "display_data"
        }
      ],
      "source": [
        "x[-c(3:4)] # 세번째, 네번쨰 원소 제외하고 추출"
      ]
    },
    {
      "cell_type": "code",
      "execution_count": null,
      "id": "c31d6c61-56f7-49f1-ae9b-231bf7e34891",
      "metadata": {
        "id": "c31d6c61-56f7-49f1-ae9b-231bf7e34891",
        "outputId": "4135380d-17b3-4832-9461-307d2ab7ba64"
      },
      "outputs": [
        {
          "data": {
            "text/plain": [
              "[1]   5 -10  25 -30  35"
            ]
          },
          "metadata": {},
          "output_type": "display_data"
        }
      ],
      "source": [
        "x[-(3:4)]"
      ]
    },
    {
      "cell_type": "markdown",
      "id": "b16a7412-17f9-460f-853e-551f3618ff9d",
      "metadata": {
        "id": "b16a7412-17f9-460f-853e-551f3618ff9d"
      },
      "source": [
        "#### `2)` 조건에 따른 인덱싱\n",
        "`-` 양수인 원소를 뽑는 법"
      ]
    },
    {
      "cell_type": "code",
      "execution_count": null,
      "id": "be894daf-dd92-4aca-9ddc-17a7ece3349d",
      "metadata": {
        "id": "be894daf-dd92-4aca-9ddc-17a7ece3349d",
        "outputId": "bce4a731-aa24-4b45-eebd-edb98b68fe58"
      },
      "outputs": [
        {
          "data": {
            "text/plain": [
              "[1]  TRUE FALSE  TRUE FALSE  TRUE FALSE  TRUE"
            ]
          },
          "metadata": {},
          "output_type": "display_data"
        }
      ],
      "source": [
        "x>0"
      ]
    },
    {
      "cell_type": "code",
      "execution_count": null,
      "id": "c1ea4662-831e-40cc-8882-6b956c7a6ff0",
      "metadata": {
        "id": "c1ea4662-831e-40cc-8882-6b956c7a6ff0",
        "outputId": "c46cf218-0e54-4bbf-cfdd-5559c45252e5"
      },
      "outputs": [
        {
          "data": {
            "text/plain": [
              "[1]  5 15 25 35"
            ]
          },
          "metadata": {},
          "output_type": "display_data"
        }
      ],
      "source": [
        "x[x>0]"
      ]
    },
    {
      "cell_type": "markdown",
      "id": "83a7f79f-7526-4187-afaa-f073fdfbecfd",
      "metadata": {
        "id": "83a7f79f-7526-4187-afaa-f073fdfbecfd"
      },
      "source": [
        "`-` 25 이상인 원소 추출"
      ]
    },
    {
      "cell_type": "code",
      "execution_count": null,
      "id": "b61bfc9a-7516-4231-9e6e-9220dd367576",
      "metadata": {
        "id": "b61bfc9a-7516-4231-9e6e-9220dd367576",
        "outputId": "3860f3f5-c016-4542-f3f8-565ccb98d6bc"
      },
      "outputs": [
        {
          "data": {
            "text/plain": [
              "[1] FALSE FALSE FALSE FALSE  TRUE FALSE  TRUE"
            ]
          },
          "metadata": {},
          "output_type": "display_data"
        }
      ],
      "source": [
        "x>=25"
      ]
    },
    {
      "cell_type": "code",
      "execution_count": null,
      "id": "0c1efe4e-4484-402b-9cb1-3eea582201d5",
      "metadata": {
        "id": "0c1efe4e-4484-402b-9cb1-3eea582201d5",
        "outputId": "b97af34d-b26a-4e27-ff66-1cee0a0d0cef"
      },
      "outputs": [
        {
          "data": {
            "text/plain": [
              "[1] 25 35"
            ]
          },
          "metadata": {},
          "output_type": "display_data"
        }
      ],
      "source": [
        "x[x>=25]"
      ]
    },
    {
      "cell_type": "markdown",
      "id": "b10fe655-7030-404c-821d-1128b9b17004",
      "metadata": {
        "id": "b10fe655-7030-404c-821d-1128b9b17004"
      },
      "source": [
        "`-` 문법"
      ]
    },
    {
      "cell_type": "code",
      "execution_count": null,
      "id": "c9397241-5174-4b39-b700-06f9a8ac81b9",
      "metadata": {
        "id": "c9397241-5174-4b39-b700-06f9a8ac81b9"
      },
      "outputs": [],
      "source": [
        "A_ <- c(FALSE, FALSE, FALSE, TRUE, FALSE, FALSE, FALSE)"
      ]
    },
    {
      "cell_type": "code",
      "execution_count": null,
      "id": "ecbe34ee-cd74-4a40-b563-a48f5476540a",
      "metadata": {
        "id": "ecbe34ee-cd74-4a40-b563-a48f5476540a",
        "outputId": "a06ebc42-0204-485c-f0a6-db0ce463b4e1"
      },
      "outputs": [
        {
          "data": {
            "text/plain": [
              "[1] -20"
            ]
          },
          "metadata": {},
          "output_type": "display_data"
        }
      ],
      "source": [
        "x[A_] # x의 네번째 원소(TRUE) 추출하게 됨"
      ]
    },
    {
      "cell_type": "markdown",
      "id": "6798a4fc-ff93-49f8-9783-415830ecc27b",
      "metadata": {
        "id": "6798a4fc-ff93-49f8-9783-415830ecc27b"
      },
      "source": [
        "- TRUE 또는 FALSE로 이루어진 것이 [,,,]안에 들어가게 되면 TRUE 값만 추출하게 된다."
      ]
    },
    {
      "cell_type": "code",
      "execution_count": null,
      "id": "936cafcd-7e4b-4e7e-9677-32ffa9926cfc",
      "metadata": {
        "id": "936cafcd-7e4b-4e7e-9677-32ffa9926cfc",
        "outputId": "167dd0b7-19d3-4841-dd2d-d8c526ba737f"
      },
      "outputs": [
        {
          "data": {
            "text/plain": [
              "[1] FALSE FALSE  TRUE FALSE FALSE FALSE FALSE"
            ]
          },
          "metadata": {},
          "output_type": "display_data"
        },
        {
          "data": {
            "text/plain": [
              "[1] 15"
            ]
          },
          "metadata": {},
          "output_type": "display_data"
        }
      ],
      "source": [
        "x == 15 # 값이 15인지 아닌지 확인\n",
        "x[x == 15] # TRUE 값 추출"
      ]
    },
    {
      "cell_type": "markdown",
      "id": "e08526c0-9748-4c1f-98d0-099b96cd29ab",
      "metadata": {
        "id": "e08526c0-9748-4c1f-98d0-099b96cd29ab"
      },
      "source": [
        "`-` 응용예제 1"
      ]
    },
    {
      "cell_type": "code",
      "execution_count": null,
      "id": "f8683752-f7da-4da1-9e46-11e2fa3328fb",
      "metadata": {
        "id": "f8683752-f7da-4da1-9e46-11e2fa3328fb"
      },
      "outputs": [],
      "source": [
        "x <- c(1,2,3,4,5)\n",
        "y <- x^2"
      ]
    },
    {
      "cell_type": "code",
      "execution_count": null,
      "id": "9211f859-1ca3-4a48-90ab-c6dd46c2e48e",
      "metadata": {
        "id": "9211f859-1ca3-4a48-90ab-c6dd46c2e48e",
        "outputId": "87e58568-d4b3-4cc4-d652-a120b0b5e009"
      },
      "outputs": [
        {
          "data": {
            "text/plain": [
              "[1] 1 2 3 4 5"
            ]
          },
          "metadata": {},
          "output_type": "display_data"
        },
        {
          "data": {
            "text/plain": [
              "[1]  1  4  9 16 25"
            ]
          },
          "metadata": {},
          "output_type": "display_data"
        }
      ],
      "source": [
        "x\n",
        "y"
      ]
    },
    {
      "cell_type": "markdown",
      "id": "315dea52-32b8-4957-8de8-239c0bdf4d95",
      "metadata": {
        "id": "315dea52-32b8-4957-8de8-239c0bdf4d95"
      },
      "source": [
        "`-` $y=x^2=9$가 되도록 만드는 $x$는?"
      ]
    },
    {
      "cell_type": "code",
      "execution_count": null,
      "id": "46acfbda-54e9-4a40-9c75-71386023b375",
      "metadata": {
        "id": "46acfbda-54e9-4a40-9c75-71386023b375",
        "outputId": "224bf67f-5499-48f8-f916-890ee7343465"
      },
      "outputs": [
        {
          "data": {
            "text/plain": [
              "[1] FALSE FALSE  TRUE FALSE FALSE"
            ]
          },
          "metadata": {},
          "output_type": "display_data"
        },
        {
          "data": {
            "text/plain": [
              "[1] 3"
            ]
          },
          "metadata": {},
          "output_type": "display_data"
        }
      ],
      "source": [
        "y == 9\n",
        "x[y == 9]"
      ]
    },
    {
      "cell_type": "markdown",
      "id": "6de28ec7-1857-4c40-8e9d-35d9c7fdcc0b",
      "metadata": {
        "id": "6de28ec7-1857-4c40-8e9d-35d9c7fdcc0b"
      },
      "source": [
        "`-` 응용예제 2"
      ]
    },
    {
      "cell_type": "code",
      "execution_count": null,
      "id": "57d646e3-dd84-4c62-880e-9d5fa800d947",
      "metadata": {
        "id": "57d646e3-dd84-4c62-880e-9d5fa800d947"
      },
      "outputs": [],
      "source": [
        "x <- c(-3,-2,-1,1,2,3)\n",
        "y <- (8*x)/(x^5)"
      ]
    },
    {
      "cell_type": "code",
      "execution_count": null,
      "id": "4eb893de-e483-4926-916f-ac6d66d3ec39",
      "metadata": {
        "id": "4eb893de-e483-4926-916f-ac6d66d3ec39",
        "outputId": "d76b28a6-284a-4521-d3d5-2bb9d35e54a3"
      },
      "outputs": [
        {
          "data": {
            "text/plain": [
              " [1] 0.1 0.2 0.3 0.4 0.5 0.6 0.7 0.8 0.9 1.0 1.1 1.2 1.3 1.4 1.5 1.6 1.7 1.8 1.9\n",
              "[20] 2.0 2.1 2.2 2.3 2.4 2.5 2.6 2.7 2.8 2.9 3.0 3.1 3.2 3.3 3.4 3.5 3.6 3.7 3.8\n",
              "[39] 3.9 4.0 4.1 4.2 4.3 4.4 4.5 4.6 4.7 4.8 4.9 5.0 5.1 5.2 5.3 5.4 5.5 5.6 5.7\n",
              "[58] 5.8 5.9 6.0"
            ]
          },
          "metadata": {},
          "output_type": "display_data"
        },
        {
          "data": {
            "text/plain": [
              " [1]  0.09983342  0.19866933  0.29552021  0.38941834  0.47942554  0.56464247\n",
              " [7]  0.64421769  0.71735609  0.78332691  0.84147098  0.89120736  0.93203909\n",
              "[13]  0.96355819  0.98544973  0.99749499  0.99957360  0.99166481  0.97384763\n",
              "[19]  0.94630009  0.90929743  0.86320937  0.80849640  0.74570521  0.67546318\n",
              "[25]  0.59847214  0.51550137  0.42737988  0.33498815  0.23924933  0.14112001\n",
              "[31]  0.04158066 -0.05837414 -0.15774569 -0.25554110 -0.35078323 -0.44252044\n",
              "[37] -0.52983614 -0.61185789 -0.68776616 -0.75680250 -0.81827711 -0.87157577\n",
              "[43] -0.91616594 -0.95160207 -0.97753012 -0.99369100 -0.99992326 -0.99616461\n",
              "[49] -0.98245261 -0.95892427 -0.92581468 -0.88345466 -0.83226744 -0.77276449\n",
              "[55] -0.70554033 -0.63126664 -0.55068554 -0.46460218 -0.37387666 -0.27941550"
            ]
          },
          "metadata": {},
          "output_type": "display_data"
        }
      ],
      "source": [
        "x\n",
        "y"
      ]
    },
    {
      "cell_type": "markdown",
      "id": "bfabab58-8bf4-44cc-b002-cb866f21fcf5",
      "metadata": {
        "id": "bfabab58-8bf4-44cc-b002-cb866f21fcf5"
      },
      "source": [
        "`-` $y=(8*x)/(x^5)=0.5$가 되도록 만드는 $x$는?"
      ]
    },
    {
      "cell_type": "code",
      "execution_count": null,
      "id": "f7cb9ced-4539-474b-9a44-efe7926bb8f0",
      "metadata": {
        "id": "f7cb9ced-4539-474b-9a44-efe7926bb8f0",
        "outputId": "90966454-de10-4348-c35b-3a5e652b934a"
      },
      "outputs": [
        {
          "data": {
            "text/plain": [
              "[1] FALSE  TRUE FALSE FALSE  TRUE FALSE"
            ]
          },
          "metadata": {},
          "output_type": "display_data"
        }
      ],
      "source": [
        "y == 0.5"
      ]
    },
    {
      "cell_type": "code",
      "execution_count": null,
      "id": "d58b7be8-181e-46e6-a991-8122424e9c85",
      "metadata": {
        "id": "d58b7be8-181e-46e6-a991-8122424e9c85",
        "outputId": "9dc52a11-53b5-4fc6-b757-5efc6cbcaf3b"
      },
      "outputs": [
        {
          "data": {
            "text/plain": [
              "[1] -2  2"
            ]
          },
          "metadata": {},
          "output_type": "display_data"
        }
      ],
      "source": [
        "x[y == 0.5]"
      ]
    },
    {
      "cell_type": "markdown",
      "id": "9f000fa7-9347-468d-8881-e10e4bbe61d1",
      "metadata": {
        "id": "9f000fa7-9347-468d-8881-e10e4bbe61d1"
      },
      "source": [
        "### 2. 그림 그리기: 메인플랏과 서브플랏\n",
        "\n",
        "`-` 메인플랏: 그림자체를 생성해주는 plot 과 같은 명령을 통해 그려진 그림   \n",
        "`-` 서브플랏: 생성된 그림에 덧붙여서만 그릴수 있는 lines, points, abline 과 같은 함수를 통해 그려진 그림\n",
        "\n",
        "`-` 중요: 서브플랏에 사용되는 함수들(lines, points, abline 등)은 단독으로 사용할 수 없다.(plot이 먼저 그려진 후에 사용할 수 있다.)"
      ]
    },
    {
      "cell_type": "code",
      "execution_count": null,
      "id": "e8cfad4d-16d4-4f59-9f6f-e67c76e25692",
      "metadata": {
        "id": "e8cfad4d-16d4-4f59-9f6f-e67c76e25692",
        "outputId": "720483ee-26ea-47b8-de56-8c6b0ba58359"
      },
      "outputs": [
        {
          "data": {
            "text/plain": [
              " [1] 0.1 0.2 0.3 0.4 0.5 0.6 0.7 0.8 0.9 1.0 1.1 1.2 1.3 1.4 1.5 1.6 1.7 1.8 1.9\n",
              "[20] 2.0 2.1 2.2 2.3 2.4 2.5 2.6 2.7 2.8 2.9 3.0 3.1 3.2 3.3 3.4 3.5 3.6 3.7 3.8\n",
              "[39] 3.9 4.0 4.1 4.2 4.3 4.4 4.5 4.6 4.7 4.8 4.9 5.0 5.1 5.2 5.3 5.4 5.5 5.6 5.7\n",
              "[58] 5.8 5.9 6.0"
            ]
          },
          "metadata": {},
          "output_type": "display_data"
        }
      ],
      "source": [
        "x <- 1:60/10\n",
        "x"
      ]
    },
    {
      "cell_type": "code",
      "execution_count": null,
      "id": "7dbe28ac-ea09-4b36-bf82-e45d14bf80f2",
      "metadata": {
        "id": "7dbe28ac-ea09-4b36-bf82-e45d14bf80f2",
        "outputId": "241ff3a9-996a-434d-a8fc-fd7e2d288546"
      },
      "outputs": [
        {
          "data": {
            "text/plain": [
              " [1]  0.09983342  0.19866933  0.29552021  0.38941834  0.47942554  0.56464247\n",
              " [7]  0.64421769  0.71735609  0.78332691  0.84147098  0.89120736  0.93203909\n",
              "[13]  0.96355819  0.98544973  0.99749499  0.99957360  0.99166481  0.97384763\n",
              "[19]  0.94630009  0.90929743  0.86320937  0.80849640  0.74570521  0.67546318\n",
              "[25]  0.59847214  0.51550137  0.42737988  0.33498815  0.23924933  0.14112001\n",
              "[31]  0.04158066 -0.05837414 -0.15774569 -0.25554110 -0.35078323 -0.44252044\n",
              "[37] -0.52983614 -0.61185789 -0.68776616 -0.75680250 -0.81827711 -0.87157577\n",
              "[43] -0.91616594 -0.95160207 -0.97753012 -0.99369100 -0.99992326 -0.99616461\n",
              "[49] -0.98245261 -0.95892427 -0.92581468 -0.88345466 -0.83226744 -0.77276449\n",
              "[55] -0.70554033 -0.63126664 -0.55068554 -0.46460218 -0.37387666 -0.27941550"
            ]
          },
          "metadata": {},
          "output_type": "display_data"
        }
      ],
      "source": [
        "y <- sin(x)\n",
        "y"
      ]
    },
    {
      "cell_type": "code",
      "execution_count": null,
      "id": "07e0d80e-1662-457f-91a9-5558b4fa3d8b",
      "metadata": {
        "id": "07e0d80e-1662-457f-91a9-5558b4fa3d8b",
        "outputId": "83859df2-c048-42a0-e25d-c3ccf35d1457"
      },
      "outputs": [
        {
          "data": {
            "image/png": "[encoded data removed]",
            "text/plain": [
              "plot without title"
            ]
          },
          "metadata": {
            "image/png": {
              "height": 333.3333,
              "width": 333.3333
            }
          },
          "output_type": "display_data"
        }
      ],
      "source": [
        "plot(x,y)"
      ]
    },
    {
      "cell_type": "code",
      "execution_count": null,
      "id": "4e89ba3e-97c5-49d2-adf9-de4565f16d23",
      "metadata": {
        "id": "4e89ba3e-97c5-49d2-adf9-de4565f16d23",
        "outputId": "e365c3b2-134e-425b-b04f-8538deed9a0f"
      },
      "outputs": [
        {
          "data": {
            "image/png": "[encoded data removed]",
            "text/plain": [
              "plot without title"
            ]
          },
          "metadata": {
            "image/png": {
              "height": 166.6667,
              "width": 166.6667
            }
          },
          "output_type": "display_data"
        },
        {
          "data": {
            "image/png": "[encoded data removed]",
            "text/plain": [
              "plot without title"
            ]
          },
          "metadata": {
            "image/png": {
              "height": 166.6667,
              "width": 166.6667
            }
          },
          "output_type": "display_data"
        }
      ],
      "source": [
        "plot(x,y,col='red')\n",
        "plot(x,y^2,type='l')"
      ]
    },
    {
      "cell_type": "code",
      "execution_count": null,
      "id": "f67a75de-8dbd-4ff0-ad6c-9decab10726b",
      "metadata": {
        "id": "f67a75de-8dbd-4ff0-ad6c-9decab10726b",
        "outputId": "d5a3c1a8-d566-4ad0-d72b-75f8ab21ac87"
      },
      "outputs": [
        {
          "data": {
            "image/png": "[encoded data removed]",
            "text/plain": [
              "plot without title"
            ]
          },
          "metadata": {
            "image/png": {
              "height": 333.3333,
              "width": 333.3333
            }
          },
          "output_type": "display_data"
        },
        {
          "data": {
            "image/png": "[encoded data removed]",
            "text/plain": [
              "plot without title"
            ]
          },
          "metadata": {
            "image/png": {
              "height": 333.3333,
              "width": 333.3333
            }
          },
          "output_type": "display_data"
        }
      ],
      "source": [
        "plot(x,y,col='blue')\n",
        "plot(x,y^2,col='red')"
      ]
    },
    {
      "cell_type": "code",
      "execution_count": null,
      "id": "d7815fab-2436-4ae3-8a26-99fcc839708f",
      "metadata": {
        "id": "d7815fab-2436-4ae3-8a26-99fcc839708f",
        "outputId": "80e130e0-b614-466f-ff70-adc4156cb87c"
      },
      "outputs": [
        {
          "data": {
            "image/png": "[encoded data removed]",
            "text/plain": [
              "plot without title"
            ]
          },
          "metadata": {
            "image/png": {
              "height": 166.6667,
              "width": 166.6667
            }
          },
          "output_type": "display_data"
        }
      ],
      "source": [
        "plot(x,y,type='l',col='blue')\n",
        "lines(x,y^2,col='red')"
      ]
    },
    {
      "cell_type": "code",
      "execution_count": null,
      "id": "557cacad-1150-4142-b426-c8b57ba0998d",
      "metadata": {
        "id": "557cacad-1150-4142-b426-c8b57ba0998d",
        "outputId": "86863fb3-6dcd-4176-8e13-cee5ee456acf"
      },
      "outputs": [
        {
          "data": {
            "image/png": "[encoded data removed]",
            "text/plain": [
              "plot without title"
            ]
          },
          "metadata": {
            "image/png": {
              "height": 1000,
              "width": 1000
            }
          },
          "output_type": "display_data"
        }
      ],
      "source": [
        "plot(x,y,col='red')\n",
        "points(x,y^2,col='blue')"
      ]
    },
    {
      "cell_type": "code",
      "execution_count": null,
      "id": "1c5628a3-803f-48b4-966f-82d686dd8c2f",
      "metadata": {
        "id": "1c5628a3-803f-48b4-966f-82d686dd8c2f",
        "outputId": "24cb7160-1cdc-4aeb-f32d-fa23110f2926"
      },
      "outputs": [
        {
          "ename": "ERROR",
          "evalue": "Error in plot.xy(xy.coords(x, y), type = type, ...): plot.new has not been called yet\n",
          "output_type": "error",
          "traceback": [
            "Error in plot.xy(xy.coords(x, y), type = type, ...): plot.new has not been called yet\nTraceback:\n",
            "1. lines(x, y, col = \"red\")",
            "2. lines.default(x, y, col = \"red\")",
            "3. plot.xy(xy.coords(x, y), type = type, ...)"
          ]
        }
      ],
      "source": [
        "lines(x,y,col='red')\n",
        "plot(x,y^2,col='blue')"
      ]
    },
    {
      "cell_type": "markdown",
      "id": "44661def-2342-4974-b6a4-117b0489b2a8",
      "metadata": {
        "id": "44661def-2342-4974-b6a4-117b0489b2a8"
      },
      "source": [
        "- 서브플랏이 먼저 존재하지 않기에 에러가 난다."
      ]
    }
  ],
  "metadata": {
    "kernelspec": {
      "display_name": "R",
      "language": "R",
      "name": "ir"
    },
    "language_info": {
      "codemirror_mode": "r",
      "file_extension": ".r",
      "mimetype": "text/x-r-source",
      "name": "R",
      "pygments_lexer": "r",
      "version": "4.0.5"
    },
    "colab": {
      "name": "2022-01-27-IR.ipynb",
      "provenance": []
    }
  },
  "nbformat": 4,
  "nbformat_minor": 5
}