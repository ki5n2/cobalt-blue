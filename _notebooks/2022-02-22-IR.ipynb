{
  "cells": [
    {
      "cell_type": "markdown",
      "source": [
        "# IR 11. 문법 정리1(데이터형, 형변환, 행렬, 배열)\n",
        "> \"작성완료\"\n",
        "\n",
        "- toc:true\n",
        "- branch: master\n",
        "- badges: true\n",
        "- comments: true\n",
        "- [R]"
      ],
      "metadata": {
        "id": "xCUQ8LmCpwWc"
      },
      "id": "xCUQ8LmCpwWc"
    },
    {
      "cell_type": "markdown",
      "source": [
        "---\n",
        "# Introduce R \n",
        "- lecture: Introduce R_8-1nd week of lectures\n",
        "- lecture date: 2021-10-28\n",
        "- lecturer: Guebin choi\n",
        "- study date: 2022-02-22\n",
        "- author: Kione kim\n",
        "---"
      ],
      "metadata": {
        "id": "zux7FFgipxwD"
      },
      "id": "zux7FFgipxwD"
    },
    {
      "cell_type": "code",
      "execution_count": null,
      "id": "0a99e644-7da4-48d4-9f56-5bb07b53121b",
      "metadata": {
        "id": "0a99e644-7da4-48d4-9f56-5bb07b53121b"
      },
      "outputs": [],
      "source": [
        "#hide\n",
        "options(jupyter.plot_scale=3)\n",
        "options(jupyter.display_mimetypes=c(\"text/html\"))\n",
        "options(jupyter.rich_display=FALSE)\n",
        "options(repr.plot.width=6,repr.plot.height=6,repr.plot.res=300)\n",
        "options(max.print=1000)"
      ]
    },
    {
      "cell_type": "markdown",
      "id": "a659cef4-cc6d-48ec-a427-19ea98a8dc8d",
      "metadata": {
        "tags": [],
        "id": "a659cef4-cc6d-48ec-a427-19ea98a8dc8d"
      },
      "source": [
        "## 문법 정리1"
      ]
    },
    {
      "cell_type": "markdown",
      "id": "6ac29c6b-2074-4fd6-8380-b66fc58ae0f6",
      "metadata": {
        "jp-MarkdownHeadingCollapsed": true,
        "tags": [],
        "id": "6ac29c6b-2074-4fd6-8380-b66fc58ae0f6"
      },
      "source": [
        "### 데이터형\n",
        "`-` R에서 데이터를 구성하는 네가지 기본형"
      ]
    },
    {
      "cell_type": "markdown",
      "id": "482e782b-adf6-493f-9b87-0787f25c86d1",
      "metadata": {
        "id": "482e782b-adf6-493f-9b87-0787f25c86d1"
      },
      "source": [
        "`-` 수치형(numeric): 정수, 실수, 지수 등을 나타내며 실수가 기본형"
      ]
    },
    {
      "cell_type": "code",
      "execution_count": null,
      "id": "0e8c6374-deed-4f19-b802-139a8d1a9fb2",
      "metadata": {
        "id": "0e8c6374-deed-4f19-b802-139a8d1a9fb2",
        "outputId": "da561e59-e3f0-4486-a69b-6c78a82e004a"
      },
      "outputs": [
        {
          "data": {
            "text/plain": [
              "[1] \"numeric\""
            ]
          },
          "metadata": {},
          "output_type": "display_data"
        }
      ],
      "source": [
        "a=345\n",
        "mode(a)"
      ]
    },
    {
      "cell_type": "code",
      "execution_count": null,
      "id": "7d68422a-d4dd-46eb-bc18-3da2d6b53b90",
      "metadata": {
        "id": "7d68422a-d4dd-46eb-bc18-3da2d6b53b90",
        "outputId": "ab4051c0-7a6d-468d-d812-35f1d22c9a66"
      },
      "outputs": [
        {
          "data": {
            "text/plain": [
              "[1] \"numeric\""
            ]
          },
          "metadata": {},
          "output_type": "display_data"
        }
      ],
      "source": [
        "a=34.55\n",
        "mode(a)"
      ]
    },
    {
      "cell_type": "markdown",
      "id": "4d828bde-d7a8-489a-a4e5-94d7d2f9c282",
      "metadata": {
        "id": "4d828bde-d7a8-489a-a4e5-94d7d2f9c282"
      },
      "source": [
        "`-` 논리형(logical): 논리적 참과 거짓을 나타낸다."
      ]
    },
    {
      "cell_type": "code",
      "execution_count": null,
      "id": "5d65c6ff-eaa9-4927-8245-d1bcde5b84e7",
      "metadata": {
        "id": "5d65c6ff-eaa9-4927-8245-d1bcde5b84e7",
        "outputId": "9423b7ed-4980-41ff-a738-27cc30a6075e"
      },
      "outputs": [
        {
          "data": {
            "text/plain": [
              "[1] \"logical\""
            ]
          },
          "metadata": {},
          "output_type": "display_data"
        }
      ],
      "source": [
        "a=T\n",
        "mode(a)"
      ]
    },
    {
      "cell_type": "code",
      "execution_count": null,
      "id": "8f7af43e-2ad3-4234-94eb-9cbbe7754219",
      "metadata": {
        "id": "8f7af43e-2ad3-4234-94eb-9cbbe7754219",
        "outputId": "12c7e0eb-466c-4f82-ab09-bd4398d0a084"
      },
      "outputs": [
        {
          "data": {
            "text/plain": [
              "[1] \"logical\""
            ]
          },
          "metadata": {},
          "output_type": "display_data"
        }
      ],
      "source": [
        "a=TRUE\n",
        "mode(a)"
      ]
    },
    {
      "cell_type": "code",
      "execution_count": null,
      "id": "b767ff67-c41b-40ca-a84d-5467d9e3fcbc",
      "metadata": {
        "id": "b767ff67-c41b-40ca-a84d-5467d9e3fcbc",
        "outputId": "768587ab-f5fb-46f0-b91d-109659832589"
      },
      "outputs": [
        {
          "data": {
            "text/plain": [
              "[1] \"logical\""
            ]
          },
          "metadata": {},
          "output_type": "display_data"
        }
      ],
      "source": [
        "a=F\n",
        "mode(a)"
      ]
    },
    {
      "cell_type": "code",
      "execution_count": null,
      "id": "3f73cf34-89e7-4c34-9e80-f1f73cbbd740",
      "metadata": {
        "id": "3f73cf34-89e7-4c34-9e80-f1f73cbbd740",
        "outputId": "c62ac71c-acec-4bc0-d5d0-0bab0bf58b62"
      },
      "outputs": [
        {
          "data": {
            "text/plain": [
              "[1] \"logical\""
            ]
          },
          "metadata": {},
          "output_type": "display_data"
        }
      ],
      "source": [
        "a=FALSE\n",
        "mode(a)"
      ]
    },
    {
      "cell_type": "markdown",
      "id": "30d6793f-3b8f-449a-8171-a93c941ce19d",
      "metadata": {
        "id": "30d6793f-3b8f-449a-8171-a93c941ce19d"
      },
      "source": [
        "`-` 문자형"
      ]
    },
    {
      "cell_type": "code",
      "execution_count": null,
      "id": "bad98e1a-8f45-42b1-980e-58cc4d3f244a",
      "metadata": {
        "id": "bad98e1a-8f45-42b1-980e-58cc4d3f244a",
        "outputId": "37c11321-b8a9-493d-8445-b89051a285a3"
      },
      "outputs": [
        {
          "data": {
            "text/plain": [
              "[1] \"character\""
            ]
          },
          "metadata": {},
          "output_type": "display_data"
        }
      ],
      "source": [
        "a='answk'\n",
        "mode(a)"
      ]
    },
    {
      "cell_type": "code",
      "execution_count": null,
      "id": "46918333-6a3b-450f-87f9-e87f681acf99",
      "metadata": {
        "id": "46918333-6a3b-450f-87f9-e87f681acf99",
        "outputId": "70b16f5a-ea4e-49c0-a350-f3a34ffbc84e"
      },
      "outputs": [
        {
          "data": {
            "text/plain": [
              "[1] \"character\""
            ]
          },
          "metadata": {},
          "output_type": "display_data"
        }
      ],
      "source": [
        "a='TRUE'\n",
        "mode(a)"
      ]
    },
    {
      "cell_type": "code",
      "execution_count": null,
      "id": "f8812cde-ffd8-4f11-901d-ecb74a625677",
      "metadata": {
        "id": "f8812cde-ffd8-4f11-901d-ecb74a625677",
        "outputId": "4b8385ac-7c37-4389-b49b-eef89e2d2538"
      },
      "outputs": [
        {
          "data": {
            "text/plain": [
              "[1] \"character\""
            ]
          },
          "metadata": {},
          "output_type": "display_data"
        }
      ],
      "source": [
        "a='1'\n",
        "mode(a)"
      ]
    },
    {
      "cell_type": "code",
      "execution_count": null,
      "id": "46a21e13-5e84-45bb-ac55-3f3b4feebf16",
      "metadata": {
        "id": "46a21e13-5e84-45bb-ac55-3f3b4feebf16",
        "outputId": "b9604496-59d6-490c-fe38-2333efcdbc11"
      },
      "outputs": [
        {
          "data": {
            "text/plain": [
              "[1] \"character\""
            ]
          },
          "metadata": {},
          "output_type": "display_data"
        }
      ],
      "source": [
        "a=\"FALSE\"\n",
        "mode(a)"
      ]
    },
    {
      "cell_type": "markdown",
      "id": "7f5e1028-6eaf-4d20-bdff-8a3e21106329",
      "metadata": {
        "id": "7f5e1028-6eaf-4d20-bdff-8a3e21106329"
      },
      "source": [
        "`-` 참고:storage.mode()"
      ]
    },
    {
      "cell_type": "code",
      "execution_count": null,
      "id": "5f784510-493e-4086-9d01-6a64e5144de1",
      "metadata": {
        "id": "5f784510-493e-4086-9d01-6a64e5144de1",
        "outputId": "43742939-c13c-431b-b8c8-178919f3192f"
      },
      "outputs": [
        {
          "data": {
            "text/plain": [
              "[1] 3.141593"
            ]
          },
          "metadata": {},
          "output_type": "display_data"
        }
      ],
      "source": [
        "a=pi\n",
        "a"
      ]
    },
    {
      "cell_type": "code",
      "execution_count": null,
      "id": "e769d419-8d2e-48b7-af24-d7a726c65c69",
      "metadata": {
        "id": "e769d419-8d2e-48b7-af24-d7a726c65c69",
        "outputId": "be808d6e-4dab-4052-ee29-4a2a5392b5f7"
      },
      "outputs": [
        {
          "data": {
            "text/plain": [
              "[1] \"numeric\""
            ]
          },
          "metadata": {},
          "output_type": "display_data"
        }
      ],
      "source": [
        "mode(a)"
      ]
    },
    {
      "cell_type": "code",
      "execution_count": null,
      "id": "be798b39-7364-451d-bc31-5926113c9158",
      "metadata": {
        "id": "be798b39-7364-451d-bc31-5926113c9158",
        "outputId": "bf7536dd-dc42-41b1-e5ff-17e0c614bf81"
      },
      "outputs": [
        {
          "data": {
            "text/plain": [
              "[1] \"double\""
            ]
          },
          "metadata": {},
          "output_type": "display_data"
        }
      ],
      "source": [
        "storage.mode(a)"
      ]
    },
    {
      "cell_type": "code",
      "execution_count": null,
      "id": "dbb5531a-5963-458d-bc2f-dcfcb0104e64",
      "metadata": {
        "id": "dbb5531a-5963-458d-bc2f-dcfcb0104e64",
        "outputId": "aaf8e79b-42c8-49e5-cb7f-c5e6d9cc6f28"
      },
      "outputs": [
        {
          "data": {
            "text/plain": [
              "[1] 1 2"
            ]
          },
          "metadata": {},
          "output_type": "display_data"
        }
      ],
      "source": [
        "a=1:2\n",
        "a"
      ]
    },
    {
      "cell_type": "code",
      "execution_count": null,
      "id": "ea2c3b5b-464e-44da-85f2-4fe90bc22234",
      "metadata": {
        "id": "ea2c3b5b-464e-44da-85f2-4fe90bc22234",
        "outputId": "6346ff73-d6d6-45f2-9164-cc08ce74940e"
      },
      "outputs": [
        {
          "data": {
            "text/plain": [
              "[1] \"integer\""
            ]
          },
          "metadata": {},
          "output_type": "display_data"
        }
      ],
      "source": [
        "storage.mode(a)"
      ]
    },
    {
      "cell_type": "markdown",
      "id": "8a92da61-124e-42d8-8a5c-42ac06525690",
      "metadata": {
        "jp-MarkdownHeadingCollapsed": true,
        "tags": [],
        "id": "8a92da61-124e-42d8-8a5c-42ac06525690"
      },
      "source": [
        "### 형변환"
      ]
    },
    {
      "cell_type": "markdown",
      "id": "80f7c617-2d7e-49e7-855b-c83ef4edfbfc",
      "metadata": {
        "id": "80f7c617-2d7e-49e7-855b-c83ef4edfbfc"
      },
      "source": [
        "#### 방법1"
      ]
    },
    {
      "cell_type": "code",
      "execution_count": null,
      "id": "79ebb893-49a8-4194-a799-7bcb8a109db1",
      "metadata": {
        "id": "79ebb893-49a8-4194-a799-7bcb8a109db1",
        "outputId": "f68290c4-baa7-464a-b73c-982b12694e30"
      },
      "outputs": [
        {
          "data": {
            "text/plain": [
              "[1] \"character\""
            ]
          },
          "metadata": {},
          "output_type": "display_data"
        }
      ],
      "source": [
        "a='132'\n",
        "mode(a)"
      ]
    },
    {
      "cell_type": "markdown",
      "id": "f54ee9f1-3af6-418c-859a-2477525423e5",
      "metadata": {
        "id": "f54ee9f1-3af6-418c-859a-2477525423e5"
      },
      "source": [
        "`-` 이것을 수치형(numeric)으로 바꾸고 싶다."
      ]
    },
    {
      "cell_type": "code",
      "execution_count": null,
      "id": "b84b77b9-7aef-4241-98df-515447194027",
      "metadata": {
        "id": "b84b77b9-7aef-4241-98df-515447194027"
      },
      "outputs": [],
      "source": [
        "mode(a) <- \"numeric\""
      ]
    },
    {
      "cell_type": "code",
      "execution_count": null,
      "id": "b2fba9ce-a31c-485b-959c-0d31854b3a9b",
      "metadata": {
        "id": "b2fba9ce-a31c-485b-959c-0d31854b3a9b",
        "outputId": "89760397-2d97-45a9-a4e8-e4b8cb4f4a7a"
      },
      "outputs": [
        {
          "data": {
            "text/plain": [
              "[1] 132"
            ]
          },
          "metadata": {},
          "output_type": "display_data"
        }
      ],
      "source": [
        "a"
      ]
    },
    {
      "cell_type": "markdown",
      "id": "05b874cd-bc43-453f-a5c7-74fb1659b3d3",
      "metadata": {
        "id": "05b874cd-bc43-453f-a5c7-74fb1659b3d3"
      },
      "source": [
        "#### 방법2"
      ]
    },
    {
      "cell_type": "code",
      "execution_count": null,
      "id": "ad75562c-6e35-4d41-babb-8c0d831835df",
      "metadata": {
        "id": "ad75562c-6e35-4d41-babb-8c0d831835df",
        "outputId": "593f0e98-3818-42e3-8298-1bc4daeb3319"
      },
      "outputs": [
        {
          "data": {
            "text/plain": [
              "[1] \"character\""
            ]
          },
          "metadata": {},
          "output_type": "display_data"
        }
      ],
      "source": [
        "a= \"1234\"\n",
        "mode(a)"
      ]
    },
    {
      "cell_type": "code",
      "execution_count": null,
      "id": "0d26b70f-c99c-47a9-be30-447e9c93be8d",
      "metadata": {
        "id": "0d26b70f-c99c-47a9-be30-447e9c93be8d",
        "outputId": "27681a6d-f954-4cac-b772-1a086e06ec85"
      },
      "outputs": [
        {
          "data": {
            "text/plain": [
              "[1] \"1234\""
            ]
          },
          "metadata": {},
          "output_type": "display_data"
        }
      ],
      "source": [
        "a"
      ]
    },
    {
      "cell_type": "code",
      "execution_count": null,
      "id": "a7d08f38-a5b2-4e22-ab7a-bd51cf80ab73",
      "metadata": {
        "id": "a7d08f38-a5b2-4e22-ab7a-bd51cf80ab73",
        "outputId": "e11368a2-b3cc-4307-9274-4cf1bac05402"
      },
      "outputs": [
        {
          "data": {
            "text/plain": [
              "[1] 1234"
            ]
          },
          "metadata": {},
          "output_type": "display_data"
        }
      ],
      "source": [
        "as.numeric(a)"
      ]
    },
    {
      "cell_type": "markdown",
      "id": "71c5687c-3c83-42ba-a2f0-dd058462ed8b",
      "metadata": {
        "id": "71c5687c-3c83-42ba-a2f0-dd058462ed8b"
      },
      "source": [
        "#### 예제"
      ]
    },
    {
      "cell_type": "markdown",
      "source": [
        "##### 예제1: logical -> numeric"
      ],
      "metadata": {
        "id": "IKMIHJKS1IMs"
      },
      "id": "IKMIHJKS1IMs"
    },
    {
      "cell_type": "code",
      "execution_count": null,
      "id": "a7dfb464-eacd-4f19-bfbb-dc7511e659fc",
      "metadata": {
        "id": "a7dfb464-eacd-4f19-bfbb-dc7511e659fc",
        "outputId": "e3fdfca0-8420-4380-af54-a8a1fd860ba7"
      },
      "outputs": [
        {
          "data": {
            "text/plain": [
              "[1] FALSE"
            ]
          },
          "metadata": {},
          "output_type": "display_data"
        }
      ],
      "source": [
        "a=F\n",
        "a"
      ]
    },
    {
      "cell_type": "code",
      "execution_count": null,
      "id": "6457da81-3157-4708-b7a1-720ca8607a53",
      "metadata": {
        "id": "6457da81-3157-4708-b7a1-720ca8607a53",
        "outputId": "2e4cfbda-7dd2-4dc3-a2fc-cb4dfd097422"
      },
      "outputs": [
        {
          "data": {
            "text/plain": [
              "[1] 0"
            ]
          },
          "metadata": {},
          "output_type": "display_data"
        }
      ],
      "source": [
        "as.numeric(a)"
      ]
    },
    {
      "cell_type": "markdown",
      "id": "34e5a494-fed9-41a3-b6b0-cff51bd799a5",
      "metadata": {
        "id": "34e5a494-fed9-41a3-b6b0-cff51bd799a5"
      },
      "source": [
        "##### 예제2: numeric -> logical"
      ]
    },
    {
      "cell_type": "code",
      "execution_count": null,
      "id": "8a0c39ce-f141-444d-a020-2e618a5d65c6",
      "metadata": {
        "id": "8a0c39ce-f141-444d-a020-2e618a5d65c6",
        "outputId": "1d83147b-af59-476f-d296-2bf496bec2e5"
      },
      "outputs": [
        {
          "data": {
            "text/plain": [
              "[1] 1"
            ]
          },
          "metadata": {},
          "output_type": "display_data"
        }
      ],
      "source": [
        "a=1\n",
        "a"
      ]
    },
    {
      "cell_type": "code",
      "execution_count": null,
      "id": "c51c42cb-5b64-4b75-9fbf-db4d796c2d4b",
      "metadata": {
        "id": "c51c42cb-5b64-4b75-9fbf-db4d796c2d4b",
        "outputId": "0868565c-5c25-4ef1-bd04-1c813be066bb"
      },
      "outputs": [
        {
          "data": {
            "text/plain": [
              "[1] TRUE"
            ]
          },
          "metadata": {},
          "output_type": "display_data"
        }
      ],
      "source": [
        "as.logical(a)"
      ]
    },
    {
      "cell_type": "code",
      "execution_count": null,
      "id": "3f9c923b-7570-4052-8c2a-7c5713434568",
      "metadata": {
        "id": "3f9c923b-7570-4052-8c2a-7c5713434568",
        "outputId": "134e5120-41d0-4b78-f491-2d03cc00cd89"
      },
      "outputs": [
        {
          "data": {
            "text/plain": [
              "[1] 0"
            ]
          },
          "metadata": {},
          "output_type": "display_data"
        }
      ],
      "source": [
        "a=0\n",
        "a"
      ]
    },
    {
      "cell_type": "code",
      "execution_count": null,
      "id": "f227c6e5-8f4c-435d-8c96-aaf0880e2b59",
      "metadata": {
        "id": "f227c6e5-8f4c-435d-8c96-aaf0880e2b59",
        "outputId": "6348afb8-e1bc-4736-e4f1-aba39a65974a"
      },
      "outputs": [
        {
          "data": {
            "text/plain": [
              "[1] FALSE"
            ]
          },
          "metadata": {},
          "output_type": "display_data"
        }
      ],
      "source": [
        "as.logical(a)"
      ]
    },
    {
      "cell_type": "markdown",
      "id": "de7ef799-f5a2-45d9-b4ab-f77f5803a614",
      "metadata": {
        "id": "de7ef799-f5a2-45d9-b4ab-f77f5803a614"
      },
      "source": [
        "`-` 그럼 0,1 이외에 숫자를 넣으면 어떻게 될까?"
      ]
    },
    {
      "cell_type": "code",
      "execution_count": null,
      "id": "fb196316-ee4d-44d2-b3ac-24da6c6338bd",
      "metadata": {
        "id": "fb196316-ee4d-44d2-b3ac-24da6c6338bd",
        "outputId": "56f33436-b829-45ec-ef22-2a169ebb4b8c"
      },
      "outputs": [
        {
          "data": {
            "text/plain": [
              "[1] 2"
            ]
          },
          "metadata": {},
          "output_type": "display_data"
        }
      ],
      "source": [
        "a=2\n",
        "a"
      ]
    },
    {
      "cell_type": "code",
      "execution_count": null,
      "id": "9f09c39f-c374-4357-bc10-3a17d49895d8",
      "metadata": {
        "id": "9f09c39f-c374-4357-bc10-3a17d49895d8",
        "outputId": "c58310e4-c5ba-4caf-b4bd-8e7554ab9e1d"
      },
      "outputs": [
        {
          "data": {
            "text/plain": [
              "[1] TRUE"
            ]
          },
          "metadata": {},
          "output_type": "display_data"
        }
      ],
      "source": [
        "as.logical(a)"
      ]
    },
    {
      "cell_type": "code",
      "execution_count": null,
      "id": "6fcb2102-fba1-4a0a-b31c-5e6e3f258665",
      "metadata": {
        "id": "6fcb2102-fba1-4a0a-b31c-5e6e3f258665",
        "outputId": "9f6ebbed-98b8-4088-df76-e57d17a48cfb"
      },
      "outputs": [
        {
          "data": {
            "text/plain": [
              "[1] -1"
            ]
          },
          "metadata": {},
          "output_type": "display_data"
        }
      ],
      "source": [
        "a=-1\n",
        "a"
      ]
    },
    {
      "cell_type": "code",
      "execution_count": null,
      "id": "553f2abc-cd81-4092-a51e-8bc5cfaf8bdf",
      "metadata": {
        "id": "553f2abc-cd81-4092-a51e-8bc5cfaf8bdf",
        "outputId": "e3cc37dc-b8c3-4af4-d38b-63a70d219d3f"
      },
      "outputs": [
        {
          "data": {
            "text/plain": [
              "[1] TRUE"
            ]
          },
          "metadata": {},
          "output_type": "display_data"
        }
      ],
      "source": [
        "as.logical(a)"
      ]
    },
    {
      "cell_type": "code",
      "execution_count": null,
      "id": "6823957c-7508-447a-b4a8-682e12a06da8",
      "metadata": {
        "id": "6823957c-7508-447a-b4a8-682e12a06da8",
        "outputId": "eeb22d41-a4e9-47c4-d34f-4633f5fd1c4d"
      },
      "outputs": [
        {
          "data": {
            "text/plain": [
              "[1] 3.33"
            ]
          },
          "metadata": {},
          "output_type": "display_data"
        }
      ],
      "source": [
        "a=3.33\n",
        "a"
      ]
    },
    {
      "cell_type": "code",
      "execution_count": null,
      "id": "228db362-137a-4945-ae90-f3b531171625",
      "metadata": {
        "id": "228db362-137a-4945-ae90-f3b531171625",
        "outputId": "a83953d1-5921-4633-d6f6-6fb7962bec61"
      },
      "outputs": [
        {
          "data": {
            "text/plain": [
              "[1] TRUE"
            ]
          },
          "metadata": {},
          "output_type": "display_data"
        }
      ],
      "source": [
        "as.logical(a)"
      ]
    },
    {
      "cell_type": "markdown",
      "id": "5bcea614-289a-4ea0-965d-0973c4f52d23",
      "metadata": {
        "id": "5bcea614-289a-4ea0-965d-0973c4f52d23"
      },
      "source": [
        "- 0만 FALSE로 반환하고 나머지 모두는 TRUE로 반환한다."
      ]
    },
    {
      "cell_type": "markdown",
      "id": "357c2fb8-c1fd-4585-af32-afd09e2645e7",
      "metadata": {
        "id": "357c2fb8-c1fd-4585-af32-afd09e2645e7"
      },
      "source": [
        "##### 예제3"
      ]
    },
    {
      "cell_type": "code",
      "execution_count": null,
      "id": "0c1ff710-9b8a-4b99-94ec-aab4298bbac4",
      "metadata": {
        "id": "0c1ff710-9b8a-4b99-94ec-aab4298bbac4",
        "outputId": "c968cd07-54fe-4055-c49d-e3689ffbfb22"
      },
      "outputs": [
        {
          "name": "stderr",
          "output_type": "stream",
          "text": [
            "Warning message in eval(expr, envir, enclos):\n",
            "\"강제형변환에 의해 생성된 NA 입니다\"\n"
          ]
        }
      ],
      "source": [
        "a='asdhflk'\n",
        "a=as.numeric(a)"
      ]
    },
    {
      "cell_type": "code",
      "execution_count": null,
      "id": "e29b1f9f-b1a8-4e05-a66a-1bc31069bc5d",
      "metadata": {
        "id": "e29b1f9f-b1a8-4e05-a66a-1bc31069bc5d",
        "outputId": "0ed53c42-b8c5-41a9-fb6f-a1a0e6caeb96"
      },
      "outputs": [
        {
          "data": {
            "text/plain": [
              "[1] NA"
            ]
          },
          "metadata": {},
          "output_type": "display_data"
        }
      ],
      "source": [
        "a"
      ]
    },
    {
      "cell_type": "code",
      "execution_count": null,
      "id": "70785dc0-e819-41a5-a3b5-137f773f07f6",
      "metadata": {
        "id": "70785dc0-e819-41a5-a3b5-137f773f07f6",
        "outputId": "105e871a-4389-4e12-b3f0-973d69655bcd"
      },
      "outputs": [
        {
          "data": {
            "text/plain": [
              "[1] \"numeric\""
            ]
          },
          "metadata": {},
          "output_type": "display_data"
        }
      ],
      "source": [
        "mode(a)"
      ]
    },
    {
      "cell_type": "code",
      "execution_count": null,
      "id": "61b43a90-483a-43a1-8925-56971255aafd",
      "metadata": {
        "id": "61b43a90-483a-43a1-8925-56971255aafd"
      },
      "outputs": [],
      "source": [
        "a='adjsfi'\n",
        "a=as.logical(a)"
      ]
    },
    {
      "cell_type": "code",
      "execution_count": null,
      "id": "d8f9b639-8d8f-4fcb-9650-5e19e6097504",
      "metadata": {
        "id": "d8f9b639-8d8f-4fcb-9650-5e19e6097504",
        "outputId": "75ee393e-f1f7-45e9-db40-c798ff296d2f"
      },
      "outputs": [
        {
          "data": {
            "text/plain": [
              "[1] NA"
            ]
          },
          "metadata": {},
          "output_type": "display_data"
        }
      ],
      "source": [
        "a"
      ]
    },
    {
      "cell_type": "code",
      "execution_count": null,
      "id": "dc61980d-2938-4bac-b05c-cd57c0c18062",
      "metadata": {
        "id": "dc61980d-2938-4bac-b05c-cd57c0c18062",
        "outputId": "65af8a20-1455-462b-e121-20f7bdacc41c"
      },
      "outputs": [
        {
          "data": {
            "text/plain": [
              "[1] \"logical\""
            ]
          },
          "metadata": {},
          "output_type": "display_data"
        }
      ],
      "source": [
        "mode(a)"
      ]
    },
    {
      "cell_type": "markdown",
      "id": "846b0ca5-0425-41ba-9865-bef0b5fbe439",
      "metadata": {
        "id": "846b0ca5-0425-41ba-9865-bef0b5fbe439"
      },
      "source": [
        "`-` 모드가 서로 다른 원소로 이루어진 벡터의 mode는 무엇일까?"
      ]
    },
    {
      "cell_type": "markdown",
      "id": "b99c48b8-ab49-4239-80af-395028bb575e",
      "metadata": {
        "id": "b99c48b8-ab49-4239-80af-395028bb575e"
      },
      "source": [
        "`-` 예시1"
      ]
    },
    {
      "cell_type": "code",
      "execution_count": null,
      "id": "767f0ffd-8679-42a7-96f4-d690276665eb",
      "metadata": {
        "id": "767f0ffd-8679-42a7-96f4-d690276665eb"
      },
      "outputs": [],
      "source": [
        "a <- c(1,T,'1')"
      ]
    },
    {
      "cell_type": "code",
      "execution_count": null,
      "id": "22d401a1-c8c8-43bc-b060-efff331d73ad",
      "metadata": {
        "id": "22d401a1-c8c8-43bc-b060-efff331d73ad",
        "outputId": "bc0c9606-d89c-4dc3-f806-2c98311e23ba"
      },
      "outputs": [
        {
          "data": {
            "text/plain": [
              "[1] \"character\""
            ]
          },
          "metadata": {},
          "output_type": "display_data"
        }
      ],
      "source": [
        "mode(a)"
      ]
    },
    {
      "cell_type": "markdown",
      "id": "4a0fc36a-e8d0-407e-9f2f-dd0935967539",
      "metadata": {
        "id": "4a0fc36a-e8d0-407e-9f2f-dd0935967539"
      },
      "source": [
        "`-` 예시2"
      ]
    },
    {
      "cell_type": "code",
      "execution_count": null,
      "id": "e8b52362-9ec4-4525-a39c-fea9eb21adcb",
      "metadata": {
        "id": "e8b52362-9ec4-4525-a39c-fea9eb21adcb"
      },
      "outputs": [],
      "source": [
        "a <- c(1,T)"
      ]
    },
    {
      "cell_type": "code",
      "execution_count": null,
      "id": "9742fa4d-876d-402e-978e-04538dfee754",
      "metadata": {
        "id": "9742fa4d-876d-402e-978e-04538dfee754",
        "outputId": "cfdad9e7-3c5f-4ba4-e920-6072328b73fd"
      },
      "outputs": [
        {
          "data": {
            "text/plain": [
              "[1] \"numeric\""
            ]
          },
          "metadata": {},
          "output_type": "display_data"
        }
      ],
      "source": [
        "mode(a)"
      ]
    },
    {
      "cell_type": "markdown",
      "id": "08240a0d-a579-4a20-ad28-5da9c2af482c",
      "metadata": {
        "id": "08240a0d-a579-4a20-ad28-5da9c2af482c"
      },
      "source": [
        "- 서로 다른 기본형을 가지는 원소로 벡터를 만들면 한 가지 형으로 자동 형 변환이 된다."
      ]
    },
    {
      "cell_type": "markdown",
      "id": "be7496ed-1b9e-4a2e-8966-ee096597e27b",
      "metadata": {
        "jp-MarkdownHeadingCollapsed": true,
        "tags": [],
        "id": "be7496ed-1b9e-4a2e-8966-ee096597e27b"
      },
      "source": [
        "### 행렬"
      ]
    },
    {
      "cell_type": "markdown",
      "id": "18f5d20c-1a59-4f7f-be93-47b5c07b09fe",
      "metadata": {
        "id": "18f5d20c-1a59-4f7f-be93-47b5c07b09fe"
      },
      "source": [
        "`-` 행렬도 벡터와 같이 동일한 형의 원소로 구성된다."
      ]
    },
    {
      "cell_type": "markdown",
      "source": [
        "#### 행렬의 속성"
      ],
      "metadata": {
        "id": "IEw00geouXLx"
      },
      "id": "IEw00geouXLx"
    },
    {
      "cell_type": "code",
      "execution_count": null,
      "id": "f76e3b0d-0d05-4c87-a568-cd7a42664cd7",
      "metadata": {
        "id": "f76e3b0d-0d05-4c87-a568-cd7a42664cd7",
        "outputId": "1bbe1bf4-b214-49b9-afba-3a87b1260465"
      },
      "outputs": [
        {
          "data": {
            "text/plain": [
              "     [,1] [,2] [,3]\n",
              "[1,] 1    2     7  \n",
              "[2,] 2    4     8  \n",
              "[3,] 3    6     9  \n",
              "[4,] 4    8    10  "
            ]
          },
          "metadata": {},
          "output_type": "display_data"
        }
      ],
      "source": [
        "A = cbind(c(1,2,3,4),c(2,4,6,8),c(7,8,9,10))\n",
        "A"
      ]
    },
    {
      "cell_type": "code",
      "execution_count": null,
      "id": "f3349480-f899-41af-95b9-9034c0bc6c85",
      "metadata": {
        "id": "f3349480-f899-41af-95b9-9034c0bc6c85",
        "outputId": "31b05910-fe45-47e5-dc28-e246b62c27c0"
      },
      "outputs": [
        {
          "data": {
            "text/plain": [
              "[1] 12"
            ]
          },
          "metadata": {},
          "output_type": "display_data"
        }
      ],
      "source": [
        "length(A)"
      ]
    },
    {
      "cell_type": "code",
      "execution_count": null,
      "id": "b7410d14-96a4-46f2-91b9-ead9bdb94b5e",
      "metadata": {
        "id": "b7410d14-96a4-46f2-91b9-ead9bdb94b5e",
        "outputId": "88f936d8-a45e-4ca7-cf07-b294e1f60146"
      },
      "outputs": [
        {
          "data": {
            "text/plain": [
              "[1] \"numeric\""
            ]
          },
          "metadata": {},
          "output_type": "display_data"
        }
      ],
      "source": [
        "mode(A)"
      ]
    },
    {
      "cell_type": "code",
      "execution_count": null,
      "id": "c23a1ab1-8995-4665-84da-38e391dd8daa",
      "metadata": {
        "id": "c23a1ab1-8995-4665-84da-38e391dd8daa",
        "outputId": "6829003a-9f3c-4adf-97b6-943d14216943"
      },
      "outputs": [
        {
          "data": {
            "text/plain": [
              "[1] 4 3"
            ]
          },
          "metadata": {},
          "output_type": "display_data"
        }
      ],
      "source": [
        "dim(A)"
      ]
    },
    {
      "cell_type": "code",
      "execution_count": null,
      "id": "35cf5082-4c2e-486f-8474-69c1d418978f",
      "metadata": {
        "id": "35cf5082-4c2e-486f-8474-69c1d418978f"
      },
      "outputs": [],
      "source": [
        "dim(A) <- c(3,4)"
      ]
    },
    {
      "cell_type": "code",
      "execution_count": null,
      "id": "6ff960fa-8441-47eb-a1a3-1069654d67c0",
      "metadata": {
        "id": "6ff960fa-8441-47eb-a1a3-1069654d67c0",
        "outputId": "b58dad0d-4798-4037-b604-7e89f8c2199d"
      },
      "outputs": [
        {
          "data": {
            "text/plain": [
              "[1] 3 4"
            ]
          },
          "metadata": {},
          "output_type": "display_data"
        }
      ],
      "source": [
        "dim(A)"
      ]
    },
    {
      "cell_type": "code",
      "execution_count": null,
      "id": "d4798189-3e13-4dac-a21e-4e80f1fa968c",
      "metadata": {
        "id": "d4798189-3e13-4dac-a21e-4e80f1fa968c",
        "outputId": "0efb011e-288c-4b03-a122-092b1913df58"
      },
      "outputs": [
        {
          "data": {
            "text/plain": [
              "NULL"
            ]
          },
          "metadata": {},
          "output_type": "display_data"
        }
      ],
      "source": [
        "dimnames(A)"
      ]
    },
    {
      "cell_type": "markdown",
      "id": "a1cce95b-336d-4f47-b87c-9d6e09ca820e",
      "metadata": {
        "id": "a1cce95b-336d-4f47-b87c-9d6e09ca820e"
      },
      "source": [
        "`-` 지금은 이름이 없지만 아래와 같이 이름이 있을 수 있다."
      ]
    },
    {
      "cell_type": "code",
      "execution_count": null,
      "id": "9138b64e-5cb8-424b-a08d-11adcad1fcff",
      "metadata": {
        "id": "9138b64e-5cb8-424b-a08d-11adcad1fcff",
        "outputId": "a312591e-f56f-4960-eed2-d0c5ac6948d0"
      },
      "outputs": [
        {
          "data": {
            "text/plain": [
              "     x y z \n",
              "[1,] 1 3  7\n",
              "[2,] 2 5  8\n",
              "[3,] 3 7  9\n",
              "[4,] 4 9 10"
            ]
          },
          "metadata": {},
          "output_type": "display_data"
        }
      ],
      "source": [
        "x <- c(1,2,3,4)\n",
        "y <- c(3,5,7,9)\n",
        "z <- c(7,8,9,10)\n",
        "A <- cbind(x,y,z)\n",
        "A"
      ]
    },
    {
      "cell_type": "code",
      "execution_count": null,
      "id": "1ca18890-e0ad-4b94-b8b3-6daa03d5485b",
      "metadata": {
        "id": "1ca18890-e0ad-4b94-b8b3-6daa03d5485b",
        "outputId": "df41e86b-ecb3-4946-ec64-1895e02f9e43"
      },
      "outputs": [
        {
          "data": {
            "text/plain": [
              "[[1]]\n",
              "NULL\n",
              "\n",
              "[[2]]\n",
              "[1] \"x\" \"y\" \"z\"\n"
            ]
          },
          "metadata": {},
          "output_type": "display_data"
        }
      ],
      "source": [
        "dimnames(A)"
      ]
    },
    {
      "cell_type": "code",
      "execution_count": null,
      "id": "1dfebe44-4263-48bd-9933-94b412999ecd",
      "metadata": {
        "id": "1dfebe44-4263-48bd-9933-94b412999ecd",
        "outputId": "8981722d-d1af-4cef-e5b8-6f274ce35a50"
      },
      "outputs": [
        {
          "data": {
            "text/plain": [
              "  [,1] [,2] [,3] [,4]\n",
              "x 1    2    3     4  \n",
              "y 3    5    7     9  \n",
              "z 7    8    9    10  "
            ]
          },
          "metadata": {},
          "output_type": "display_data"
        }
      ],
      "source": [
        "A <- rbind(x,y,z)\n",
        "A"
      ]
    },
    {
      "cell_type": "code",
      "execution_count": null,
      "id": "99c0b8a2-ac4a-4d09-a9c9-590368dcb51e",
      "metadata": {
        "id": "99c0b8a2-ac4a-4d09-a9c9-590368dcb51e",
        "outputId": "ee22891a-c48c-44b4-ef93-e3ad7dffa458"
      },
      "outputs": [
        {
          "data": {
            "text/plain": [
              "[[1]]\n",
              "[1] \"x\" \"y\" \"z\"\n",
              "\n",
              "[[2]]\n",
              "NULL\n"
            ]
          },
          "metadata": {},
          "output_type": "display_data"
        }
      ],
      "source": [
        "dimnames(A)"
      ]
    },
    {
      "cell_type": "markdown",
      "id": "f2874765-755d-4dab-83e4-08ffe4ae0b68",
      "metadata": {
        "id": "f2874765-755d-4dab-83e4-08ffe4ae0b68"
      },
      "source": [
        "#### 매트릭스를 만드는 방법"
      ]
    },
    {
      "cell_type": "markdown",
      "source": [
        "##### 방법1: matrix 함수를 이용하는 방법"
      ],
      "metadata": {
        "id": "QNBckgIIrk2q"
      },
      "id": "QNBckgIIrk2q"
    },
    {
      "cell_type": "markdown",
      "id": "9da16de2-c86b-49e4-948a-819eea0108b1",
      "metadata": {
        "id": "9da16de2-c86b-49e4-948a-819eea0108b1"
      },
      "source": [
        "`-` 예제1"
      ]
    },
    {
      "cell_type": "code",
      "execution_count": null,
      "id": "7b257730-d5ce-45a0-ab0d-33499bdaaf76",
      "metadata": {
        "id": "7b257730-d5ce-45a0-ab0d-33499bdaaf76",
        "outputId": "1440abfa-7fb6-4f1b-c855-a97eb93a1800"
      },
      "outputs": [
        {
          "data": {
            "text/plain": [
              "     [,1] [,2]\n",
              "[1,] 1    5   \n",
              "[2,] 2    6   \n",
              "[3,] 3    7   \n",
              "[4,] 4    8   "
            ]
          },
          "metadata": {},
          "output_type": "display_data"
        }
      ],
      "source": [
        "matrix(1:8,ncol=2)"
      ]
    },
    {
      "cell_type": "code",
      "execution_count": null,
      "id": "9ff639e8-8214-44c3-a394-3e52e485338a",
      "metadata": {
        "id": "9ff639e8-8214-44c3-a394-3e52e485338a",
        "outputId": "0e911066-0e88-42f5-a36c-6d50a8ad84d5"
      },
      "outputs": [
        {
          "data": {
            "text/plain": [
              "     [,1] [,2]\n",
              "[1,] 1    2   \n",
              "[2,] 3    4   \n",
              "[3,] 5    6   \n",
              "[4,] 7    8   "
            ]
          },
          "metadata": {},
          "output_type": "display_data"
        }
      ],
      "source": [
        "matrix(1:8,ncol=2,byrow = T)"
      ]
    },
    {
      "cell_type": "markdown",
      "id": "a9163c90-4c75-4d3e-9a0d-9952258c6c61",
      "metadata": {
        "id": "a9163c90-4c75-4d3e-9a0d-9952258c6c61"
      },
      "source": [
        "- `byrow = T` 옵션을 사용하면 컬럼기준으로 원소를 입력하는 것이 아닌 row기준으로 원소를 입력해준다."
      ]
    },
    {
      "cell_type": "markdown",
      "id": "2482c135-56e3-477b-a5a1-147d10417977",
      "metadata": {
        "id": "2482c135-56e3-477b-a5a1-147d10417977"
      },
      "source": [
        "`-` 예제2"
      ]
    },
    {
      "cell_type": "code",
      "execution_count": null,
      "id": "f8cba5fb-2ad9-45cc-8944-d2291228817b",
      "metadata": {
        "id": "f8cba5fb-2ad9-45cc-8944-d2291228817b",
        "outputId": "45a68050-a00f-48ab-e62c-54319d3e7e21"
      },
      "outputs": [
        {
          "data": {
            "text/plain": [
              "     [,1] [,2] [,3]\n",
              "[1,] 1    4    7   \n",
              "[2,] 2    5    8   \n",
              "[3,] 3    6    9   "
            ]
          },
          "metadata": {},
          "output_type": "display_data"
        }
      ],
      "source": [
        "matrix(1:9,ncol=3)"
      ]
    },
    {
      "cell_type": "code",
      "execution_count": null,
      "id": "008da899-fd9c-4ccd-84cd-755d8160517e",
      "metadata": {
        "id": "008da899-fd9c-4ccd-84cd-755d8160517e",
        "outputId": "af52c22b-6826-4d7a-f79f-a11d5fc9ff9d"
      },
      "outputs": [
        {
          "name": "stderr",
          "output_type": "stream",
          "text": [
            "Warning message in matrix(1:7, ncol = 3):\n",
            "\"데이터의 길이[7]가 행의 개수[3]의 배수가 되지 않습니다\"\n"
          ]
        },
        {
          "data": {
            "text/plain": [
              "     [,1] [,2] [,3]\n",
              "[1,] 1    4    7   \n",
              "[2,] 2    5    1   \n",
              "[3,] 3    6    2   "
            ]
          },
          "metadata": {},
          "output_type": "display_data"
        }
      ],
      "source": [
        "matrix(1:7,ncol=3)"
      ]
    },
    {
      "cell_type": "markdown",
      "id": "099f34bc-8f68-48e0-85dc-af5197366b00",
      "metadata": {
        "id": "099f34bc-8f68-48e0-85dc-af5197366b00"
      },
      "source": [
        "`-` 예제3"
      ]
    },
    {
      "cell_type": "code",
      "execution_count": null,
      "id": "2ca74812-697e-4667-b7c5-f611ea9748ef",
      "metadata": {
        "id": "2ca74812-697e-4667-b7c5-f611ea9748ef",
        "outputId": "b7ecdb87-2b85-4441-cc59-5b70ac646d86"
      },
      "outputs": [
        {
          "data": {
            "text/plain": [
              "     [,1] [,2] [,3] [,4]\n",
              "[1,] 1    3    5    7   \n",
              "[2,] 2    4    6    8   "
            ]
          },
          "metadata": {},
          "output_type": "display_data"
        }
      ],
      "source": [
        "matrix(1:8,nrow=2)"
      ]
    },
    {
      "cell_type": "markdown",
      "id": "c18a7225-76d0-445d-9ec0-8d23f0531307",
      "metadata": {
        "id": "c18a7225-76d0-445d-9ec0-8d23f0531307"
      },
      "source": [
        "- $1$행에 $(1,2,3,4)$, $2$행에 $(5,6,7,8)$ 입력되는 것이 아닌 컬럼기준으로 입력이 되어 기대한 것과 다른 값이 나온다\n",
        "\n",
        "- 이는 다음과 같이 `byrow = T` 옵션을 통해 row기준으로 입력할 수 있다."
      ]
    },
    {
      "cell_type": "code",
      "execution_count": null,
      "id": "947475d9-fa79-4bec-8778-993ef2290ded",
      "metadata": {
        "id": "947475d9-fa79-4bec-8778-993ef2290ded",
        "outputId": "b5fd2c75-2ef9-4614-f1fd-584492126cd3"
      },
      "outputs": [
        {
          "data": {
            "text/plain": [
              "     [,1] [,2] [,3] [,4]\n",
              "[1,] 1    2    3    4   \n",
              "[2,] 5    6    7    8   "
            ]
          },
          "metadata": {},
          "output_type": "display_data"
        }
      ],
      "source": [
        "matrix(1:8,nrow=2,byrow = T)"
      ]
    },
    {
      "cell_type": "markdown",
      "id": "2708f4bf-af47-4e42-bad7-fd34456d2dc2",
      "metadata": {
        "id": "2708f4bf-af47-4e42-bad7-fd34456d2dc2"
      },
      "source": [
        "`-` 예제4"
      ]
    },
    {
      "cell_type": "code",
      "execution_count": null,
      "id": "51957fa0-9117-4ed3-8e16-f38c0f0db767",
      "metadata": {
        "id": "51957fa0-9117-4ed3-8e16-f38c0f0db767",
        "outputId": "125b841d-33c2-4829-b593-59b094e81934"
      },
      "outputs": [
        {
          "data": {
            "text/plain": [
              "     [,1] [,2] [,3]\n",
              "[1,] 1    4    7   \n",
              "[2,] 2    5    8   \n",
              "[3,] 3    6    9   "
            ]
          },
          "metadata": {},
          "output_type": "display_data"
        }
      ],
      "source": [
        "matrix(1:9,nrow=3)"
      ]
    },
    {
      "cell_type": "code",
      "execution_count": null,
      "id": "16938da5-8049-4598-a8b7-9ad53de4839f",
      "metadata": {
        "id": "16938da5-8049-4598-a8b7-9ad53de4839f",
        "outputId": "f1d713c1-9161-48f1-e3a8-0cdcc1a9c740"
      },
      "outputs": [
        {
          "name": "stderr",
          "output_type": "stream",
          "text": [
            "Warning message in matrix(1:10, nrow = 3):\n",
            "\"데이터의 길이[10]가 행의 개수[3]의 배수가 되지 않습니다\"\n"
          ]
        },
        {
          "data": {
            "text/plain": [
              "     [,1] [,2] [,3] [,4]\n",
              "[1,] 1    4    7    10  \n",
              "[2,] 2    5    8     1  \n",
              "[3,] 3    6    9     2  "
            ]
          },
          "metadata": {},
          "output_type": "display_data"
        }
      ],
      "source": [
        "matrix(1:10,nrow=3)"
      ]
    },
    {
      "cell_type": "markdown",
      "id": "a8f68806-e84d-410e-b37d-8401dedb4c80",
      "metadata": {
        "id": "a8f68806-e84d-410e-b37d-8401dedb4c80"
      },
      "source": [
        "`-` 예제5"
      ]
    },
    {
      "cell_type": "code",
      "execution_count": null,
      "id": "06bf8b03-304c-478a-bb32-c5130dfa2dd4",
      "metadata": {
        "id": "06bf8b03-304c-478a-bb32-c5130dfa2dd4",
        "outputId": "82e93c9c-6371-4532-c114-aacca805090e"
      },
      "outputs": [
        {
          "data": {
            "text/plain": [
              "      [,1]\n",
              " [1,]  1  \n",
              " [2,]  2  \n",
              " [3,]  3  \n",
              " [4,]  4  \n",
              " [5,]  5  \n",
              " [6,]  6  \n",
              " [7,]  7  \n",
              " [8,]  8  \n",
              " [9,]  9  \n",
              "[10,] 10  "
            ]
          },
          "metadata": {},
          "output_type": "display_data"
        }
      ],
      "source": [
        "matrix(1:10)"
      ]
    },
    {
      "cell_type": "markdown",
      "id": "87a5e765-7001-4a24-95af-c2d4bc55d5dd",
      "metadata": {
        "id": "87a5e765-7001-4a24-95af-c2d4bc55d5dd"
      },
      "source": [
        "- 입력이 없으면 한 컬럼에 대해 입력하게 된다"
      ]
    },
    {
      "cell_type": "markdown",
      "id": "456dd1e3-e675-4dd5-8dc2-b1807c3f8ad4",
      "metadata": {
        "id": "456dd1e3-e675-4dd5-8dc2-b1807c3f8ad4"
      },
      "source": [
        "##### 방법2: rbind 함수를 이용하는 방법"
      ]
    },
    {
      "cell_type": "markdown",
      "id": "0c5d5565-80fa-461a-bb2a-5e3257eb167a",
      "metadata": {
        "id": "0c5d5565-80fa-461a-bb2a-5e3257eb167a"
      },
      "source": [
        "`-` 예제1"
      ]
    },
    {
      "cell_type": "code",
      "execution_count": null,
      "id": "141af875-e4e8-4651-9cf6-44e5d545f050",
      "metadata": {
        "id": "141af875-e4e8-4651-9cf6-44e5d545f050",
        "outputId": "6ec5dc04-ece7-4770-e7d0-6666d1d67f96"
      },
      "outputs": [
        {
          "data": {
            "text/plain": [
              "     [,1] [,2] [,3] [,4] [,5] [,6]\n",
              "[1,] 1    2    3    4    5    6   \n",
              "[2,] 1    2    1    2    1    2   "
            ]
          },
          "metadata": {},
          "output_type": "display_data"
        }
      ],
      "source": [
        "rbind(1:6,rep(c(1,2),3))"
      ]
    },
    {
      "cell_type": "markdown",
      "id": "1a834010-5ac8-4d87-8d4c-5c5b6760aaec",
      "metadata": {
        "id": "1a834010-5ac8-4d87-8d4c-5c5b6760aaec"
      },
      "source": [
        "`-` 예제2"
      ]
    },
    {
      "cell_type": "code",
      "execution_count": null,
      "id": "4b469552-cb20-4934-a46e-54a8c80553d8",
      "metadata": {
        "id": "4b469552-cb20-4934-a46e-54a8c80553d8",
        "outputId": "1a208bce-1663-46a3-d82f-174d0b05b280"
      },
      "outputs": [
        {
          "name": "stderr",
          "output_type": "stream",
          "text": [
            "Warning message in rbind(1:5, 5:1, 1:3):\n",
            "\"number of columns of result is not a multiple of vector length (arg 3)\"\n"
          ]
        },
        {
          "data": {
            "text/plain": [
              "     [,1] [,2] [,3] [,4] [,5]\n",
              "[1,] 1    2    3    4    5   \n",
              "[2,] 5    4    3    2    1   \n",
              "[3,] 1    2    3    1    2   "
            ]
          },
          "metadata": {},
          "output_type": "display_data"
        }
      ],
      "source": [
        "rbind(1:5,5:1,1:3)"
      ]
    },
    {
      "cell_type": "markdown",
      "id": "2ff5ef1e-450c-4414-96bf-bb97463794a4",
      "metadata": {
        "id": "2ff5ef1e-450c-4414-96bf-bb97463794a4"
      },
      "source": [
        "- python이었다면 오류가 났을 것이지만, R에서는 경고메시지 정도만 뜨고 알아서 채워준다."
      ]
    },
    {
      "cell_type": "code",
      "execution_count": null,
      "id": "dae7ad0d-6d4e-4099-a40a-0465d8674366",
      "metadata": {
        "id": "dae7ad0d-6d4e-4099-a40a-0465d8674366",
        "outputId": "05eadefc-3e67-43d0-9c49-f441baee764f"
      },
      "outputs": [
        {
          "data": {
            "text/plain": [
              "     [,1] [,2] [,3] [,4]\n",
              "[1,] 1    2    3    4   \n",
              "[2,] 4    3    2    1   \n",
              "[3,] 1    2    1    2   "
            ]
          },
          "metadata": {},
          "output_type": "display_data"
        }
      ],
      "source": [
        "rbind(1:4,4:1,1:2)"
      ]
    },
    {
      "cell_type": "markdown",
      "id": "3add1f81-2e3d-4be6-a40f-2306e21543af",
      "metadata": {
        "id": "3add1f81-2e3d-4be6-a40f-2306e21543af"
      },
      "source": [
        "- 경고메시지도 뜨지 않는다. $1,2$가 두 번씩 자동으로 입력되었다."
      ]
    },
    {
      "cell_type": "code",
      "execution_count": null,
      "id": "447bf41c-b0f4-4895-b8a5-4356892010ea",
      "metadata": {
        "id": "447bf41c-b0f4-4895-b8a5-4356892010ea",
        "outputId": "6aede5ea-c342-4c86-d73e-2cd41f654c0f"
      },
      "outputs": [
        {
          "data": {
            "text/plain": [
              "     [,1] [,2] [,3] [,4]\n",
              "[1,] 1    2    3    4   \n",
              "[2,] 4    3    2    1   \n",
              "[3,] 1    2    1    2   "
            ]
          },
          "metadata": {},
          "output_type": "display_data"
        }
      ],
      "source": [
        "rbind(1:4,4:1,rep(1:2,2))"
      ]
    },
    {
      "cell_type": "markdown",
      "id": "9e8061fc-f3b0-41fa-b817-961fd66ecd1e",
      "metadata": {
        "id": "9e8061fc-f3b0-41fa-b817-961fd66ecd1e"
      },
      "source": [
        "- 위의 결과를 나타내는 정석적인 코드는 위와 같음"
      ]
    },
    {
      "cell_type": "markdown",
      "id": "f52a45a2-f43e-43ba-8620-f25218b31274",
      "metadata": {
        "id": "f52a45a2-f43e-43ba-8620-f25218b31274"
      },
      "source": [
        "`-` 예제3: 행에 이름 넣기"
      ]
    },
    {
      "cell_type": "code",
      "execution_count": null,
      "id": "7b8065e7-aaed-4daf-9ed1-aac54f85cc00",
      "metadata": {
        "id": "7b8065e7-aaed-4daf-9ed1-aac54f85cc00",
        "outputId": "0745fd83-200b-422e-f830-8874d983671c"
      },
      "outputs": [
        {
          "data": {
            "text/plain": [
              "     [,1] [,2] [,3] [,4] [,5] [,6]\n",
              "row1 1    2    3    4    5    6   \n",
              "row2 6    5    4    3    2    1   \n",
              "row3 1    2    3    1    2    3   "
            ]
          },
          "metadata": {},
          "output_type": "display_data"
        }
      ],
      "source": [
        "rbind(\"row1\"=1:6,\"row2\"=6:1,\"row3\"=1:3)"
      ]
    },
    {
      "cell_type": "markdown",
      "id": "475ccaac-f240-4612-b4ad-b34ece5fc4a1",
      "metadata": {
        "id": "475ccaac-f240-4612-b4ad-b34ece5fc4a1"
      },
      "source": [
        "##### 방법3: cbind 함수를 이용하는 방법"
      ]
    },
    {
      "cell_type": "markdown",
      "id": "2494eef0-c179-412d-9f2c-3eb75b4d78be",
      "metadata": {
        "id": "2494eef0-c179-412d-9f2c-3eb75b4d78be"
      },
      "source": [
        "`-` 예제1"
      ]
    },
    {
      "cell_type": "code",
      "execution_count": null,
      "id": "0df073a1-ad5c-4e8a-a518-57186b21f190",
      "metadata": {
        "id": "0df073a1-ad5c-4e8a-a518-57186b21f190",
        "outputId": "24e6e1dd-0b6a-42d8-fde4-091f902a1a7c"
      },
      "outputs": [
        {
          "name": "stderr",
          "output_type": "stream",
          "text": [
            "Warning message in cbind(1:5, 5:1, 1:3):\n",
            "\"number of rows of result is not a multiple of vector length (arg 3)\"\n"
          ]
        },
        {
          "data": {
            "text/plain": [
              "     [,1] [,2] [,3]\n",
              "[1,] 1    5    1   \n",
              "[2,] 2    4    2   \n",
              "[3,] 3    3    3   \n",
              "[4,] 4    2    1   \n",
              "[5,] 5    1    2   "
            ]
          },
          "metadata": {},
          "output_type": "display_data"
        }
      ],
      "source": [
        "cbind(1:5,5:1,1:3)"
      ]
    },
    {
      "cell_type": "markdown",
      "id": "ad826ebe-9ab3-4536-bbcf-6d34f9e58141",
      "metadata": {
        "id": "ad826ebe-9ab3-4536-bbcf-6d34f9e58141"
      },
      "source": [
        "- 마찬가지로 경고메시지만 뜨고, 나머지는 순서에 따라 자동으로 채워준다."
      ]
    },
    {
      "cell_type": "markdown",
      "id": "10ea56dd-763f-4275-ab0f-71f66a787c2f",
      "metadata": {
        "id": "10ea56dd-763f-4275-ab0f-71f66a787c2f"
      },
      "source": [
        "`-` 예제2\n",
        ": 열에 이름 설정하기"
      ]
    },
    {
      "cell_type": "code",
      "execution_count": null,
      "id": "08e06233-c39b-40b1-8dd3-bb4d84651322",
      "metadata": {
        "id": "08e06233-c39b-40b1-8dd3-bb4d84651322",
        "outputId": "e499c8a7-7223-42ab-b1f6-b0a6588f4dfc"
      },
      "outputs": [
        {
          "data": {
            "text/plain": [
              "     col1 col2 col3\n",
              "[1,] 1    6    1   \n",
              "[2,] 2    5    2   \n",
              "[3,] 3    4    3   \n",
              "[4,] 4    3    1   \n",
              "[5,] 5    2    2   \n",
              "[6,] 6    1    3   "
            ]
          },
          "metadata": {},
          "output_type": "display_data"
        }
      ],
      "source": [
        "cbind(\"col1\"=1:6,\"col2\"=6:1,\"col3\"=1:3)"
      ]
    },
    {
      "cell_type": "markdown",
      "id": "9a79cb3e-f184-4fd4-8437-67baeab8c8da",
      "metadata": {
        "id": "9a79cb3e-f184-4fd4-8437-67baeab8c8da"
      },
      "source": [
        "##### 방법4: dim 함수를 이용하는 방법"
      ]
    },
    {
      "cell_type": "markdown",
      "id": "9ddd6e76-d558-4c34-a26f-4acfded381fe",
      "metadata": {
        "id": "9ddd6e76-d558-4c34-a26f-4acfded381fe"
      },
      "source": [
        "`-` 예제1"
      ]
    },
    {
      "cell_type": "code",
      "execution_count": null,
      "id": "a0c4a36b-57f0-4e95-a991-070016555be8",
      "metadata": {
        "id": "a0c4a36b-57f0-4e95-a991-070016555be8"
      },
      "outputs": [],
      "source": [
        "A <- 1:10"
      ]
    },
    {
      "cell_type": "code",
      "execution_count": null,
      "id": "d32f8f50-e6dd-4d37-af68-d40db9081707",
      "metadata": {
        "id": "d32f8f50-e6dd-4d37-af68-d40db9081707"
      },
      "outputs": [],
      "source": [
        "dim(A) <- c(2,5)"
      ]
    },
    {
      "cell_type": "code",
      "execution_count": null,
      "id": "ee60f623-8280-4352-af65-42bbda4d772a",
      "metadata": {
        "id": "ee60f623-8280-4352-af65-42bbda4d772a",
        "outputId": "15ee1cd9-245d-496a-e88b-1c86a08babf7"
      },
      "outputs": [
        {
          "data": {
            "text/plain": [
              "     [,1] [,2] [,3] [,4] [,5]\n",
              "[1,] 1    3    5    7     9  \n",
              "[2,] 2    4    6    8    10  "
            ]
          },
          "metadata": {},
          "output_type": "display_data"
        }
      ],
      "source": [
        "A"
      ]
    },
    {
      "cell_type": "code",
      "execution_count": null,
      "id": "3653f8e6-f736-4b3b-b684-4d4c783066b1",
      "metadata": {
        "id": "3653f8e6-f736-4b3b-b684-4d4c783066b1",
        "outputId": "210b97a2-0ae1-4c17-ba19-d8b0f426f9eb"
      },
      "outputs": [
        {
          "data": {
            "text/plain": [
              "[1] 2 5"
            ]
          },
          "metadata": {},
          "output_type": "display_data"
        }
      ],
      "source": [
        "dim(A)"
      ]
    },
    {
      "cell_type": "markdown",
      "id": "25e361cf-627c-4287-b0dc-a06c53296b75",
      "metadata": {
        "id": "25e361cf-627c-4287-b0dc-a06c53296b75"
      },
      "source": [
        "`-` 예제2: 예제1과 반대로 이미 만들어진 매트릭스를 벡터로 바꾸는 것도 가능하다."
      ]
    },
    {
      "cell_type": "markdown",
      "id": "6741ebed-609d-4ba4-9640-0d07851a5930",
      "metadata": {
        "id": "6741ebed-609d-4ba4-9640-0d07851a5930"
      },
      "source": [
        "`-` 방법1"
      ]
    },
    {
      "cell_type": "code",
      "execution_count": null,
      "id": "39987536-49a8-4c8e-99f2-abbe694b2b42",
      "metadata": {
        "id": "39987536-49a8-4c8e-99f2-abbe694b2b42",
        "outputId": "772b2849-4bda-403d-ca52-0cb99a7e4199"
      },
      "outputs": [
        {
          "data": {
            "text/plain": [
              "[1] 2 5"
            ]
          },
          "metadata": {},
          "output_type": "display_data"
        }
      ],
      "source": [
        "dim(A)"
      ]
    },
    {
      "cell_type": "code",
      "execution_count": null,
      "id": "cdd59a61-aa9f-45b0-a04d-1945adaaec0f",
      "metadata": {
        "id": "cdd59a61-aa9f-45b0-a04d-1945adaaec0f"
      },
      "outputs": [],
      "source": [
        "dim(A) <- NULL"
      ]
    },
    {
      "cell_type": "code",
      "execution_count": null,
      "id": "8d776674-e22b-40f0-ab09-6880008036ac",
      "metadata": {
        "id": "8d776674-e22b-40f0-ab09-6880008036ac",
        "outputId": "63ce193f-cb6d-46c0-d2fa-981bfe1fb7c7"
      },
      "outputs": [
        {
          "data": {
            "text/plain": [
              "NULL"
            ]
          },
          "metadata": {},
          "output_type": "display_data"
        }
      ],
      "source": [
        "dim(A)"
      ]
    },
    {
      "cell_type": "code",
      "execution_count": null,
      "id": "c7d6a211-dbf0-4612-bd4b-734c953b83d1",
      "metadata": {
        "id": "c7d6a211-dbf0-4612-bd4b-734c953b83d1",
        "outputId": "bebe2e40-e61f-4570-e88f-cc0edfa7ea41"
      },
      "outputs": [
        {
          "data": {
            "text/plain": [
              " [1]  1  2  3  4  5  6  7  8  9 10"
            ]
          },
          "metadata": {},
          "output_type": "display_data"
        }
      ],
      "source": [
        "A"
      ]
    },
    {
      "cell_type": "markdown",
      "id": "de89eb40-b169-4bd3-b7e8-236872a72e3f",
      "metadata": {
        "id": "de89eb40-b169-4bd3-b7e8-236872a72e3f"
      },
      "source": [
        "`-` 방법2"
      ]
    },
    {
      "cell_type": "code",
      "execution_count": null,
      "id": "e1daf307-8bd3-4bae-a91d-f5a770e06d9c",
      "metadata": {
        "id": "e1daf307-8bd3-4bae-a91d-f5a770e06d9c",
        "outputId": "a8e8f918-7ecd-4071-b1e4-a36a72634b57"
      },
      "outputs": [
        {
          "data": {
            "text/plain": [
              "     [,1] [,2] [,3] [,4] [,5]\n",
              "[1,] 1    3    5    7     9  \n",
              "[2,] 2    4    6    8    10  "
            ]
          },
          "metadata": {},
          "output_type": "display_data"
        }
      ],
      "source": [
        "dim(A) <- c(2,5)\n",
        "A"
      ]
    },
    {
      "cell_type": "code",
      "execution_count": null,
      "id": "b404b2c4-a654-47ee-af84-fcb42c7912e3",
      "metadata": {
        "id": "b404b2c4-a654-47ee-af84-fcb42c7912e3"
      },
      "outputs": [],
      "source": [
        "dim(A) <- c()"
      ]
    },
    {
      "cell_type": "code",
      "execution_count": null,
      "id": "b0351471-8fa1-4aef-9ef8-029da7ec2e1a",
      "metadata": {
        "id": "b0351471-8fa1-4aef-9ef8-029da7ec2e1a",
        "outputId": "a644ae5d-6c47-4f37-f8e2-d1f9faafb1c4"
      },
      "outputs": [
        {
          "data": {
            "text/plain": [
              "NULL"
            ]
          },
          "metadata": {},
          "output_type": "display_data"
        }
      ],
      "source": [
        "dim(A)"
      ]
    },
    {
      "cell_type": "code",
      "execution_count": null,
      "id": "190d9d0e-b15c-4770-8f87-48ba8e7d2b13",
      "metadata": {
        "id": "190d9d0e-b15c-4770-8f87-48ba8e7d2b13",
        "outputId": "ee251d81-5625-4bc8-e73e-d102d84b3ef6"
      },
      "outputs": [
        {
          "data": {
            "text/plain": [
              " [1]  1  2  3  4  5  6  7  8  9 10"
            ]
          },
          "metadata": {},
          "output_type": "display_data"
        }
      ],
      "source": [
        "A"
      ]
    },
    {
      "cell_type": "markdown",
      "id": "b077515a-9f8c-43c1-ad94-bf7419a5670a",
      "metadata": {
        "id": "b077515a-9f8c-43c1-ad94-bf7419a5670a"
      },
      "source": [
        "##### 방법5: array 함수를 이용하는 방법\n",
        ": 기본적으로 $matrix()$와 유사 $ncol, nrow$ 대신 `dim=c()`을 사용"
      ]
    },
    {
      "cell_type": "markdown",
      "id": "19c66477-5c08-41dc-8db2-66a61080ba21",
      "metadata": {
        "id": "19c66477-5c08-41dc-8db2-66a61080ba21"
      },
      "source": [
        "`-` 예시1"
      ]
    },
    {
      "cell_type": "code",
      "execution_count": null,
      "id": "3108d0b7-0d71-4fa7-a9e4-fef3783b4628",
      "metadata": {
        "id": "3108d0b7-0d71-4fa7-a9e4-fef3783b4628",
        "outputId": "c9130308-cc73-4ef2-d9ce-8349735a1a75"
      },
      "outputs": [
        {
          "data": {
            "text/plain": [
              "     [,1] [,2] [,3] [,4] [,5] [,6]\n",
              "[1,] 1    3    5    7     9   11  \n",
              "[2,] 2    4    6    8    10   12  "
            ]
          },
          "metadata": {},
          "output_type": "display_data"
        }
      ],
      "source": [
        "array(1:12,dim=c(2,6))"
      ]
    },
    {
      "cell_type": "markdown",
      "id": "175671bf-8a82-437e-a0cc-31dd5a497401",
      "metadata": {
        "id": "175671bf-8a82-437e-a0cc-31dd5a497401"
      },
      "source": [
        "`-` 예시2"
      ]
    },
    {
      "cell_type": "code",
      "execution_count": null,
      "id": "33156421-8b56-4706-85d5-b0429b979c8c",
      "metadata": {
        "id": "33156421-8b56-4706-85d5-b0429b979c8c",
        "outputId": "459d4888-748a-45a7-b4cb-e6f4a60e6d47"
      },
      "outputs": [
        {
          "data": {
            "text/plain": [
              "     [,1] [,2] [,3]\n",
              "[1,] 1    5     9  \n",
              "[2,] 2    6    10  \n",
              "[3,] 3    7    11  \n",
              "[4,] 4    8    12  "
            ]
          },
          "metadata": {},
          "output_type": "display_data"
        }
      ],
      "source": [
        "array(1:12, dim=c(4,3))"
      ]
    },
    {
      "cell_type": "markdown",
      "id": "6f444e59-a1e5-4afa-b55f-7681304be02a",
      "metadata": {
        "id": "6f444e59-a1e5-4afa-b55f-7681304be02a"
      },
      "source": [
        "`-` 예시3"
      ]
    },
    {
      "cell_type": "code",
      "execution_count": null,
      "id": "a5f651c7-b446-4966-b8a8-7794e1ecd66c",
      "metadata": {
        "id": "a5f651c7-b446-4966-b8a8-7794e1ecd66c",
        "outputId": "7bb92cb3-7c1e-4964-e0e2-04db4517e300"
      },
      "outputs": [
        {
          "data": {
            "text/plain": [
              "     [,1] [,2] [,3] [,4]\n",
              "[1,] 1    2    1    2   \n",
              "[2,] 2    1    2    1   \n",
              "[3,] 1    2    1    2   "
            ]
          },
          "metadata": {},
          "output_type": "display_data"
        }
      ],
      "source": [
        "array(1:2,dim=c(3,4))"
      ]
    },
    {
      "cell_type": "markdown",
      "id": "63602e2d-1d78-4702-834f-75e4091fd9ca",
      "metadata": {
        "id": "63602e2d-1d78-4702-834f-75e4091fd9ca"
      },
      "source": [
        "`-` 예시4   \n",
        ": 이건 메트릭스가 아님"
      ]
    },
    {
      "cell_type": "code",
      "execution_count": null,
      "id": "34d78ccc-536c-4821-b51b-ede787ac6e33",
      "metadata": {
        "id": "34d78ccc-536c-4821-b51b-ede787ac6e33",
        "outputId": "1248b97b-d21e-4bb3-c897-8108b1edc632"
      },
      "outputs": [
        {
          "data": {
            "text/plain": [
              ", , 1\n",
              "\n",
              "     [,1] [,2] [,3] [,4]\n",
              "[1,]    1    2    1    2\n",
              "[2,]    2    1    2    1\n",
              "[3,]    1    2    1    2\n",
              "\n",
              ", , 2\n",
              "\n",
              "     [,1] [,2] [,3] [,4]\n",
              "[1,]    1    2    1    2\n",
              "[2,]    2    1    2    1\n",
              "[3,]    1    2    1    2\n"
            ]
          },
          "metadata": {},
          "output_type": "display_data"
        }
      ],
      "source": [
        "array(1:2,dim=c(3,4,2))"
      ]
    },
    {
      "cell_type": "markdown",
      "id": "a2413654-863e-4863-8274-46f4d1625617",
      "metadata": {
        "id": "a2413654-863e-4863-8274-46f4d1625617"
      },
      "source": [
        "- $3×4$ 메트릭스가 stack되어서 쌓여져 있는 3차원 형태가 됨, 메트릭스 자체는 2차원 형태임"
      ]
    },
    {
      "cell_type": "markdown",
      "id": "7cbff25d-2255-443a-ace1-8021cffd6613",
      "metadata": {
        "id": "7cbff25d-2255-443a-ace1-8021cffd6613"
      },
      "source": [
        "`-` 예시5   \n",
        ": 이건 메트릭스가 아님"
      ]
    },
    {
      "cell_type": "code",
      "execution_count": null,
      "id": "ad8a85f4-332d-4b88-86f2-7e035f141817",
      "metadata": {
        "id": "ad8a85f4-332d-4b88-86f2-7e035f141817",
        "outputId": "2330cc71-5abf-4ccf-abaa-6f465ae28de3"
      },
      "outputs": [
        {
          "data": {
            "text/plain": [
              "[1] 1 2 1 2 1 2 1 2"
            ]
          },
          "metadata": {},
          "output_type": "display_data"
        }
      ],
      "source": [
        "array(1:2,dim=8)"
      ]
    },
    {
      "cell_type": "markdown",
      "id": "b0251ed4-9b93-4783-8e14-e49875b16e84",
      "metadata": {
        "id": "b0251ed4-9b93-4783-8e14-e49875b16e84"
      },
      "source": [
        "- array를 사용하여 벡터를 만듦"
      ]
    },
    {
      "cell_type": "markdown",
      "id": "98ae3fce-1991-4fdb-81a3-c747a175abda",
      "metadata": {
        "id": "98ae3fce-1991-4fdb-81a3-c747a175abda"
      },
      "source": [
        "`-` 기타"
      ]
    },
    {
      "cell_type": "code",
      "execution_count": null,
      "id": "25f7faa2-ae5c-481d-a49e-7288e1aa0a0c",
      "metadata": {
        "id": "25f7faa2-ae5c-481d-a49e-7288e1aa0a0c",
        "outputId": "ab4910b6-3eb6-4c8f-f078-b13cda116316"
      },
      "outputs": [
        {
          "data": {
            "text/plain": [
              "     [,1]\n",
              "[1,] 1   \n",
              "[2,] 2   \n",
              "[3,] 3   \n",
              "[4,] 4   \n",
              "[5,] 5   \n",
              "[6,] 6   "
            ]
          },
          "metadata": {},
          "output_type": "display_data"
        }
      ],
      "source": [
        "as.matrix(c(1,2,3,4,5,6))"
      ]
    },
    {
      "cell_type": "markdown",
      "id": "e2286719-0d85-41c2-a1cf-bdf70ffe1e01",
      "metadata": {
        "id": "e2286719-0d85-41c2-a1cf-bdf70ffe1e01"
      },
      "source": [
        "- 메트릭스로 변환"
      ]
    },
    {
      "cell_type": "markdown",
      "id": "6d11de13-3ee6-47e9-9285-a1b7621f04a9",
      "metadata": {
        "jp-MarkdownHeadingCollapsed": true,
        "tags": [],
        "id": "6d11de13-3ee6-47e9-9285-a1b7621f04a9"
      },
      "source": [
        "### 배열(array)"
      ]
    },
    {
      "cell_type": "markdown",
      "id": "609cecfb-84ee-454b-9a6d-1664b4291124",
      "metadata": {
        "id": "609cecfb-84ee-454b-9a6d-1664b4291124"
      },
      "source": [
        "`-` 배열은 동일한 형의 원소를 p개의 차원으로 구성한 데이터 객체이다.\n",
        "\n",
        "`-` 행렬은 2차원 배열의 일종이다. $p=2$"
      ]
    },
    {
      "cell_type": "markdown",
      "id": "76d6b772-66e2-49da-8fdb-6f9c863d0ee3",
      "metadata": {
        "id": "76d6b772-66e2-49da-8fdb-6f9c863d0ee3"
      },
      "source": [
        "`-` 3차원 배열의 예시"
      ]
    },
    {
      "cell_type": "code",
      "execution_count": null,
      "id": "8881e007-516d-4287-9253-bcfe045c4c95",
      "metadata": {
        "id": "8881e007-516d-4287-9253-bcfe045c4c95",
        "outputId": "5801d3db-1c9d-47b8-d0c2-25ea3822e277"
      },
      "outputs": [
        {
          "data": {
            "text/plain": [
              ", , 1\n",
              "\n",
              "     [,1] [,2]\n",
              "[1,]    1    4\n",
              "[2,]    2    5\n",
              "[3,]    3    6\n",
              "\n",
              ", , 2\n",
              "\n",
              "     [,1] [,2]\n",
              "[1,]    1    4\n",
              "[2,]    2    5\n",
              "[3,]    3    6\n"
            ]
          },
          "metadata": {},
          "output_type": "display_data"
        }
      ],
      "source": [
        "array(1:6,dim=c(3,2,2))"
      ]
    },
    {
      "cell_type": "markdown",
      "id": "34ae2d2a-36fa-42be-8381-04f1041a3fa3",
      "metadata": {
        "tags": [],
        "id": "34ae2d2a-36fa-42be-8381-04f1041a3fa3"
      },
      "source": [
        "`-` 추가학습 \n",
        "\n",
        "아래와 같은 매트릭스를 만들고 A+B를 계산하라.\n",
        "\n",
        "$A=\\begin{bmatrix} 1 & 2 & 3 \\\\ 4 & 5 & 6 \\\\ 7 & 8& 9 \\end{bmatrix}$\n",
        "\n",
        "$B=\\begin{bmatrix} -1 & -2 & -3 \\\\ -4 & -5 & -6 \\\\ -7 & -8 & -10 \\end{bmatrix}$"
      ]
    },
    {
      "cell_type": "code",
      "execution_count": null,
      "id": "1442736c-b539-4454-9f5d-3155773ca9de",
      "metadata": {
        "id": "1442736c-b539-4454-9f5d-3155773ca9de",
        "outputId": "cb7357e1-8221-4b80-ebc4-93c72ee81297"
      },
      "outputs": [
        {
          "data": {
            "text/plain": [
              "     [,1] [,2] [,3]\n",
              "[1,] 1    2    3   \n",
              "[2,] 4    5    6   \n",
              "[3,] 7    8    9   "
            ]
          },
          "metadata": {},
          "output_type": "display_data"
        }
      ],
      "source": [
        "A <- matrix(1:9,ncol=3,byrow = T)\n",
        "A"
      ]
    },
    {
      "cell_type": "code",
      "execution_count": null,
      "id": "d99b5d06-ecb6-4466-a234-d9c1d4e65e69",
      "metadata": {
        "id": "d99b5d06-ecb6-4466-a234-d9c1d4e65e69",
        "outputId": "61799bdf-bf54-4310-e9f8-6821c1b35ec8"
      },
      "outputs": [
        {
          "data": {
            "text/plain": [
              "     [,1] [,2] [,3]\n",
              "[1,] -1   -2    -3 \n",
              "[2,] -4   -5    -6 \n",
              "[3,] -7   -8   -10 "
            ]
          },
          "metadata": {},
          "output_type": "display_data"
        }
      ],
      "source": [
        "B <- matrix(c(-1:-8,-10),ncol=3,byrow = T)\n",
        "B"
      ]
    },
    {
      "cell_type": "code",
      "execution_count": null,
      "id": "09db8894-22f3-46db-9154-99ca81871070",
      "metadata": {
        "id": "09db8894-22f3-46db-9154-99ca81871070",
        "outputId": "0cd0e75d-54a7-45ae-e99e-f1c9d7586147"
      },
      "outputs": [
        {
          "data": {
            "text/plain": [
              "     [,1] [,2] [,3]\n",
              "[1,] 0    0     0  \n",
              "[2,] 0    0     0  \n",
              "[3,] 0    0    -1  "
            ]
          },
          "metadata": {},
          "output_type": "display_data"
        }
      ],
      "source": [
        "A+B"
      ]
    }
  ],
  "metadata": {
    "kernelspec": {
      "display_name": "R",
      "language": "R",
      "name": "ir"
    },
    "language_info": {
      "codemirror_mode": "r",
      "file_extension": ".r",
      "mimetype": "text/x-r-source",
      "name": "R",
      "pygments_lexer": "r",
      "version": "4.0.5"
    },
    "colab": {
      "name": "2022-02-22-IR.ipynb",
      "provenance": [],
      "toc_visible": true
    }
  },
  "nbformat": 4,
  "nbformat_minor": 5
}